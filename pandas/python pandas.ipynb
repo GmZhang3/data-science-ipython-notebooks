{
 "cells": [
  {
   "cell_type": "markdown",
   "metadata": {},
   "source": [
    "# pandas常用数据结构介绍\n",
    "Series和DataFrame"
   ]
  },
  {
   "cell_type": "markdown",
   "metadata": {},
   "source": [
    "## 1 Series\n",
    "Series由一组数据（各种numpy数据类型）及一组索引构成"
   ]
  },
  {
   "cell_type": "code",
   "execution_count": 1,
   "metadata": {
    "collapsed": true
   },
   "outputs": [],
   "source": [
    "import pdir"
   ]
  },
  {
   "cell_type": "code",
   "execution_count": 2,
   "metadata": {},
   "outputs": [
    {
     "ename": "SyntaxError",
     "evalue": "invalid syntax (<ipython-input-2-f7514a4c7ca5>, line 3)",
     "output_type": "error",
     "traceback": [
      "\u001b[1;36m  File \u001b[1;32m\"<ipython-input-2-f7514a4c7ca5>\"\u001b[1;36m, line \u001b[1;32m3\u001b[0m\n\u001b[1;33m    print type(obj)\u001b[0m\n\u001b[1;37m             ^\u001b[0m\n\u001b[1;31mSyntaxError\u001b[0m\u001b[1;31m:\u001b[0m invalid syntax\n"
     ]
    }
   ],
   "source": [
    "import pandas as pd\n",
    "obj = pd.Series([4,7,-5,3])#不指定index时，会有默认index\n",
    "print type(obj)\n",
    "print obj\n",
    "print obj.values#Series对象数组表现形式\n",
    "print obj.index#索引对象"
   ]
  },
  {
   "cell_type": "code",
   "execution_count": 3,
   "metadata": {},
   "outputs": [
    {
     "data": {
      "text/plain": [
       "\u001b[0;33mproperty:\u001b[0m\n",
       "    \u001b[0;36m_AXIS_ALIASES\u001b[0m\u001b[1;30m, \u001b[0m\u001b[0;36m_AXIS_IALIASES\u001b[0m\u001b[1;30m, \u001b[0m\u001b[0;36m_AXIS_LEN\u001b[0m\u001b[1;30m, \u001b[0m\u001b[0;36m_AXIS_NAMES\u001b[0m\u001b[1;30m, \u001b[0m\u001b[0;36m_AXIS_NUMBERS\u001b[0m\u001b[1;30m, \u001b[0m\u001b[0;36m_AXIS_ORDERS\u001b[0m\u001b[1;30m, \u001b[0m\u001b[0;36m_AXIS_REVERSED\u001b[0m\u001b[1;30m, \u001b[0m\u001b[0;36m_AXIS_SLICEMAP\u001b[0m\u001b[1;30m, \u001b[0m\u001b[0;36m__array_priority__\u001b[0m\u001b[1;30m, \u001b[0m\u001b[0;36m_accessors\u001b[0m\u001b[1;30m, \u001b[0m\u001b[0;36m_allow_index_ops\u001b[0m\u001b[1;30m, \u001b[0m\u001b[0;36m_at\u001b[0m\u001b[1;30m, \u001b[0m\u001b[0;36m_iat\u001b[0m\u001b[1;30m, \u001b[0m\u001b[0;36m_iloc\u001b[0m\u001b[1;30m, \u001b[0m\u001b[0;36m_index\u001b[0m\u001b[1;30m, \u001b[0m\u001b[0;36m_info_axis_name\u001b[0m\u001b[1;30m, \u001b[0m\u001b[0;36m_info_axis_number\u001b[0m\u001b[1;30m, \u001b[0m\u001b[0;36m_internal_names\u001b[0m\u001b[1;30m, \u001b[0m\u001b[0;36m_internal_names_set\u001b[0m\u001b[1;30m, \u001b[0m\u001b[0;36m_ix\u001b[0m\u001b[1;30m, \u001b[0m\u001b[0;36m_loc\u001b[0m\u001b[1;30m, \u001b[0m\u001b[0;36m_metadata\u001b[0m\u001b[1;30m, \u001b[0m\u001b[0;36m_stat_axis_name\u001b[0m\u001b[1;30m, \u001b[0m\u001b[0;36m_stat_axis_number\u001b[0m\u001b[1;30m, \u001b[0m\u001b[0;36m_typ\u001b[0m\u001b[1;30m, \u001b[0m\u001b[0;36mhasnans\u001b[0m\u001b[1;30m, \u001b[0m\u001b[0;36mis_copy\u001b[0m\n",
       "\u001b[0;33mspecial attribute:\u001b[0m\n",
       "    \u001b[0;36m__class__\u001b[0m\u001b[1;30m, \u001b[0m\u001b[0;36m__dict__\u001b[0m\u001b[1;30m, \u001b[0m\u001b[0;36m__doc__\u001b[0m\u001b[1;30m, \u001b[0m\u001b[0;36m__module__\u001b[0m\u001b[1;30m, \u001b[0m\u001b[0;36m__weakref__\u001b[0m\n",
       "\u001b[0;33mabstract class:\u001b[0m\n",
       "    \u001b[0;36m__subclasshook__\u001b[0m\n",
       "\u001b[0;33marithmetic:\u001b[0m\n",
       "    \u001b[0;36m__abs__\u001b[0m\u001b[1;30m, \u001b[0m\u001b[0;36m__add__\u001b[0m\u001b[1;30m, \u001b[0m\u001b[0;36m__and__\u001b[0m\u001b[1;30m, \u001b[0m\u001b[0;36m__float__\u001b[0m\u001b[1;30m, \u001b[0m\u001b[0;36m__floordiv__\u001b[0m\u001b[1;30m, \u001b[0m\u001b[0;36m__iadd__\u001b[0m\u001b[1;30m, \u001b[0m\u001b[0;36m__imul__\u001b[0m\u001b[1;30m, \u001b[0m\u001b[0;36m__int__\u001b[0m\u001b[1;30m, \u001b[0m\u001b[0;36m__invert__\u001b[0m\u001b[1;30m, \u001b[0m\u001b[0;36m__ipow__\u001b[0m\u001b[1;30m, \u001b[0m\u001b[0;36m__isub__\u001b[0m\u001b[1;30m, \u001b[0m\u001b[0;36m__itruediv__\u001b[0m\u001b[1;30m, \u001b[0m\u001b[0;36m__mod__\u001b[0m\u001b[1;30m, \u001b[0m\u001b[0;36m__mul__\u001b[0m\u001b[1;30m, \u001b[0m\u001b[0;36m__neg__\u001b[0m\u001b[1;30m, \u001b[0m\u001b[0;36m__or__\u001b[0m\u001b[1;30m, \u001b[0m\u001b[0;36m__pow__\u001b[0m\u001b[1;30m, \u001b[0m\u001b[0;36m__radd__\u001b[0m\u001b[1;30m, \u001b[0m\u001b[0;36m__rand__\u001b[0m\u001b[1;30m, \u001b[0m\u001b[0;36m__rfloordiv__\u001b[0m\u001b[1;30m, \u001b[0m\u001b[0;36m__rmod__\u001b[0m\u001b[1;30m, \u001b[0m\u001b[0;36m__rmul__\u001b[0m\u001b[1;30m, \u001b[0m\u001b[0;36m__ror__\u001b[0m\u001b[1;30m, \u001b[0m\u001b[0;36m__round__\u001b[0m\u001b[1;30m, \u001b[0m\u001b[0;36m__rpow__\u001b[0m\u001b[1;30m, \u001b[0m\u001b[0;36m__rsub__\u001b[0m\u001b[1;30m, \u001b[0m\u001b[0;36m__rtruediv__\u001b[0m\u001b[1;30m, \u001b[0m\u001b[0;36m__rxor__\u001b[0m\u001b[1;30m, \u001b[0m\u001b[0;36m__sub__\u001b[0m\u001b[1;30m, \u001b[0m\u001b[0;36m__truediv__\u001b[0m\u001b[1;30m, \u001b[0m\u001b[0;36m__xor__\u001b[0m\n",
       "\u001b[0;33mobject customization:\u001b[0m\n",
       "    \u001b[0;36m__bool__\u001b[0m\u001b[1;30m, \u001b[0m\u001b[0;36m__bytes__\u001b[0m\u001b[1;30m, \u001b[0m\u001b[0;36m__format__\u001b[0m\u001b[1;30m, \u001b[0m\u001b[0;36m__hash__\u001b[0m\u001b[1;30m, \u001b[0m\u001b[0;36m__init__\u001b[0m\u001b[1;30m, \u001b[0m\u001b[0;36m__new__\u001b[0m\u001b[1;30m, \u001b[0m\u001b[0;36m__repr__\u001b[0m\u001b[1;30m, \u001b[0m\u001b[0;36m__sizeof__\u001b[0m\u001b[1;30m, \u001b[0m\u001b[0;36m__str__\u001b[0m\n",
       "\u001b[0;33mrich comparison:\u001b[0m\n",
       "    \u001b[0;36m__eq__\u001b[0m\u001b[1;30m, \u001b[0m\u001b[0;36m__ge__\u001b[0m\u001b[1;30m, \u001b[0m\u001b[0;36m__gt__\u001b[0m\u001b[1;30m, \u001b[0m\u001b[0;36m__le__\u001b[0m\u001b[1;30m, \u001b[0m\u001b[0;36m__lt__\u001b[0m\u001b[1;30m, \u001b[0m\u001b[0;36m__ne__\u001b[0m\n",
       "\u001b[0;33mattribute access:\u001b[0m\n",
       "    \u001b[0;36m__delattr__\u001b[0m\u001b[1;30m, \u001b[0m\u001b[0;36m__dir__\u001b[0m\u001b[1;30m, \u001b[0m\u001b[0;36m__getattr__\u001b[0m\u001b[1;30m, \u001b[0m\u001b[0;36m__getattribute__\u001b[0m\u001b[1;30m, \u001b[0m\u001b[0;36m__setattr__\u001b[0m\n",
       "\u001b[0;33mcontainer:\u001b[0m\n",
       "    \u001b[0;36m__contains__\u001b[0m\u001b[1;30m, \u001b[0m\u001b[0;36m__delitem__\u001b[0m\u001b[1;30m, \u001b[0m\u001b[0;36m__getitem__\u001b[0m\u001b[1;30m, \u001b[0m\u001b[0;36m__iter__\u001b[0m\u001b[1;30m, \u001b[0m\u001b[0;36m__len__\u001b[0m\u001b[1;30m, \u001b[0m\u001b[0;36m__setitem__\u001b[0m\n",
       "\u001b[0;33mpickle:\u001b[0m\n",
       "    \u001b[0;36m__getstate__\u001b[0m\u001b[1;30m, \u001b[0m\u001b[0;36m__reduce__\u001b[0m\u001b[1;30m, \u001b[0m\u001b[0;36m__reduce_ex__\u001b[0m\u001b[1;30m, \u001b[0m\u001b[0;36m__setstate__\u001b[0m\n",
       "\u001b[0;33mdescriptor:\u001b[0m\n",
       "    \u001b[0;36mT\u001b[0m\u001b[0;36m: \u001b[0m\u001b[1;30m@property with getter, return the transpose, which is by definition self\u001b[0m\n",
       "    \u001b[0;36m_can_hold_na\u001b[0m\u001b[0;36m: \u001b[0m\u001b[1;30m@property with getter\u001b[0m\n",
       "    \u001b[0;36m_constructor\u001b[0m\u001b[0;36m: \u001b[0m\u001b[1;30m@property with getter\u001b[0m\n",
       "    \u001b[0;36m_constructor_expanddim\u001b[0m\u001b[0;36m: \u001b[0m\u001b[1;30m@property with getter\u001b[0m\n",
       "    \u001b[0;36m_constructor_sliced\u001b[0m\u001b[0;36m: \u001b[0m\u001b[1;30m@property with getter, Used when a manipulation result has one lower dimension(s) as the\u001b[0m\n",
       "    \u001b[0;36m_get_val_at\u001b[0m\u001b[0;36m: \u001b[0m\u001b[1;30mclass wrapper_descriptor with getter, x.__getitem__(y) <==> x[y]\u001b[0m\n",
       "    \u001b[0;36m_info_axis\u001b[0m\u001b[0;36m: \u001b[0m\u001b[1;30m@property with getter\u001b[0m\n",
       "    \u001b[0;36m_is_cached\u001b[0m\u001b[0;36m: \u001b[0m\u001b[1;30m@property with getter, Return boolean indicating if self is cached or not.\u001b[0m\n",
       "    \u001b[0;36m_is_datelike_mixed_type\u001b[0m\u001b[0;36m: \u001b[0m\u001b[1;30m@property with getter\u001b[0m\n",
       "    \u001b[0;36m_is_mixed_type\u001b[0m\u001b[0;36m: \u001b[0m\u001b[1;30m@property with getter\u001b[0m\n",
       "    \u001b[0;36m_is_numeric_mixed_type\u001b[0m\u001b[0;36m: \u001b[0m\u001b[1;30m@property with getter\u001b[0m\n",
       "    \u001b[0;36m_is_view\u001b[0m\u001b[0;36m: \u001b[0m\u001b[1;30m@property with getter, Return boolean indicating if self is view of another array \u001b[0m\n",
       "    \u001b[0;36m_stat_axis\u001b[0m\u001b[0;36m: \u001b[0m\u001b[1;30m@property with getter\u001b[0m\n",
       "    \u001b[0;36m_values\u001b[0m\u001b[0;36m: \u001b[0m\u001b[1;30m@property with getter, return the internal repr of this data \u001b[0m\n",
       "    \u001b[0;36mat\u001b[0m\u001b[0;36m: \u001b[0m\u001b[1;30m@property with getter, Fast label-based scalar accessor\u001b[0m\n",
       "    \u001b[0;36maxes\u001b[0m\u001b[0;36m: \u001b[0m\u001b[1;30m@property with getter, Return a list of the row axis labels\u001b[0m\n",
       "    \u001b[0;36mbase\u001b[0m\u001b[0;36m: \u001b[0m\u001b[1;30m@property with getter, return the base object if the memory of the underlying data is\u001b[0m\n",
       "    \u001b[0;36mblocks\u001b[0m\u001b[0;36m: \u001b[0m\u001b[1;30m@property with getter, Internal property, property synonym for as_blocks()\u001b[0m\n",
       "    \u001b[0;36mcat\u001b[0m\u001b[0;36m: \u001b[0m\u001b[1;30mclass AccessorProperty with getter, setter, deleter, Accessor object for categorical properties of the Series values.\u001b[0m\n",
       "    \u001b[0;36mdata\u001b[0m\u001b[0;36m: \u001b[0m\u001b[1;30m@property with getter, return the data pointer of the underlying data \u001b[0m\n",
       "    \u001b[0;36mdt\u001b[0m\u001b[0;36m: \u001b[0m\u001b[1;30mclass AccessorProperty with getter, setter, deleter, Accessor object for datetimelike properties of the Series values.\u001b[0m\n",
       "    \u001b[0;36mdtype\u001b[0m\u001b[0;36m: \u001b[0m\u001b[1;30m@property with getter, return the dtype object of the underlying data \u001b[0m\n",
       "    \u001b[0;36mdtypes\u001b[0m\u001b[0;36m: \u001b[0m\u001b[1;30m@property with getter, return the dtype object of the underlying data \u001b[0m\n",
       "    \u001b[0;36mempty\u001b[0m\u001b[0;36m: \u001b[0m\u001b[1;30m@property with getter, True if NDFrame is entirely empty [no items], meaning any of the\u001b[0m\n",
       "    \u001b[0;36mflags\u001b[0m\u001b[0;36m: \u001b[0m\u001b[1;30m@property with getter, return the ndarray.flags for the underlying data \u001b[0m\n",
       "    \u001b[0;36mfrom_array\u001b[0m\u001b[0;36m: \u001b[0m\u001b[1;30mclass classmethod with getter, classmethod(function) -> method\u001b[0m\n",
       "    \u001b[0;36mfrom_csv\u001b[0m\u001b[0;36m: \u001b[0m\u001b[1;30mclass classmethod with getter, classmethod(function) -> method\u001b[0m\n",
       "    \u001b[0;36mftype\u001b[0m\u001b[0;36m: \u001b[0m\u001b[1;30m@property with getter, return if the data is sparse|dense \u001b[0m\n",
       "    \u001b[0;36mftypes\u001b[0m\u001b[0;36m: \u001b[0m\u001b[1;30m@property with getter, return if the data is sparse|dense \u001b[0m\n",
       "    \u001b[0;36miat\u001b[0m\u001b[0;36m: \u001b[0m\u001b[1;30m@property with getter, Fast integer location scalar accessor.\u001b[0m\n",
       "    \u001b[0;36miloc\u001b[0m\u001b[0;36m: \u001b[0m\u001b[1;30m@property with getter, Purely integer-location based indexing for selection by position.\u001b[0m\n",
       "    \u001b[0;36mimag\u001b[0m\u001b[0;36m: \u001b[0m\u001b[1;30m@property with getter, setter\u001b[0m\n",
       "    \u001b[0;36mindex\u001b[0m\u001b[0;36m: \u001b[0m\u001b[1;30mclass AxisProperty with getter, setter, deleter\u001b[0m\n",
       "    \u001b[0;36mis_time_series\u001b[0m\u001b[0;36m: \u001b[0m\u001b[1;30m@property with getter\u001b[0m\n",
       "    \u001b[0;36mis_unique\u001b[0m\u001b[0;36m: \u001b[0m\u001b[1;30m@property with getter, Return boolean if values in the object are unique\u001b[0m\n",
       "    \u001b[0;36mitemsize\u001b[0m\u001b[0;36m: \u001b[0m\u001b[1;30m@property with getter, return the size of the dtype of the item of the underlying data \u001b[0m\n",
       "    \u001b[0;36mix\u001b[0m\u001b[0;36m: \u001b[0m\u001b[1;30m@property with getter, A primarily label-location based indexer, with integer position\u001b[0m\n",
       "    \u001b[0;36mloc\u001b[0m\u001b[0;36m: \u001b[0m\u001b[1;30m@property with getter, Purely label-location based indexer for selection by label.\u001b[0m\n",
       "    \u001b[0;36mnbytes\u001b[0m\u001b[0;36m: \u001b[0m\u001b[1;30m@property with getter, return the number of bytes in the underlying data \u001b[0m\n",
       "    \u001b[0;36mndim\u001b[0m\u001b[0;36m: \u001b[0m\u001b[1;30m@property with getter, return the number of dimensions of the underlying data,\u001b[0m\n",
       "    \u001b[0;36mplot\u001b[0m\u001b[0;36m: \u001b[0m\u001b[1;30mclass AccessorProperty with getter, setter, deleter, Series plotting accessor and method\u001b[0m\n",
       "    \u001b[0;36mreal\u001b[0m\u001b[0;36m: \u001b[0m\u001b[1;30m@property with getter, setter\u001b[0m\n",
       "    \u001b[0;36mshape\u001b[0m\u001b[0;36m: \u001b[0m\u001b[1;30m@property with getter, return a tuple of the shape of the underlying data \u001b[0m\n",
       "    \u001b[0;36msize\u001b[0m\u001b[0;36m: \u001b[0m\u001b[1;30m@property with getter, return the number of elements in the underlying data \u001b[0m\n",
       "    \u001b[0;36mstrides\u001b[0m\u001b[0;36m: \u001b[0m\u001b[1;30m@property with getter, return the strides of the underlying data \u001b[0m\n",
       "    \u001b[0;36mvalues\u001b[0m\u001b[0;36m: \u001b[0m\u001b[1;30m@property with getter, Return Series as ndarray or ndarray-like\u001b[0m\n",
       "\u001b[0;33mclass:\u001b[0m\n",
       "    \u001b[0;36mstr\u001b[0m\u001b[0;36m: \u001b[0m\u001b[1;30mVectorized string functions for Series and Index. NAs stay NA unless\u001b[0m\n",
       "\u001b[0;33mfunction:\u001b[0m\n",
       "    \u001b[0;36m__array__\u001b[0m\u001b[0;36m: \u001b[0m\u001b[1;30mthe array interface, return my values\u001b[0m\n",
       "    \u001b[0;36m__array_prepare__\u001b[0m\u001b[0;36m: \u001b[0m\u001b[1;30mGets called prior to a ufunc\u001b[0m\n",
       "    \u001b[0;36m__array_wrap__\u001b[0m\u001b[0;36m: \u001b[0m\u001b[1;30mGets called after a ufunc\u001b[0m\n",
       "    \u001b[0;36m__div__\u001b[0m\u001b[0;36m: \u001b[0m\u001b[1;30m\u001b[0m\n",
       "    \u001b[0;36m__finalize__\u001b[0m\u001b[0;36m: \u001b[0m\u001b[1;30mPropagate metadata from other to self.\u001b[0m\n",
       "    \u001b[0;36m__idiv__\u001b[0m\u001b[0;36m: \u001b[0m\u001b[1;30m\u001b[0m\n",
       "    \u001b[0;36m__long__\u001b[0m\u001b[0;36m: \u001b[0m\u001b[1;30m\u001b[0m\n",
       "    \u001b[0;36m__nonzero__\u001b[0m\u001b[0;36m: \u001b[0m\u001b[1;30m\u001b[0m\n",
       "    \u001b[0;36m__rdiv__\u001b[0m\u001b[0;36m: \u001b[0m\u001b[1;30m\u001b[0m\n",
       "    \u001b[0;36m__unicode__\u001b[0m\u001b[0;36m: \u001b[0m\u001b[1;30mReturn a string representation for a particular DataFrame\u001b[0m\n",
       "    \u001b[0;36m_add_numeric_operations\u001b[0m\u001b[0;36m: \u001b[0m\u001b[1;30mAdd the operations to the cls; evaluate the doc strings again\u001b[0m\n",
       "    \u001b[0;36m_add_series_only_operations\u001b[0m\u001b[0;36m: \u001b[0m\u001b[1;30mAdd the series only operations to the cls; evaluate the doc\u001b[0m\n",
       "    \u001b[0;36m_add_series_or_dataframe_operations\u001b[0m\u001b[0;36m: \u001b[0m\u001b[1;30mAdd the series or dataframe only operations to the cls; evaluate\u001b[0m\n",
       "    \u001b[0;36m_agg_by_level\u001b[0m\u001b[0;36m: \u001b[0m\u001b[1;30m\u001b[0m\n",
       "    \u001b[0;36m_align_frame\u001b[0m\u001b[0;36m: \u001b[0m\u001b[1;30m\u001b[0m\n",
       "    \u001b[0;36m_align_series\u001b[0m\u001b[0;36m: \u001b[0m\u001b[1;30m\u001b[0m\n",
       "    \u001b[0;36m_binop\u001b[0m\u001b[0;36m: \u001b[0m\u001b[1;30mPerform generic binary operation with optional fill value\u001b[0m\n",
       "    \u001b[0;36m_box_item_values\u001b[0m\u001b[0;36m: \u001b[0m\u001b[1;30m\u001b[0m\n",
       "    \u001b[0;36m_check_inplace_setting\u001b[0m\u001b[0;36m: \u001b[0m\u001b[1;30mcheck whether we allow in-place setting with this type of value \u001b[0m\n",
       "    \u001b[0;36m_check_is_chained_assignment_possible\u001b[0m\u001b[0;36m: \u001b[0m\u001b[1;30mCheck if we are a view, have a cacher, and are of mixed type.\u001b[0m\n",
       "    \u001b[0;36m_check_percentile\u001b[0m\u001b[0;36m: \u001b[0m\u001b[1;30mValidate percentiles (used by describe and quantile).\u001b[0m\n",
       "    \u001b[0;36m_check_setitem_copy\u001b[0m\u001b[0;36m: \u001b[0m\u001b[1;30mParameters\u001b[0m\n",
       "    \u001b[0;36m_clear_item_cache\u001b[0m\u001b[0;36m: \u001b[0m\u001b[1;30m\u001b[0m\n",
       "    \u001b[0;36m_consolidate_inplace\u001b[0m\u001b[0;36m: \u001b[0m\u001b[1;30mConsolidate data in place and return None\u001b[0m\n",
       "    \u001b[0;36m_construct_axes_dict\u001b[0m\u001b[0;36m: \u001b[0m\u001b[1;30mReturn an axes dictionary for myself.\u001b[0m\n",
       "    \u001b[0;36m_construct_axes_dict_for_slice\u001b[0m\u001b[0;36m: \u001b[0m\u001b[1;30mReturn an axes dictionary for myself.\u001b[0m\n",
       "    \u001b[0;36m_construct_axes_dict_from\u001b[0m\u001b[0;36m: \u001b[0m\u001b[1;30mReturn an axes dictionary for the passed axes.\u001b[0m\n",
       "    \u001b[0;36m_construct_axes_from_arguments\u001b[0m\u001b[0;36m: \u001b[0m\u001b[1;30mConstruct and returns axes if supplied in args/kwargs.\u001b[0m\n",
       "    \u001b[0;36m_convert\u001b[0m\u001b[0;36m: \u001b[0m\u001b[1;30mAttempt to infer better dtype for object columns\u001b[0m\n",
       "    \u001b[0;36m_create_indexer\u001b[0m\u001b[0;36m: \u001b[0m\u001b[1;30mCreate an indexer like _name in the class.\u001b[0m\n",
       "    \u001b[0;36m_dir_additions\u001b[0m\u001b[0;36m: \u001b[0m\u001b[1;30m\u001b[0m\n",
       "    \u001b[0;36m_dir_deletions\u001b[0m\u001b[0;36m: \u001b[0m\u001b[1;30m\u001b[0m\n",
       "    \u001b[0;36m_expand_axes\u001b[0m\u001b[0;36m: \u001b[0m\u001b[1;30m\u001b[0m\n",
       "    \u001b[0;36m_from_axes\u001b[0m\u001b[0;36m: \u001b[0m\u001b[1;30m\u001b[0m\n",
       "    \u001b[0;36m_get_axis\u001b[0m\u001b[0;36m: \u001b[0m\u001b[1;30m\u001b[0m\n",
       "    \u001b[0;36m_get_axis_name\u001b[0m\u001b[0;36m: \u001b[0m\u001b[1;30m\u001b[0m\n",
       "    \u001b[0;36m_get_axis_number\u001b[0m\u001b[0;36m: \u001b[0m\u001b[1;30m\u001b[0m\n",
       "    \u001b[0;36m_get_axis_resolvers\u001b[0m\u001b[0;36m: \u001b[0m\u001b[1;30m\u001b[0m\n",
       "    \u001b[0;36m_get_block_manager_axis\u001b[0m\u001b[0;36m: \u001b[0m\u001b[1;30mMap the axis to the block_manager axis.\u001b[0m\n",
       "    \u001b[0;36m_get_bool_data\u001b[0m\u001b[0;36m: \u001b[0m\u001b[1;30m\u001b[0m\n",
       "    \u001b[0;36m_get_cacher\u001b[0m\u001b[0;36m: \u001b[0m\u001b[1;30mreturn my cacher or None\u001b[0m\n",
       "    \u001b[0;36m_get_index_resolvers\u001b[0m\u001b[0;36m: \u001b[0m\u001b[1;30m\u001b[0m\n",
       "    \u001b[0;36m_get_item_cache\u001b[0m\u001b[0;36m: \u001b[0m\u001b[1;30mReturn the cached item, item represents a label indexer.\u001b[0m\n",
       "    \u001b[0;36m_get_numeric_data\u001b[0m\u001b[0;36m: \u001b[0m\u001b[1;30m\u001b[0m\n",
       "    \u001b[0;36m_get_repr\u001b[0m\u001b[0;36m: \u001b[0m\u001b[1;30mInternal function, should always return unicode string\u001b[0m\n",
       "    \u001b[0;36m_get_values\u001b[0m\u001b[0;36m: \u001b[0m\u001b[1;30m\u001b[0m\n",
       "    \u001b[0;36m_get_values_tuple\u001b[0m\u001b[0;36m: \u001b[0m\u001b[1;30m\u001b[0m\n",
       "    \u001b[0;36m_get_with\u001b[0m\u001b[0;36m: \u001b[0m\u001b[1;30m\u001b[0m\n",
       "    \u001b[0;36m_iget_item_cache\u001b[0m\u001b[0;36m: \u001b[0m\u001b[1;30mReturn the cached item, item represents a positional indexer.\u001b[0m\n",
       "    \u001b[0;36m_indexed_same\u001b[0m\u001b[0;36m: \u001b[0m\u001b[1;30m\u001b[0m\n",
       "    \u001b[0;36m_init_mgr\u001b[0m\u001b[0;36m: \u001b[0m\u001b[1;30mpassed a manager and a axes dict \u001b[0m\n",
       "    \u001b[0;36m_ixs\u001b[0m\u001b[0;36m: \u001b[0m\u001b[1;30mReturn the i-th value or values in the Series by location\u001b[0m\n",
       "    \u001b[0;36m_make_cat_accessor\u001b[0m\u001b[0;36m: \u001b[0m\u001b[1;30m\u001b[0m\n",
       "    \u001b[0;36m_make_dt_accessor\u001b[0m\u001b[0;36m: \u001b[0m\u001b[1;30m\u001b[0m\n",
       "    \u001b[0;36m_make_str_accessor\u001b[0m\u001b[0;36m: \u001b[0m\u001b[1;30m\u001b[0m\n",
       "    \u001b[0;36m_maybe_box\u001b[0m\u001b[0;36m: \u001b[0m\u001b[1;30mevaluate a function with possible input/output conversion if we are i8\u001b[0m\n",
       "    \u001b[0;36m_maybe_cache_changed\u001b[0m\u001b[0;36m: \u001b[0m\u001b[1;30mThe object has called back to us saying maybe it has changed.\u001b[0m\n",
       "    \u001b[0;36m_maybe_update_cacher\u001b[0m\u001b[0;36m: \u001b[0m\u001b[1;30mSee if we need to update our parent cacher if clear, then clear our\u001b[0m\n",
       "    \u001b[0;36m_needs_reindex_multi\u001b[0m\u001b[0;36m: \u001b[0m\u001b[1;30mcheck if we do need a multi reindex; this is for compat with\u001b[0m\n",
       "    \u001b[0;36m_protect_consolidate\u001b[0m\u001b[0;36m: \u001b[0m\u001b[1;30mConsolidate _data -- if the blocks have changed, then clear the\u001b[0m\n",
       "    \u001b[0;36m_reduce\u001b[0m\u001b[0;36m: \u001b[0m\u001b[1;30mperform a reduction operation\u001b[0m\n",
       "    \u001b[0;36m_reindex_axes\u001b[0m\u001b[0;36m: \u001b[0m\u001b[1;30mPerform the reindex for all the axes.\u001b[0m\n",
       "    \u001b[0;36m_reindex_axis\u001b[0m\u001b[0;36m: \u001b[0m\u001b[1;30m\u001b[0m\n",
       "    \u001b[0;36m_reindex_indexer\u001b[0m\u001b[0;36m: \u001b[0m\u001b[1;30m\u001b[0m\n",
       "    \u001b[0;36m_reindex_multi\u001b[0m\u001b[0;36m: \u001b[0m\u001b[1;30m\u001b[0m\n",
       "    \u001b[0;36m_reindex_with_indexers\u001b[0m\u001b[0;36m: \u001b[0m\u001b[1;30mallow_dups indicates an internal call here \u001b[0m\n",
       "    \u001b[0;36m_reset_cache\u001b[0m\u001b[0;36m: \u001b[0m\u001b[1;30mReset cached properties. If ``key`` is passed, only clears that key.\u001b[0m\n",
       "    \u001b[0;36m_reset_cacher\u001b[0m\u001b[0;36m: \u001b[0m\u001b[1;30mReset the cacher.\u001b[0m\n",
       "    \u001b[0;36m_set_as_cached\u001b[0m\u001b[0;36m: \u001b[0m\u001b[1;30mSet the _cacher attribute on the calling object with a weakref to\u001b[0m\n",
       "    \u001b[0;36m_set_axis\u001b[0m\u001b[0;36m: \u001b[0m\u001b[1;30moverride generic, we want to set the _typ here \u001b[0m\n",
       "    \u001b[0;36m_set_axis_name\u001b[0m\u001b[0;36m: \u001b[0m\u001b[1;30mAlter the name or names of the axis, returning self.\u001b[0m\n",
       "    \u001b[0;36m_set_is_copy\u001b[0m\u001b[0;36m: \u001b[0m\u001b[1;30m\u001b[0m\n",
       "    \u001b[0;36m_set_item\u001b[0m\u001b[0;36m: \u001b[0m\u001b[1;30m\u001b[0m\n",
       "    \u001b[0;36m_set_labels\u001b[0m\u001b[0;36m: \u001b[0m\u001b[1;30m\u001b[0m\n",
       "    \u001b[0;36m_set_name\u001b[0m\u001b[0;36m: \u001b[0m\u001b[1;30mSet the Series name.\u001b[0m\n",
       "    \u001b[0;36m_set_subtyp\u001b[0m\u001b[0;36m: \u001b[0m\u001b[1;30m\u001b[0m\n",
       "    \u001b[0;36m_set_values\u001b[0m\u001b[0;36m: \u001b[0m\u001b[1;30m\u001b[0m\n",
       "    \u001b[0;36m_set_with\u001b[0m\u001b[0;36m: \u001b[0m\u001b[1;30m\u001b[0m\n",
       "    \u001b[0;36m_set_with_engine\u001b[0m\u001b[0;36m: \u001b[0m\u001b[1;30m\u001b[0m\n",
       "    \u001b[0;36m_setup_axes\u001b[0m\u001b[0;36m: \u001b[0m\u001b[1;30mProvide axes setup for the major PandasObjects.\u001b[0m\n",
       "    \u001b[0;36m_slice\u001b[0m\u001b[0;36m: \u001b[0m\u001b[1;30m\u001b[0m\n",
       "    \u001b[0;36m_unpickle_series_compat\u001b[0m\u001b[0;36m: \u001b[0m\u001b[1;30m\u001b[0m\n",
       "    \u001b[0;36m_update_inplace\u001b[0m\u001b[0;36m: \u001b[0m\u001b[1;30m\u001b[0m\n",
       "    \u001b[0;36m_validate_dtype\u001b[0m\u001b[0;36m: \u001b[0m\u001b[1;30mvalidate the passed dtype \u001b[0m\n",
       "    \u001b[0;36m_xs\u001b[0m\u001b[0;36m: \u001b[0m\u001b[1;30mReturns a cross-section (row(s) or column(s)) from the\u001b[0m\n",
       "    \u001b[0;36mabs\u001b[0m\u001b[0;36m: \u001b[0m\u001b[1;30mReturn an object with absolute value taken--only applicable to objects\u001b[0m\n",
       "    \u001b[0;36madd\u001b[0m\u001b[0;36m: \u001b[0m\u001b[1;30mAddition of series and other, element-wise (binary operator `add`).\u001b[0m\n",
       "    \u001b[0;36madd_prefix\u001b[0m\u001b[0;36m: \u001b[0m\u001b[1;30mConcatenate prefix string with panel items names.\u001b[0m\n",
       "    \u001b[0;36madd_suffix\u001b[0m\u001b[0;36m: \u001b[0m\u001b[1;30mConcatenate suffix string with panel items names.\u001b[0m\n",
       "    \u001b[0;36malign\u001b[0m\u001b[0;36m: \u001b[0m\u001b[1;30mAlign two object on their axes with the\u001b[0m\n",
       "    \u001b[0;36mall\u001b[0m\u001b[0;36m: \u001b[0m\u001b[1;30mReturn whether all elements are True over requested axis\u001b[0m\n",
       "    \u001b[0;36many\u001b[0m\u001b[0;36m: \u001b[0m\u001b[1;30mReturn whether any element is True over requested axis\u001b[0m\n",
       "    \u001b[0;36mappend\u001b[0m\u001b[0;36m: \u001b[0m\u001b[1;30mConcatenate two or more Series.\u001b[0m\n",
       "    \u001b[0;36mapply\u001b[0m\u001b[0;36m: \u001b[0m\u001b[1;30mInvoke function on values of Series. Can be ufunc (a NumPy function\u001b[0m\n",
       "    \u001b[0;36margmax\u001b[0m\u001b[0;36m: \u001b[0m\u001b[1;30mIndex of first occurrence of maximum of values.\u001b[0m\n",
       "    \u001b[0;36margmin\u001b[0m\u001b[0;36m: \u001b[0m\u001b[1;30mIndex of first occurrence of minimum of values.\u001b[0m\n",
       "    \u001b[0;36margsort\u001b[0m\u001b[0;36m: \u001b[0m\u001b[1;30mOverrides ndarray.argsort. Argsorts the value, omitting NA/null values,\u001b[0m\n",
       "    \u001b[0;36mas_blocks\u001b[0m\u001b[0;36m: \u001b[0m\u001b[1;30mConvert the frame to a dict of dtype -> Constructor Types that each has\u001b[0m\n",
       "    \u001b[0;36mas_matrix\u001b[0m\u001b[0;36m: \u001b[0m\u001b[1;30mConvert the frame to its Numpy-array representation.\u001b[0m\n",
       "    \u001b[0;36masfreq\u001b[0m\u001b[0;36m: \u001b[0m\u001b[1;30mConvert all TimeSeries inside to specified frequency using DateOffset\u001b[0m\n",
       "    \u001b[0;36masof\u001b[0m\u001b[0;36m: \u001b[0m\u001b[1;30mReturn last good (non-NaN) value in Series if value is NaN for\u001b[0m\n",
       "    \u001b[0;36mastype\u001b[0m\u001b[0;36m: \u001b[0m\u001b[1;30mCast object to input numpy.dtype\u001b[0m\n",
       "    \u001b[0;36mat_time\u001b[0m\u001b[0;36m: \u001b[0m\u001b[1;30mSelect values at particular time of day (e.g. 9:30AM).\u001b[0m\n",
       "    \u001b[0;36mautocorr\u001b[0m\u001b[0;36m: \u001b[0m\u001b[1;30mLag-N autocorrelation\u001b[0m\n",
       "    \u001b[0;36mbetween\u001b[0m\u001b[0;36m: \u001b[0m\u001b[1;30mReturn boolean Series equivalent to left <= series <= right. NA values\u001b[0m\n",
       "    \u001b[0;36mbetween_time\u001b[0m\u001b[0;36m: \u001b[0m\u001b[1;30mSelect values between particular times of the day (e.g., 9:00-9:30 AM).\u001b[0m\n",
       "    \u001b[0;36mbfill\u001b[0m\u001b[0;36m: \u001b[0m\u001b[1;30mSynonym for NDFrame.fillna(method='bfill')\u001b[0m\n",
       "    \u001b[0;36mbool\u001b[0m\u001b[0;36m: \u001b[0m\u001b[1;30mReturn the bool of a single element PandasObject.\u001b[0m\n",
       "    \u001b[0;36mclip\u001b[0m\u001b[0;36m: \u001b[0m\u001b[1;30mTrim values at input threshold(s).\u001b[0m\n",
       "    \u001b[0;36mclip_lower\u001b[0m\u001b[0;36m: \u001b[0m\u001b[1;30mReturn copy of the input with values below given value(s) truncated.\u001b[0m\n",
       "    \u001b[0;36mclip_upper\u001b[0m\u001b[0;36m: \u001b[0m\u001b[1;30mReturn copy of input with values above given value(s) truncated.\u001b[0m\n",
       "    \u001b[0;36mcombine\u001b[0m\u001b[0;36m: \u001b[0m\u001b[1;30mPerform elementwise binary operation on two Series using given function\u001b[0m\n",
       "    \u001b[0;36mcombine_first\u001b[0m\u001b[0;36m: \u001b[0m\u001b[1;30mCombine Series values, choosing the calling Series's values\u001b[0m\n",
       "    \u001b[0;36mcompound\u001b[0m\u001b[0;36m: \u001b[0m\u001b[1;30mReturn the compound percentage of the values for the requested axis\u001b[0m\n",
       "    \u001b[0;36mcompress\u001b[0m\u001b[0;36m: \u001b[0m\u001b[1;30mReturn selected slices of an array along given axis as a Series\u001b[0m\n",
       "    \u001b[0;36mconsolidate\u001b[0m\u001b[0;36m: \u001b[0m\u001b[1;30mCompute NDFrame with \"consolidated\" internals (data of each dtype\u001b[0m\n",
       "    \u001b[0;36mconvert_objects\u001b[0m\u001b[0;36m: \u001b[0m\u001b[1;30mDeprecated.\u001b[0m\n",
       "    \u001b[0;36mcopy\u001b[0m\u001b[0;36m: \u001b[0m\u001b[1;30mMake a copy of this object\u001b[0m\n",
       "    \u001b[0;36mcorr\u001b[0m\u001b[0;36m: \u001b[0m\u001b[1;30mCompute correlation with `other` Series, excluding missing values\u001b[0m\n",
       "    \u001b[0;36mcount\u001b[0m\u001b[0;36m: \u001b[0m\u001b[1;30mReturn number of non-NA/null observations in the Series\u001b[0m\n",
       "    \u001b[0;36mcov\u001b[0m\u001b[0;36m: \u001b[0m\u001b[1;30mCompute covariance with Series, excluding missing values\u001b[0m\n",
       "    \u001b[0;36mcummax\u001b[0m\u001b[0;36m: \u001b[0m\u001b[1;30mReturn cumulative max over requested axis.\u001b[0m\n",
       "    \u001b[0;36mcummin\u001b[0m\u001b[0;36m: \u001b[0m\u001b[1;30mReturn cumulative min over requested axis.\u001b[0m\n",
       "    \u001b[0;36mcumprod\u001b[0m\u001b[0;36m: \u001b[0m\u001b[1;30mReturn cumulative prod over requested axis.\u001b[0m\n",
       "    \u001b[0;36mcumsum\u001b[0m\u001b[0;36m: \u001b[0m\u001b[1;30mReturn cumulative sum over requested axis.\u001b[0m\n",
       "    \u001b[0;36mdescribe\u001b[0m\u001b[0;36m: \u001b[0m\u001b[1;30mGenerate various summary statistics, excluding NaN values.\u001b[0m\n",
       "    \u001b[0;36mdiff\u001b[0m\u001b[0;36m: \u001b[0m\u001b[1;30m1st discrete difference of object\u001b[0m\n",
       "    \u001b[0;36mdiv\u001b[0m\u001b[0;36m: \u001b[0m\u001b[1;30mFloating division of series and other, element-wise (binary operator `truediv`).\u001b[0m\n",
       "    \u001b[0;36mdivide\u001b[0m\u001b[0;36m: \u001b[0m\u001b[1;30mFloating division of series and other, element-wise (binary operator `truediv`).\u001b[0m\n",
       "    \u001b[0;36mdot\u001b[0m\u001b[0;36m: \u001b[0m\u001b[1;30mMatrix multiplication with DataFrame or inner-product with Series\u001b[0m\n",
       "    \u001b[0;36mdrop\u001b[0m\u001b[0;36m: \u001b[0m\u001b[1;30mReturn new object with labels in requested axis removed.\u001b[0m\n",
       "    \u001b[0;36mdrop_duplicates\u001b[0m\u001b[0;36m: \u001b[0m\u001b[1;30mReturn Series with duplicate values removed\u001b[0m\n",
       "    \u001b[0;36mdropna\u001b[0m\u001b[0;36m: \u001b[0m\u001b[1;30mReturn Series without null values\u001b[0m\n",
       "    \u001b[0;36mduplicated\u001b[0m\u001b[0;36m: \u001b[0m\u001b[1;30mReturn boolean Series denoting duplicate values\u001b[0m\n",
       "    \u001b[0;36meq\u001b[0m\u001b[0;36m: \u001b[0m\u001b[1;30m\u001b[0m\n",
       "    \u001b[0;36mequals\u001b[0m\u001b[0;36m: \u001b[0m\u001b[1;30mDetermines if two NDFrame objects contain the same elements. NaNs in\u001b[0m\n",
       "    \u001b[0;36mewm\u001b[0m\u001b[0;36m: \u001b[0m\u001b[1;30mProvides exponential weighted functions\u001b[0m\n",
       "    \u001b[0;36mexpanding\u001b[0m\u001b[0;36m: \u001b[0m\u001b[1;30mProvides expanding transformations.\u001b[0m\n",
       "    \u001b[0;36mfactorize\u001b[0m\u001b[0;36m: \u001b[0m\u001b[1;30mEncode the object as an enumerated type or categorical variable\u001b[0m\n",
       "    \u001b[0;36mffill\u001b[0m\u001b[0;36m: \u001b[0m\u001b[1;30mSynonym for NDFrame.fillna(method='ffill')\u001b[0m\n",
       "    \u001b[0;36mfillna\u001b[0m\u001b[0;36m: \u001b[0m\u001b[1;30mFill NA/NaN values using the specified method\u001b[0m\n",
       "    \u001b[0;36mfilter\u001b[0m\u001b[0;36m: \u001b[0m\u001b[1;30mRestrict the info axis to set of items or wildcard\u001b[0m\n",
       "    \u001b[0;36mfirst\u001b[0m\u001b[0;36m: \u001b[0m\u001b[1;30mConvenience method for subsetting initial periods of time series data\u001b[0m\n",
       "    \u001b[0;36mfirst_valid_index\u001b[0m\u001b[0;36m: \u001b[0m\u001b[1;30mReturn label for first non-NA/null value\u001b[0m\n",
       "    \u001b[0;36mfloordiv\u001b[0m\u001b[0;36m: \u001b[0m\u001b[1;30mInteger division of series and other, element-wise (binary operator `floordiv`).\u001b[0m\n",
       "    \u001b[0;36mge\u001b[0m\u001b[0;36m: \u001b[0m\u001b[1;30m\u001b[0m\n",
       "    \u001b[0;36mget\u001b[0m\u001b[0;36m: \u001b[0m\u001b[1;30mGet item from object for given key (DataFrame column, Panel slice,\u001b[0m\n",
       "    \u001b[0;36mget_dtype_counts\u001b[0m\u001b[0;36m: \u001b[0m\u001b[1;30mReturn the counts of dtypes in this object.\u001b[0m\n",
       "    \u001b[0;36mget_ftype_counts\u001b[0m\u001b[0;36m: \u001b[0m\u001b[1;30mReturn the counts of ftypes in this object.\u001b[0m\n",
       "    \u001b[0;36mget_value\u001b[0m\u001b[0;36m: \u001b[0m\u001b[1;30mQuickly retrieve single value at passed index label\u001b[0m\n",
       "    \u001b[0;36mget_values\u001b[0m\u001b[0;36m: \u001b[0m\u001b[1;30msame as values (but handles sparseness conversions); is a view \u001b[0m\n",
       "    \u001b[0;36mgroupby\u001b[0m\u001b[0;36m: \u001b[0m\u001b[1;30mGroup series using mapper (dict or key function, apply given function\u001b[0m\n",
       "    \u001b[0;36mgt\u001b[0m\u001b[0;36m: \u001b[0m\u001b[1;30m\u001b[0m\n",
       "    \u001b[0;36mhead\u001b[0m\u001b[0;36m: \u001b[0m\u001b[1;30mReturns first n rows\u001b[0m\n",
       "    \u001b[0;36mhist\u001b[0m\u001b[0;36m: \u001b[0m\u001b[1;30mDraw histogram of the input series using matplotlib\u001b[0m\n",
       "    \u001b[0;36midxmax\u001b[0m\u001b[0;36m: \u001b[0m\u001b[1;30mIndex of first occurrence of maximum of values.\u001b[0m\n",
       "    \u001b[0;36midxmin\u001b[0m\u001b[0;36m: \u001b[0m\u001b[1;30mIndex of first occurrence of minimum of values.\u001b[0m\n",
       "    \u001b[0;36miget\u001b[0m\u001b[0;36m: \u001b[0m\u001b[1;30mDEPRECATED. Use ``.iloc[i]`` or ``.iat[i]`` instead\u001b[0m\n",
       "    \u001b[0;36miget_value\u001b[0m\u001b[0;36m: \u001b[0m\u001b[1;30mDEPRECATED. Use ``.iloc[i]`` or ``.iat[i]`` instead\u001b[0m\n",
       "    \u001b[0;36minterpolate\u001b[0m\u001b[0;36m: \u001b[0m\u001b[1;30mInterpolate values according to different methods.\u001b[0m\n",
       "    \u001b[0;36mirow\u001b[0m\u001b[0;36m: \u001b[0m\u001b[1;30mDEPRECATED. Use ``.iloc[i]`` or ``.iat[i]`` instead\u001b[0m\n",
       "    \u001b[0;36misin\u001b[0m\u001b[0;36m: \u001b[0m\u001b[1;30mReturn a boolean :class:`~pandas.Series` showing whether each element\u001b[0m\n",
       "    \u001b[0;36misnull\u001b[0m\u001b[0;36m: \u001b[0m\u001b[1;30mReturn a boolean same-sized object indicating if the values are null.\u001b[0m\n",
       "    \u001b[0;36mitem\u001b[0m\u001b[0;36m: \u001b[0m\u001b[1;30mreturn the first element of the underlying data as a python\u001b[0m\n",
       "    \u001b[0;36miteritems\u001b[0m\u001b[0;36m: \u001b[0m\u001b[1;30mLazily iterate over (index, value) tuples\u001b[0m\n",
       "    \u001b[0;36miterkv\u001b[0m\u001b[0;36m: \u001b[0m\u001b[1;30miteritems alias used to get around 2to3. Deprecated\u001b[0m\n",
       "    \u001b[0;36mkeys\u001b[0m\u001b[0;36m: \u001b[0m\u001b[1;30mAlias for index\u001b[0m\n",
       "    \u001b[0;36mkurt\u001b[0m\u001b[0;36m: \u001b[0m\u001b[1;30mReturn unbiased kurtosis over requested axis using Fisher's definition of\u001b[0m\n",
       "    \u001b[0;36mkurtosis\u001b[0m\u001b[0;36m: \u001b[0m\u001b[1;30mReturn unbiased kurtosis over requested axis using Fisher's definition of\u001b[0m\n",
       "    \u001b[0;36mlast\u001b[0m\u001b[0;36m: \u001b[0m\u001b[1;30mConvenience method for subsetting final periods of time series data\u001b[0m\n",
       "    \u001b[0;36mlast_valid_index\u001b[0m\u001b[0;36m: \u001b[0m\u001b[1;30mReturn label for last non-NA/null value\u001b[0m\n",
       "    \u001b[0;36mle\u001b[0m\u001b[0;36m: \u001b[0m\u001b[1;30m\u001b[0m\n",
       "    \u001b[0;36mlt\u001b[0m\u001b[0;36m: \u001b[0m\u001b[1;30m\u001b[0m\n",
       "    \u001b[0;36mmad\u001b[0m\u001b[0;36m: \u001b[0m\u001b[1;30mReturn the mean absolute deviation of the values for the requested axis\u001b[0m\n",
       "    \u001b[0;36mmap\u001b[0m\u001b[0;36m: \u001b[0m\u001b[1;30mMap values of Series using input correspondence (which can be\u001b[0m\n",
       "    \u001b[0;36mmask\u001b[0m\u001b[0;36m: \u001b[0m\u001b[1;30mReturn an object of same shape as self and whose corresponding\u001b[0m\n",
       "    \u001b[0;36mmax\u001b[0m\u001b[0;36m: \u001b[0m\u001b[1;30mThis method returns the maximum of the values in the object.\u001b[0m\n",
       "    \u001b[0;36mmean\u001b[0m\u001b[0;36m: \u001b[0m\u001b[1;30mReturn the mean of the values for the requested axis\u001b[0m\n",
       "    \u001b[0;36mmedian\u001b[0m\u001b[0;36m: \u001b[0m\u001b[1;30mReturn the median of the values for the requested axis\u001b[0m\n",
       "    \u001b[0;36mmemory_usage\u001b[0m\u001b[0;36m: \u001b[0m\u001b[1;30mMemory usage of the Series\u001b[0m\n",
       "    \u001b[0;36mmin\u001b[0m\u001b[0;36m: \u001b[0m\u001b[1;30mThis method returns the minimum of the values in the object.\u001b[0m\n",
       "    \u001b[0;36mmod\u001b[0m\u001b[0;36m: \u001b[0m\u001b[1;30mModulo of series and other, element-wise (binary operator `mod`).\u001b[0m\n",
       "    \u001b[0;36mmode\u001b[0m\u001b[0;36m: \u001b[0m\u001b[1;30mReturns the mode(s) of the dataset.\u001b[0m\n",
       "    \u001b[0;36mmul\u001b[0m\u001b[0;36m: \u001b[0m\u001b[1;30mMultiplication of series and other, element-wise (binary operator `mul`).\u001b[0m\n",
       "    \u001b[0;36mmultiply\u001b[0m\u001b[0;36m: \u001b[0m\u001b[1;30mMultiplication of series and other, element-wise (binary operator `mul`).\u001b[0m\n",
       "    \u001b[0;36mne\u001b[0m\u001b[0;36m: \u001b[0m\u001b[1;30m\u001b[0m\n",
       "    \u001b[0;36mnlargest\u001b[0m\u001b[0;36m: \u001b[0m\u001b[1;30mReturn the largest `n` elements.\u001b[0m\n",
       "    \u001b[0;36mnonzero\u001b[0m\u001b[0;36m: \u001b[0m\u001b[1;30mReturn the indices of the elements that are non-zero\u001b[0m\n",
       "    \u001b[0;36mnotnull\u001b[0m\u001b[0;36m: \u001b[0m\u001b[1;30mReturn a boolean same-sized object indicating if the values are\u001b[0m\n",
       "    \u001b[0;36mnsmallest\u001b[0m\u001b[0;36m: \u001b[0m\u001b[1;30mReturn the smallest `n` elements.\u001b[0m\n",
       "    \u001b[0;36mnunique\u001b[0m\u001b[0;36m: \u001b[0m\u001b[1;30mReturn number of unique elements in the object.\u001b[0m\n",
       "    \u001b[0;36morder\u001b[0m\u001b[0;36m: \u001b[0m\u001b[1;30mDEPRECATED: use :meth:`Series.sort_values`\u001b[0m\n",
       "    \u001b[0;36mpct_change\u001b[0m\u001b[0;36m: \u001b[0m\u001b[1;30mPercent change over given number of periods.\u001b[0m\n",
       "    \u001b[0;36mpipe\u001b[0m\u001b[0;36m: \u001b[0m\u001b[1;30mApply func(self, \\*args, \\*\\*kwargs)\u001b[0m\n",
       "    \u001b[0;36mpop\u001b[0m\u001b[0;36m: \u001b[0m\u001b[1;30mReturn item and drop from frame. Raise KeyError if not found.\u001b[0m\n",
       "    \u001b[0;36mpow\u001b[0m\u001b[0;36m: \u001b[0m\u001b[1;30mExponential power of series and other, element-wise (binary operator `pow`).\u001b[0m\n",
       "    \u001b[0;36mprod\u001b[0m\u001b[0;36m: \u001b[0m\u001b[1;30mReturn the product of the values for the requested axis\u001b[0m\n",
       "    \u001b[0;36mproduct\u001b[0m\u001b[0;36m: \u001b[0m\u001b[1;30mReturn the product of the values for the requested axis\u001b[0m\n",
       "    \u001b[0;36mptp\u001b[0m\u001b[0;36m: \u001b[0m\u001b[1;30mReturns the difference between the maximum value and the\u001b[0m\n",
       "    \u001b[0;36mput\u001b[0m\u001b[0;36m: \u001b[0m\u001b[1;30mreturn a ndarray with the values put\u001b[0m\n",
       "    \u001b[0;36mquantile\u001b[0m\u001b[0;36m: \u001b[0m\u001b[1;30mReturn value at the given quantile, a la numpy.percentile.\u001b[0m\n",
       "    \u001b[0;36mradd\u001b[0m\u001b[0;36m: \u001b[0m\u001b[1;30mAddition of series and other, element-wise (binary operator `radd`).\u001b[0m\n",
       "    \u001b[0;36mrank\u001b[0m\u001b[0;36m: \u001b[0m\u001b[1;30mCompute numerical data ranks (1 through n) along axis. Equal values are\u001b[0m\n",
       "    \u001b[0;36mravel\u001b[0m\u001b[0;36m: \u001b[0m\u001b[1;30mReturn the flattened underlying data as an ndarray\u001b[0m\n",
       "    \u001b[0;36mrdiv\u001b[0m\u001b[0;36m: \u001b[0m\u001b[1;30mFloating division of series and other, element-wise (binary operator `rtruediv`).\u001b[0m\n",
       "    \u001b[0;36mreindex\u001b[0m\u001b[0;36m: \u001b[0m\u001b[1;30mConform Series to new index with optional filling logic, placing\u001b[0m\n",
       "    \u001b[0;36mreindex_axis\u001b[0m\u001b[0;36m: \u001b[0m\u001b[1;30mfor compatibility with higher dims \u001b[0m\n",
       "    \u001b[0;36mreindex_like\u001b[0m\u001b[0;36m: \u001b[0m\u001b[1;30mReturn an object with matching indices to myself.\u001b[0m\n",
       "    \u001b[0;36mrename\u001b[0m\u001b[0;36m: \u001b[0m\u001b[1;30mAlter axes input function or functions. Function / dict values must be\u001b[0m\n",
       "    \u001b[0;36mrename_axis\u001b[0m\u001b[0;36m: \u001b[0m\u001b[1;30mAlter index and / or columns using input function or functions.\u001b[0m\n",
       "    \u001b[0;36mreorder_levels\u001b[0m\u001b[0;36m: \u001b[0m\u001b[1;30mRearrange index levels using input order. May not drop or duplicate\u001b[0m\n",
       "    \u001b[0;36mrepeat\u001b[0m\u001b[0;36m: \u001b[0m\u001b[1;30mreturn a new Series with the values repeated reps times\u001b[0m\n",
       "    \u001b[0;36mreplace\u001b[0m\u001b[0;36m: \u001b[0m\u001b[1;30mReplace values given in 'to_replace' with 'value'.\u001b[0m\n",
       "    \u001b[0;36mresample\u001b[0m\u001b[0;36m: \u001b[0m\u001b[1;30mConvenience method for frequency conversion and resampling of regular\u001b[0m\n",
       "    \u001b[0;36mreset_index\u001b[0m\u001b[0;36m: \u001b[0m\u001b[1;30mAnalogous to the :meth:`pandas.DataFrame.reset_index` function, see\u001b[0m\n",
       "    \u001b[0;36mreshape\u001b[0m\u001b[0;36m: \u001b[0m\u001b[1;30mreturn an ndarray with the values shape\u001b[0m\n",
       "    \u001b[0;36mrfloordiv\u001b[0m\u001b[0;36m: \u001b[0m\u001b[1;30mInteger division of series and other, element-wise (binary operator `rfloordiv`).\u001b[0m\n",
       "    \u001b[0;36mrmod\u001b[0m\u001b[0;36m: \u001b[0m\u001b[1;30mModulo of series and other, element-wise (binary operator `rmod`).\u001b[0m\n",
       "    \u001b[0;36mrmul\u001b[0m\u001b[0;36m: \u001b[0m\u001b[1;30mMultiplication of series and other, element-wise (binary operator `rmul`).\u001b[0m\n",
       "    \u001b[0;36mrolling\u001b[0m\u001b[0;36m: \u001b[0m\u001b[1;30mProvides rolling transformations.\u001b[0m\n",
       "    \u001b[0;36mround\u001b[0m\u001b[0;36m: \u001b[0m\u001b[1;30mRound each value in a Series to the given number of decimals.\u001b[0m\n",
       "    \u001b[0;36mrpow\u001b[0m\u001b[0;36m: \u001b[0m\u001b[1;30mExponential power of series and other, element-wise (binary operator `rpow`).\u001b[0m\n",
       "    \u001b[0;36mrsub\u001b[0m\u001b[0;36m: \u001b[0m\u001b[1;30mSubtraction of series and other, element-wise (binary operator `rsub`).\u001b[0m\n",
       "    \u001b[0;36mrtruediv\u001b[0m\u001b[0;36m: \u001b[0m\u001b[1;30mFloating division of series and other, element-wise (binary operator `rtruediv`).\u001b[0m\n",
       "    \u001b[0;36msample\u001b[0m\u001b[0;36m: \u001b[0m\u001b[1;30mReturns a random sample of items from an axis of object.\u001b[0m\n",
       "    \u001b[0;36msearchsorted\u001b[0m\u001b[0;36m: \u001b[0m\u001b[1;30mFind indices where elements should be inserted to maintain order.\u001b[0m\n",
       "    \u001b[0;36mselect\u001b[0m\u001b[0;36m: \u001b[0m\u001b[1;30mReturn data corresponding to axis labels matching criteria\u001b[0m\n",
       "    \u001b[0;36msem\u001b[0m\u001b[0;36m: \u001b[0m\u001b[1;30mReturn unbiased standard error of the mean over requested axis.\u001b[0m\n",
       "    \u001b[0;36mset_axis\u001b[0m\u001b[0;36m: \u001b[0m\u001b[1;30mpublic verson of axis assignment \u001b[0m\n",
       "    \u001b[0;36mset_value\u001b[0m\u001b[0;36m: \u001b[0m\u001b[1;30mQuickly set single value at passed label. If label is not contained, a\u001b[0m\n",
       "    \u001b[0;36mshift\u001b[0m\u001b[0;36m: \u001b[0m\u001b[1;30mShift index by desired number of periods with an optional time freq\u001b[0m\n",
       "    \u001b[0;36mskew\u001b[0m\u001b[0;36m: \u001b[0m\u001b[1;30mReturn unbiased skew over requested axis\u001b[0m\n",
       "    \u001b[0;36mslice_shift\u001b[0m\u001b[0;36m: \u001b[0m\u001b[1;30mEquivalent to `shift` without copying data. The shifted data will\u001b[0m\n",
       "    \u001b[0;36msort\u001b[0m\u001b[0;36m: \u001b[0m\u001b[1;30mDEPRECATED: use :meth:`Series.sort_values(inplace=True)` for INPLACE\u001b[0m\n",
       "    \u001b[0;36msort_index\u001b[0m\u001b[0;36m: \u001b[0m\u001b[1;30mSort object by labels (along an axis)\u001b[0m\n",
       "    \u001b[0;36msort_values\u001b[0m\u001b[0;36m: \u001b[0m\u001b[1;30mSort by the values along either axis\u001b[0m\n",
       "    \u001b[0;36msortlevel\u001b[0m\u001b[0;36m: \u001b[0m\u001b[1;30mSort Series with MultiIndex by chosen level. Data will be\u001b[0m\n",
       "    \u001b[0;36msqueeze\u001b[0m\u001b[0;36m: \u001b[0m\u001b[1;30mSqueeze length 1 dimensions.\u001b[0m\n",
       "    \u001b[0;36mstd\u001b[0m\u001b[0;36m: \u001b[0m\u001b[1;30mReturn sample standard deviation over requested axis.\u001b[0m\n",
       "    \u001b[0;36msub\u001b[0m\u001b[0;36m: \u001b[0m\u001b[1;30mSubtraction of series and other, element-wise (binary operator `sub`).\u001b[0m\n",
       "    \u001b[0;36msubtract\u001b[0m\u001b[0;36m: \u001b[0m\u001b[1;30mSubtraction of series and other, element-wise (binary operator `sub`).\u001b[0m\n",
       "    \u001b[0;36msum\u001b[0m\u001b[0;36m: \u001b[0m\u001b[1;30mReturn the sum of the values for the requested axis\u001b[0m\n",
       "    \u001b[0;36mswapaxes\u001b[0m\u001b[0;36m: \u001b[0m\u001b[1;30mInterchange axes and swap values axes appropriately\u001b[0m\n",
       "    \u001b[0;36mswaplevel\u001b[0m\u001b[0;36m: \u001b[0m\u001b[1;30mSwap levels i and j in a MultiIndex\u001b[0m\n",
       "    \u001b[0;36mtail\u001b[0m\u001b[0;36m: \u001b[0m\u001b[1;30mReturns last n rows\u001b[0m\n",
       "    \u001b[0;36mtake\u001b[0m\u001b[0;36m: \u001b[0m\u001b[1;30mreturn Series corresponding to requested indices\u001b[0m\n",
       "    \u001b[0;36mto_clipboard\u001b[0m\u001b[0;36m: \u001b[0m\u001b[1;30mAttempt to write text representation of object to the system clipboard\u001b[0m\n",
       "    \u001b[0;36mto_csv\u001b[0m\u001b[0;36m: \u001b[0m\u001b[1;30mWrite Series to a comma-separated values (csv) file\u001b[0m\n",
       "    \u001b[0;36mto_dense\u001b[0m\u001b[0;36m: \u001b[0m\u001b[1;30mReturn dense representation of NDFrame (as opposed to sparse)\u001b[0m\n",
       "    \u001b[0;36mto_dict\u001b[0m\u001b[0;36m: \u001b[0m\u001b[1;30mConvert Series to {label -> value} dict\u001b[0m\n",
       "    \u001b[0;36mto_frame\u001b[0m\u001b[0;36m: \u001b[0m\u001b[1;30mConvert Series to DataFrame\u001b[0m\n",
       "    \u001b[0;36mto_hdf\u001b[0m\u001b[0;36m: \u001b[0m\u001b[1;30mActivate the HDFStore.\u001b[0m\n",
       "    \u001b[0;36mto_json\u001b[0m\u001b[0;36m: \u001b[0m\u001b[1;30mConvert the object to a JSON string.\u001b[0m\n",
       "    \u001b[0;36mto_msgpack\u001b[0m\u001b[0;36m: \u001b[0m\u001b[1;30mmsgpack (serialize) object to input file path\u001b[0m\n",
       "    \u001b[0;36mto_period\u001b[0m\u001b[0;36m: \u001b[0m\u001b[1;30mConvert Series from DatetimeIndex to PeriodIndex with desired\u001b[0m\n",
       "    \u001b[0;36mto_pickle\u001b[0m\u001b[0;36m: \u001b[0m\u001b[1;30mPickle (serialize) object to input file path.\u001b[0m\n",
       "    \u001b[0;36mto_sparse\u001b[0m\u001b[0;36m: \u001b[0m\u001b[1;30mConvert Series to SparseSeries\u001b[0m\n",
       "    \u001b[0;36mto_sql\u001b[0m\u001b[0;36m: \u001b[0m\u001b[1;30mWrite records stored in a DataFrame to a SQL database.\u001b[0m\n",
       "    \u001b[0;36mto_string\u001b[0m\u001b[0;36m: \u001b[0m\u001b[1;30mRender a string representation of the Series\u001b[0m\n",
       "    \u001b[0;36mto_timestamp\u001b[0m\u001b[0;36m: \u001b[0m\u001b[1;30mCast to datetimeindex of timestamps, at *beginning* of period\u001b[0m\n",
       "    \u001b[0;36mto_xarray\u001b[0m\u001b[0;36m: \u001b[0m\u001b[1;30mReturn an xarray object from the pandas object.\u001b[0m\n",
       "    \u001b[0;36mtolist\u001b[0m\u001b[0;36m: \u001b[0m\u001b[1;30mConvert Series to a nested list \u001b[0m\n",
       "    \u001b[0;36mtranspose\u001b[0m\u001b[0;36m: \u001b[0m\u001b[1;30mreturn the transpose, which is by definition self \u001b[0m\n",
       "    \u001b[0;36mtruediv\u001b[0m\u001b[0;36m: \u001b[0m\u001b[1;30mFloating division of series and other, element-wise (binary operator `truediv`).\u001b[0m\n",
       "    \u001b[0;36mtruncate\u001b[0m\u001b[0;36m: \u001b[0m\u001b[1;30mTruncates a sorted NDFrame before and/or after some particular\u001b[0m\n",
       "    \u001b[0;36mtshift\u001b[0m\u001b[0;36m: \u001b[0m\u001b[1;30mShift the time index, using the index's frequency if available.\u001b[0m\n",
       "    \u001b[0;36mtz_convert\u001b[0m\u001b[0;36m: \u001b[0m\u001b[1;30mConvert tz-aware axis to target time zone.\u001b[0m\n",
       "    \u001b[0;36mtz_localize\u001b[0m\u001b[0;36m: \u001b[0m\u001b[1;30mLocalize tz-naive TimeSeries to target time zone.\u001b[0m\n",
       "    \u001b[0;36munique\u001b[0m\u001b[0;36m: \u001b[0m\u001b[1;30mReturn array of unique values in the object. Significantly faster than\u001b[0m\n",
       "    \u001b[0;36munstack\u001b[0m\u001b[0;36m: \u001b[0m\u001b[1;30mUnstack, a.k.a. pivot, Series with MultiIndex to produce DataFrame.\u001b[0m\n",
       "    \u001b[0;36mupdate\u001b[0m\u001b[0;36m: \u001b[0m\u001b[1;30mModify Series in place using non-NA values from passed\u001b[0m\n",
       "    \u001b[0;36mvalid\u001b[0m\u001b[0;36m: \u001b[0m\u001b[1;30m\u001b[0m\n",
       "    \u001b[0;36mvalue_counts\u001b[0m\u001b[0;36m: \u001b[0m\u001b[1;30mReturns object containing counts of unique values.\u001b[0m\n",
       "    \u001b[0;36mvar\u001b[0m\u001b[0;36m: \u001b[0m\u001b[1;30mReturn unbiased variance over requested axis.\u001b[0m\n",
       "    \u001b[0;36mview\u001b[0m\u001b[0;36m: \u001b[0m\u001b[1;30m\u001b[0m\n",
       "    \u001b[0;36mwhere\u001b[0m\u001b[0;36m: \u001b[0m\u001b[1;30mReturn an object of same shape as self and whose corresponding\u001b[0m\n",
       "    \u001b[0;36mxs\u001b[0m\u001b[0;36m: \u001b[0m\u001b[1;30mReturns a cross-section (row(s) or column(s)) from the\u001b[0m"
      ]
     },
     "execution_count": 3,
     "metadata": {},
     "output_type": "execute_result"
    }
   ],
   "source": [
    "pdir(pd.Series)"
   ]
  },
  {
   "cell_type": "code",
   "execution_count": 4,
   "metadata": {},
   "outputs": [
    {
     "name": "stdout",
     "output_type": "stream",
     "text": [
      "a    4\n",
      "b    7\n",
      "c   -5\n",
      "d    3\n",
      "dtype: int64\n",
      "Index([u'a', u'b', u'c', u'd'], dtype='object')\n",
      "4\n"
     ]
    }
   ],
   "source": [
    "obj = pd.Series([4,7,-5,3],index = ['a','b','c','d'])#不指定index时，会有默认index\n",
    "print obj\n",
    "print obj.index#索引对象\n",
    "#numpy和pandas.Series都可以通过索引选取值\n",
    "# 区别在于numpy索引是从0开始的；pandas.Series的索引是可定制的\n",
    "print obj['a']"
   ]
  },
  {
   "cell_type": "markdown",
   "metadata": {},
   "source": [
    "Series还可以看做是定长的有序字典，是索引值到数据值的一个映射，它可以用在原本需要字典型数据参数的函数中"
   ]
  },
  {
   "cell_type": "code",
   "execution_count": 5,
   "metadata": {},
   "outputs": [
    {
     "data": {
      "text/plain": [
       "True"
      ]
     },
     "execution_count": 5,
     "metadata": {},
     "output_type": "execute_result"
    }
   ],
   "source": [
    "'a' in obj"
   ]
  },
  {
   "cell_type": "code",
   "execution_count": 6,
   "metadata": {},
   "outputs": [
    {
     "name": "stdout",
     "output_type": "stream",
     "text": [
      "<class 'pandas.core.series.Series'>\n",
      "a    100\n",
      "b    200\n",
      "c    300\n",
      "d    400\n",
      "e    500\n",
      "dtype: int64\n",
      "[100 200 300 400 500]\n",
      "Index([u'a', u'b', u'c', u'd', u'e'], dtype='object')\n"
     ]
    }
   ],
   "source": [
    "#可以通过字典来创建Series\n",
    "sdata = {'a':100,'b':200,'c':300,'d':400,\"e\":500}\n",
    "obj = pd.Series(sdata)\n",
    "print type(obj)\n",
    "print obj\n",
    "print obj.values#Series对象数组表现形式\n",
    "print obj.index#索引对象"
   ]
  },
  {
   "cell_type": "markdown",
   "metadata": {},
   "source": [
    "Series在数学运算中会自动对齐索引相同的数据"
   ]
  },
  {
   "cell_type": "code",
   "execution_count": 7,
   "metadata": {},
   "outputs": [
    {
     "name": "stdout",
     "output_type": "stream",
     "text": [
      "a     200\n",
      "b     400\n",
      "c     600\n",
      "d     800\n",
      "e    1000\n",
      "dtype: int64\n"
     ]
    }
   ],
   "source": [
    "obj2 = pd.Series(sdata)\n",
    "print obj + obj2"
   ]
  },
  {
   "cell_type": "markdown",
   "metadata": {},
   "source": [
    "Series对象本身及其索引都有name属性"
   ]
  },
  {
   "cell_type": "code",
   "execution_count": 8,
   "metadata": {},
   "outputs": [
    {
     "name": "stdout",
     "output_type": "stream",
     "text": [
      "a    100\n",
      "b    200\n",
      "c    300\n",
      "d    400\n",
      "e    500\n",
      "dtype: int64\n",
      "None\n",
      "None\n",
      "test_index_name\n",
      "a    100\n",
      "b    200\n",
      "c    300\n",
      "d    400\n",
      "e    500\n",
      "Name: test_series_name, dtype: int64\n",
      "test_series_name\n",
      "test_index_name\n"
     ]
    }
   ],
   "source": [
    "print obj\n",
    "print obj.name\n",
    "print obj.index.name\n",
    "obj.name = 'test_series_name'\n",
    "obj.index.name = 'test_index_name'\n",
    "print obj\n",
    "print obj.name\n",
    "print obj.index.name"
   ]
  },
  {
   "cell_type": "markdown",
   "metadata": {},
   "source": [
    "## 2 DataFrame\n",
    "DataFrame是表格型数据结构，有行，列索引；\n",
    "可以看做是由Series构成的字典（索引相同）"
   ]
  },
  {
   "cell_type": "markdown",
   "metadata": {},
   "source": [
    "构建DataFrame:等长列表或numpy数组构成的字典"
   ]
  },
  {
   "cell_type": "code",
   "execution_count": 9,
   "metadata": {},
   "outputs": [
    {
     "data": {
      "text/plain": [
       "\u001b[0;33mproperty:\u001b[0m\n",
       "    \u001b[0;36m_AXIS_ALIASES\u001b[0m\u001b[1;30m, \u001b[0m\u001b[0;36m_AXIS_IALIASES\u001b[0m\u001b[1;30m, \u001b[0m\u001b[0;36m_AXIS_LEN\u001b[0m\u001b[1;30m, \u001b[0m\u001b[0;36m_AXIS_NAMES\u001b[0m\u001b[1;30m, \u001b[0m\u001b[0;36m_AXIS_NUMBERS\u001b[0m\u001b[1;30m, \u001b[0m\u001b[0;36m_AXIS_ORDERS\u001b[0m\u001b[1;30m, \u001b[0m\u001b[0;36m_AXIS_REVERSED\u001b[0m\u001b[1;30m, \u001b[0m\u001b[0;36m_AXIS_SLICEMAP\u001b[0m\u001b[1;30m, \u001b[0m\u001b[0;36m_accessors\u001b[0m\u001b[1;30m, \u001b[0m\u001b[0;36m_at\u001b[0m\u001b[1;30m, \u001b[0m\u001b[0;36m_iat\u001b[0m\u001b[1;30m, \u001b[0m\u001b[0;36m_iloc\u001b[0m\u001b[1;30m, \u001b[0m\u001b[0;36m_info_axis_name\u001b[0m\u001b[1;30m, \u001b[0m\u001b[0;36m_info_axis_number\u001b[0m\u001b[1;30m, \u001b[0m\u001b[0;36m_internal_names\u001b[0m\u001b[1;30m, \u001b[0m\u001b[0;36m_internal_names_set\u001b[0m\u001b[1;30m, \u001b[0m\u001b[0;36m_ix\u001b[0m\u001b[1;30m, \u001b[0m\u001b[0;36m_loc\u001b[0m\u001b[1;30m, \u001b[0m\u001b[0;36m_metadata\u001b[0m\u001b[1;30m, \u001b[0m\u001b[0;36m_stat_axis_name\u001b[0m\u001b[1;30m, \u001b[0m\u001b[0;36m_stat_axis_number\u001b[0m\u001b[1;30m, \u001b[0m\u001b[0;36m_typ\u001b[0m\u001b[1;30m, \u001b[0m\u001b[0;36mis_copy\u001b[0m\n",
       "\u001b[0;33mspecial attribute:\u001b[0m\n",
       "    \u001b[0;36m__class__\u001b[0m\u001b[1;30m, \u001b[0m\u001b[0;36m__dict__\u001b[0m\u001b[1;30m, \u001b[0m\u001b[0;36m__doc__\u001b[0m\u001b[1;30m, \u001b[0m\u001b[0;36m__module__\u001b[0m\u001b[1;30m, \u001b[0m\u001b[0;36m__weakref__\u001b[0m\n",
       "\u001b[0;33mabstract class:\u001b[0m\n",
       "    \u001b[0;36m__subclasshook__\u001b[0m\n",
       "\u001b[0;33marithmetic:\u001b[0m\n",
       "    \u001b[0;36m__abs__\u001b[0m\u001b[1;30m, \u001b[0m\u001b[0;36m__add__\u001b[0m\u001b[1;30m, \u001b[0m\u001b[0;36m__and__\u001b[0m\u001b[1;30m, \u001b[0m\u001b[0;36m__floordiv__\u001b[0m\u001b[1;30m, \u001b[0m\u001b[0;36m__iadd__\u001b[0m\u001b[1;30m, \u001b[0m\u001b[0;36m__imul__\u001b[0m\u001b[1;30m, \u001b[0m\u001b[0;36m__invert__\u001b[0m\u001b[1;30m, \u001b[0m\u001b[0;36m__ipow__\u001b[0m\u001b[1;30m, \u001b[0m\u001b[0;36m__isub__\u001b[0m\u001b[1;30m, \u001b[0m\u001b[0;36m__itruediv__\u001b[0m\u001b[1;30m, \u001b[0m\u001b[0;36m__mod__\u001b[0m\u001b[1;30m, \u001b[0m\u001b[0;36m__mul__\u001b[0m\u001b[1;30m, \u001b[0m\u001b[0;36m__neg__\u001b[0m\u001b[1;30m, \u001b[0m\u001b[0;36m__or__\u001b[0m\u001b[1;30m, \u001b[0m\u001b[0;36m__pow__\u001b[0m\u001b[1;30m, \u001b[0m\u001b[0;36m__radd__\u001b[0m\u001b[1;30m, \u001b[0m\u001b[0;36m__rand__\u001b[0m\u001b[1;30m, \u001b[0m\u001b[0;36m__rfloordiv__\u001b[0m\u001b[1;30m, \u001b[0m\u001b[0;36m__rmod__\u001b[0m\u001b[1;30m, \u001b[0m\u001b[0;36m__rmul__\u001b[0m\u001b[1;30m, \u001b[0m\u001b[0;36m__ror__\u001b[0m\u001b[1;30m, \u001b[0m\u001b[0;36m__round__\u001b[0m\u001b[1;30m, \u001b[0m\u001b[0;36m__rpow__\u001b[0m\u001b[1;30m, \u001b[0m\u001b[0;36m__rsub__\u001b[0m\u001b[1;30m, \u001b[0m\u001b[0;36m__rtruediv__\u001b[0m\u001b[1;30m, \u001b[0m\u001b[0;36m__rxor__\u001b[0m\u001b[1;30m, \u001b[0m\u001b[0;36m__sub__\u001b[0m\u001b[1;30m, \u001b[0m\u001b[0;36m__truediv__\u001b[0m\u001b[1;30m, \u001b[0m\u001b[0;36m__xor__\u001b[0m\n",
       "\u001b[0;33mobject customization:\u001b[0m\n",
       "    \u001b[0;36m__bool__\u001b[0m\u001b[1;30m, \u001b[0m\u001b[0;36m__bytes__\u001b[0m\u001b[1;30m, \u001b[0m\u001b[0;36m__format__\u001b[0m\u001b[1;30m, \u001b[0m\u001b[0;36m__hash__\u001b[0m\u001b[1;30m, \u001b[0m\u001b[0;36m__init__\u001b[0m\u001b[1;30m, \u001b[0m\u001b[0;36m__new__\u001b[0m\u001b[1;30m, \u001b[0m\u001b[0;36m__repr__\u001b[0m\u001b[1;30m, \u001b[0m\u001b[0;36m__sizeof__\u001b[0m\u001b[1;30m, \u001b[0m\u001b[0;36m__str__\u001b[0m\n",
       "\u001b[0;33mrich comparison:\u001b[0m\n",
       "    \u001b[0;36m__eq__\u001b[0m\u001b[1;30m, \u001b[0m\u001b[0;36m__ge__\u001b[0m\u001b[1;30m, \u001b[0m\u001b[0;36m__gt__\u001b[0m\u001b[1;30m, \u001b[0m\u001b[0;36m__le__\u001b[0m\u001b[1;30m, \u001b[0m\u001b[0;36m__lt__\u001b[0m\u001b[1;30m, \u001b[0m\u001b[0;36m__ne__\u001b[0m\n",
       "\u001b[0;33mattribute access:\u001b[0m\n",
       "    \u001b[0;36m__delattr__\u001b[0m\u001b[1;30m, \u001b[0m\u001b[0;36m__dir__\u001b[0m\u001b[1;30m, \u001b[0m\u001b[0;36m__getattr__\u001b[0m\u001b[1;30m, \u001b[0m\u001b[0;36m__getattribute__\u001b[0m\u001b[1;30m, \u001b[0m\u001b[0;36m__setattr__\u001b[0m\n",
       "\u001b[0;33mcontainer:\u001b[0m\n",
       "    \u001b[0;36m__contains__\u001b[0m\u001b[1;30m, \u001b[0m\u001b[0;36m__delitem__\u001b[0m\u001b[1;30m, \u001b[0m\u001b[0;36m__getitem__\u001b[0m\u001b[1;30m, \u001b[0m\u001b[0;36m__iter__\u001b[0m\u001b[1;30m, \u001b[0m\u001b[0;36m__len__\u001b[0m\u001b[1;30m, \u001b[0m\u001b[0;36m__setitem__\u001b[0m\n",
       "\u001b[0;33mpickle:\u001b[0m\n",
       "    \u001b[0;36m__getstate__\u001b[0m\u001b[1;30m, \u001b[0m\u001b[0;36m__reduce__\u001b[0m\u001b[1;30m, \u001b[0m\u001b[0;36m__reduce_ex__\u001b[0m\u001b[1;30m, \u001b[0m\u001b[0;36m__setstate__\u001b[0m\n",
       "\u001b[0;33mdescriptor:\u001b[0m\n",
       "    \u001b[0;36mT\u001b[0m\u001b[0;36m: \u001b[0m\u001b[1;30m@property with getter, Transpose index and columns\u001b[0m\n",
       "    \u001b[0;36m_constructor\u001b[0m\u001b[0;36m: \u001b[0m\u001b[1;30m@property with getter\u001b[0m\n",
       "    \u001b[0;36m_constructor_expanddim\u001b[0m\u001b[0;36m: \u001b[0m\u001b[1;30m@property with getter\u001b[0m\n",
       "    \u001b[0;36m_from_arrays\u001b[0m\u001b[0;36m: \u001b[0m\u001b[1;30mclass classmethod with getter, classmethod(function) -> method\u001b[0m\n",
       "    \u001b[0;36m_get_values\u001b[0m\u001b[0;36m: \u001b[0m\u001b[1;30m@property with getter\u001b[0m\n",
       "    \u001b[0;36m_info_axis\u001b[0m\u001b[0;36m: \u001b[0m\u001b[1;30m@property with getter\u001b[0m\n",
       "    \u001b[0;36m_is_cached\u001b[0m\u001b[0;36m: \u001b[0m\u001b[1;30m@property with getter, Return boolean indicating if self is cached or not.\u001b[0m\n",
       "    \u001b[0;36m_is_datelike_mixed_type\u001b[0m\u001b[0;36m: \u001b[0m\u001b[1;30m@property with getter\u001b[0m\n",
       "    \u001b[0;36m_is_mixed_type\u001b[0m\u001b[0;36m: \u001b[0m\u001b[1;30m@property with getter\u001b[0m\n",
       "    \u001b[0;36m_is_numeric_mixed_type\u001b[0m\u001b[0;36m: \u001b[0m\u001b[1;30m@property with getter\u001b[0m\n",
       "    \u001b[0;36m_is_view\u001b[0m\u001b[0;36m: \u001b[0m\u001b[1;30m@property with getter, Return boolean indicating if self is view of another array \u001b[0m\n",
       "    \u001b[0;36m_series\u001b[0m\u001b[0;36m: \u001b[0m\u001b[1;30m@property with getter\u001b[0m\n",
       "    \u001b[0;36m_stat_axis\u001b[0m\u001b[0;36m: \u001b[0m\u001b[1;30m@property with getter\u001b[0m\n",
       "    \u001b[0;36m_values\u001b[0m\u001b[0;36m: \u001b[0m\u001b[1;30m@property with getter, internal implementation\u001b[0m\n",
       "    \u001b[0;36mat\u001b[0m\u001b[0;36m: \u001b[0m\u001b[1;30m@property with getter, Fast label-based scalar accessor\u001b[0m\n",
       "    \u001b[0;36maxes\u001b[0m\u001b[0;36m: \u001b[0m\u001b[1;30m@property with getter, Return a list with the row axis labels and column axis labels as the\u001b[0m\n",
       "    \u001b[0;36mblocks\u001b[0m\u001b[0;36m: \u001b[0m\u001b[1;30m@property with getter, Internal property, property synonym for as_blocks()\u001b[0m\n",
       "    \u001b[0;36mcolumns\u001b[0m\u001b[0;36m: \u001b[0m\u001b[1;30mclass AxisProperty with getter, setter, deleter\u001b[0m\n",
       "    \u001b[0;36mdtypes\u001b[0m\u001b[0;36m: \u001b[0m\u001b[1;30m@property with getter, Return the dtypes in this object.\u001b[0m\n",
       "    \u001b[0;36mempty\u001b[0m\u001b[0;36m: \u001b[0m\u001b[1;30m@property with getter, True if NDFrame is entirely empty [no items], meaning any of the\u001b[0m\n",
       "    \u001b[0;36mfrom_csv\u001b[0m\u001b[0;36m: \u001b[0m\u001b[1;30mclass classmethod with getter, classmethod(function) -> method\u001b[0m\n",
       "    \u001b[0;36mfrom_dict\u001b[0m\u001b[0;36m: \u001b[0m\u001b[1;30mclass classmethod with getter, classmethod(function) -> method\u001b[0m\n",
       "    \u001b[0;36mfrom_items\u001b[0m\u001b[0;36m: \u001b[0m\u001b[1;30mclass classmethod with getter, classmethod(function) -> method\u001b[0m\n",
       "    \u001b[0;36mfrom_records\u001b[0m\u001b[0;36m: \u001b[0m\u001b[1;30mclass classmethod with getter, classmethod(function) -> method\u001b[0m\n",
       "    \u001b[0;36mftypes\u001b[0m\u001b[0;36m: \u001b[0m\u001b[1;30m@property with getter, Return the ftypes (indication of sparse/dense and dtype)\u001b[0m\n",
       "    \u001b[0;36miat\u001b[0m\u001b[0;36m: \u001b[0m\u001b[1;30m@property with getter, Fast integer location scalar accessor.\u001b[0m\n",
       "    \u001b[0;36miloc\u001b[0m\u001b[0;36m: \u001b[0m\u001b[1;30m@property with getter, Purely integer-location based indexing for selection by position.\u001b[0m\n",
       "    \u001b[0;36mindex\u001b[0m\u001b[0;36m: \u001b[0m\u001b[1;30mclass AxisProperty with getter, setter, deleter\u001b[0m\n",
       "    \u001b[0;36mix\u001b[0m\u001b[0;36m: \u001b[0m\u001b[1;30m@property with getter, A primarily label-location based indexer, with integer position\u001b[0m\n",
       "    \u001b[0;36mloc\u001b[0m\u001b[0;36m: \u001b[0m\u001b[1;30m@property with getter, Purely label-location based indexer for selection by label.\u001b[0m\n",
       "    \u001b[0;36mndim\u001b[0m\u001b[0;36m: \u001b[0m\u001b[1;30m@property with getter, Number of axes / array dimensions\u001b[0m\n",
       "    \u001b[0;36mplot\u001b[0m\u001b[0;36m: \u001b[0m\u001b[1;30mclass AccessorProperty with getter, setter, deleter, DataFrame plotting accessor and method\u001b[0m\n",
       "    \u001b[0;36mshape\u001b[0m\u001b[0;36m: \u001b[0m\u001b[1;30m@property with getter, Return a tuple representing the dimensionality of the DataFrame.\u001b[0m\n",
       "    \u001b[0;36msize\u001b[0m\u001b[0;36m: \u001b[0m\u001b[1;30m@property with getter, number of elements in the NDFrame\u001b[0m\n",
       "    \u001b[0;36mstyle\u001b[0m\u001b[0;36m: \u001b[0m\u001b[1;30m@property with getter, Property returning a Styler object containing methods for\u001b[0m\n",
       "    \u001b[0;36mvalues\u001b[0m\u001b[0;36m: \u001b[0m\u001b[1;30m@property with getter, Numpy representation of NDFrame\u001b[0m\n",
       "\u001b[0;33mclass:\u001b[0m\n",
       "    \u001b[0;36m_constructor_sliced\u001b[0m\u001b[0;36m: \u001b[0m\u001b[1;30mOne-dimensional ndarray with axis labels (including time series).\u001b[0m\n",
       "\u001b[0;33mfunction:\u001b[0m\n",
       "    \u001b[0;36m__array__\u001b[0m\u001b[0;36m: \u001b[0m\u001b[1;30m\u001b[0m\n",
       "    \u001b[0;36m__array_wrap__\u001b[0m\u001b[0;36m: \u001b[0m\u001b[1;30m\u001b[0m\n",
       "    \u001b[0;36m__div__\u001b[0m\u001b[0;36m: \u001b[0m\u001b[1;30mBinary operator __truediv__ with support to substitute a fill_value for missing data in\u001b[0m\n",
       "    \u001b[0;36m__finalize__\u001b[0m\u001b[0;36m: \u001b[0m\u001b[1;30mPropagate metadata from other to self.\u001b[0m\n",
       "    \u001b[0;36m__idiv__\u001b[0m\u001b[0;36m: \u001b[0m\u001b[1;30mBinary operator __truediv__ with support to substitute a fill_value for missing data in\u001b[0m\n",
       "    \u001b[0;36m__nonzero__\u001b[0m\u001b[0;36m: \u001b[0m\u001b[1;30m\u001b[0m\n",
       "    \u001b[0;36m__rdiv__\u001b[0m\u001b[0;36m: \u001b[0m\u001b[1;30mBinary operator __rtruediv__ with support to substitute a fill_value for missing data in\u001b[0m\n",
       "    \u001b[0;36m__unicode__\u001b[0m\u001b[0;36m: \u001b[0m\u001b[1;30mReturn a string representation for a particular DataFrame\u001b[0m\n",
       "    \u001b[0;36m_add_numeric_operations\u001b[0m\u001b[0;36m: \u001b[0m\u001b[1;30mAdd the operations to the cls; evaluate the doc strings again\u001b[0m\n",
       "    \u001b[0;36m_add_series_only_operations\u001b[0m\u001b[0;36m: \u001b[0m\u001b[1;30mAdd the series only operations to the cls; evaluate the doc\u001b[0m\n",
       "    \u001b[0;36m_add_series_or_dataframe_operations\u001b[0m\u001b[0;36m: \u001b[0m\u001b[1;30mAdd the series or dataframe only operations to the cls; evaluate\u001b[0m\n",
       "    \u001b[0;36m_agg_by_level\u001b[0m\u001b[0;36m: \u001b[0m\u001b[1;30m\u001b[0m\n",
       "    \u001b[0;36m_align_frame\u001b[0m\u001b[0;36m: \u001b[0m\u001b[1;30m\u001b[0m\n",
       "    \u001b[0;36m_align_series\u001b[0m\u001b[0;36m: \u001b[0m\u001b[1;30m\u001b[0m\n",
       "    \u001b[0;36m_apply_broadcast\u001b[0m\u001b[0;36m: \u001b[0m\u001b[1;30m\u001b[0m\n",
       "    \u001b[0;36m_apply_empty_result\u001b[0m\u001b[0;36m: \u001b[0m\u001b[1;30m\u001b[0m\n",
       "    \u001b[0;36m_apply_raw\u001b[0m\u001b[0;36m: \u001b[0m\u001b[1;30m\u001b[0m\n",
       "    \u001b[0;36m_apply_standard\u001b[0m\u001b[0;36m: \u001b[0m\u001b[1;30m\u001b[0m\n",
       "    \u001b[0;36m_box_col_values\u001b[0m\u001b[0;36m: \u001b[0m\u001b[1;30mprovide boxed values for a column \u001b[0m\n",
       "    \u001b[0;36m_box_item_values\u001b[0m\u001b[0;36m: \u001b[0m\u001b[1;30m\u001b[0m\n",
       "    \u001b[0;36m_check_inplace_setting\u001b[0m\u001b[0;36m: \u001b[0m\u001b[1;30mcheck whether we allow in-place setting with this type of value \u001b[0m\n",
       "    \u001b[0;36m_check_is_chained_assignment_possible\u001b[0m\u001b[0;36m: \u001b[0m\u001b[1;30mCheck if we are a view, have a cacher, and are of mixed type.\u001b[0m\n",
       "    \u001b[0;36m_check_percentile\u001b[0m\u001b[0;36m: \u001b[0m\u001b[1;30mValidate percentiles (used by describe and quantile).\u001b[0m\n",
       "    \u001b[0;36m_check_setitem_copy\u001b[0m\u001b[0;36m: \u001b[0m\u001b[1;30mParameters\u001b[0m\n",
       "    \u001b[0;36m_clear_item_cache\u001b[0m\u001b[0;36m: \u001b[0m\u001b[1;30m\u001b[0m\n",
       "    \u001b[0;36m_combine_const\u001b[0m\u001b[0;36m: \u001b[0m\u001b[1;30m\u001b[0m\n",
       "    \u001b[0;36m_combine_frame\u001b[0m\u001b[0;36m: \u001b[0m\u001b[1;30m\u001b[0m\n",
       "    \u001b[0;36m_combine_match_columns\u001b[0m\u001b[0;36m: \u001b[0m\u001b[1;30m\u001b[0m\n",
       "    \u001b[0;36m_combine_match_index\u001b[0m\u001b[0;36m: \u001b[0m\u001b[1;30m\u001b[0m\n",
       "    \u001b[0;36m_combine_series\u001b[0m\u001b[0;36m: \u001b[0m\u001b[1;30m\u001b[0m\n",
       "    \u001b[0;36m_combine_series_infer\u001b[0m\u001b[0;36m: \u001b[0m\u001b[1;30m\u001b[0m\n",
       "    \u001b[0;36m_compare_frame\u001b[0m\u001b[0;36m: \u001b[0m\u001b[1;30m\u001b[0m\n",
       "    \u001b[0;36m_compare_frame_evaluate\u001b[0m\u001b[0;36m: \u001b[0m\u001b[1;30m\u001b[0m\n",
       "    \u001b[0;36m_consolidate_inplace\u001b[0m\u001b[0;36m: \u001b[0m\u001b[1;30mConsolidate data in place and return None\u001b[0m\n",
       "    \u001b[0;36m_construct_axes_dict\u001b[0m\u001b[0;36m: \u001b[0m\u001b[1;30mReturn an axes dictionary for myself.\u001b[0m\n",
       "    \u001b[0;36m_construct_axes_dict_for_slice\u001b[0m\u001b[0;36m: \u001b[0m\u001b[1;30mReturn an axes dictionary for myself.\u001b[0m\n",
       "    \u001b[0;36m_construct_axes_dict_from\u001b[0m\u001b[0;36m: \u001b[0m\u001b[1;30mReturn an axes dictionary for the passed axes.\u001b[0m\n",
       "    \u001b[0;36m_construct_axes_from_arguments\u001b[0m\u001b[0;36m: \u001b[0m\u001b[1;30mConstruct and returns axes if supplied in args/kwargs.\u001b[0m\n",
       "    \u001b[0;36m_convert\u001b[0m\u001b[0;36m: \u001b[0m\u001b[1;30mAttempt to infer better dtype for object columns\u001b[0m\n",
       "    \u001b[0;36m_count_level\u001b[0m\u001b[0;36m: \u001b[0m\u001b[1;30m\u001b[0m\n",
       "    \u001b[0;36m_create_indexer\u001b[0m\u001b[0;36m: \u001b[0m\u001b[1;30mCreate an indexer like _name in the class.\u001b[0m\n",
       "    \u001b[0;36m_dir_additions\u001b[0m\u001b[0;36m: \u001b[0m\u001b[1;30madd the string-like attributes from the info_axis \u001b[0m\n",
       "    \u001b[0;36m_dir_deletions\u001b[0m\u001b[0;36m: \u001b[0m\u001b[1;30mdelete unwanted __dir__ for this object \u001b[0m\n",
       "    \u001b[0;36m_ensure_valid_index\u001b[0m\u001b[0;36m: \u001b[0m\u001b[1;30mensure that if we don't have an index, that we can create one from the\u001b[0m\n",
       "    \u001b[0;36m_expand_axes\u001b[0m\u001b[0;36m: \u001b[0m\u001b[1;30m\u001b[0m\n",
       "    \u001b[0;36m_flex_compare_frame\u001b[0m\u001b[0;36m: \u001b[0m\u001b[1;30m\u001b[0m\n",
       "    \u001b[0;36m_from_axes\u001b[0m\u001b[0;36m: \u001b[0m\u001b[1;30m\u001b[0m\n",
       "    \u001b[0;36m_get_agg_axis\u001b[0m\u001b[0;36m: \u001b[0m\u001b[1;30mlet's be explict about this \u001b[0m\n",
       "    \u001b[0;36m_get_axis\u001b[0m\u001b[0;36m: \u001b[0m\u001b[1;30m\u001b[0m\n",
       "    \u001b[0;36m_get_axis_name\u001b[0m\u001b[0;36m: \u001b[0m\u001b[1;30m\u001b[0m\n",
       "    \u001b[0;36m_get_axis_number\u001b[0m\u001b[0;36m: \u001b[0m\u001b[1;30m\u001b[0m\n",
       "    \u001b[0;36m_get_axis_resolvers\u001b[0m\u001b[0;36m: \u001b[0m\u001b[1;30m\u001b[0m\n",
       "    \u001b[0;36m_get_block_manager_axis\u001b[0m\u001b[0;36m: \u001b[0m\u001b[1;30mMap the axis to the block_manager axis.\u001b[0m\n",
       "    \u001b[0;36m_get_bool_data\u001b[0m\u001b[0;36m: \u001b[0m\u001b[1;30m\u001b[0m\n",
       "    \u001b[0;36m_get_cacher\u001b[0m\u001b[0;36m: \u001b[0m\u001b[1;30mreturn my cacher or None\u001b[0m\n",
       "    \u001b[0;36m_get_index_resolvers\u001b[0m\u001b[0;36m: \u001b[0m\u001b[1;30m\u001b[0m\n",
       "    \u001b[0;36m_get_item_cache\u001b[0m\u001b[0;36m: \u001b[0m\u001b[1;30mReturn the cached item, item represents a label indexer.\u001b[0m\n",
       "    \u001b[0;36m_get_numeric_data\u001b[0m\u001b[0;36m: \u001b[0m\u001b[1;30m\u001b[0m\n",
       "    \u001b[0;36m_getitem_array\u001b[0m\u001b[0;36m: \u001b[0m\u001b[1;30m\u001b[0m\n",
       "    \u001b[0;36m_getitem_column\u001b[0m\u001b[0;36m: \u001b[0m\u001b[1;30mreturn the actual column \u001b[0m\n",
       "    \u001b[0;36m_getitem_frame\u001b[0m\u001b[0;36m: \u001b[0m\u001b[1;30m\u001b[0m\n",
       "    \u001b[0;36m_getitem_multilevel\u001b[0m\u001b[0;36m: \u001b[0m\u001b[1;30m\u001b[0m\n",
       "    \u001b[0;36m_getitem_slice\u001b[0m\u001b[0;36m: \u001b[0m\u001b[1;30m\u001b[0m\n",
       "    \u001b[0;36m_iget_item_cache\u001b[0m\u001b[0;36m: \u001b[0m\u001b[1;30mReturn the cached item, item represents a positional indexer.\u001b[0m\n",
       "    \u001b[0;36m_indexed_same\u001b[0m\u001b[0;36m: \u001b[0m\u001b[1;30m\u001b[0m\n",
       "    \u001b[0;36m_info_repr\u001b[0m\u001b[0;36m: \u001b[0m\u001b[1;30mTrue if the repr should show the info view.\u001b[0m\n",
       "    \u001b[0;36m_init_dict\u001b[0m\u001b[0;36m: \u001b[0m\u001b[1;30mSegregate Series based on type and coerce into matrices.\u001b[0m\n",
       "    \u001b[0;36m_init_mgr\u001b[0m\u001b[0;36m: \u001b[0m\u001b[1;30mpassed a manager and a axes dict \u001b[0m\n",
       "    \u001b[0;36m_init_ndarray\u001b[0m\u001b[0;36m: \u001b[0m\u001b[1;30m\u001b[0m\n",
       "    \u001b[0;36m_ixs\u001b[0m\u001b[0;36m: \u001b[0m\u001b[1;30mi : int, slice, or sequence of integers\u001b[0m\n",
       "    \u001b[0;36m_join_compat\u001b[0m\u001b[0;36m: \u001b[0m\u001b[1;30m\u001b[0m\n",
       "    \u001b[0;36m_maybe_cache_changed\u001b[0m\u001b[0;36m: \u001b[0m\u001b[1;30mThe object has called back to us saying maybe it has changed.\u001b[0m\n",
       "    \u001b[0;36m_maybe_update_cacher\u001b[0m\u001b[0;36m: \u001b[0m\u001b[1;30mSee if we need to update our parent cacher if clear, then clear our\u001b[0m\n",
       "    \u001b[0;36m_needs_reindex_multi\u001b[0m\u001b[0;36m: \u001b[0m\u001b[1;30mCheck if we do need a multi reindex.\u001b[0m\n",
       "    \u001b[0;36m_nsorted\u001b[0m\u001b[0;36m: \u001b[0m\u001b[1;30m\u001b[0m\n",
       "    \u001b[0;36m_protect_consolidate\u001b[0m\u001b[0;36m: \u001b[0m\u001b[1;30mConsolidate _data -- if the blocks have changed, then clear the\u001b[0m\n",
       "    \u001b[0;36m_reduce\u001b[0m\u001b[0;36m: \u001b[0m\u001b[1;30m\u001b[0m\n",
       "    \u001b[0;36m_reindex_axes\u001b[0m\u001b[0;36m: \u001b[0m\u001b[1;30m\u001b[0m\n",
       "    \u001b[0;36m_reindex_axis\u001b[0m\u001b[0;36m: \u001b[0m\u001b[1;30m\u001b[0m\n",
       "    \u001b[0;36m_reindex_columns\u001b[0m\u001b[0;36m: \u001b[0m\u001b[1;30m\u001b[0m\n",
       "    \u001b[0;36m_reindex_index\u001b[0m\u001b[0;36m: \u001b[0m\u001b[1;30m\u001b[0m\n",
       "    \u001b[0;36m_reindex_multi\u001b[0m\u001b[0;36m: \u001b[0m\u001b[1;30mwe are guaranteed non-Nones in the axes! \u001b[0m\n",
       "    \u001b[0;36m_reindex_with_indexers\u001b[0m\u001b[0;36m: \u001b[0m\u001b[1;30mallow_dups indicates an internal call here \u001b[0m\n",
       "    \u001b[0;36m_repr_fits_horizontal_\u001b[0m\u001b[0;36m: \u001b[0m\u001b[1;30mCheck if full repr fits in horizontal boundaries imposed by the display\u001b[0m\n",
       "    \u001b[0;36m_repr_fits_vertical_\u001b[0m\u001b[0;36m: \u001b[0m\u001b[1;30mCheck length against max_rows.\u001b[0m\n",
       "    \u001b[0;36m_repr_html_\u001b[0m\u001b[0;36m: \u001b[0m\u001b[1;30mReturn a html representation for a particular DataFrame.\u001b[0m\n",
       "    \u001b[0;36m_repr_latex_\u001b[0m\u001b[0;36m: \u001b[0m\u001b[1;30mReturns a LaTeX representation for a particular Dataframe.\u001b[0m\n",
       "    \u001b[0;36m_reset_cache\u001b[0m\u001b[0;36m: \u001b[0m\u001b[1;30mReset cached properties. If ``key`` is passed, only clears that key.\u001b[0m\n",
       "    \u001b[0;36m_reset_cacher\u001b[0m\u001b[0;36m: \u001b[0m\u001b[1;30mReset the cacher.\u001b[0m\n",
       "    \u001b[0;36m_sanitize_column\u001b[0m\u001b[0;36m: \u001b[0m\u001b[1;30m\u001b[0m\n",
       "    \u001b[0;36m_set_as_cached\u001b[0m\u001b[0;36m: \u001b[0m\u001b[1;30mSet the _cacher attribute on the calling object with a weakref to\u001b[0m\n",
       "    \u001b[0;36m_set_axis\u001b[0m\u001b[0;36m: \u001b[0m\u001b[1;30m\u001b[0m\n",
       "    \u001b[0;36m_set_axis_name\u001b[0m\u001b[0;36m: \u001b[0m\u001b[1;30mAlter the name or names of the axis, returning self.\u001b[0m\n",
       "    \u001b[0;36m_set_is_copy\u001b[0m\u001b[0;36m: \u001b[0m\u001b[1;30m\u001b[0m\n",
       "    \u001b[0;36m_set_item\u001b[0m\u001b[0;36m: \u001b[0m\u001b[1;30mAdd series to DataFrame in specified column.\u001b[0m\n",
       "    \u001b[0;36m_setitem_array\u001b[0m\u001b[0;36m: \u001b[0m\u001b[1;30m\u001b[0m\n",
       "    \u001b[0;36m_setitem_frame\u001b[0m\u001b[0;36m: \u001b[0m\u001b[1;30m\u001b[0m\n",
       "    \u001b[0;36m_setitem_slice\u001b[0m\u001b[0;36m: \u001b[0m\u001b[1;30m\u001b[0m\n",
       "    \u001b[0;36m_setup_axes\u001b[0m\u001b[0;36m: \u001b[0m\u001b[1;30mProvide axes setup for the major PandasObjects.\u001b[0m\n",
       "    \u001b[0;36m_slice\u001b[0m\u001b[0;36m: \u001b[0m\u001b[1;30mConstruct a slice of this container.\u001b[0m\n",
       "    \u001b[0;36m_unpickle_frame_compat\u001b[0m\u001b[0;36m: \u001b[0m\u001b[1;30m\u001b[0m\n",
       "    \u001b[0;36m_unpickle_matrix_compat\u001b[0m\u001b[0;36m: \u001b[0m\u001b[1;30m\u001b[0m\n",
       "    \u001b[0;36m_update_inplace\u001b[0m\u001b[0;36m: \u001b[0m\u001b[1;30mReplace self internals with result.\u001b[0m\n",
       "    \u001b[0;36m_validate_dtype\u001b[0m\u001b[0;36m: \u001b[0m\u001b[1;30mvalidate the passed dtype \u001b[0m\n",
       "    \u001b[0;36m_xs\u001b[0m\u001b[0;36m: \u001b[0m\u001b[1;30mReturns a cross-section (row(s) or column(s)) from the\u001b[0m\n",
       "    \u001b[0;36mabs\u001b[0m\u001b[0;36m: \u001b[0m\u001b[1;30mReturn an object with absolute value taken--only applicable to objects\u001b[0m\n",
       "    \u001b[0;36madd\u001b[0m\u001b[0;36m: \u001b[0m\u001b[1;30mAddition of dataframe and other, element-wise (binary operator `add`).\u001b[0m\n",
       "    \u001b[0;36madd_prefix\u001b[0m\u001b[0;36m: \u001b[0m\u001b[1;30mConcatenate prefix string with panel items names.\u001b[0m\n",
       "    \u001b[0;36madd_suffix\u001b[0m\u001b[0;36m: \u001b[0m\u001b[1;30mConcatenate suffix string with panel items names.\u001b[0m\n",
       "    \u001b[0;36malign\u001b[0m\u001b[0;36m: \u001b[0m\u001b[1;30mAlign two object on their axes with the\u001b[0m\n",
       "    \u001b[0;36mall\u001b[0m\u001b[0;36m: \u001b[0m\u001b[1;30mReturn whether all elements are True over requested axis\u001b[0m\n",
       "    \u001b[0;36many\u001b[0m\u001b[0;36m: \u001b[0m\u001b[1;30mReturn whether any element is True over requested axis\u001b[0m\n",
       "    \u001b[0;36mappend\u001b[0m\u001b[0;36m: \u001b[0m\u001b[1;30mAppend rows of `other` to the end of this frame, returning a new\u001b[0m\n",
       "    \u001b[0;36mapply\u001b[0m\u001b[0;36m: \u001b[0m\u001b[1;30mApplies function along input axis of DataFrame.\u001b[0m\n",
       "    \u001b[0;36mapplymap\u001b[0m\u001b[0;36m: \u001b[0m\u001b[1;30mApply a function to a DataFrame that is intended to operate\u001b[0m\n",
       "    \u001b[0;36mas_blocks\u001b[0m\u001b[0;36m: \u001b[0m\u001b[1;30mConvert the frame to a dict of dtype -> Constructor Types that each has\u001b[0m\n",
       "    \u001b[0;36mas_matrix\u001b[0m\u001b[0;36m: \u001b[0m\u001b[1;30mConvert the frame to its Numpy-array representation.\u001b[0m\n",
       "    \u001b[0;36masfreq\u001b[0m\u001b[0;36m: \u001b[0m\u001b[1;30mConvert all TimeSeries inside to specified frequency using DateOffset\u001b[0m\n",
       "    \u001b[0;36massign\u001b[0m\u001b[0;36m: \u001b[0m\u001b[1;30mAssign new columns to a DataFrame, returning a new object\u001b[0m\n",
       "    \u001b[0;36mastype\u001b[0m\u001b[0;36m: \u001b[0m\u001b[1;30mCast object to input numpy.dtype\u001b[0m\n",
       "    \u001b[0;36mat_time\u001b[0m\u001b[0;36m: \u001b[0m\u001b[1;30mSelect values at particular time of day (e.g. 9:30AM).\u001b[0m\n",
       "    \u001b[0;36mbetween_time\u001b[0m\u001b[0;36m: \u001b[0m\u001b[1;30mSelect values between particular times of the day (e.g., 9:00-9:30 AM).\u001b[0m\n",
       "    \u001b[0;36mbfill\u001b[0m\u001b[0;36m: \u001b[0m\u001b[1;30mSynonym for NDFrame.fillna(method='bfill')\u001b[0m\n",
       "    \u001b[0;36mbool\u001b[0m\u001b[0;36m: \u001b[0m\u001b[1;30mReturn the bool of a single element PandasObject.\u001b[0m\n",
       "    \u001b[0;36mboxplot\u001b[0m\u001b[0;36m: \u001b[0m\u001b[1;30mMake a box plot from DataFrame column optionally grouped by some columns or\u001b[0m\n",
       "    \u001b[0;36mclip\u001b[0m\u001b[0;36m: \u001b[0m\u001b[1;30mTrim values at input threshold(s).\u001b[0m\n",
       "    \u001b[0;36mclip_lower\u001b[0m\u001b[0;36m: \u001b[0m\u001b[1;30mReturn copy of the input with values below given value(s) truncated.\u001b[0m\n",
       "    \u001b[0;36mclip_upper\u001b[0m\u001b[0;36m: \u001b[0m\u001b[1;30mReturn copy of input with values above given value(s) truncated.\u001b[0m\n",
       "    \u001b[0;36mcombine\u001b[0m\u001b[0;36m: \u001b[0m\u001b[1;30mAdd two DataFrame objects and do not propagate NaN values, so if for a\u001b[0m\n",
       "    \u001b[0;36mcombineAdd\u001b[0m\u001b[0;36m: \u001b[0m\u001b[1;30mDEPRECATED. Use ``DataFrame.add(other, fill_value=0.)`` instead.\u001b[0m\n",
       "    \u001b[0;36mcombineMult\u001b[0m\u001b[0;36m: \u001b[0m\u001b[1;30mDEPRECATED. Use ``DataFrame.mul(other, fill_value=1.)`` instead.\u001b[0m\n",
       "    \u001b[0;36mcombine_first\u001b[0m\u001b[0;36m: \u001b[0m\u001b[1;30mCombine two DataFrame objects and default to non-null values in frame\u001b[0m\n",
       "    \u001b[0;36mcompound\u001b[0m\u001b[0;36m: \u001b[0m\u001b[1;30mReturn the compound percentage of the values for the requested axis\u001b[0m\n",
       "    \u001b[0;36mconsolidate\u001b[0m\u001b[0;36m: \u001b[0m\u001b[1;30mCompute NDFrame with \"consolidated\" internals (data of each dtype\u001b[0m\n",
       "    \u001b[0;36mconvert_objects\u001b[0m\u001b[0;36m: \u001b[0m\u001b[1;30mDeprecated.\u001b[0m\n",
       "    \u001b[0;36mcopy\u001b[0m\u001b[0;36m: \u001b[0m\u001b[1;30mMake a copy of this object\u001b[0m\n",
       "    \u001b[0;36mcorr\u001b[0m\u001b[0;36m: \u001b[0m\u001b[1;30mCompute pairwise correlation of columns, excluding NA/null values\u001b[0m\n",
       "    \u001b[0;36mcorrwith\u001b[0m\u001b[0;36m: \u001b[0m\u001b[1;30mCompute pairwise correlation between rows or columns of two DataFrame\u001b[0m\n",
       "    \u001b[0;36mcount\u001b[0m\u001b[0;36m: \u001b[0m\u001b[1;30mReturn Series with number of non-NA/null observations over requested\u001b[0m\n",
       "    \u001b[0;36mcov\u001b[0m\u001b[0;36m: \u001b[0m\u001b[1;30mCompute pairwise covariance of columns, excluding NA/null values\u001b[0m\n",
       "    \u001b[0;36mcummax\u001b[0m\u001b[0;36m: \u001b[0m\u001b[1;30mReturn cumulative max over requested axis.\u001b[0m\n",
       "    \u001b[0;36mcummin\u001b[0m\u001b[0;36m: \u001b[0m\u001b[1;30mReturn cumulative min over requested axis.\u001b[0m\n",
       "    \u001b[0;36mcumprod\u001b[0m\u001b[0;36m: \u001b[0m\u001b[1;30mReturn cumulative prod over requested axis.\u001b[0m\n",
       "    \u001b[0;36mcumsum\u001b[0m\u001b[0;36m: \u001b[0m\u001b[1;30mReturn cumulative sum over requested axis.\u001b[0m\n",
       "    \u001b[0;36mdescribe\u001b[0m\u001b[0;36m: \u001b[0m\u001b[1;30mGenerate various summary statistics, excluding NaN values.\u001b[0m\n",
       "    \u001b[0;36mdiff\u001b[0m\u001b[0;36m: \u001b[0m\u001b[1;30m1st discrete difference of object\u001b[0m\n",
       "    \u001b[0;36mdiv\u001b[0m\u001b[0;36m: \u001b[0m\u001b[1;30mFloating division of dataframe and other, element-wise (binary operator `truediv`).\u001b[0m\n",
       "    \u001b[0;36mdivide\u001b[0m\u001b[0;36m: \u001b[0m\u001b[1;30mFloating division of dataframe and other, element-wise (binary operator `truediv`).\u001b[0m\n",
       "    \u001b[0;36mdot\u001b[0m\u001b[0;36m: \u001b[0m\u001b[1;30mMatrix multiplication with DataFrame or Series objects\u001b[0m\n",
       "    \u001b[0;36mdrop\u001b[0m\u001b[0;36m: \u001b[0m\u001b[1;30mReturn new object with labels in requested axis removed.\u001b[0m\n",
       "    \u001b[0;36mdrop_duplicates\u001b[0m\u001b[0;36m: \u001b[0m\u001b[1;30mReturn DataFrame with duplicate rows removed, optionally only\u001b[0m\n",
       "    \u001b[0;36mdropna\u001b[0m\u001b[0;36m: \u001b[0m\u001b[1;30mReturn object with labels on given axis omitted where alternately any\u001b[0m\n",
       "    \u001b[0;36mduplicated\u001b[0m\u001b[0;36m: \u001b[0m\u001b[1;30mReturn boolean Series denoting duplicate rows, optionally only\u001b[0m\n",
       "    \u001b[0;36meq\u001b[0m\u001b[0;36m: \u001b[0m\u001b[1;30mWrapper for flexible comparison methods eq\u001b[0m\n",
       "    \u001b[0;36mequals\u001b[0m\u001b[0;36m: \u001b[0m\u001b[1;30mDetermines if two NDFrame objects contain the same elements. NaNs in\u001b[0m\n",
       "    \u001b[0;36meval\u001b[0m\u001b[0;36m: \u001b[0m\u001b[1;30mEvaluate an expression in the context of the calling DataFrame\u001b[0m\n",
       "    \u001b[0;36mewm\u001b[0m\u001b[0;36m: \u001b[0m\u001b[1;30mProvides exponential weighted functions\u001b[0m\n",
       "    \u001b[0;36mexpanding\u001b[0m\u001b[0;36m: \u001b[0m\u001b[1;30mProvides expanding transformations.\u001b[0m\n",
       "    \u001b[0;36mffill\u001b[0m\u001b[0;36m: \u001b[0m\u001b[1;30mSynonym for NDFrame.fillna(method='ffill')\u001b[0m\n",
       "    \u001b[0;36mfillna\u001b[0m\u001b[0;36m: \u001b[0m\u001b[1;30mFill NA/NaN values using the specified method\u001b[0m\n",
       "    \u001b[0;36mfilter\u001b[0m\u001b[0;36m: \u001b[0m\u001b[1;30mRestrict the info axis to set of items or wildcard\u001b[0m\n",
       "    \u001b[0;36mfirst\u001b[0m\u001b[0;36m: \u001b[0m\u001b[1;30mConvenience method for subsetting initial periods of time series data\u001b[0m\n",
       "    \u001b[0;36mfirst_valid_index\u001b[0m\u001b[0;36m: \u001b[0m\u001b[1;30mReturn label for first non-NA/null value\u001b[0m\n",
       "    \u001b[0;36mfloordiv\u001b[0m\u001b[0;36m: \u001b[0m\u001b[1;30mInteger division of dataframe and other, element-wise (binary operator `floordiv`).\u001b[0m\n",
       "    \u001b[0;36mge\u001b[0m\u001b[0;36m: \u001b[0m\u001b[1;30mWrapper for flexible comparison methods ge\u001b[0m\n",
       "    \u001b[0;36mget\u001b[0m\u001b[0;36m: \u001b[0m\u001b[1;30mGet item from object for given key (DataFrame column, Panel slice,\u001b[0m\n",
       "    \u001b[0;36mget_dtype_counts\u001b[0m\u001b[0;36m: \u001b[0m\u001b[1;30mReturn the counts of dtypes in this object.\u001b[0m\n",
       "    \u001b[0;36mget_ftype_counts\u001b[0m\u001b[0;36m: \u001b[0m\u001b[1;30mReturn the counts of ftypes in this object.\u001b[0m\n",
       "    \u001b[0;36mget_value\u001b[0m\u001b[0;36m: \u001b[0m\u001b[1;30mQuickly retrieve single value at passed column and index\u001b[0m\n",
       "    \u001b[0;36mget_values\u001b[0m\u001b[0;36m: \u001b[0m\u001b[1;30msame as values (but handles sparseness conversions)\u001b[0m\n",
       "    \u001b[0;36mgroupby\u001b[0m\u001b[0;36m: \u001b[0m\u001b[1;30mGroup series using mapper (dict or key function, apply given function\u001b[0m\n",
       "    \u001b[0;36mgt\u001b[0m\u001b[0;36m: \u001b[0m\u001b[1;30mWrapper for flexible comparison methods gt\u001b[0m\n",
       "    \u001b[0;36mhead\u001b[0m\u001b[0;36m: \u001b[0m\u001b[1;30mReturns first n rows\u001b[0m\n",
       "    \u001b[0;36mhist\u001b[0m\u001b[0;36m: \u001b[0m\u001b[1;30mDraw histogram of the DataFrame's series using matplotlib / pylab.\u001b[0m\n",
       "    \u001b[0;36micol\u001b[0m\u001b[0;36m: \u001b[0m\u001b[1;30mDEPRECATED. Use ``.iloc[:, i]`` instead\u001b[0m\n",
       "    \u001b[0;36midxmax\u001b[0m\u001b[0;36m: \u001b[0m\u001b[1;30mReturn index of first occurrence of maximum over requested axis.\u001b[0m\n",
       "    \u001b[0;36midxmin\u001b[0m\u001b[0;36m: \u001b[0m\u001b[1;30mReturn index of first occurrence of minimum over requested axis.\u001b[0m\n",
       "    \u001b[0;36miget_value\u001b[0m\u001b[0;36m: \u001b[0m\u001b[1;30mDEPRECATED. Use ``.iat[i, j]`` instead\u001b[0m\n",
       "    \u001b[0;36minfo\u001b[0m\u001b[0;36m: \u001b[0m\u001b[1;30mConcise summary of a DataFrame.\u001b[0m\n",
       "    \u001b[0;36minsert\u001b[0m\u001b[0;36m: \u001b[0m\u001b[1;30mInsert column into DataFrame at specified location.\u001b[0m\n",
       "    \u001b[0;36minterpolate\u001b[0m\u001b[0;36m: \u001b[0m\u001b[1;30mInterpolate values according to different methods.\u001b[0m\n",
       "    \u001b[0;36mirow\u001b[0m\u001b[0;36m: \u001b[0m\u001b[1;30mDEPRECATED. Use ``.iloc[i]`` instead\u001b[0m\n",
       "    \u001b[0;36misin\u001b[0m\u001b[0;36m: \u001b[0m\u001b[1;30mReturn boolean DataFrame showing whether each element in the\u001b[0m\n",
       "    \u001b[0;36misnull\u001b[0m\u001b[0;36m: \u001b[0m\u001b[1;30mReturn a boolean same-sized object indicating if the values are null.\u001b[0m\n",
       "    \u001b[0;36miteritems\u001b[0m\u001b[0;36m: \u001b[0m\u001b[1;30mIterator over (column name, Series) pairs.\u001b[0m\n",
       "    \u001b[0;36miterkv\u001b[0m\u001b[0;36m: \u001b[0m\u001b[1;30miteritems alias used to get around 2to3. Deprecated\u001b[0m\n",
       "    \u001b[0;36miterrows\u001b[0m\u001b[0;36m: \u001b[0m\u001b[1;30mIterate over DataFrame rows as (index, Series) pairs.\u001b[0m\n",
       "    \u001b[0;36mitertuples\u001b[0m\u001b[0;36m: \u001b[0m\u001b[1;30mIterate over DataFrame rows as namedtuples, with index value as first\u001b[0m\n",
       "    \u001b[0;36mjoin\u001b[0m\u001b[0;36m: \u001b[0m\u001b[1;30mJoin columns with other DataFrame either on index or on a key\u001b[0m\n",
       "    \u001b[0;36mkeys\u001b[0m\u001b[0;36m: \u001b[0m\u001b[1;30mGet the 'info axis' (see Indexing for more)\u001b[0m\n",
       "    \u001b[0;36mkurt\u001b[0m\u001b[0;36m: \u001b[0m\u001b[1;30mReturn unbiased kurtosis over requested axis using Fisher's definition of\u001b[0m\n",
       "    \u001b[0;36mkurtosis\u001b[0m\u001b[0;36m: \u001b[0m\u001b[1;30mReturn unbiased kurtosis over requested axis using Fisher's definition of\u001b[0m\n",
       "    \u001b[0;36mlast\u001b[0m\u001b[0;36m: \u001b[0m\u001b[1;30mConvenience method for subsetting final periods of time series data\u001b[0m\n",
       "    \u001b[0;36mlast_valid_index\u001b[0m\u001b[0;36m: \u001b[0m\u001b[1;30mReturn label for last non-NA/null value\u001b[0m\n",
       "    \u001b[0;36mle\u001b[0m\u001b[0;36m: \u001b[0m\u001b[1;30mWrapper for flexible comparison methods le\u001b[0m\n",
       "    \u001b[0;36mlookup\u001b[0m\u001b[0;36m: \u001b[0m\u001b[1;30mLabel-based \"fancy indexing\" function for DataFrame.\u001b[0m\n",
       "    \u001b[0;36mlt\u001b[0m\u001b[0;36m: \u001b[0m\u001b[1;30mWrapper for flexible comparison methods lt\u001b[0m\n",
       "    \u001b[0;36mmad\u001b[0m\u001b[0;36m: \u001b[0m\u001b[1;30mReturn the mean absolute deviation of the values for the requested axis\u001b[0m\n",
       "    \u001b[0;36mmask\u001b[0m\u001b[0;36m: \u001b[0m\u001b[1;30mReturn an object of same shape as self and whose corresponding\u001b[0m\n",
       "    \u001b[0;36mmax\u001b[0m\u001b[0;36m: \u001b[0m\u001b[1;30mThis method returns the maximum of the values in the object.\u001b[0m\n",
       "    \u001b[0;36mmean\u001b[0m\u001b[0;36m: \u001b[0m\u001b[1;30mReturn the mean of the values for the requested axis\u001b[0m\n",
       "    \u001b[0;36mmedian\u001b[0m\u001b[0;36m: \u001b[0m\u001b[1;30mReturn the median of the values for the requested axis\u001b[0m\n",
       "    \u001b[0;36mmemory_usage\u001b[0m\u001b[0;36m: \u001b[0m\u001b[1;30mMemory usage of DataFrame columns.\u001b[0m\n",
       "    \u001b[0;36mmerge\u001b[0m\u001b[0;36m: \u001b[0m\u001b[1;30mMerge DataFrame objects by performing a database-style join operation by\u001b[0m\n",
       "    \u001b[0;36mmin\u001b[0m\u001b[0;36m: \u001b[0m\u001b[1;30mThis method returns the minimum of the values in the object.\u001b[0m\n",
       "    \u001b[0;36mmod\u001b[0m\u001b[0;36m: \u001b[0m\u001b[1;30mModulo of dataframe and other, element-wise (binary operator `mod`).\u001b[0m\n",
       "    \u001b[0;36mmode\u001b[0m\u001b[0;36m: \u001b[0m\u001b[1;30mGets the mode(s) of each element along the axis selected. Empty if\u001b[0m\n",
       "    \u001b[0;36mmul\u001b[0m\u001b[0;36m: \u001b[0m\u001b[1;30mMultiplication of dataframe and other, element-wise (binary operator `mul`).\u001b[0m\n",
       "    \u001b[0;36mmultiply\u001b[0m\u001b[0;36m: \u001b[0m\u001b[1;30mMultiplication of dataframe and other, element-wise (binary operator `mul`).\u001b[0m\n",
       "    \u001b[0;36mne\u001b[0m\u001b[0;36m: \u001b[0m\u001b[1;30mWrapper for flexible comparison methods ne\u001b[0m\n",
       "    \u001b[0;36mnlargest\u001b[0m\u001b[0;36m: \u001b[0m\u001b[1;30mGet the rows of a DataFrame sorted by the `n` largest\u001b[0m\n",
       "    \u001b[0;36mnotnull\u001b[0m\u001b[0;36m: \u001b[0m\u001b[1;30mReturn a boolean same-sized object indicating if the values are\u001b[0m\n",
       "    \u001b[0;36mnsmallest\u001b[0m\u001b[0;36m: \u001b[0m\u001b[1;30mGet the rows of a DataFrame sorted by the `n` smallest\u001b[0m\n",
       "    \u001b[0;36mpct_change\u001b[0m\u001b[0;36m: \u001b[0m\u001b[1;30mPercent change over given number of periods.\u001b[0m\n",
       "    \u001b[0;36mpipe\u001b[0m\u001b[0;36m: \u001b[0m\u001b[1;30mApply func(self, \\*args, \\*\\*kwargs)\u001b[0m\n",
       "    \u001b[0;36mpivot\u001b[0m\u001b[0;36m: \u001b[0m\u001b[1;30mReshape data (produce a \"pivot\" table) based on column values. Uses\u001b[0m\n",
       "    \u001b[0;36mpivot_table\u001b[0m\u001b[0;36m: \u001b[0m\u001b[1;30mCreate a spreadsheet-style pivot table as a DataFrame. The levels in the\u001b[0m\n",
       "    \u001b[0;36mpop\u001b[0m\u001b[0;36m: \u001b[0m\u001b[1;30mReturn item and drop from frame. Raise KeyError if not found.\u001b[0m\n",
       "    \u001b[0;36mpow\u001b[0m\u001b[0;36m: \u001b[0m\u001b[1;30mExponential power of dataframe and other, element-wise (binary operator `pow`).\u001b[0m\n",
       "    \u001b[0;36mprod\u001b[0m\u001b[0;36m: \u001b[0m\u001b[1;30mReturn the product of the values for the requested axis\u001b[0m\n",
       "    \u001b[0;36mproduct\u001b[0m\u001b[0;36m: \u001b[0m\u001b[1;30mReturn the product of the values for the requested axis\u001b[0m\n",
       "    \u001b[0;36mquantile\u001b[0m\u001b[0;36m: \u001b[0m\u001b[1;30mReturn values at the given quantile over requested axis, a la\u001b[0m\n",
       "    \u001b[0;36mquery\u001b[0m\u001b[0;36m: \u001b[0m\u001b[1;30mQuery the columns of a frame with a boolean expression.\u001b[0m\n",
       "    \u001b[0;36mradd\u001b[0m\u001b[0;36m: \u001b[0m\u001b[1;30mAddition of dataframe and other, element-wise (binary operator `radd`).\u001b[0m\n",
       "    \u001b[0;36mrank\u001b[0m\u001b[0;36m: \u001b[0m\u001b[1;30mCompute numerical data ranks (1 through n) along axis. Equal values are\u001b[0m\n",
       "    \u001b[0;36mrdiv\u001b[0m\u001b[0;36m: \u001b[0m\u001b[1;30mFloating division of dataframe and other, element-wise (binary operator `rtruediv`).\u001b[0m\n",
       "    \u001b[0;36mreindex\u001b[0m\u001b[0;36m: \u001b[0m\u001b[1;30mConform DataFrame to new index with optional filling logic, placing\u001b[0m\n",
       "    \u001b[0;36mreindex_axis\u001b[0m\u001b[0;36m: \u001b[0m\u001b[1;30mConform input object to new index with optional\u001b[0m\n",
       "    \u001b[0;36mreindex_like\u001b[0m\u001b[0;36m: \u001b[0m\u001b[1;30mReturn an object with matching indices to myself.\u001b[0m\n",
       "    \u001b[0;36mrename\u001b[0m\u001b[0;36m: \u001b[0m\u001b[1;30mAlter axes input function or functions. Function / dict values must be\u001b[0m\n",
       "    \u001b[0;36mrename_axis\u001b[0m\u001b[0;36m: \u001b[0m\u001b[1;30mAlter index and / or columns using input function or functions.\u001b[0m\n",
       "    \u001b[0;36mreorder_levels\u001b[0m\u001b[0;36m: \u001b[0m\u001b[1;30mRearrange index levels using input order.\u001b[0m\n",
       "    \u001b[0;36mreplace\u001b[0m\u001b[0;36m: \u001b[0m\u001b[1;30mReplace values given in 'to_replace' with 'value'.\u001b[0m\n",
       "    \u001b[0;36mresample\u001b[0m\u001b[0;36m: \u001b[0m\u001b[1;30mConvenience method for frequency conversion and resampling of regular\u001b[0m\n",
       "    \u001b[0;36mreset_index\u001b[0m\u001b[0;36m: \u001b[0m\u001b[1;30mFor DataFrame with multi-level index, return new DataFrame with\u001b[0m\n",
       "    \u001b[0;36mrfloordiv\u001b[0m\u001b[0;36m: \u001b[0m\u001b[1;30mInteger division of dataframe and other, element-wise (binary operator `rfloordiv`).\u001b[0m\n",
       "    \u001b[0;36mrmod\u001b[0m\u001b[0;36m: \u001b[0m\u001b[1;30mModulo of dataframe and other, element-wise (binary operator `rmod`).\u001b[0m\n",
       "    \u001b[0;36mrmul\u001b[0m\u001b[0;36m: \u001b[0m\u001b[1;30mMultiplication of dataframe and other, element-wise (binary operator `rmul`).\u001b[0m\n",
       "    \u001b[0;36mrolling\u001b[0m\u001b[0;36m: \u001b[0m\u001b[1;30mProvides rolling transformations.\u001b[0m\n",
       "    \u001b[0;36mround\u001b[0m\u001b[0;36m: \u001b[0m\u001b[1;30mRound a DataFrame to a variable number of decimal places.\u001b[0m\n",
       "    \u001b[0;36mrpow\u001b[0m\u001b[0;36m: \u001b[0m\u001b[1;30mExponential power of dataframe and other, element-wise (binary operator `rpow`).\u001b[0m\n",
       "    \u001b[0;36mrsub\u001b[0m\u001b[0;36m: \u001b[0m\u001b[1;30mSubtraction of dataframe and other, element-wise (binary operator `rsub`).\u001b[0m\n",
       "    \u001b[0;36mrtruediv\u001b[0m\u001b[0;36m: \u001b[0m\u001b[1;30mFloating division of dataframe and other, element-wise (binary operator `rtruediv`).\u001b[0m\n",
       "    \u001b[0;36msample\u001b[0m\u001b[0;36m: \u001b[0m\u001b[1;30mReturns a random sample of items from an axis of object.\u001b[0m\n",
       "    \u001b[0;36mselect\u001b[0m\u001b[0;36m: \u001b[0m\u001b[1;30mReturn data corresponding to axis labels matching criteria\u001b[0m\n",
       "    \u001b[0;36mselect_dtypes\u001b[0m\u001b[0;36m: \u001b[0m\u001b[1;30mReturn a subset of a DataFrame including/excluding columns based on\u001b[0m\n",
       "    \u001b[0;36msem\u001b[0m\u001b[0;36m: \u001b[0m\u001b[1;30mReturn unbiased standard error of the mean over requested axis.\u001b[0m\n",
       "    \u001b[0;36mset_axis\u001b[0m\u001b[0;36m: \u001b[0m\u001b[1;30mpublic verson of axis assignment \u001b[0m\n",
       "    \u001b[0;36mset_index\u001b[0m\u001b[0;36m: \u001b[0m\u001b[1;30mSet the DataFrame index (row labels) using one or more existing\u001b[0m\n",
       "    \u001b[0;36mset_value\u001b[0m\u001b[0;36m: \u001b[0m\u001b[1;30mPut single value at passed column and index\u001b[0m\n",
       "    \u001b[0;36mshift\u001b[0m\u001b[0;36m: \u001b[0m\u001b[1;30mShift index by desired number of periods with an optional time freq\u001b[0m\n",
       "    \u001b[0;36mskew\u001b[0m\u001b[0;36m: \u001b[0m\u001b[1;30mReturn unbiased skew over requested axis\u001b[0m\n",
       "    \u001b[0;36mslice_shift\u001b[0m\u001b[0;36m: \u001b[0m\u001b[1;30mEquivalent to `shift` without copying data. The shifted data will\u001b[0m\n",
       "    \u001b[0;36msort\u001b[0m\u001b[0;36m: \u001b[0m\u001b[1;30mDEPRECATED: use :meth:`DataFrame.sort_values`\u001b[0m\n",
       "    \u001b[0;36msort_index\u001b[0m\u001b[0;36m: \u001b[0m\u001b[1;30mSort object by labels (along an axis)\u001b[0m\n",
       "    \u001b[0;36msort_values\u001b[0m\u001b[0;36m: \u001b[0m\u001b[1;30mSort by the values along either axis\u001b[0m\n",
       "    \u001b[0;36msortlevel\u001b[0m\u001b[0;36m: \u001b[0m\u001b[1;30mSort multilevel index by chosen axis and primary level. Data will be\u001b[0m\n",
       "    \u001b[0;36msqueeze\u001b[0m\u001b[0;36m: \u001b[0m\u001b[1;30mSqueeze length 1 dimensions.\u001b[0m\n",
       "    \u001b[0;36mstack\u001b[0m\u001b[0;36m: \u001b[0m\u001b[1;30mPivot a level of the (possibly hierarchical) column labels, returning a\u001b[0m\n",
       "    \u001b[0;36mstd\u001b[0m\u001b[0;36m: \u001b[0m\u001b[1;30mReturn sample standard deviation over requested axis.\u001b[0m\n",
       "    \u001b[0;36msub\u001b[0m\u001b[0;36m: \u001b[0m\u001b[1;30mSubtraction of dataframe and other, element-wise (binary operator `sub`).\u001b[0m\n",
       "    \u001b[0;36msubtract\u001b[0m\u001b[0;36m: \u001b[0m\u001b[1;30mSubtraction of dataframe and other, element-wise (binary operator `sub`).\u001b[0m\n",
       "    \u001b[0;36msum\u001b[0m\u001b[0;36m: \u001b[0m\u001b[1;30mReturn the sum of the values for the requested axis\u001b[0m\n",
       "    \u001b[0;36mswapaxes\u001b[0m\u001b[0;36m: \u001b[0m\u001b[1;30mInterchange axes and swap values axes appropriately\u001b[0m\n",
       "    \u001b[0;36mswaplevel\u001b[0m\u001b[0;36m: \u001b[0m\u001b[1;30mSwap levels i and j in a MultiIndex on a particular axis\u001b[0m\n",
       "    \u001b[0;36mtail\u001b[0m\u001b[0;36m: \u001b[0m\u001b[1;30mReturns last n rows\u001b[0m\n",
       "    \u001b[0;36mtake\u001b[0m\u001b[0;36m: \u001b[0m\u001b[1;30mAnalogous to ndarray.take\u001b[0m\n",
       "    \u001b[0;36mto_clipboard\u001b[0m\u001b[0;36m: \u001b[0m\u001b[1;30mAttempt to write text representation of object to the system clipboard\u001b[0m\n",
       "    \u001b[0;36mto_csv\u001b[0m\u001b[0;36m: \u001b[0m\u001b[1;30mWrite DataFrame to a comma-separated values (csv) file\u001b[0m\n",
       "    \u001b[0;36mto_dense\u001b[0m\u001b[0;36m: \u001b[0m\u001b[1;30mReturn dense representation of NDFrame (as opposed to sparse)\u001b[0m\n",
       "    \u001b[0;36mto_dict\u001b[0m\u001b[0;36m: \u001b[0m\u001b[1;30mConvert DataFrame to dictionary.\u001b[0m\n",
       "    \u001b[0;36mto_excel\u001b[0m\u001b[0;36m: \u001b[0m\u001b[1;30mWrite DataFrame to a excel sheet\u001b[0m\n",
       "    \u001b[0;36mto_gbq\u001b[0m\u001b[0;36m: \u001b[0m\u001b[1;30mWrite a DataFrame to a Google BigQuery table.\u001b[0m\n",
       "    \u001b[0;36mto_hdf\u001b[0m\u001b[0;36m: \u001b[0m\u001b[1;30mActivate the HDFStore.\u001b[0m\n",
       "    \u001b[0;36mto_html\u001b[0m\u001b[0;36m: \u001b[0m\u001b[1;30mRender a DataFrame as an HTML table.\u001b[0m\n",
       "    \u001b[0;36mto_json\u001b[0m\u001b[0;36m: \u001b[0m\u001b[1;30mConvert the object to a JSON string.\u001b[0m\n",
       "    \u001b[0;36mto_latex\u001b[0m\u001b[0;36m: \u001b[0m\u001b[1;30mRender a DataFrame to a tabular environment table. You can splice\u001b[0m\n",
       "    \u001b[0;36mto_msgpack\u001b[0m\u001b[0;36m: \u001b[0m\u001b[1;30mmsgpack (serialize) object to input file path\u001b[0m\n",
       "    \u001b[0;36mto_panel\u001b[0m\u001b[0;36m: \u001b[0m\u001b[1;30mTransform long (stacked) format (DataFrame) into wide (3D, Panel)\u001b[0m\n",
       "    \u001b[0;36mto_period\u001b[0m\u001b[0;36m: \u001b[0m\u001b[1;30mConvert DataFrame from DatetimeIndex to PeriodIndex with desired\u001b[0m\n",
       "    \u001b[0;36mto_pickle\u001b[0m\u001b[0;36m: \u001b[0m\u001b[1;30mPickle (serialize) object to input file path.\u001b[0m\n",
       "    \u001b[0;36mto_records\u001b[0m\u001b[0;36m: \u001b[0m\u001b[1;30mConvert DataFrame to record array. Index will be put in the\u001b[0m\n",
       "    \u001b[0;36mto_sparse\u001b[0m\u001b[0;36m: \u001b[0m\u001b[1;30mConvert to SparseDataFrame\u001b[0m\n",
       "    \u001b[0;36mto_sql\u001b[0m\u001b[0;36m: \u001b[0m\u001b[1;30mWrite records stored in a DataFrame to a SQL database.\u001b[0m\n",
       "    \u001b[0;36mto_stata\u001b[0m\u001b[0;36m: \u001b[0m\u001b[1;30mA class for writing Stata binary dta files from array-like objects\u001b[0m\n",
       "    \u001b[0;36mto_string\u001b[0m\u001b[0;36m: \u001b[0m\u001b[1;30mRender a DataFrame to a console-friendly tabular output.\u001b[0m\n",
       "    \u001b[0;36mto_timestamp\u001b[0m\u001b[0;36m: \u001b[0m\u001b[1;30mCast to DatetimeIndex of timestamps, at *beginning* of period\u001b[0m\n",
       "    \u001b[0;36mto_wide\u001b[0m\u001b[0;36m: \u001b[0m\u001b[1;30m\u001b[0m\n",
       "    \u001b[0;36mto_xarray\u001b[0m\u001b[0;36m: \u001b[0m\u001b[1;30mReturn an xarray object from the pandas object.\u001b[0m\n",
       "    \u001b[0;36mtranspose\u001b[0m\u001b[0;36m: \u001b[0m\u001b[1;30mTranspose index and columns\u001b[0m\n",
       "    \u001b[0;36mtruediv\u001b[0m\u001b[0;36m: \u001b[0m\u001b[1;30mFloating division of dataframe and other, element-wise (binary operator `truediv`).\u001b[0m\n",
       "    \u001b[0;36mtruncate\u001b[0m\u001b[0;36m: \u001b[0m\u001b[1;30mTruncates a sorted NDFrame before and/or after some particular\u001b[0m\n",
       "    \u001b[0;36mtshift\u001b[0m\u001b[0;36m: \u001b[0m\u001b[1;30mShift the time index, using the index's frequency if available.\u001b[0m\n",
       "    \u001b[0;36mtz_convert\u001b[0m\u001b[0;36m: \u001b[0m\u001b[1;30mConvert tz-aware axis to target time zone.\u001b[0m\n",
       "    \u001b[0;36mtz_localize\u001b[0m\u001b[0;36m: \u001b[0m\u001b[1;30mLocalize tz-naive TimeSeries to target time zone.\u001b[0m\n",
       "    \u001b[0;36munstack\u001b[0m\u001b[0;36m: \u001b[0m\u001b[1;30mPivot a level of the (necessarily hierarchical) index labels, returning\u001b[0m\n",
       "    \u001b[0;36mupdate\u001b[0m\u001b[0;36m: \u001b[0m\u001b[1;30mModify DataFrame in place using non-NA values from passed\u001b[0m\n",
       "    \u001b[0;36mvar\u001b[0m\u001b[0;36m: \u001b[0m\u001b[1;30mReturn unbiased variance over requested axis.\u001b[0m\n",
       "    \u001b[0;36mwhere\u001b[0m\u001b[0;36m: \u001b[0m\u001b[1;30mReturn an object of same shape as self and whose corresponding\u001b[0m\n",
       "    \u001b[0;36mxs\u001b[0m\u001b[0;36m: \u001b[0m\u001b[1;30mReturns a cross-section (row(s) or column(s)) from the\u001b[0m"
      ]
     },
     "execution_count": 9,
     "metadata": {},
     "output_type": "execute_result"
    }
   ],
   "source": [
    "pdir(pd.DataFrame)"
   ]
  },
  {
   "cell_type": "code",
   "execution_count": 10,
   "metadata": {},
   "outputs": [
    {
     "name": "stdout",
     "output_type": "stream",
     "text": [
      "   age      name     sex\n",
      "0   20  zhangsan  female\n",
      "1   15      lisi    male\n",
      "2   21    wangwu    male\n",
      "3   18      mazi  female\n",
      "          sex      name index\n",
      "one    female  zhangsan   NaN\n",
      "two      male      lisi   NaN\n",
      "three    male    wangwu   NaN\n",
      "four   female      mazi   NaN\n",
      "Index([u'sex', u'name', u'index'], dtype='object')\n"
     ]
    }
   ],
   "source": [
    "data = {\"name\":['zhangsan','lisi','wangwu','mazi'],'age':[20,15,21,18],'sex':['female','male','male','female']}\n",
    "frame = pd.DataFrame(data)#默认行索引0,1,2\n",
    "print frame\n",
    "frame = pd.DataFrame(data,columns=['sex','name','index'],index = ['one','two','three','four'])#指定列索引，则dataframe按指定顺序进行排列\n",
    "print frame\n",
    "print frame.columns"
   ]
  },
  {
   "cell_type": "markdown",
   "metadata": {},
   "source": [
    "获取dataframe 某列：类似于字典取值方式，或属性方式"
   ]
  },
  {
   "cell_type": "code",
   "execution_count": 11,
   "metadata": {},
   "outputs": [
    {
     "name": "stdout",
     "output_type": "stream",
     "text": [
      "<class 'pandas.core.series.Series'>\n",
      "one      zhangsan\n",
      "two          lisi\n",
      "three      wangwu\n",
      "four         mazi\n",
      "Name: name, dtype: object\n",
      "<class 'pandas.core.series.Series'>\n",
      "one      zhangsan\n",
      "two          lisi\n",
      "three      wangwu\n",
      "four         mazi\n",
      "Name: name, dtype: object\n"
     ]
    }
   ],
   "source": [
    "a = frame['name']\n",
    "print type(a)\n",
    "print a\n",
    "b = frame.name\n",
    "print type(b)\n",
    "print b"
   ]
  },
  {
   "cell_type": "markdown",
   "metadata": {},
   "source": [
    "构建DataFrame:嵌套字典\n",
    "外层字典键为列，内层字典键为行索引"
   ]
  },
  {
   "cell_type": "code",
   "execution_count": 12,
   "metadata": {},
   "outputs": [
    {
     "name": "stdout",
     "output_type": "stream",
     "text": [
      "           name\n",
      "four       mazi\n",
      "one    zhangsan\n",
      "three   wanggwu\n",
      "two        lisi\n"
     ]
    }
   ],
   "source": [
    "data = {'name':{'one':'zhangsan','two':'lisi','three':'wanggwu','four':'mazi'}}\n",
    "frame = pd.DataFrame(data)\n",
    "print frame"
   ]
  },
  {
   "cell_type": "markdown",
   "metadata": {},
   "source": [
    "DataFrame的index和columns的name属性"
   ]
  },
  {
   "cell_type": "code",
   "execution_count": 13,
   "metadata": {},
   "outputs": [
    {
     "name": "stdout",
     "output_type": "stream",
     "text": [
      "None\n",
      "None\n",
      "name       name\n",
      "id             \n",
      "four       mazi\n",
      "one    zhangsan\n",
      "three   wanggwu\n",
      "two        lisi\n",
      "id\n",
      "name\n"
     ]
    }
   ],
   "source": [
    "print frame.index.name\n",
    "print frame.columns.name\n",
    "frame.index.name = 'id'\n",
    "frame.columns.name = 'name'\n",
    "print frame\n",
    "print frame.index.name\n",
    "print frame.columns.name"
   ]
  },
  {
   "cell_type": "markdown",
   "metadata": {},
   "source": [
    "values属性以二维数组形式返回DataFrame中的数据"
   ]
  },
  {
   "cell_type": "code",
   "execution_count": 14,
   "metadata": {},
   "outputs": [
    {
     "name": "stdout",
     "output_type": "stream",
     "text": [
      "<type 'numpy.ndarray'>\n",
      "[['mazi']\n",
      " ['zhangsan']\n",
      " ['wanggwu']\n",
      " ['lisi']]\n"
     ]
    }
   ],
   "source": [
    "a = frame.values\n",
    "print type(a)\n",
    "print a"
   ]
  },
  {
   "cell_type": "markdown",
   "metadata": {},
   "source": [
    "索引对象index的属性和方法\n",
    "index长得像数组；功能也类似于一个大小固定的集合"
   ]
  },
  {
   "cell_type": "code",
   "execution_count": 15,
   "metadata": {},
   "outputs": [
    {
     "name": "stdout",
     "output_type": "stream",
     "text": [
      "name       name\n",
      "id             \n",
      "four       mazi\n",
      "one    zhangsan\n",
      "three   wanggwu\n",
      "two        lisi\n",
      "<class 'pandas.core.frame.DataFrame'>\n",
      "Index([u'four', u'one', u'three', u'two'], dtype='object', name=u'id')\n",
      "<class 'pandas.indexes.base.Index'>\n"
     ]
    }
   ],
   "source": [
    "print frame\n",
    "print type(frame)\n",
    "print frame.index\n",
    "print type(frame.index)"
   ]
  },
  {
   "cell_type": "code",
   "execution_count": 16,
   "metadata": {},
   "outputs": [
    {
     "name": "stdout",
     "output_type": "stream",
     "text": [
      "True\n",
      "True\n"
     ]
    }
   ],
   "source": [
    "print 'one' in frame.index\n",
    "print 'name' in frame.columns"
   ]
  },
  {
   "cell_type": "markdown",
   "metadata": {},
   "source": [
    "## 3 操作Series和DataFame的基本手段"
   ]
  },
  {
   "cell_type": "markdown",
   "metadata": {},
   "source": [
    "### 3.1 重新索引\n",
    "pandas对象reindex方法，创建一个适应新索引的对象，数据根据新索引重排，如果某个索引的值不存在则引入NaN"
   ]
  },
  {
   "cell_type": "code",
   "execution_count": 17,
   "metadata": {},
   "outputs": [
    {
     "name": "stdout",
     "output_type": "stream",
     "text": [
      "a    1\n",
      "b    2\n",
      "c    3\n",
      "d    4\n",
      "dtype: int64\n",
      "<class 'pandas.core.series.Series'>\n"
     ]
    },
    {
     "data": {
      "text/plain": [
       "d    4\n",
       "c    3\n",
       "b    2\n",
       "a    1\n",
       "dtype: int64"
      ]
     },
     "execution_count": 17,
     "metadata": {},
     "output_type": "execute_result"
    }
   ],
   "source": [
    "obj = pd.Series([1,2,3,4],index = ['a','b','c','d'])\n",
    "print obj\n",
    "print type(obj)\n",
    "obj.reindex(index = ['d','c','b','a'])\n"
   ]
  },
  {
   "cell_type": "code",
   "execution_count": 18,
   "metadata": {},
   "outputs": [
    {
     "name": "stdout",
     "output_type": "stream",
     "text": [
      "       a  b  c\n",
      "one    0  1  2\n",
      "two    3  4  5\n",
      "three  6  7  8\n",
      "       c  b  a\n",
      "one    2  1  0\n",
      "two    5  4  3\n",
      "three  8  7  6\n",
      "       a  b  c\n",
      "three  6  7  8\n",
      "one    0  1  2\n",
      "two    3  4  5\n",
      "       c  b  a\n",
      "three  8  7  6\n",
      "one    2  1  0\n",
      "two    5  4  3\n"
     ]
    }
   ],
   "source": [
    "#DataFrame对象索引重排\n",
    "import numpy as np\n",
    "frame = pd.DataFrame(np.arange(9).reshape(3,3),index = ['one','two','three'],columns=['a','b','c'])\n",
    "print frame\n",
    "frame1 = frame.reindex(columns=['c','b','a'])#列索引重排\n",
    "print frame1\n",
    "frame2 = frame.reindex(index =  ['three','one','two'])#行索引重排\n",
    "print frame2\n",
    "frame3 = frame.reindex(index =  ['three','one','two'],columns=['c','b','a'])#同时行，列索引重排\n",
    "print frame3"
   ]
  },
  {
   "cell_type": "markdown",
   "metadata": {},
   "source": [
    "### 3.2 丢弃指定轴上的项\n",
    "根据索引数组或列表，删除某条轴上的一个或多个数据，返回删除项后的新对象\n",
    "\n",
    "    DataFrame.drop(labels=None, axis=0, index=None, columns=None, level=None, inplace=False, errors='raise')\n",
    "    Drop specified labels from rows or columns.\n",
    "    Remove rows or columns by specifying label names and corresponding axis, \n",
    "    or by specifying directly index or column names. \n",
    "    http://pandas.pydata.org/pandas-docs/stable/generated/pandas.DataFrame.drop.html"
   ]
  },
  {
   "cell_type": "code",
   "execution_count": 19,
   "metadata": {},
   "outputs": [
    {
     "name": "stdout",
     "output_type": "stream",
     "text": [
      "a    0\n",
      "b    1\n",
      "c    2\n",
      "d    3\n",
      "e    4\n",
      "dtype: int32\n",
      "b    1\n",
      "c    2\n",
      "d    3\n",
      "e    4\n",
      "dtype: int32\n",
      "b    1\n",
      "c    2\n",
      "d    3\n",
      "dtype: int32\n"
     ]
    }
   ],
   "source": [
    "#Series对象删除元素\n",
    "obj = pd.Series(np.arange(5),index = ['a','b','c','d','e'])\n",
    "print obj\n",
    "obj_a = obj.drop('a')#删除单行\n",
    "print obj_a\n",
    "obj_ae = obj.drop(['a','e'])#删除多行\n",
    "print obj_ae"
   ]
  },
  {
   "cell_type": "code",
   "execution_count": 20,
   "metadata": {},
   "outputs": [
    {
     "name": "stdout",
     "output_type": "stream",
     "text": [
      "       col_1  col_2  col_3  col_4\n",
      "one        0      1      2      3\n",
      "two        4      5      6      7\n",
      "three      8      9     10     11\n",
      "four      12     13     14     15\n",
      "       col_2  col_3  col_4\n",
      "one        1      2      3\n",
      "two        5      6      7\n",
      "three      9     10     11\n",
      "four      13     14     15\n"
     ]
    }
   ],
   "source": [
    "#dataframe删除\n",
    "frame = pd.DataFrame(np.arange(16).reshape(4,4),index = ['one','two','three','four'],columns=['col_1','col_2','col_3','col_4'])\n",
    "print frame\n",
    "#删除列\n",
    "frame1 = frame.drop(['col_1'],axis = 1)\n",
    "print frame1\n",
    "# frame2 = frame.drop(columns = ['col_2'])#0.21之后才有\n",
    "# print frame2"
   ]
  },
  {
   "cell_type": "code",
   "execution_count": 21,
   "metadata": {},
   "outputs": [
    {
     "name": "stdout",
     "output_type": "stream",
     "text": [
      "       col_1  col_2  col_3  col_4\n",
      "three      8      9     10     11\n",
      "four      12     13     14     15\n"
     ]
    }
   ],
   "source": [
    "#dataframe删除\n",
    "#通过index删除行\n",
    "frame3 = frame.drop(['one','two'])#默认axis = 0,行 \n",
    "print frame3"
   ]
  },
  {
   "cell_type": "markdown",
   "metadata": {},
   "source": [
    "## 3.3索引、选取和过滤"
   ]
  },
  {
   "cell_type": "markdown",
   "metadata": {},
   "source": [
    "Series索引：类似于numpy数组的索引，不过索引值可以是标签，也可以是整数"
   ]
  },
  {
   "cell_type": "code",
   "execution_count": 22,
   "metadata": {},
   "outputs": [
    {
     "name": "stdout",
     "output_type": "stream",
     "text": [
      "obj: a    0\n",
      "b    1\n",
      "c    2\n",
      "d    3\n",
      "dtype: int32\n",
      "obj[1]: 1\n",
      "obj[:2]: a    0\n",
      "b    1\n",
      "dtype: int32\n",
      "obj[[1,3]]: b    1\n",
      "d    3\n",
      "dtype: int32\n",
      "0\n",
      "a    0\n",
      "b    1\n",
      "c    2\n",
      "dtype: int32\n",
      "a    0\n",
      "c    2\n",
      "dtype: int32\n"
     ]
    }
   ],
   "source": [
    "obj = pd.Series(np.arange(4),index = ['a','b','c','d'])\n",
    "print 'obj:',obj\n",
    "#整数索引\n",
    "print 'obj[1]:',obj[1]\n",
    "print 'obj[:2]:',obj[:2]\n",
    "print 'obj[[1,3]]:',obj[[1,3]]\n",
    "#利用标签索引，index值\n",
    "print obj['a']\n",
    "print obj['a':'c']#切片\n",
    "print obj[['a','c']]"
   ]
  },
  {
   "cell_type": "markdown",
   "metadata": {},
   "source": [
    "DataFrame索引：\n",
    "列：\n",
    "\n",
    "obj[val]  选取DataFrame的单列或多列，\n",
    "\n",
    "obj.ix[:,val] 选取DataFrame的单列或多列\n",
    "\n",
    "行：\n",
    "\n",
    "obj.ix[val] 选取DataFrame的单行或多行\n",
    "\n",
    "此外在特殊情况下可以使用：切片（行切片），布尔型数组（过滤行）\n",
    "\n",
    "同时选取行和列：\n",
    "\n",
    "obj.ix[val1,val2]"
   ]
  },
  {
   "cell_type": "code",
   "execution_count": 23,
   "metadata": {},
   "outputs": [
    {
     "name": "stdout",
     "output_type": "stream",
     "text": [
      "       col_1  col_2  col_3  col_4\n",
      "one        0      1      2      3\n",
      "two        4      5      6      7\n",
      "three      8      9     10     11\n",
      "four      12     13     14     15\n",
      "one       0\n",
      "two       4\n",
      "three     8\n",
      "four     12\n",
      "Name: col_1, dtype: int32\n",
      "       col_1  col_3\n",
      "one        0      2\n",
      "two        4      6\n",
      "three      8     10\n",
      "four      12     14\n"
     ]
    }
   ],
   "source": [
    "# obj[val]  选取DataFrame的单列或多列\n",
    "print frame\n",
    "print frame['col_1']#单列\n",
    "print frame[['col_1','col_3']]#多列,通过列表选取"
   ]
  },
  {
   "cell_type": "code",
   "execution_count": 24,
   "metadata": {},
   "outputs": [
    {
     "name": "stdout",
     "output_type": "stream",
     "text": [
      "one       0\n",
      "two       4\n",
      "three     8\n",
      "four     12\n",
      "Name: col_1, dtype: int32\n",
      "       col_1  col_3\n",
      "one        0      2\n",
      "two        4      6\n",
      "three      8     10\n",
      "four      12     14\n"
     ]
    }
   ],
   "source": [
    "# obj.ix[:,val] 选取DataFrame的单列或多列\n",
    "print frame.ix[:,'col_1']\n",
    "print frame.ix[:,['col_1','col_3']]"
   ]
  },
  {
   "cell_type": "code",
   "execution_count": 25,
   "metadata": {},
   "outputs": [
    {
     "name": "stdout",
     "output_type": "stream",
     "text": [
      "col_1    0\n",
      "col_2    1\n",
      "col_3    2\n",
      "col_4    3\n",
      "Name: one, dtype: int32\n",
      "      col_1  col_2  col_3  col_4\n",
      "one       0      1      2      3\n",
      "four     12     13     14     15\n"
     ]
    }
   ],
   "source": [
    "# obj.ix[val] 选取DataFrame的单行或多行\n",
    "print frame.ix['one'] \n",
    "print frame.ix[['one','four']] "
   ]
  },
  {
   "cell_type": "code",
   "execution_count": 26,
   "metadata": {},
   "outputs": [
    {
     "name": "stdout",
     "output_type": "stream",
     "text": [
      "     col_1  col_2  col_3  col_4\n",
      "one      0      1      2      3\n",
      "two      4      5      6      7\n",
      "one      False\n",
      "two      False\n",
      "three     True\n",
      "four      True\n",
      "Name: col_1, dtype: bool\n",
      "       col_1  col_2  col_3  col_4\n",
      "three      8      9     10     11\n",
      "four      12     13     14     15\n"
     ]
    }
   ],
   "source": [
    "#除此之外，还有特殊情况\n",
    "#切片（行切片），布尔型数组（过滤行）\n",
    "print frame[:2]\n",
    "#布尔型数组（过滤行）\n",
    "print frame['col_1'] > 5\n",
    "print frame[frame['col_1'] > 5]"
   ]
  },
  {
   "cell_type": "code",
   "execution_count": 27,
   "metadata": {},
   "outputs": [
    {
     "name": "stdout",
     "output_type": "stream",
     "text": [
      "     col_1  col_2\n",
      "one      0      1\n",
      "two      4      5\n"
     ]
    }
   ],
   "source": [
    "# 同时选取行和列：obj.ix[val1,val2]\n",
    "print frame.ix[['one','two'],['col_1','col_2']]"
   ]
  },
  {
   "cell_type": "markdown",
   "metadata": {},
   "source": [
    "## 3.4算术运算和数据对齐\n",
    "Series:索引相同时数据对齐，不重叠的索引处引入了NA值\n",
    "\n",
    "DateFrame：对齐操作会同时发生在行和列上"
   ]
  },
  {
   "cell_type": "code",
   "execution_count": 28,
   "metadata": {},
   "outputs": [
    {
     "name": "stdout",
     "output_type": "stream",
     "text": [
      "a    1\n",
      "b    2\n",
      "c    3\n",
      "d    4\n",
      "dtype: int64\n",
      "b    2\n",
      "c    3\n",
      "d    4\n",
      "e    5\n",
      "f    6\n",
      "dtype: int64\n",
      "a    NaN\n",
      "b    4.0\n",
      "c    6.0\n",
      "d    8.0\n",
      "e    NaN\n",
      "f    NaN\n",
      "dtype: float64\n"
     ]
    }
   ],
   "source": [
    "# Series:索引相同时数据对齐，不重叠的索引处引入了NA值\n",
    "s1 = pd.Series([1,2,3,4],index = ['a','b','c','d'])\n",
    "s2 = pd.Series([2,3,4,5,6],index = ['b','c','d','e','f'])\n",
    "print s1\n",
    "print s2\n",
    "print s1 + s2"
   ]
  },
  {
   "cell_type": "code",
   "execution_count": 29,
   "metadata": {},
   "outputs": [
    {
     "name": "stdout",
     "output_type": "stream",
     "text": [
      "        a   b   c   d\n",
      "one     0   1   2   3\n",
      "two     4   5   6   7\n",
      "three   8   9  10  11\n",
      "four   12  13  14  15\n",
      "        c   d   e\n",
      "two     0   1   2\n",
      "three   3   4   5\n",
      "four    6   7   8\n",
      "five    9  10  11\n",
      "six    12  13  14\n",
      "        a   b     c     d   e\n",
      "five  NaN NaN   NaN   NaN NaN\n",
      "four  NaN NaN  20.0  22.0 NaN\n",
      "one   NaN NaN   NaN   NaN NaN\n",
      "six   NaN NaN   NaN   NaN NaN\n",
      "three NaN NaN  13.0  15.0 NaN\n",
      "two   NaN NaN   6.0   8.0 NaN\n"
     ]
    }
   ],
   "source": [
    "# DateFrame：对齐操作会同时发生在行和列上\n",
    "df1 = pd.DataFrame(np.arange(16).reshape(4,4),index = ['one','two','three','four'],columns=['a','b','c','d'])\n",
    "df2 = pd.DataFrame(np.arange(15).reshape(5,3),index = ['two','three','four','five','six'],columns=['c','d','e'])\n",
    "print df1\n",
    "print df2\n",
    "print df1 + df2"
   ]
  },
  {
   "cell_type": "markdown",
   "metadata": {},
   "source": [
    "## 3.5在算术方法中填充值\n",
    "不同索引对象进行算术预算是，当一个对象的轴标签在另一个对象中找不到时填充一个特殊值（比如0）\n",
    "\n",
    "add,sub,mul,div"
   ]
  },
  {
   "cell_type": "code",
   "execution_count": 30,
   "metadata": {},
   "outputs": [
    {
     "name": "stdout",
     "output_type": "stream",
     "text": [
      "          a     b     c     d     e\n",
      "five    NaN   NaN   9.0  10.0  11.0\n",
      "four   12.0  13.0  20.0  22.0   8.0\n",
      "one     0.0   1.0   2.0   3.0   NaN\n",
      "six     NaN   NaN  12.0  13.0  14.0\n",
      "three   8.0   9.0  13.0  15.0   5.0\n",
      "two     4.0   5.0   6.0   8.0   2.0\n"
     ]
    }
   ],
   "source": [
    "print df1.add(df2,fill_value = 0)"
   ]
  },
  {
   "cell_type": "markdown",
   "metadata": {},
   "source": [
    "## 3.6DataFrame和Series之间的运算\n",
    "默认情况下，DataFrame和Series之间的算术运算会将Series的索引匹配到DataFrame的列，然后沿着行一直向下传播"
   ]
  },
  {
   "cell_type": "code",
   "execution_count": 31,
   "metadata": {},
   "outputs": [
    {
     "name": "stdout",
     "output_type": "stream",
     "text": [
      "       col_1  col_2  col_3  col_4\n",
      "one        0      1      2      3\n",
      "two        4      5      6      7\n",
      "three      8      9     10     11\n",
      "four      12     13     14     15\n",
      "col_1    0\n",
      "col_2    1\n",
      "col_3    2\n",
      "col_4    3\n",
      "Name: one, dtype: int32\n",
      "       col_1  col_2  col_3  col_4\n",
      "one        0      0      0      0\n",
      "two        4      4      4      4\n",
      "three      8      8      8      8\n",
      "four      12     12     12     12\n",
      "       col_1  col_2  col_3  col_4\n",
      "one        0      0      0      0\n",
      "two        4      4      4      4\n",
      "three      8      8      8      8\n",
      "four      12     12     12     12\n"
     ]
    }
   ],
   "source": [
    "print frame\n",
    "series = frame.ix[0]#取单行\n",
    "print series\n",
    "print frame - series\n",
    "print frame.sub(series,axis = 1)#传入的轴号就是希望匹配的轴"
   ]
  },
  {
   "cell_type": "markdown",
   "metadata": {},
   "source": [
    "如果希望匹配行，且在列上传播，则必须使用算术运算方法"
   ]
  },
  {
   "cell_type": "code",
   "execution_count": 32,
   "metadata": {},
   "outputs": [
    {
     "name": "stdout",
     "output_type": "stream",
     "text": [
      "one       0\n",
      "two       4\n",
      "three     8\n",
      "four     12\n",
      "Name: col_1, dtype: int32\n",
      "       col_1  col_2  col_3  col_4\n",
      "one        0      1      2      3\n",
      "two        0      1      2      3\n",
      "three      0      1      2      3\n",
      "four       0      1      2      3\n"
     ]
    }
   ],
   "source": [
    "# 获取列\n",
    "series2 = frame['col_1']\n",
    "print series2\n",
    "print frame.sub(series2,axis = 0)#传入的轴号就是希望匹配的轴"
   ]
  },
  {
   "cell_type": "markdown",
   "metadata": {},
   "source": [
    "## 3.7函数应用和映射\n",
    "1 numpy的ufuncs(元素级数组方法)也可用于操作pandas对象\n",
    "\n",
    "2 dataframe.apply()方法将函数应用到由各行或列所形成的一维数组上。"
   ]
  },
  {
   "cell_type": "markdown",
   "metadata": {},
   "source": [
    "numpy的ufuncs(元素级数组方法)也可用于操作pandas对象"
   ]
  },
  {
   "cell_type": "code",
   "execution_count": 33,
   "metadata": {},
   "outputs": [
    {
     "name": "stdout",
     "output_type": "stream",
     "text": [
      "              a         b         c\n",
      "one    0.672130  1.742415 -1.673255\n",
      "two   -0.357743 -1.272723 -1.331455\n",
      "three  0.127884  0.740917 -1.278359\n",
      "four   0.491862 -1.214620 -0.748934\n",
      "              a         b         c\n",
      "one    0.672130  1.742415  1.673255\n",
      "two    0.357743  1.272723  1.331455\n",
      "three  0.127884  0.740917  1.278359\n",
      "four   0.491862  1.214620  0.748934\n"
     ]
    }
   ],
   "source": [
    "frame = pd.DataFrame(np.random.randn(4,3),index = ['one','two','three','four'],columns=list('abc'))\n",
    "print frame\n",
    "print np.abs(frame)"
   ]
  },
  {
   "cell_type": "markdown",
   "metadata": {},
   "source": [
    "dataframe.apply()方法将函数应用到由各行或列所形成的一维数组上。"
   ]
  },
  {
   "cell_type": "code",
   "execution_count": 34,
   "metadata": {},
   "outputs": [
    {
     "name": "stdout",
     "output_type": "stream",
     "text": [
      "a    1.029873\n",
      "b    3.015137\n",
      "c    0.924321\n",
      "dtype: float64\n",
      "one      3.415670\n",
      "two      0.973713\n",
      "three    2.019277\n",
      "four     1.706482\n",
      "dtype: float64\n",
      "a    0.934134\n",
      "b   -0.004011\n",
      "c   -5.032004\n",
      "dtype: float64\n",
      "one      0.741289\n",
      "two     -2.961921\n",
      "three   -0.409558\n",
      "four    -1.471692\n",
      "dtype: float64\n"
     ]
    }
   ],
   "source": [
    "#许多常见数组统计功能被实现为dataframe方法(sum.mean)，因此不用使用apply方法\n",
    "f = lambda x: x.max() -x.min()#匿名函数\n",
    "print frame.apply(f)#默认axis=0\n",
    "print frame.apply(f,axis = 1)\n",
    "\n",
    "print frame.sum()\n",
    "print frame.sum(axis = 1)"
   ]
  },
  {
   "cell_type": "markdown",
   "metadata": {
    "collapsed": true
   },
   "source": [
    "除标量值外，传递给apply函数的函数还可返回由多个值构成的Series"
   ]
  },
  {
   "cell_type": "code",
   "execution_count": 35,
   "metadata": {},
   "outputs": [
    {
     "name": "stdout",
     "output_type": "stream",
     "text": [
      "            a         b         c\n",
      "max  0.672130  1.742415 -0.748934\n",
      "min -0.357743 -1.272723 -1.673255\n"
     ]
    }
   ],
   "source": [
    "def f(x):\n",
    "    return pd.Series([x.max(),x.min()],index = ['max','min'])\n",
    "print frame.apply(f)#默认axis=0，对列形成的一维数组进行操作"
   ]
  },
  {
   "cell_type": "markdown",
   "metadata": {},
   "source": [
    "python元素级函数，传递给applymap函数;因为Series有一个应用于元素级函数的map方法"
   ]
  },
  {
   "cell_type": "code",
   "execution_count": 36,
   "metadata": {},
   "outputs": [
    {
     "name": "stdout",
     "output_type": "stream",
     "text": [
      "           a      b      c\n",
      "one     0.67   1.74  -1.67\n",
      "two    -0.36  -1.27  -1.33\n",
      "three   0.13   0.74  -1.28\n",
      "four    0.49  -1.21  -0.75\n",
      "one       0.67\n",
      "two      -0.36\n",
      "three     0.13\n",
      "four      0.49\n",
      "Name: a, dtype: object\n"
     ]
    }
   ],
   "source": [
    "format = lambda x: '%.2f' % x#格式化数字，保留2位\n",
    "frame_format = frame.applymap(format)\n",
    "print frame_format\n",
    "print frame['a'].map(format)"
   ]
  },
  {
   "cell_type": "markdown",
   "metadata": {},
   "source": [
    "## 3.8排序和排名"
   ]
  },
  {
   "cell_type": "markdown",
   "metadata": {},
   "source": [
    "排序"
   ]
  },
  {
   "cell_type": "markdown",
   "metadata": {},
   "source": [
    "1 Series按行索引或列索引进行排序,返回新排序对象：Series.sort_index()\n",
    "\n",
    "2 Series按值进行排序,返回新排序对象：Series.sort_values()\n",
    "\n",
    "3 Dataframe根据任意轴上得索引进行排序,返回新排序对象:dataframe.sort_index()\n",
    "\n",
    "4 Dataframe根据一个或多个列中的值进行排序,返回新排序对象:dataframe.sort_values(by=['col_name'])"
   ]
  },
  {
   "cell_type": "markdown",
   "metadata": {},
   "source": [
    "1 Series按行索引或列索引进行排序：Series.sort_index()"
   ]
  },
  {
   "cell_type": "code",
   "execution_count": 37,
   "metadata": {},
   "outputs": [
    {
     "name": "stdout",
     "output_type": "stream",
     "text": [
      "a    0\n",
      "b    1\n",
      "c    2\n",
      "d    3\n",
      "dtype: int32\n",
      "c    2\n",
      "d    3\n",
      "b    1\n",
      "a    0\n",
      "dtype: int32\n",
      "a    0\n",
      "b    1\n",
      "c    2\n",
      "d    3\n",
      "dtype: int32\n"
     ]
    }
   ],
   "source": [
    "print obj\n",
    "obj = obj.reindex(['c','d','b','a'])\n",
    "print obj\n",
    "print obj.sort_index()"
   ]
  },
  {
   "cell_type": "markdown",
   "metadata": {},
   "source": [
    "2 Series按值进行排序,返回新排序对象：Series.order()"
   ]
  },
  {
   "cell_type": "code",
   "execution_count": 38,
   "metadata": {},
   "outputs": [
    {
     "name": "stdout",
     "output_type": "stream",
     "text": [
      "c    2\n",
      "d    3\n",
      "b    1\n",
      "a    0\n",
      "dtype: int32\n",
      "a    0\n",
      "b    1\n",
      "c    2\n",
      "d    3\n",
      "dtype: int32\n"
     ]
    }
   ],
   "source": [
    "print obj\n",
    "print obj.sort_values()"
   ]
  },
  {
   "cell_type": "markdown",
   "metadata": {},
   "source": [
    "3 Dataframe根据任意轴上得索引进行排序,返回新排序对象:dataframe.sort_index()"
   ]
  },
  {
   "cell_type": "code",
   "execution_count": 39,
   "metadata": {},
   "outputs": [
    {
     "name": "stdout",
     "output_type": "stream",
     "text": [
      "              a         b         c\n",
      "one    0.672130  1.742415 -1.673255\n",
      "two   -0.357743 -1.272723 -1.331455\n",
      "three  0.127884  0.740917 -1.278359\n",
      "four   0.491862 -1.214620 -0.748934\n",
      "              c         b         a\n",
      "two   -1.331455 -1.272723 -0.357743\n",
      "three -1.278359  0.740917  0.127884\n",
      "one   -1.673255  1.742415  0.672130\n",
      "four  -0.748934 -1.214620  0.491862\n",
      "              c         b         a\n",
      "four  -0.748934 -1.214620  0.491862\n",
      "one   -1.673255  1.742415  0.672130\n",
      "three -1.278359  0.740917  0.127884\n",
      "two   -1.331455 -1.272723 -0.357743\n",
      "              a         b         c\n",
      "two   -0.357743 -1.272723 -1.331455\n",
      "three  0.127884  0.740917 -1.278359\n",
      "one    0.672130  1.742415 -1.673255\n",
      "four   0.491862 -1.214620 -0.748934\n"
     ]
    }
   ],
   "source": [
    "print frame\n",
    "frame_reindex = frame.reindex(['two','three','one','four'],columns=['c','b','a'])\n",
    "print frame_reindex\n",
    "print frame_reindex.sort_index()#默认axis = 0,按行排序\n",
    "print frame_reindex.sort_index(axis = 1)#axis =1按列排序"
   ]
  },
  {
   "cell_type": "markdown",
   "metadata": {},
   "source": [
    "4 Dataframe根据一个或多个列中的值进行排序,返回新排序对象:dataframe.sort_values(by=['col_name'])\n",
    "\n",
    "DataFrame.sort_values(by, axis=0, ascending=True, inplace=False, kind='quicksort', na_position='last')[source]\n",
    "Sort by the values along either axis"
   ]
  },
  {
   "cell_type": "code",
   "execution_count": 40,
   "metadata": {},
   "outputs": [
    {
     "name": "stdout",
     "output_type": "stream",
     "text": [
      "              c         b         a\n",
      "two   -1.331455 -1.272723 -0.357743\n",
      "three -1.278359  0.740917  0.127884\n",
      "one   -1.673255  1.742415  0.672130\n",
      "four  -0.748934 -1.214620  0.491862\n",
      "              c         b         a\n",
      "two   -1.331455 -1.272723 -0.357743\n",
      "four  -0.748934 -1.214620  0.491862\n",
      "three -1.278359  0.740917  0.127884\n",
      "one   -1.673255  1.742415  0.672130\n",
      "              c         b         a\n",
      "two   -1.331455 -1.272723 -0.357743\n",
      "four  -0.748934 -1.214620  0.491862\n",
      "three -1.278359  0.740917  0.127884\n",
      "one   -1.673255  1.742415  0.672130\n"
     ]
    }
   ],
   "source": [
    "print frame_reindex\n",
    "print frame_reindex.sort_values(by = ['b'])#按'b'列值大小进行排序\n",
    "print frame_reindex.sort_values(by = ['b','c'])#按'b','c'列值大小进行排序"
   ]
  },
  {
   "cell_type": "markdown",
   "metadata": {},
   "source": [
    "排名\n",
    "\n",
    "Series排名：Series.rank()\n",
    "\n",
    "DataFrame.rank()"
   ]
  },
  {
   "cell_type": "code",
   "execution_count": 41,
   "metadata": {},
   "outputs": [
    {
     "name": "stdout",
     "output_type": "stream",
     "text": [
      "c    2\n",
      "d    3\n",
      "b    1\n",
      "a    0\n",
      "dtype: int32\n",
      "c    3.0\n",
      "d    4.0\n",
      "b    2.0\n",
      "a    1.0\n",
      "dtype: float64\n"
     ]
    }
   ],
   "source": [
    "print obj\n",
    "print obj.rank()"
   ]
  },
  {
   "cell_type": "markdown",
   "metadata": {},
   "source": [
    "## 3.9带有重复值的轴索引"
   ]
  },
  {
   "cell_type": "code",
   "execution_count": 42,
   "metadata": {},
   "outputs": [
    {
     "name": "stdout",
     "output_type": "stream",
     "text": [
      "a    0\n",
      "a    1\n",
      "b    2\n",
      "c    3\n",
      "dtype: int32\n",
      "False\n",
      "a    0\n",
      "a    1\n",
      "dtype: int32\n",
      "3\n"
     ]
    }
   ],
   "source": [
    "#Series\n",
    "obj = pd.Series(np.arange(4),index = ['a','a','b','c'])\n",
    "print obj\n",
    "print obj.index.is_unique\n",
    "print obj['a']\n",
    "print obj['c']"
   ]
  },
  {
   "cell_type": "code",
   "execution_count": 43,
   "metadata": {},
   "outputs": [
    {
     "name": "stdout",
     "output_type": "stream",
     "text": [
      "   0   1   2\n",
      "a  0   1   2\n",
      "a  3   4   5\n",
      "b  6   7   8\n",
      "c  9  10  11\n",
      "False\n"
     ]
    },
    {
     "data": {
      "text/html": [
       "<div>\n",
       "<table border=\"1\" class=\"dataframe\">\n",
       "  <thead>\n",
       "    <tr style=\"text-align: right;\">\n",
       "      <th></th>\n",
       "      <th>0</th>\n",
       "      <th>1</th>\n",
       "      <th>2</th>\n",
       "    </tr>\n",
       "  </thead>\n",
       "  <tbody>\n",
       "    <tr>\n",
       "      <th>a</th>\n",
       "      <td>0</td>\n",
       "      <td>1</td>\n",
       "      <td>2</td>\n",
       "    </tr>\n",
       "    <tr>\n",
       "      <th>a</th>\n",
       "      <td>3</td>\n",
       "      <td>4</td>\n",
       "      <td>5</td>\n",
       "    </tr>\n",
       "  </tbody>\n",
       "</table>\n",
       "</div>"
      ],
      "text/plain": [
       "   0  1  2\n",
       "a  0  1  2\n",
       "a  3  4  5"
      ]
     },
     "execution_count": 43,
     "metadata": {},
     "output_type": "execute_result"
    }
   ],
   "source": [
    "frame = pd.DataFrame(np.arange(12).reshape(4,3),index = ['a','a','b','c'])\n",
    "print frame\n",
    "print frame.index.is_unique\n",
    "frame.ix['a']"
   ]
  },
  {
   "cell_type": "markdown",
   "metadata": {},
   "source": [
    "## 3.10汇总和计算描述统计\n",
    "pandas对象拥有一组常用的数学和统计方法,大部分属于约减和汇总统计方法"
   ]
  },
  {
   "cell_type": "markdown",
   "metadata": {},
   "source": [
    "### 3.10.1 约减和汇总统计方法"
   ]
  },
  {
   "cell_type": "code",
   "execution_count": 45,
   "metadata": {},
   "outputs": [
    {
     "data": {
      "text/html": [
       "<div>\n",
       "<table border=\"1\" class=\"dataframe\">\n",
       "  <thead>\n",
       "    <tr style=\"text-align: right;\">\n",
       "      <th></th>\n",
       "      <th>one</th>\n",
       "      <th>two</th>\n",
       "    </tr>\n",
       "  </thead>\n",
       "  <tbody>\n",
       "    <tr>\n",
       "      <th>a</th>\n",
       "      <td>1.40</td>\n",
       "      <td>NaN</td>\n",
       "    </tr>\n",
       "    <tr>\n",
       "      <th>b</th>\n",
       "      <td>7.10</td>\n",
       "      <td>-4.5</td>\n",
       "    </tr>\n",
       "    <tr>\n",
       "      <th>c</th>\n",
       "      <td>NaN</td>\n",
       "      <td>NaN</td>\n",
       "    </tr>\n",
       "    <tr>\n",
       "      <th>d</th>\n",
       "      <td>0.75</td>\n",
       "      <td>-1.3</td>\n",
       "    </tr>\n",
       "  </tbody>\n",
       "</table>\n",
       "</div>"
      ],
      "text/plain": [
       "    one  two\n",
       "a  1.40  NaN\n",
       "b  7.10 -4.5\n",
       "c   NaN  NaN\n",
       "d  0.75 -1.3"
      ]
     },
     "execution_count": 45,
     "metadata": {},
     "output_type": "execute_result"
    }
   ],
   "source": [
    "frame = pd.DataFrame([[1.4,np.nan],[7.1,-4.5],[np.nan,np.nan],[0.75,-1.3]],index = ['a','b','c','d'],columns= ['one','two'])\n",
    "frame"
   ]
  },
  {
   "cell_type": "markdown",
   "metadata": {},
   "source": [
    "数值型pandas对象describe()一次性产生多个汇总统计   \n",
    "axis 约减的轴。DataFrame的行用0，列用1.   \n",
    "skipna排除缺失值，默认True"
   ]
  },
  {
   "cell_type": "code",
   "execution_count": 55,
   "metadata": {},
   "outputs": [
    {
     "data": {
      "text/html": [
       "<div>\n",
       "<table border=\"1\" class=\"dataframe\">\n",
       "  <thead>\n",
       "    <tr style=\"text-align: right;\">\n",
       "      <th></th>\n",
       "      <th>one</th>\n",
       "      <th>two</th>\n",
       "    </tr>\n",
       "  </thead>\n",
       "  <tbody>\n",
       "    <tr>\n",
       "      <th>count</th>\n",
       "      <td>3.000000</td>\n",
       "      <td>2.000000</td>\n",
       "    </tr>\n",
       "    <tr>\n",
       "      <th>mean</th>\n",
       "      <td>3.083333</td>\n",
       "      <td>-2.900000</td>\n",
       "    </tr>\n",
       "    <tr>\n",
       "      <th>std</th>\n",
       "      <td>3.493685</td>\n",
       "      <td>2.262742</td>\n",
       "    </tr>\n",
       "    <tr>\n",
       "      <th>min</th>\n",
       "      <td>0.750000</td>\n",
       "      <td>-4.500000</td>\n",
       "    </tr>\n",
       "    <tr>\n",
       "      <th>25%</th>\n",
       "      <td>1.075000</td>\n",
       "      <td>-3.700000</td>\n",
       "    </tr>\n",
       "    <tr>\n",
       "      <th>50%</th>\n",
       "      <td>1.400000</td>\n",
       "      <td>-2.900000</td>\n",
       "    </tr>\n",
       "    <tr>\n",
       "      <th>75%</th>\n",
       "      <td>4.250000</td>\n",
       "      <td>-2.100000</td>\n",
       "    </tr>\n",
       "    <tr>\n",
       "      <th>max</th>\n",
       "      <td>7.100000</td>\n",
       "      <td>-1.300000</td>\n",
       "    </tr>\n",
       "  </tbody>\n",
       "</table>\n",
       "</div>"
      ],
      "text/plain": [
       "            one       two\n",
       "count  3.000000  2.000000\n",
       "mean   3.083333 -2.900000\n",
       "std    3.493685  2.262742\n",
       "min    0.750000 -4.500000\n",
       "25%    1.075000 -3.700000\n",
       "50%    1.400000 -2.900000\n",
       "75%    4.250000 -2.100000\n",
       "max    7.100000 -1.300000"
      ]
     },
     "execution_count": 55,
     "metadata": {},
     "output_type": "execute_result"
    }
   ],
   "source": [
    "frame.describe()"
   ]
  },
  {
   "cell_type": "code",
   "execution_count": null,
   "metadata": {
    "collapsed": true
   },
   "outputs": [],
   "source": [
    "# count()非Na值得数量\n",
    "print frame.count()#默认对行汇总\n",
    "print frame.count(axis = 1)\n",
    "# mean()值得平均数\n",
    "print frame.mean()#默认对行汇总\n",
    "print frame.mean(axis = 1)\n",
    "# std()值得标准差\n",
    "print frame.std()#默认对行汇总\n",
    "print frame.std(axis = 1)\n",
    "\n",
    "# min()最小值\n",
    "print frame.min()#默认对行汇总\n",
    "print frame.min(axis = 1)\n",
    "\n",
    "# quantile()计算值得分位数\n",
    "print frame.quantile()#默认对行汇总，50%\n",
    "print frame.quantile(axis  = 1)\n",
    "\n",
    "print frame.quantile(q = 0.25)#默认对行汇总，50%\n",
    "print frame.quantile(axis  = 1,q = 0.25)\n",
    "\n",
    "# max()最大值\n",
    "print frame.max()#默认对行汇总\n",
    "print frame.max(axis = 1)"
   ]
  },
  {
   "cell_type": "code",
   "execution_count": null,
   "metadata": {
    "collapsed": true
   },
   "outputs": [],
   "source": [
    "# 间接统计\n",
    "print frame\n",
    "#计算最小值，最大值的索引值\n",
    "print frame.idxmin()\n",
    "print frame.idxmax()\n",
    "#计算最小值，最大值的索引值（整数）\n",
    "print frame.argmin()\n",
    "print frame.argmax()"
   ]
  },
  {
   "cell_type": "code",
   "execution_count": 73,
   "metadata": {},
   "outputs": [
    {
     "name": "stdout",
     "output_type": "stream",
     "text": [
      "    one  two\n",
      "a  1.40  NaN\n",
      "b  7.10 -4.5\n",
      "c   NaN  NaN\n",
      "d  0.75 -1.3\n",
      "    one  two\n",
      "a  1.40  NaN\n",
      "b  8.50 -4.5\n",
      "c   NaN  NaN\n",
      "d  9.25 -5.8\n",
      "    one  two\n",
      "a  1.40  NaN\n",
      "b  1.40 -4.5\n",
      "c   NaN  NaN\n",
      "d  0.75 -4.5\n",
      "   one  two\n",
      "a  1.4  NaN\n",
      "b  7.1 -4.5\n",
      "c  NaN  NaN\n",
      "d  7.1 -1.3\n",
      "     one   two\n",
      "a  1.400   NaN\n",
      "b  9.940 -4.50\n",
      "c    NaN   NaN\n",
      "d  7.455  5.85\n"
     ]
    }
   ],
   "source": [
    "#累计和，累计积\n",
    "print frame\n",
    "print frame.cumsum()\n",
    "print frame.cummin()#累计最小值\n",
    "print frame.cummax()#累计最大值\n",
    "\n",
    "print frame.cumprod()#累计积"
   ]
  },
  {
   "cell_type": "markdown",
   "metadata": {},
   "source": [
    "非数值型pandas对象产生另一种汇总统计"
   ]
  },
  {
   "cell_type": "code",
   "execution_count": 59,
   "metadata": {},
   "outputs": [
    {
     "data": {
      "text/plain": [
       "count     16\n",
       "unique     3\n",
       "top        a\n",
       "freq       8\n",
       "dtype: object"
      ]
     },
     "execution_count": 59,
     "metadata": {},
     "output_type": "execute_result"
    }
   ],
   "source": [
    "obj = pd.Series(['a','a','b','c']*4)\n",
    "obj.describe()"
   ]
  },
  {
   "cell_type": "code",
   "execution_count": 67,
   "metadata": {},
   "outputs": [
    {
     "name": "stdout",
     "output_type": "stream",
     "text": [
      "0     a\n",
      "1     a\n",
      "2     b\n",
      "3     c\n",
      "4     a\n",
      "5     a\n",
      "6     b\n",
      "7     c\n",
      "8     a\n",
      "9     a\n",
      "10    b\n",
      "11    c\n",
      "12    a\n",
      "13    a\n",
      "14    b\n",
      "15    c\n",
      "dtype: object\n",
      "16\n",
      "['a' 'b' 'c']\n"
     ]
    }
   ],
   "source": [
    "print obj\n",
    "print obj.count()     \n",
    "print obj.unique()     #出现的元素集合大喜爱\n",
    "# print obj.top()        #频率最高的元素\n",
    "# print obj.freq()       #频率最大值"
   ]
  },
  {
   "cell_type": "markdown",
   "metadata": {},
   "source": [
    "### 3.10.2 相关系数和协方差   \n",
    "pandas.DataFrame.corr¶\n",
    "DataFrame.corr(method='pearson', min_periods=1)\n",
    "Compute pairwise correlation of columns, excluding NA/null values\n",
    "\n",
    "Parameters:\t\n",
    "method : {‘pearson’, ‘kendall’, ‘spearman’}\n",
    "\n",
    "pearson : standard correlation coefficient\n",
    "kendall : Kendall Tau correlation coefficient\n",
    "spearman : Spearman rank correlation\n",
    "min_periods : int, optional\n",
    "\n",
    "Minimum number of observations required per pair of columns to have a valid result. Currently only available for pearson and spearman correlation\n",
    "\n",
    "Returns:\t\n",
    "y : DataFrame   \n",
    "解释：相关系数的取值范围为[-1, 1],当接近1时，表示两者具有强烈的正相关性，比如‘s’和‘x’；当接近-1时，表示有强烈的的负相关性，比如‘s’和‘c’，而若值接近0，则表示相关性很低."
   ]
  },
  {
   "cell_type": "code",
   "execution_count": 74,
   "metadata": {},
   "outputs": [
    {
     "name": "stdout",
     "output_type": "stream",
     "text": [
      "    c  s   x  y\n",
      "p1  5  0   0  0\n",
      "p2  4  1   1  3\n",
      "p3  3  2   2  2\n",
      "p4  2  3   4  4\n",
      "p5  1  4   7  5\n",
      "p6  0  5  10  7\n"
     ]
    }
   ],
   "source": [
    "frame = pd.DataFrame({\n",
    "    'x':[0,1,2,4,7,10],\n",
    "    'y':[0,3,2,4,5,7],\n",
    "    's':[0,1,2,3,4,5],\n",
    "    'c':[5,4,3,2,1,0]\n",
    "},index = ['p1','p2','p3','p4','p5','p6'])\n",
    "\n",
    "print(frame) "
   ]
  },
  {
   "cell_type": "code",
   "execution_count": null,
   "metadata": {
    "collapsed": true
   },
   "outputs": [],
   "source": [
    "corr_matrix = frame.corr()\n",
    "print(corr_matrix)"
   ]
  },
  {
   "cell_type": "code",
   "execution_count": 77,
   "metadata": {},
   "outputs": [
    {
     "name": "stdout",
     "output_type": "stream",
     "text": [
      "     c    s     x    y\n",
      "c  3.5 -3.5  -7.0 -4.3\n",
      "s -3.5  3.5   7.0  4.3\n",
      "x -7.0  7.0  14.8  8.8\n",
      "y -4.3  4.3   8.8  5.9\n"
     ]
    }
   ],
   "source": [
    "cov_matrix = frame.cov()\n",
    "print(cov_matrix)"
   ]
  },
  {
   "cell_type": "markdown",
   "metadata": {},
   "source": [
    "### 3.11.3 唯一值、值计数及成员资格"
   ]
  },
  {
   "cell_type": "code",
   "execution_count": null,
   "metadata": {
    "collapsed": true
   },
   "outputs": [],
   "source": [
    "print obj\n",
    "#唯一值，返回结果是未排序的；如需要可排序\n",
    "print obj.unique()"
   ]
  },
  {
   "cell_type": "code",
   "execution_count": null,
   "metadata": {
    "collapsed": true
   },
   "outputs": [],
   "source": [
    "#值计数,统计一个Series中各值出现的次数\n",
    "print obj.value_counts()\n",
    "#pd.value_counts()是顶级pandas方法，可用于任何数组或序列\n",
    "pd.value_counts(obj)"
   ]
  },
  {
   "cell_type": "code",
   "execution_count": 87,
   "metadata": {},
   "outputs": [
    {
     "name": "stdout",
     "output_type": "stream",
     "text": [
      "0     a\n",
      "1     a\n",
      "2     b\n",
      "3     c\n",
      "4     a\n",
      "5     a\n",
      "6     b\n",
      "7     c\n",
      "8     a\n",
      "9     a\n",
      "10    b\n",
      "11    c\n",
      "12    a\n",
      "13    a\n",
      "14    b\n",
      "15    c\n",
      "dtype: object\n"
     ]
    },
    {
     "data": {
      "text/plain": [
       "0     False\n",
       "1     False\n",
       "2      True\n",
       "3      True\n",
       "4     False\n",
       "5     False\n",
       "6      True\n",
       "7      True\n",
       "8     False\n",
       "9     False\n",
       "10     True\n",
       "11     True\n",
       "12    False\n",
       "13    False\n",
       "14     True\n",
       "15     True\n",
       "dtype: bool"
      ]
     },
     "execution_count": 87,
     "metadata": {},
     "output_type": "execute_result"
    }
   ],
   "source": [
    "#成员资格,计算Series各值是否包含于传入的值序列中的布尔型数组\n",
    "print obj\n",
    "obj.isin(['b','c'])\n"
   ]
  },
  {
   "cell_type": "markdown",
   "metadata": {},
   "source": [
    "## 3.12处理缺失数据   \n",
    "pandas使用NaN(not a number)来标记浮点和非浮点数组中的缺失数据。  \n",
    "np.nan   \n",
    "Python中的None都会被pandas当做NaN"
   ]
  },
  {
   "cell_type": "code",
   "execution_count": 89,
   "metadata": {},
   "outputs": [
    {
     "data": {
      "text/plain": [
       "0      aa\n",
       "1      bb\n",
       "2    ddds\n",
       "3     wdd\n",
       "4     NaN\n",
       "5     ded\n",
       "6    None\n",
       "dtype: object"
      ]
     },
     "execution_count": 89,
     "metadata": {},
     "output_type": "execute_result"
    }
   ],
   "source": [
    "string_series = pd.Series(['aa','bb','ddds','wdd',np.nan,'ded',None])\n",
    "string_series"
   ]
  },
  {
   "cell_type": "markdown",
   "metadata": {},
   "source": [
    "isnull()判断是否是缺失值，notnull()与isnull()相反"
   ]
  },
  {
   "cell_type": "code",
   "execution_count": 90,
   "metadata": {},
   "outputs": [
    {
     "name": "stdout",
     "output_type": "stream",
     "text": [
      "0    False\n",
      "1    False\n",
      "2    False\n",
      "3    False\n",
      "4     True\n",
      "5    False\n",
      "6     True\n",
      "dtype: bool\n"
     ]
    }
   ],
   "source": [
    "print string_series.isnull()"
   ]
  },
  {
   "cell_type": "markdown",
   "metadata": {},
   "source": [
    "滤除缺失数据   "
   ]
  },
  {
   "cell_type": "markdown",
   "metadata": {},
   "source": [
    "Series.dropna(axis=0, inplace=False, **kwargs)[source]   \n",
    "Return a new Series with missing values removed.\n",
    "\n",
    "Parameters:\t\n",
    "axis : {0 or ‘index’}, default 0\n",
    "\n",
    "There is only one axis to drop values from.\n",
    "\n",
    "inplace : bool, default False\n",
    "\n",
    "If True, do operation inplace and return None.\n",
    "\n",
    "**kwargs\n",
    "Returns:\t\n",
    "Series\n",
    "Series with NA entries dropped from it."
   ]
  },
  {
   "cell_type": "code",
   "execution_count": 95,
   "metadata": {},
   "outputs": [
    {
     "name": "stdout",
     "output_type": "stream",
     "text": [
      "0      aa\n",
      "1      bb\n",
      "2    ddds\n",
      "3     wdd\n",
      "4     NaN\n",
      "5     ded\n",
      "6    None\n",
      "dtype: object\n",
      "0      aa\n",
      "1      bb\n",
      "2    ddds\n",
      "3     wdd\n",
      "5     ded\n",
      "dtype: object\n"
     ]
    }
   ],
   "source": [
    "print string_series\n",
    "string_series.dropna()\n",
    "#布尔型数组也可过滤\n",
    "print string_series[string_series.notnull()]"
   ]
  },
  {
   "cell_type": "markdown",
   "metadata": {},
   "source": [
    " DataFrame   \n",
    " DataFrame.dropna(axis=0, how='any', thresh=None, subset=None, inplace=False)   \n",
    " Remove missing values."
   ]
  },
  {
   "cell_type": "code",
   "execution_count": 96,
   "metadata": {},
   "outputs": [
    {
     "data": {
      "text/html": [
       "<div>\n",
       "<table border=\"1\" class=\"dataframe\">\n",
       "  <thead>\n",
       "    <tr style=\"text-align: right;\">\n",
       "      <th></th>\n",
       "      <th>born</th>\n",
       "      <th>name</th>\n",
       "    </tr>\n",
       "  </thead>\n",
       "  <tbody>\n",
       "    <tr>\n",
       "      <th>0</th>\n",
       "      <td>NaT</td>\n",
       "      <td>Alfred</td>\n",
       "    </tr>\n",
       "    <tr>\n",
       "      <th>1</th>\n",
       "      <td>1940-04-25</td>\n",
       "      <td>Batman</td>\n",
       "    </tr>\n",
       "    <tr>\n",
       "      <th>2</th>\n",
       "      <td>NaT</td>\n",
       "      <td>Catwoman</td>\n",
       "    </tr>\n",
       "  </tbody>\n",
       "</table>\n",
       "</div>"
      ],
      "text/plain": [
       "        born      name\n",
       "0        NaT    Alfred\n",
       "1 1940-04-25    Batman\n",
       "2        NaT  Catwoman"
      ]
     },
     "execution_count": 96,
     "metadata": {},
     "output_type": "execute_result"
    }
   ],
   "source": [
    "frame = pd.DataFrame({\"name\": ['Alfred', 'Batman', 'Catwoman'],\n",
    "                    \"born\": [pd.NaT, pd.Timestamp(\"1940-04-25\"),\n",
    "                             pd.NaT]})\n",
    "frame"
   ]
  },
  {
   "cell_type": "code",
   "execution_count": null,
   "metadata": {
    "collapsed": true
   },
   "outputs": [],
   "source": [
    "#删除存在缺失值的行\n",
    "frame.dropna()#"
   ]
  },
  {
   "cell_type": "code",
   "execution_count": 99,
   "metadata": {},
   "outputs": [
    {
     "name": "stdout",
     "output_type": "stream",
     "text": [
      "       name\n",
      "0    Alfred\n",
      "1    Batman\n",
      "2  Catwoman\n",
      "       name\n",
      "0    Alfred\n",
      "1    Batman\n",
      "2  Catwoman\n"
     ]
    }
   ],
   "source": [
    "#删除存在缺失值的列\n",
    "print frame.dropna(axis = 1)\n",
    "print frame.dropna(axis = 'columns')"
   ]
  },
  {
   "cell_type": "markdown",
   "metadata": {},
   "source": [
    "填充缺失数据"
   ]
  },
  {
   "cell_type": "markdown",
   "metadata": {},
   "source": [
    "Series   \n",
    "Series.fillna(value=None, method=None, axis=None, inplace=False, limit=None, downcast=None, **kwargs)   \n",
    "Fill NA/NaN values using the specified method"
   ]
  },
  {
   "cell_type": "code",
   "execution_count": 104,
   "metadata": {},
   "outputs": [
    {
     "data": {
      "text/html": [
       "<div>\n",
       "<table border=\"1\" class=\"dataframe\">\n",
       "  <thead>\n",
       "    <tr style=\"text-align: right;\">\n",
       "      <th></th>\n",
       "      <th>A</th>\n",
       "      <th>B</th>\n",
       "      <th>C</th>\n",
       "      <th>D</th>\n",
       "    </tr>\n",
       "  </thead>\n",
       "  <tbody>\n",
       "    <tr>\n",
       "      <th>0</th>\n",
       "      <td>NaN</td>\n",
       "      <td>2.0</td>\n",
       "      <td>NaN</td>\n",
       "      <td>0</td>\n",
       "    </tr>\n",
       "    <tr>\n",
       "      <th>1</th>\n",
       "      <td>3.0</td>\n",
       "      <td>4.0</td>\n",
       "      <td>NaN</td>\n",
       "      <td>1</td>\n",
       "    </tr>\n",
       "    <tr>\n",
       "      <th>2</th>\n",
       "      <td>NaN</td>\n",
       "      <td>NaN</td>\n",
       "      <td>NaN</td>\n",
       "      <td>5</td>\n",
       "    </tr>\n",
       "    <tr>\n",
       "      <th>3</th>\n",
       "      <td>NaN</td>\n",
       "      <td>3.0</td>\n",
       "      <td>NaN</td>\n",
       "      <td>4</td>\n",
       "    </tr>\n",
       "  </tbody>\n",
       "</table>\n",
       "</div>"
      ],
      "text/plain": [
       "     A    B   C  D\n",
       "0  NaN  2.0 NaN  0\n",
       "1  3.0  4.0 NaN  1\n",
       "2  NaN  NaN NaN  5\n",
       "3  NaN  3.0 NaN  4"
      ]
     },
     "execution_count": 104,
     "metadata": {},
     "output_type": "execute_result"
    }
   ],
   "source": [
    "frame  = pd.DataFrame([[np.nan, 2, np.nan, 0],\n",
    "                    [3, 4, np.nan, 1],\n",
    "                    [np.nan, np.nan, np.nan, 5],\n",
    "                    [np.nan, 3, np.nan, 4]],\n",
    "                    columns=list('ABCD'))\n",
    "frame"
   ]
  },
  {
   "cell_type": "markdown",
   "metadata": {},
   "source": [
    "用0填充所有NaN值"
   ]
  },
  {
   "cell_type": "code",
   "execution_count": 105,
   "metadata": {},
   "outputs": [
    {
     "name": "stdout",
     "output_type": "stream",
     "text": [
      "     A    B    C  D\n",
      "0  0.0  2.0  0.0  0\n",
      "1  3.0  4.0  0.0  1\n",
      "2  0.0  0.0  0.0  5\n",
      "3  0.0  3.0  0.0  4\n"
     ]
    }
   ],
   "source": [
    "print frame.fillna(0)"
   ]
  },
  {
   "cell_type": "markdown",
   "metadata": {},
   "source": [
    "使用非NaN值对NaN值进行前向或后向填充"
   ]
  },
  {
   "cell_type": "code",
   "execution_count": 106,
   "metadata": {},
   "outputs": [
    {
     "name": "stdout",
     "output_type": "stream",
     "text": [
      "     A    B   C  D\n",
      "0  NaN  2.0 NaN  0\n",
      "1  3.0  4.0 NaN  1\n",
      "2  3.0  4.0 NaN  5\n",
      "3  3.0  3.0 NaN  4\n"
     ]
    }
   ],
   "source": [
    "print frame.fillna(method='ffill')#前向"
   ]
  },
  {
   "cell_type": "markdown",
   "metadata": {},
   "source": [
    "填充所有NaN值，其中‘A’列用0填充, ‘B’列用1填充, ‘C’列用2填充"
   ]
  },
  {
   "cell_type": "code",
   "execution_count": 108,
   "metadata": {},
   "outputs": [
    {
     "name": "stdout",
     "output_type": "stream",
     "text": [
      "     A    B    C  D\n",
      "0  0.0  2.0  2.0  0\n",
      "1  3.0  4.0  2.0  1\n",
      "2  0.0  1.0  2.0  5\n",
      "3  0.0  3.0  2.0  4\n"
     ]
    }
   ],
   "source": [
    "values = {'A': 0, 'B': 1, 'C': 2, 'D': 3}\n",
    "print frame.fillna(value=values)"
   ]
  }
 ],
 "metadata": {
  "kernelspec": {
   "display_name": "Python 3",
   "language": "python",
   "name": "python3"
  },
  "language_info": {
   "codemirror_mode": {
    "name": "ipython",
    "version": 3
   },
   "file_extension": ".py",
   "mimetype": "text/x-python",
   "name": "python",
   "nbconvert_exporter": "python",
   "pygments_lexer": "ipython3",
   "version": "3.7.0"
  }
 },
 "nbformat": 4,
 "nbformat_minor": 1
}
