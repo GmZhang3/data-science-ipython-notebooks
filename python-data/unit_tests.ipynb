{
 "cells": [
  {
   "cell_type": "markdown",
   "metadata": {},
   "source": [
    "This notebook was prepared by [Donne Martin](http://donnemartin.com). Source and license info is on [GitHub](https://github.com/donnemartin/data-science-ipython-notebooks)."
   ]
  },
  {
   "cell_type": "markdown",
   "metadata": {},
   "source": [
    "# Nose Unit Tests with IPython Notebook"
   ]
  },
  {
   "cell_type": "markdown",
   "metadata": {},
   "source": [
    "## Nose\n",
    "\n",
    "Testing is a vital part of software development.  Nose extends unittest to make testing easier."
   ]
  },
  {
   "cell_type": "markdown",
   "metadata": {},
   "source": [
    "## Install Nose\n",
    "\n",
    "Run the following command line:"
   ]
  },
  {
   "cell_type": "code",
   "execution_count": 1,
   "metadata": {
    "collapsed": false
   },
   "outputs": [
    {
     "name": "stdout",
     "output_type": "stream",
     "text": [
      "Requirement already satisfied: nose in d:\\software\\install\\anaconda2\\lib\\site-packages (1.3.7)\n"
     ]
    },
    {
     "name": "stderr",
     "output_type": "stream",
     "text": [
      "You are using pip version 18.1, however version 19.0.3 is available.\n",
      "You should consider upgrading via the 'python -m pip install --upgrade pip' command.\n"
     ]
    }
   ],
   "source": [
    "!pip install nose"
   ]
  },
  {
   "cell_type": "markdown",
   "metadata": {},
   "source": [
    "## Create the Code\n",
    "\n",
    "Save your code to a file with the %%file magic:"
   ]
  },
  {
   "cell_type": "code",
   "execution_count": 2,
   "metadata": {
    "collapsed": false
   },
   "outputs": [
    {
     "name": "stdout",
     "output_type": "stream",
     "text": [
      "Overwriting type_util.py\n"
     ]
    }
   ],
   "source": [
    "%%file type_util.py\n",
    "class TypeUtil:\n",
    "\n",
    "    @classmethod\n",
    "    def is_iterable(cls, obj):\n",
    "        \"\"\"Determines if obj is iterable.\n",
    "\n",
    "        Useful when writing functions that can accept multiple types of\n",
    "        input (list, tuple, ndarray, iterator).  Pairs well with\n",
    "        convert_to_list.\n",
    "        \"\"\"\n",
    "        try:\n",
    "            iter(obj)\n",
    "            return True\n",
    "        except TypeError:\n",
    "            return False\n",
    "\n",
    "    @classmethod\n",
    "    def convert_to_list(cls, obj):\n",
    "        \"\"\"Converts obj to a list if it is not a list and it is iterable, \n",
    "        else returns the original obj.\n",
    "        \"\"\"\n",
    "        if not isinstance(obj, list) and cls.is_iterable(obj):\n",
    "            obj = list(obj)\n",
    "        return obj\n"
   ]
  },
  {
   "cell_type": "markdown",
   "metadata": {},
   "source": [
    "## Create the Nose Tests\n",
    "\n",
    "Save your test to a file with the %%file magic:"
   ]
  },
  {
   "cell_type": "code",
   "execution_count": 13,
   "metadata": {
    "collapsed": false
   },
   "outputs": [
    {
     "name": "stdout",
     "output_type": "stream",
     "text": [
      "Overwriting tests/test_type_util.py\n"
     ]
    }
   ],
   "source": [
    "%%file tests/test_type_util.py\n",
    "import sys\n",
    "sys.path.append(\"..\") # Adds higher directory to python modules path.\n",
    "import os\n",
    "print os.getcwd()\n",
    "from nose.tools import assert_equal\n",
    "from type_util import TypeUtil\n",
    "\n",
    "\n",
    "class TestUtil():\n",
    "\n",
    "    def test_is_iterable(self):\n",
    "        assert_equal(TypeUtil.is_iterable('foo'), True)\n",
    "        assert_equal(TypeUtil.is_iterable(7), False)\n",
    "\n",
    "    def test_convert_to_list(self):\n",
    "        assert_equal(isinstance(TypeUtil.convert_to_list('foo'), list), True)\n",
    "        assert_equal(isinstance(TypeUtil.convert_to_list(7), list), False)"
   ]
  },
  {
   "cell_type": "markdown",
   "metadata": {},
   "source": [
    "## Run the Nose Tests\n",
    "\n",
    "Run the following command line:"
   ]
  },
  {
   "cell_type": "code",
   "execution_count": 15,
   "metadata": {
    "collapsed": false
   },
   "outputs": [
    {
     "name": "stdout",
     "output_type": "stream",
     "text": [
      "D:\\codeReposities\\data-science-ipython-notebooks\\python-data\n"
     ]
    }
   ],
   "source": [
    "import os\n",
    "print os.getcwd()\n"
   ]
  },
  {
   "cell_type": "code",
   "execution_count": 18,
   "metadata": {
    "collapsed": false
   },
   "outputs": [
    {
     "name": "stderr",
     "output_type": "stream",
     "text": [
      "Failure: ImportError (No module named type_util) ... ERROR\n",
      "\n",
      "======================================================================\n",
      "ERROR: Failure: ImportError (No module named type_util)\n",
      "----------------------------------------------------------------------\n",
      "Traceback (most recent call last):\n",
      "  File \"D:\\software\\install\\Anaconda2\\lib\\site-packages\\nose\\loader.py\", line 418, in loadTestsFromName\n",
      "    addr.filename, addr.module)\n",
      "  File \"D:\\software\\install\\Anaconda2\\lib\\site-packages\\nose\\importer.py\", line 47, in importFromPath\n",
      "    return self.importFromDir(dir_path, fqname)\n",
      "  File \"D:\\software\\install\\Anaconda2\\lib\\site-packages\\nose\\importer.py\", line 94, in importFromDir\n",
      "    mod = load_module(part_fqname, fh, filename, desc)\n",
      "  File \"D:\\codeReposities\\data-science-ipython-notebooks\\python-data\\tests\\test_type_util.py\", line 6, in <module>\n",
      "    from type_util import TypeUtil\n",
      "ImportError: No module named type_util\n",
      "\n",
      "----------------------------------------------------------------------\n",
      "Ran 1 test in 0.000s\n",
      "\n",
      "FAILED (errors=1)\n"
     ]
    }
   ],
   "source": [
    "!nosetests tests/test_type_util.py -v"
   ]
  }
 ],
 "metadata": {
  "kernelspec": {
   "display_name": "Python 2",
   "language": "python",
   "name": "python2"
  },
  "language_info": {
   "codemirror_mode": {
    "name": "ipython",
    "version": 2
   },
   "file_extension": ".py",
   "mimetype": "text/x-python",
   "name": "python",
   "nbconvert_exporter": "python",
   "pygments_lexer": "ipython2",
   "version": "2.7.11"
  }
 },
 "nbformat": 4,
 "nbformat_minor": 0
}
