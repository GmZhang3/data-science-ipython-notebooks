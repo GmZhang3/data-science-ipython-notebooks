{
 "cells": [
  {
   "cell_type": "markdown",
   "metadata": {},
   "source": [
    "### Send an Email with smtplib"
   ]
  },
  {
   "cell_type": "code",
   "execution_count": 6,
   "metadata": {
    "collapsed": false
   },
   "outputs": [],
   "source": [
    "import smtplib\n",
    "\n",
    "def send_email(host, subject, to_addr, from_addr, from_addr_pwd, body_text):\n",
    "    \"\"\"\n",
    "    Send an email\n",
    "    \"\"\"\n",
    "    BODY = \"\\r\\n\".join((\n",
    "            \"From: %s\" % from_addr,\n",
    "            \"To: %s\" % to_addr,\n",
    "            \"Subject: %s\" % subject ,\n",
    "            \"\",\n",
    "            body_text\n",
    "            ))\n",
    "    server = smtplib.SMTP(host)\n",
    "    \n",
    "    server.login(from_addr, from_addr_pwd)\n",
    "    server.sendmail(from_addr, [to_addr], BODY)\n",
    "    server.quit()\n",
    "\n",
    "if __name__ == \"__main__\":\n",
    "    host = \"smtp.126.com\"\n",
    "    subject = \"Test email from Python\"\n",
    "    to_addr = \"gmzone@126.com\"\n",
    "    from_addr = \"gmzone@126.com\"\n",
    "    from_addr_pwd = \"gogo789\"\n",
    "    body_text = \"Python rules them all!\"\n",
    "    send_email(host, subject, to_addr, from_addr, from_addr_pwd,body_text)"
   ]
  }
 ],
 "metadata": {
  "kernelspec": {
   "display_name": "Python 3",
   "language": "python",
   "name": "python3"
  },
  "language_info": {
   "codemirror_mode": {
    "name": "ipython",
    "version": 3
   },
   "file_extension": ".py",
   "mimetype": "text/x-python",
   "name": "python",
   "nbconvert_exporter": "python",
   "pygments_lexer": "ipython3",
   "version": "3.6.2"
  }
 },
 "nbformat": 4,
 "nbformat_minor": 0
}
