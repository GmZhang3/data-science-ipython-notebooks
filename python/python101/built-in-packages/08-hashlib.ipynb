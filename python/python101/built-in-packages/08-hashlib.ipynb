{
 "cells": [
  {
   "cell_type": "markdown",
   "metadata": {},
   "source": [
    "### MD5摘要算法\n",
    "以常见的摘要算法MD5为例，计算出一个字符串的MD5值"
   ]
  },
  {
   "cell_type": "code",
   "execution_count": 2,
   "metadata": {
    "collapsed": false
   },
   "outputs": [
    {
     "name": "stdout",
     "output_type": "stream",
     "text": [
      "d26a53750bc40b38b65a520292f69306\n"
     ]
    }
   ],
   "source": [
    "import hashlib\n",
    "\n",
    "md5 = hashlib.md5()\n",
    "md5.update('how to use md5 in python hashlib?'.encode('utf-8'))\n",
    "print(md5.hexdigest())"
   ]
  },
  {
   "cell_type": "markdown",
   "metadata": {},
   "source": [
    "### SHA1摘要算法"
   ]
  },
  {
   "cell_type": "code",
   "execution_count": 5,
   "metadata": {
    "collapsed": false
   },
   "outputs": [
    {
     "name": "stdout",
     "output_type": "stream",
     "text": [
      "80d11a9835ba1f36b995f1e27b5920b42d9c6fdd\n"
     ]
    }
   ],
   "source": [
    "import hashlib\n",
    "\n",
    "sha1 = hashlib.sha1()\n",
    "sha1.update('how to use sha1 in '.encode('utf-8'))\n",
    "print(sha1.hexdigest())"
   ]
  },
  {
   "cell_type": "code",
   "execution_count": null,
   "metadata": {
    "collapsed": true
   },
   "outputs": [],
   "source": []
  }
 ],
 "metadata": {
  "kernelspec": {
   "display_name": "Python 3",
   "language": "python",
   "name": "python3"
  },
  "language_info": {
   "codemirror_mode": {
    "name": "ipython",
    "version": 3
   },
   "file_extension": ".py",
   "mimetype": "text/x-python",
   "name": "python",
   "nbconvert_exporter": "python",
   "pygments_lexer": "ipython3",
   "version": "3.6.2"
  }
 },
 "nbformat": 4,
 "nbformat_minor": 0
}
