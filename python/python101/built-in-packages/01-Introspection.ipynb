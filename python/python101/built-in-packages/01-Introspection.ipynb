{
 "cells": [
  {
   "cell_type": "markdown",
   "metadata": {},
   "source": [
    "## type\n",
    "\n",
    "Python can tell you what type of variable you have or what type is returned from a function. "
   ]
  },
  {
   "cell_type": "code",
   "execution_count": 3,
   "metadata": {
    "collapsed": false
   },
   "outputs": [
    {
     "name": "stdout",
     "output_type": "stream",
     "text": [
      "<class 'str'>\n",
      "<class 'int'>\n",
      "<class 'NoneType'>\n"
     ]
    }
   ],
   "source": [
    "x = \"test\"\n",
    "y = 7\n",
    "z = None\n",
    "print(type(x))\n",
    "print(type(y))\n",
    "print(type(z))"
   ]
  },
  {
   "cell_type": "markdown",
   "metadata": {},
   "source": [
    "## dir\n",
    "\n",
    "the dir keyword is used to tell the programmer what attributes and methods there are in the passed in object. "
   ]
  },
  {
   "cell_type": "code",
   "execution_count": 5,
   "metadata": {
    "collapsed": false
   },
   "outputs": [
    {
     "data": {
      "text/plain": [
       "['__add__',\n",
       " '__class__',\n",
       " '__contains__',\n",
       " '__delattr__',\n",
       " '__dir__',\n",
       " '__doc__',\n",
       " '__eq__',\n",
       " '__format__',\n",
       " '__ge__',\n",
       " '__getattribute__',\n",
       " '__getitem__',\n",
       " '__getnewargs__',\n",
       " '__gt__',\n",
       " '__hash__',\n",
       " '__init__',\n",
       " '__init_subclass__',\n",
       " '__iter__',\n",
       " '__le__',\n",
       " '__len__',\n",
       " '__lt__',\n",
       " '__mod__',\n",
       " '__mul__',\n",
       " '__ne__',\n",
       " '__new__',\n",
       " '__reduce__',\n",
       " '__reduce_ex__',\n",
       " '__repr__',\n",
       " '__rmod__',\n",
       " '__rmul__',\n",
       " '__setattr__',\n",
       " '__sizeof__',\n",
       " '__str__',\n",
       " '__subclasshook__',\n",
       " 'capitalize',\n",
       " 'casefold',\n",
       " 'center',\n",
       " 'count',\n",
       " 'encode',\n",
       " 'endswith',\n",
       " 'expandtabs',\n",
       " 'find',\n",
       " 'format',\n",
       " 'format_map',\n",
       " 'index',\n",
       " 'isalnum',\n",
       " 'isalpha',\n",
       " 'isdecimal',\n",
       " 'isdigit',\n",
       " 'isidentifier',\n",
       " 'islower',\n",
       " 'isnumeric',\n",
       " 'isprintable',\n",
       " 'isspace',\n",
       " 'istitle',\n",
       " 'isupper',\n",
       " 'join',\n",
       " 'ljust',\n",
       " 'lower',\n",
       " 'lstrip',\n",
       " 'maketrans',\n",
       " 'partition',\n",
       " 'replace',\n",
       " 'rfind',\n",
       " 'rindex',\n",
       " 'rjust',\n",
       " 'rpartition',\n",
       " 'rsplit',\n",
       " 'rstrip',\n",
       " 'split',\n",
       " 'splitlines',\n",
       " 'startswith',\n",
       " 'strip',\n",
       " 'swapcase',\n",
       " 'title',\n",
       " 'translate',\n",
       " 'upper',\n",
       " 'zfill']"
      ]
     },
     "execution_count": 5,
     "metadata": {},
     "output_type": "execute_result"
    }
   ],
   "source": [
    "dir('test')"
   ]
  },
  {
   "cell_type": "code",
   "execution_count": 7,
   "metadata": {
    "collapsed": false
   },
   "outputs": [
    {
     "data": {
      "text/plain": [
       "['DirEntry',\n",
       " 'F_OK',\n",
       " 'MutableMapping',\n",
       " 'O_APPEND',\n",
       " 'O_BINARY',\n",
       " 'O_CREAT',\n",
       " 'O_EXCL',\n",
       " 'O_NOINHERIT',\n",
       " 'O_RANDOM',\n",
       " 'O_RDONLY',\n",
       " 'O_RDWR',\n",
       " 'O_SEQUENTIAL',\n",
       " 'O_SHORT_LIVED',\n",
       " 'O_TEMPORARY',\n",
       " 'O_TEXT',\n",
       " 'O_TRUNC',\n",
       " 'O_WRONLY',\n",
       " 'P_DETACH',\n",
       " 'P_NOWAIT',\n",
       " 'P_NOWAITO',\n",
       " 'P_OVERLAY',\n",
       " 'P_WAIT',\n",
       " 'PathLike',\n",
       " 'R_OK',\n",
       " 'SEEK_CUR',\n",
       " 'SEEK_END',\n",
       " 'SEEK_SET',\n",
       " 'TMP_MAX',\n",
       " 'W_OK',\n",
       " 'X_OK',\n",
       " '_Environ',\n",
       " '__all__',\n",
       " '__builtins__',\n",
       " '__cached__',\n",
       " '__doc__',\n",
       " '__file__',\n",
       " '__loader__',\n",
       " '__name__',\n",
       " '__package__',\n",
       " '__spec__',\n",
       " '_execvpe',\n",
       " '_exists',\n",
       " '_exit',\n",
       " '_fspath',\n",
       " '_get_exports_list',\n",
       " '_putenv',\n",
       " '_unsetenv',\n",
       " '_wrap_close',\n",
       " 'abc',\n",
       " 'abort',\n",
       " 'access',\n",
       " 'altsep',\n",
       " 'chdir',\n",
       " 'chmod',\n",
       " 'close',\n",
       " 'closerange',\n",
       " 'cpu_count',\n",
       " 'curdir',\n",
       " 'defpath',\n",
       " 'device_encoding',\n",
       " 'devnull',\n",
       " 'dup',\n",
       " 'dup2',\n",
       " 'environ',\n",
       " 'errno',\n",
       " 'error',\n",
       " 'execl',\n",
       " 'execle',\n",
       " 'execlp',\n",
       " 'execlpe',\n",
       " 'execv',\n",
       " 'execve',\n",
       " 'execvp',\n",
       " 'execvpe',\n",
       " 'extsep',\n",
       " 'fdopen',\n",
       " 'fsdecode',\n",
       " 'fsencode',\n",
       " 'fspath',\n",
       " 'fstat',\n",
       " 'fsync',\n",
       " 'ftruncate',\n",
       " 'get_exec_path',\n",
       " 'get_handle_inheritable',\n",
       " 'get_inheritable',\n",
       " 'get_terminal_size',\n",
       " 'getcwd',\n",
       " 'getcwdb',\n",
       " 'getenv',\n",
       " 'getlogin',\n",
       " 'getpid',\n",
       " 'getppid',\n",
       " 'isatty',\n",
       " 'kill',\n",
       " 'linesep',\n",
       " 'link',\n",
       " 'listdir',\n",
       " 'lseek',\n",
       " 'lstat',\n",
       " 'makedirs',\n",
       " 'mkdir',\n",
       " 'name',\n",
       " 'open',\n",
       " 'pardir',\n",
       " 'path',\n",
       " 'pathsep',\n",
       " 'pipe',\n",
       " 'popen',\n",
       " 'putenv',\n",
       " 'read',\n",
       " 'readlink',\n",
       " 'remove',\n",
       " 'removedirs',\n",
       " 'rename',\n",
       " 'renames',\n",
       " 'replace',\n",
       " 'rmdir',\n",
       " 'scandir',\n",
       " 'sep',\n",
       " 'set_handle_inheritable',\n",
       " 'set_inheritable',\n",
       " 'spawnl',\n",
       " 'spawnle',\n",
       " 'spawnv',\n",
       " 'spawnve',\n",
       " 'st',\n",
       " 'startfile',\n",
       " 'stat',\n",
       " 'stat_float_times',\n",
       " 'stat_result',\n",
       " 'statvfs_result',\n",
       " 'strerror',\n",
       " 'supports_bytes_environ',\n",
       " 'supports_dir_fd',\n",
       " 'supports_effective_ids',\n",
       " 'supports_fd',\n",
       " 'supports_follow_symlinks',\n",
       " 'symlink',\n",
       " 'sys',\n",
       " 'system',\n",
       " 'terminal_size',\n",
       " 'times',\n",
       " 'times_result',\n",
       " 'truncate',\n",
       " 'umask',\n",
       " 'uname_result',\n",
       " 'unlink',\n",
       " 'urandom',\n",
       " 'utime',\n",
       " 'waitpid',\n",
       " 'walk',\n",
       " 'write']"
      ]
     },
     "execution_count": 7,
     "metadata": {},
     "output_type": "execute_result"
    }
   ],
   "source": [
    "import os\n",
    "dir(os)"
   ]
  },
  {
   "cell_type": "markdown",
   "metadata": {},
   "source": [
    "## pdir\n",
    "\n",
    "pdir2: Pretty dir() printing with joy\n",
    "\n",
    "pip install pdir2\n",
    "\n",
    "import pdir"
   ]
  },
  {
   "cell_type": "code",
   "execution_count": 8,
   "metadata": {
    "collapsed": false
   },
   "outputs": [
    {
     "name": "stdout",
     "output_type": "stream",
     "text": [
      "Requirement already satisfied: pdir2 in d:\\software\\install\\anaconda2\\lib\\site-packages (0.3.1.post2)\n",
      "Requirement already satisfied: colorama; platform_system == \"Windows\" in d:\\software\\install\\anaconda2\\lib\\site-packages (from pdir2) (0.3.7)\n",
      "Requirement already satisfied: enum34; python_version < \"3.4\" in d:\\software\\install\\anaconda2\\lib\\site-packages (from pdir2) (1.1.2)\n"
     ]
    },
    {
     "name": "stderr",
     "output_type": "stream",
     "text": [
      "You are using pip version 18.1, however version 19.0.3 is available.\n",
      "You should consider upgrading via the 'python -m pip install --upgrade pip' command.\n"
     ]
    }
   ],
   "source": [
    "!pip install pdir2"
   ]
  },
  {
   "cell_type": "code",
   "execution_count": 13,
   "metadata": {
    "collapsed": false
   },
   "outputs": [
    {
     "data": {
      "text/plain": [
       "\u001b[0;33mspecial attribute:\u001b[0m\n",
       "    \u001b[0;36m__class__\u001b[0m\u001b[1;30m, \u001b[0m\u001b[0;36m__doc__\u001b[0m\n",
       "\u001b[0;33mabstract class:\u001b[0m\n",
       "    \u001b[0;36m__subclasshook__\u001b[0m\n",
       "\u001b[0;33marithmetic:\u001b[0m\n",
       "    \u001b[0;36m__add__\u001b[0m\u001b[1;30m, \u001b[0m\u001b[0;36m__mod__\u001b[0m\u001b[1;30m, \u001b[0m\u001b[0;36m__mul__\u001b[0m\u001b[1;30m, \u001b[0m\u001b[0;36m__rmod__\u001b[0m\u001b[1;30m, \u001b[0m\u001b[0;36m__rmul__\u001b[0m\n",
       "\u001b[0;33mobject customization:\u001b[0m\n",
       "    \u001b[0;36m__format__\u001b[0m\u001b[1;30m, \u001b[0m\u001b[0;36m__hash__\u001b[0m\u001b[1;30m, \u001b[0m\u001b[0;36m__init__\u001b[0m\u001b[1;30m, \u001b[0m\u001b[0;36m__new__\u001b[0m\u001b[1;30m, \u001b[0m\u001b[0;36m__repr__\u001b[0m\u001b[1;30m, \u001b[0m\u001b[0;36m__sizeof__\u001b[0m\u001b[1;30m, \u001b[0m\u001b[0;36m__str__\u001b[0m\n",
       "\u001b[0;33mrich comparison:\u001b[0m\n",
       "    \u001b[0;36m__eq__\u001b[0m\u001b[1;30m, \u001b[0m\u001b[0;36m__ge__\u001b[0m\u001b[1;30m, \u001b[0m\u001b[0;36m__gt__\u001b[0m\u001b[1;30m, \u001b[0m\u001b[0;36m__le__\u001b[0m\u001b[1;30m, \u001b[0m\u001b[0;36m__lt__\u001b[0m\u001b[1;30m, \u001b[0m\u001b[0;36m__ne__\u001b[0m\n",
       "\u001b[0;33mattribute access:\u001b[0m\n",
       "    \u001b[0;36m__delattr__\u001b[0m\u001b[1;30m, \u001b[0m\u001b[0;36m__dir__\u001b[0m\u001b[1;30m, \u001b[0m\u001b[0;36m__getattribute__\u001b[0m\u001b[1;30m, \u001b[0m\u001b[0;36m__setattr__\u001b[0m\n",
       "\u001b[0;33mclass customization:\u001b[0m\n",
       "    \u001b[0;36m__init_subclass__\u001b[0m\n",
       "\u001b[0;33mcontainer:\u001b[0m\n",
       "    \u001b[0;36m__contains__\u001b[0m\u001b[1;30m, \u001b[0m\u001b[0;36m__getitem__\u001b[0m\u001b[1;30m, \u001b[0m\u001b[0;36m__iter__\u001b[0m\u001b[1;30m, \u001b[0m\u001b[0;36m__len__\u001b[0m\n",
       "\u001b[0;33mpickle:\u001b[0m\n",
       "    \u001b[0;36m__getnewargs__\u001b[0m\u001b[1;30m, \u001b[0m\u001b[0;36m__reduce__\u001b[0m\u001b[1;30m, \u001b[0m\u001b[0;36m__reduce_ex__\u001b[0m\n",
       "\u001b[0;33mstatic method:\u001b[0m\n",
       "    \u001b[0;36mmaketrans\u001b[0m\u001b[0;36m: \u001b[0m\u001b[1;30mstaticmethod(function) -> method\u001b[0m\n",
       "\u001b[0;33mfunction:\u001b[0m\n",
       "    \u001b[0;36mcapitalize\u001b[0m\u001b[0;36m: \u001b[0m\u001b[1;30mS.capitalize() -> str\u001b[0m\n",
       "    \u001b[0;36mcasefold\u001b[0m\u001b[0;36m: \u001b[0m\u001b[1;30mS.casefold() -> str\u001b[0m\n",
       "    \u001b[0;36mcenter\u001b[0m\u001b[0;36m: \u001b[0m\u001b[1;30mS.center(width[, fillchar]) -> str\u001b[0m\n",
       "    \u001b[0;36mcount\u001b[0m\u001b[0;36m: \u001b[0m\u001b[1;30mS.count(sub[, start[, end]]) -> int\u001b[0m\n",
       "    \u001b[0;36mencode\u001b[0m\u001b[0;36m: \u001b[0m\u001b[1;30mS.encode(encoding='utf-8', errors='strict') -> bytes\u001b[0m\n",
       "    \u001b[0;36mendswith\u001b[0m\u001b[0;36m: \u001b[0m\u001b[1;30mS.endswith(suffix[, start[, end]]) -> bool\u001b[0m\n",
       "    \u001b[0;36mexpandtabs\u001b[0m\u001b[0;36m: \u001b[0m\u001b[1;30mS.expandtabs(tabsize=8) -> str\u001b[0m\n",
       "    \u001b[0;36mfind\u001b[0m\u001b[0;36m: \u001b[0m\u001b[1;30mS.find(sub[, start[, end]]) -> int\u001b[0m\n",
       "    \u001b[0;36mformat\u001b[0m\u001b[0;36m: \u001b[0m\u001b[1;30mS.format(*args, **kwargs) -> str\u001b[0m\n",
       "    \u001b[0;36mformat_map\u001b[0m\u001b[0;36m: \u001b[0m\u001b[1;30mS.format_map(mapping) -> str\u001b[0m\n",
       "    \u001b[0;36mindex\u001b[0m\u001b[0;36m: \u001b[0m\u001b[1;30mS.index(sub[, start[, end]]) -> int\u001b[0m\n",
       "    \u001b[0;36misalnum\u001b[0m\u001b[0;36m: \u001b[0m\u001b[1;30mS.isalnum() -> bool\u001b[0m\n",
       "    \u001b[0;36misalpha\u001b[0m\u001b[0;36m: \u001b[0m\u001b[1;30mS.isalpha() -> bool\u001b[0m\n",
       "    \u001b[0;36misdecimal\u001b[0m\u001b[0;36m: \u001b[0m\u001b[1;30mS.isdecimal() -> bool\u001b[0m\n",
       "    \u001b[0;36misdigit\u001b[0m\u001b[0;36m: \u001b[0m\u001b[1;30mS.isdigit() -> bool\u001b[0m\n",
       "    \u001b[0;36misidentifier\u001b[0m\u001b[0;36m: \u001b[0m\u001b[1;30mS.isidentifier() -> bool\u001b[0m\n",
       "    \u001b[0;36mislower\u001b[0m\u001b[0;36m: \u001b[0m\u001b[1;30mS.islower() -> bool\u001b[0m\n",
       "    \u001b[0;36misnumeric\u001b[0m\u001b[0;36m: \u001b[0m\u001b[1;30mS.isnumeric() -> bool\u001b[0m\n",
       "    \u001b[0;36misprintable\u001b[0m\u001b[0;36m: \u001b[0m\u001b[1;30mS.isprintable() -> bool\u001b[0m\n",
       "    \u001b[0;36misspace\u001b[0m\u001b[0;36m: \u001b[0m\u001b[1;30mS.isspace() -> bool\u001b[0m\n",
       "    \u001b[0;36mistitle\u001b[0m\u001b[0;36m: \u001b[0m\u001b[1;30mS.istitle() -> bool\u001b[0m\n",
       "    \u001b[0;36misupper\u001b[0m\u001b[0;36m: \u001b[0m\u001b[1;30mS.isupper() -> bool\u001b[0m\n",
       "    \u001b[0;36mjoin\u001b[0m\u001b[0;36m: \u001b[0m\u001b[1;30mS.join(iterable) -> str\u001b[0m\n",
       "    \u001b[0;36mljust\u001b[0m\u001b[0;36m: \u001b[0m\u001b[1;30mS.ljust(width[, fillchar]) -> str\u001b[0m\n",
       "    \u001b[0;36mlower\u001b[0m\u001b[0;36m: \u001b[0m\u001b[1;30mS.lower() -> str\u001b[0m\n",
       "    \u001b[0;36mlstrip\u001b[0m\u001b[0;36m: \u001b[0m\u001b[1;30mS.lstrip([chars]) -> str\u001b[0m\n",
       "    \u001b[0;36mpartition\u001b[0m\u001b[0;36m: \u001b[0m\u001b[1;30mS.partition(sep) -> (head, sep, tail)\u001b[0m\n",
       "    \u001b[0;36mreplace\u001b[0m\u001b[0;36m: \u001b[0m\u001b[1;30mS.replace(old, new[, count]) -> str\u001b[0m\n",
       "    \u001b[0;36mrfind\u001b[0m\u001b[0;36m: \u001b[0m\u001b[1;30mS.rfind(sub[, start[, end]]) -> int\u001b[0m\n",
       "    \u001b[0;36mrindex\u001b[0m\u001b[0;36m: \u001b[0m\u001b[1;30mS.rindex(sub[, start[, end]]) -> int\u001b[0m\n",
       "    \u001b[0;36mrjust\u001b[0m\u001b[0;36m: \u001b[0m\u001b[1;30mS.rjust(width[, fillchar]) -> str\u001b[0m\n",
       "    \u001b[0;36mrpartition\u001b[0m\u001b[0;36m: \u001b[0m\u001b[1;30mS.rpartition(sep) -> (head, sep, tail)\u001b[0m\n",
       "    \u001b[0;36mrsplit\u001b[0m\u001b[0;36m: \u001b[0m\u001b[1;30mS.rsplit(sep=None, maxsplit=-1) -> list of strings\u001b[0m\n",
       "    \u001b[0;36mrstrip\u001b[0m\u001b[0;36m: \u001b[0m\u001b[1;30mS.rstrip([chars]) -> str\u001b[0m\n",
       "    \u001b[0;36msplit\u001b[0m\u001b[0;36m: \u001b[0m\u001b[1;30mS.split(sep=None, maxsplit=-1) -> list of strings\u001b[0m\n",
       "    \u001b[0;36msplitlines\u001b[0m\u001b[0;36m: \u001b[0m\u001b[1;30mS.splitlines([keepends]) -> list of strings\u001b[0m\n",
       "    \u001b[0;36mstartswith\u001b[0m\u001b[0;36m: \u001b[0m\u001b[1;30mS.startswith(prefix[, start[, end]]) -> bool\u001b[0m\n",
       "    \u001b[0;36mstrip\u001b[0m\u001b[0;36m: \u001b[0m\u001b[1;30mS.strip([chars]) -> str\u001b[0m\n",
       "    \u001b[0;36mswapcase\u001b[0m\u001b[0;36m: \u001b[0m\u001b[1;30mS.swapcase() -> str\u001b[0m\n",
       "    \u001b[0;36mtitle\u001b[0m\u001b[0;36m: \u001b[0m\u001b[1;30mS.title() -> str\u001b[0m\n",
       "    \u001b[0;36mtranslate\u001b[0m\u001b[0;36m: \u001b[0m\u001b[1;30mS.translate(table) -> str\u001b[0m\n",
       "    \u001b[0;36mupper\u001b[0m\u001b[0;36m: \u001b[0m\u001b[1;30mS.upper() -> str\u001b[0m\n",
       "    \u001b[0;36mzfill\u001b[0m\u001b[0;36m: \u001b[0m\u001b[1;30mS.zfill(width) -> str\u001b[0m"
      ]
     },
     "execution_count": 13,
     "metadata": {},
     "output_type": "execute_result"
    }
   ],
   "source": [
    "import pdir\n",
    "pdir(\"test\")"
   ]
  }
 ],
 "metadata": {
  "kernelspec": {
   "display_name": "Python 3",
   "language": "python",
   "name": "python3"
  },
  "language_info": {
   "codemirror_mode": {
    "name": "ipython",
    "version": 3
   },
   "file_extension": ".py",
   "mimetype": "text/x-python",
   "name": "python",
   "nbconvert_exporter": "python",
   "pygments_lexer": "ipython3",
   "version": "3.6.2"
  }
 },
 "nbformat": 4,
 "nbformat_minor": 0
}
