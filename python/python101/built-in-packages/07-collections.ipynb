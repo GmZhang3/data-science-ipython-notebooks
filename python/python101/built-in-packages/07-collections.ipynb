{
 "cells": [
  {
   "cell_type": "markdown",
   "metadata": {},
   "source": [
    "### Counter\n",
    "Counter是一个简单的计数器，在很多使用到dict统计次数的场景下，Counter来实现会非常简洁，效率也会很高"
   ]
  },
  {
   "cell_type": "code",
   "execution_count": 3,
   "metadata": {
    "collapsed": false
   },
   "outputs": [
    {
     "data": {
      "text/plain": [
       "Counter()"
      ]
     },
     "execution_count": 3,
     "metadata": {},
     "output_type": "execute_result"
    }
   ],
   "source": [
    "from collections import Counter\n",
    "c = Counter()\n",
    "c"
   ]
  },
  {
   "cell_type": "code",
   "execution_count": 5,
   "metadata": {
    "collapsed": false
   },
   "outputs": [
    {
     "data": {
      "text/plain": [
       "Counter({'d': 3, 'h': 2, 'j': 1, 's': 1, 'v': 2})"
      ]
     },
     "execution_count": 5,
     "metadata": {},
     "output_type": "execute_result"
    }
   ],
   "source": [
    "c = Counter(\"ddjvhdsvh\")\n",
    "c"
   ]
  },
  {
   "cell_type": "code",
   "execution_count": 6,
   "metadata": {
    "collapsed": false
   },
   "outputs": [
    {
     "data": {
      "text/plain": [
       "\u001b[0;33mspecial attribute:\u001b[0m\n",
       "    \u001b[0;36m__class__\u001b[0m\u001b[1;30m, \u001b[0m\u001b[0;36m__dict__\u001b[0m\u001b[1;30m, \u001b[0m\u001b[0;36m__doc__\u001b[0m\u001b[1;30m, \u001b[0m\u001b[0;36m__module__\u001b[0m\u001b[1;30m, \u001b[0m\u001b[0;36m__weakref__\u001b[0m\n",
       "\u001b[0;33mabstract class:\u001b[0m\n",
       "    \u001b[0;36m__subclasshook__\u001b[0m\n",
       "\u001b[0;33marithmetic:\u001b[0m\n",
       "    \u001b[0;36m__add__\u001b[0m\u001b[1;30m, \u001b[0m\u001b[0;36m__and__\u001b[0m\u001b[1;30m, \u001b[0m\u001b[0;36m__iadd__\u001b[0m\u001b[1;30m, \u001b[0m\u001b[0;36m__iand__\u001b[0m\u001b[1;30m, \u001b[0m\u001b[0;36m__ior__\u001b[0m\u001b[1;30m, \u001b[0m\u001b[0;36m__isub__\u001b[0m\u001b[1;30m, \u001b[0m\u001b[0;36m__neg__\u001b[0m\u001b[1;30m, \u001b[0m\u001b[0;36m__or__\u001b[0m\u001b[1;30m, \u001b[0m\u001b[0;36m__pos__\u001b[0m\u001b[1;30m, \u001b[0m\u001b[0;36m__sub__\u001b[0m\n",
       "\u001b[0;33mobject customization:\u001b[0m\n",
       "    \u001b[0;36m__format__\u001b[0m\u001b[1;30m, \u001b[0m\u001b[0;36m__hash__\u001b[0m\u001b[1;30m, \u001b[0m\u001b[0;36m__init__\u001b[0m\u001b[1;30m, \u001b[0m\u001b[0;36m__new__\u001b[0m\u001b[1;30m, \u001b[0m\u001b[0;36m__repr__\u001b[0m\u001b[1;30m, \u001b[0m\u001b[0;36m__sizeof__\u001b[0m\u001b[1;30m, \u001b[0m\u001b[0;36m__str__\u001b[0m\n",
       "\u001b[0;33mrich comparison:\u001b[0m\n",
       "    \u001b[0;36m__eq__\u001b[0m\u001b[1;30m, \u001b[0m\u001b[0;36m__ge__\u001b[0m\u001b[1;30m, \u001b[0m\u001b[0;36m__gt__\u001b[0m\u001b[1;30m, \u001b[0m\u001b[0;36m__le__\u001b[0m\u001b[1;30m, \u001b[0m\u001b[0;36m__lt__\u001b[0m\u001b[1;30m, \u001b[0m\u001b[0;36m__ne__\u001b[0m\n",
       "\u001b[0;33mattribute access:\u001b[0m\n",
       "    \u001b[0;36m__delattr__\u001b[0m\u001b[1;30m, \u001b[0m\u001b[0;36m__dir__\u001b[0m\u001b[1;30m, \u001b[0m\u001b[0;36m__getattribute__\u001b[0m\u001b[1;30m, \u001b[0m\u001b[0;36m__setattr__\u001b[0m\n",
       "\u001b[0;33mclass customization:\u001b[0m\n",
       "    \u001b[0;36m__init_subclass__\u001b[0m\n",
       "\u001b[0;33mcontainer:\u001b[0m\n",
       "    \u001b[0;36m__contains__\u001b[0m\u001b[1;30m, \u001b[0m\u001b[0;36m__delitem__\u001b[0m\u001b[1;30m, \u001b[0m\u001b[0;36m__getitem__\u001b[0m\u001b[1;30m, \u001b[0m\u001b[0;36m__iter__\u001b[0m\u001b[1;30m, \u001b[0m\u001b[0;36m__len__\u001b[0m\u001b[1;30m, \u001b[0m\u001b[0;36m__missing__\u001b[0m\u001b[1;30m, \u001b[0m\u001b[0;36m__setitem__\u001b[0m\n",
       "\u001b[0;33mpickle:\u001b[0m\n",
       "    \u001b[0;36m__reduce__\u001b[0m\u001b[1;30m, \u001b[0m\u001b[0;36m__reduce_ex__\u001b[0m\n",
       "\u001b[0;33mdescriptor:\u001b[0m\n",
       "    \u001b[0;36mfromkeys\u001b[0m\u001b[0;36m: \u001b[0m\u001b[1;30mclass classmethod with getter, classmethod(function) -> method\u001b[0m\n",
       "\u001b[0;33mfunction:\u001b[0m\n",
       "    \u001b[0;36m_keep_positive\u001b[0m\u001b[0;36m: \u001b[0m\u001b[1;30mInternal method to strip elements with a negative or zero count\u001b[0m\n",
       "    \u001b[0;36mclear\u001b[0m\u001b[0;36m: \u001b[0m\u001b[1;30mD.clear() -> None.  Remove all items from D.\u001b[0m\n",
       "    \u001b[0;36mcopy\u001b[0m\u001b[0;36m: \u001b[0m\u001b[1;30mReturn a shallow copy.\u001b[0m\n",
       "    \u001b[0;36melements\u001b[0m\u001b[0;36m: \u001b[0m\u001b[1;30mIterator over elements repeating each as many times as its count.\u001b[0m\n",
       "    \u001b[0;36mget\u001b[0m\u001b[0;36m: \u001b[0m\u001b[1;30mD.get(k[,d]) -> D[k] if k in D, else d.  d defaults to None.\u001b[0m\n",
       "    \u001b[0;36mitems\u001b[0m\u001b[0;36m: \u001b[0m\u001b[1;30mD.items() -> a set-like object providing a view on D's items\u001b[0m\n",
       "    \u001b[0;36mkeys\u001b[0m\u001b[0;36m: \u001b[0m\u001b[1;30mD.keys() -> a set-like object providing a view on D's keys\u001b[0m\n",
       "    \u001b[0;36mmost_common\u001b[0m\u001b[0;36m: \u001b[0m\u001b[1;30mList the n most common elements and their counts from the most\u001b[0m\n",
       "    \u001b[0;36mpop\u001b[0m\u001b[0;36m: \u001b[0m\u001b[1;30mD.pop(k[,d]) -> v, remove specified key and return the corresponding value.\u001b[0m\n",
       "    \u001b[0;36mpopitem\u001b[0m\u001b[0;36m: \u001b[0m\u001b[1;30mD.popitem() -> (k, v), remove and return some (key, value) pair as a\u001b[0m\n",
       "    \u001b[0;36msetdefault\u001b[0m\u001b[0;36m: \u001b[0m\u001b[1;30mD.setdefault(k[,d]) -> D.get(k,d), also set D[k]=d if k not in D\u001b[0m\n",
       "    \u001b[0;36msubtract\u001b[0m\u001b[0;36m: \u001b[0m\u001b[1;30mLike dict.update() but subtracts counts instead of replacing them.\u001b[0m\n",
       "    \u001b[0;36mupdate\u001b[0m\u001b[0;36m: \u001b[0m\u001b[1;30mLike dict.update() but add counts instead of replacing them.\u001b[0m\n",
       "    \u001b[0;36mvalues\u001b[0m\u001b[0;36m: \u001b[0m\u001b[1;30mD.values() -> an object providing a view on D's values\u001b[0m"
      ]
     },
     "execution_count": 6,
     "metadata": {},
     "output_type": "execute_result"
    }
   ],
   "source": [
    "import pdir\n",
    "pdir(Counter())"
   ]
  }
 ],
 "metadata": {
  "kernelspec": {
   "display_name": "Python 3",
   "language": "python",
   "name": "python3"
  },
  "language_info": {
   "codemirror_mode": {
    "name": "ipython",
    "version": 3
   },
   "file_extension": ".py",
   "mimetype": "text/x-python",
   "name": "python",
   "nbconvert_exporter": "python",
   "pygments_lexer": "ipython3",
   "version": "3.6.2"
  }
 },
 "nbformat": 4,
 "nbformat_minor": 0
}
