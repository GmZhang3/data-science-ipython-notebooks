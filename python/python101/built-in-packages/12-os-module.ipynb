{
 "cells": [
  {
   "cell_type": "markdown",
   "metadata": {},
   "source": [
    " ### os.listdir() \n",
    " os.listdir() 方法用于返回指定的文件夹包含的文件或文件夹的名字的列表。这个列表以字母顺序。 它不包括 '.' 和'..' 即使它在文件夹中。\n",
    "只支持在 Unix, Windows 下使用。"
   ]
  },
  {
   "cell_type": "code",
   "execution_count": 1,
   "metadata": {},
   "outputs": [
    {
     "name": "stdout",
     "output_type": "stream",
     "text": [
      "/mnt/d/codeReposities/data-science-ipython-notebooks/python/python101/built-in-packages\r\n"
     ]
    }
   ],
   "source": [
    "!pwd"
   ]
  },
  {
   "cell_type": "code",
   "execution_count": 2,
   "metadata": {},
   "outputs": [
    {
     "name": "stdout",
     "output_type": "stream",
     "text": [
      " 01-Introspection.ipynb\t\t   07-collections.ipynb      __pycache__\r\n",
      "'02-sys module.ipynb'\t\t   08-hashlib.ipynb\t     new_snake.log\r\n",
      "'03-Dates and Time Module.ipynb'  '09-Random Module.ipynb'   otherMod2.py\r\n",
      " 04-logging.ipynb\t\t  '10-Math Module.ipynb'     settings.ini\r\n",
      " 05-configparser.ipynb\t\t   11-re-module.ipynb\t     test.log\r\n",
      " 06-email.ipynb\t\t\t   12-os-module.ipynb\r\n"
     ]
    }
   ],
   "source": [
    "!ls"
   ]
  },
  {
   "cell_type": "code",
   "execution_count": 5,
   "metadata": {},
   "outputs": [
    {
     "name": "stdout",
     "output_type": "stream",
     "text": [
      "['.ipynb_checkpoints', '01-Introspection.ipynb', '02-sys module.ipynb', '03-Dates and Time Module.ipynb', '04-logging.ipynb', '05-configparser.ipynb', '06-email.ipynb', '07-collections.ipynb', '08-hashlib.ipynb', '09-Random Module.ipynb', '10-Math Module.ipynb', '11-re-module.ipynb', '12-os-module.ipynb', 'new_snake.log', 'otherMod2.py', 'settings.ini', 'test.log', '__pycache__']\n"
     ]
    }
   ],
   "source": [
    "import os\n",
    "print(os.listdir(\".\"))"
   ]
  }
 ],
 "metadata": {
  "kernelspec": {
   "display_name": "Python 3",
   "language": "python",
   "name": "python3"
  },
  "language_info": {
   "codemirror_mode": {
    "name": "ipython",
    "version": 3
   },
   "file_extension": ".py",
   "mimetype": "text/x-python",
   "name": "python",
   "nbconvert_exporter": "python",
   "pygments_lexer": "ipython3",
   "version": "3.7.0"
  }
 },
 "nbformat": 4,
 "nbformat_minor": 2
}
