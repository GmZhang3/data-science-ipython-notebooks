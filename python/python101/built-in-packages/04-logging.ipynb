{
 "cells": [
  {
   "cell_type": "markdown",
   "metadata": {},
   "source": [
    "## Logging\n",
    "- Creating a simple logger\n",
    "- How to log from multiple modules"
   ]
  },
  {
   "cell_type": "markdown",
   "metadata": {},
   "source": [
    "### Creating a simple logger"
   ]
  },
  {
   "cell_type": "code",
   "execution_count": 3,
   "metadata": {
    "collapsed": true
   },
   "outputs": [],
   "source": [
    "import logging\n",
    "logging.basicConfig(filename = \"test.log\",level = logging.INFO)## add filemode=\"w\" to overwrite\n",
    "logging.debug(\"This is a debug message\")\n",
    "logging.info(\"Informational message\")\n",
    "logging.error(\"An error has happened!\")"
   ]
  },
  {
   "cell_type": "markdown",
   "metadata": {},
   "source": [
    "### How to log from multiple modules\n",
    "随着代码复杂度增加，会引入其他模块，把各个模块的log打印时区分开来"
   ]
  },
  {
   "cell_type": "code",
   "execution_count": 5,
   "metadata": {
    "collapsed": false
   },
   "outputs": [
    {
     "name": "stdout",
     "output_type": "stream",
     "text": [
      "Overwriting otherMod2.py\n"
     ]
    }
   ],
   "source": [
    "%%file otherMod2.py\n",
    "import logging\n",
    "\n",
    "module_logger = logging.getLogger(\"exampleApp.otherMod2\")\n",
    "\n",
    "def add(x, y):\n",
    "    \"\"\"\"\"\"\n",
    "    logger = logging.getLogger(\"exampleApp.otherMod2.add\")\n",
    "    logger.info(\"added %s and %s to get %s\" % (x, y, x+y))\n",
    "    return x+y"
   ]
  },
  {
   "cell_type": "code",
   "execution_count": 7,
   "metadata": {
    "collapsed": true
   },
   "outputs": [],
   "source": [
    "import logging\n",
    "import otherMod2\n",
    "\n",
    "def main():\n",
    "    \"\"\"\n",
    "    The main entry point of the application\n",
    "    \"\"\"\n",
    "    logger = logging.getLogger(\"exampleApp\")\n",
    "    logger.setLevel(logging.INFO)\n",
    "\n",
    "    # create the logging file handler\n",
    "    fh = logging.FileHandler(\"new_snake.log\")\n",
    "\n",
    "    formatter = logging.Formatter('%(asctime)s - %(name)s - %(levelname)s - %(message)s')\n",
    "    fh.setFormatter(formatter)\n",
    "\n",
    "    # add handler to logger object\n",
    "    logger.addHandler(fh)\n",
    "\n",
    "    logger.info(\"Program started\")\n",
    "    result = otherMod2.add(7, 8)\n",
    "    logger.info(\"Done!\")\n",
    "\n",
    "if __name__ == \"__main__\":\n",
    "    main()"
   ]
  },
  {
   "cell_type": "markdown",
   "metadata": {},
   "source": [
    "The logging module can be configured 3 different ways.\n",
    "- You can configure it using methods (loggers, formatters, handlers) like we did earlier in this article; \n",
    "- you can use a configuration file and pass it to fileConfig(); \n",
    "- or you can create a dictionary of configuration information and pass it to the dictConfig() function"
   ]
  }
 ],
 "metadata": {
  "kernelspec": {
   "display_name": "Python 3",
   "language": "python",
   "name": "python3"
  },
  "language_info": {
   "codemirror_mode": {
    "name": "ipython",
    "version": 3
   },
   "file_extension": ".py",
   "mimetype": "text/x-python",
   "name": "python",
   "nbconvert_exporter": "python",
   "pygments_lexer": "ipython3",
   "version": "3.6.2"
  }
 },
 "nbformat": 4,
 "nbformat_minor": 0
}
