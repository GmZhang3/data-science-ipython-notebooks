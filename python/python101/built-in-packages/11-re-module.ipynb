{
 "cells": [
  {
   "cell_type": "markdown",
   "metadata": {},
   "source": [
    "    正则表达式检查一个字符串是否与某种模式匹配\n",
    "    re模块使 Python 语言拥有全部的正则表达式功能\n",
    "    compile 函数根据一个模式字符串和可选的标志参数生成一个正则表达式对象。该对象拥有一系列方法用于正则表达式匹配和替换。\n",
    "    re 模块也提供了与这些方法功能完全一致的函数，这些函数使用一个模式字符串做为它们的第一个参数。"
   ]
  },
  {
   "cell_type": "markdown",
   "metadata": {},
   "source": [
    "    Python中常用的正则表达式处理函数"
   ]
  },
  {
   "cell_type": "markdown",
   "metadata": {},
   "source": [
    "    re.match函数\n",
    "    re.match 尝试从字符串的起始位置匹配一个模式，如果不是起始位置匹配成功的话，match()就返回none。\n",
    "    函数语法：\n",
    "    re.match(pattern, string, flags=0)\n",
    "    pattern\t匹配的正则表达式\n",
    "    string\t要匹配的字符串。\n",
    "    flags\t标志位，用于控制正则表达式的匹配方式，如：是否区分大小写，多行匹配等等。\n",
    "\n",
    "    匹配成功re.match方法返回一个匹配的对象，否则返回None。\n",
    "\n",
    "    我们可以使用group(num) 或 groups() 匹配对象函数来获取匹配表达式。\n",
    "    匹配对象方法\t描述\n",
    "    group(num=0)\t匹配的整个表达式的字符串，group() 可以一次输入多个组号，在这种情况下它将返回一个包含那些组所对应值的元组。\n",
    "    groups()\t返回一个包含所有小组字符串的元组，从 1 到 所含的小组号。"
   ]
  },
  {
   "cell_type": "code",
   "execution_count": null,
   "metadata": {
    "collapsed": true
   },
   "outputs": [],
   "source": [
    "import re\n",
    "print(re.match('www', 'www.runoob.com'))  # 在起始位置匹配\n",
    "print(re.match('www', 'www.runoob.com').span())  # 在起始位置匹配,返回(start(group), end(group))\n",
    "print(re.match('com', 'www.runoob.com'))         # 不在起始位置匹配"
   ]
  },
  {
   "cell_type": "code",
   "execution_count": null,
   "metadata": {
    "collapsed": true
   },
   "outputs": [],
   "source": [
    "import re\n",
    "line = \"Cats are smarter than dogs\"\n",
    "matchObj = re.match( r'(.*) are (.*?) .*', line, re.M|re.I)\n",
    "if matchObj:\n",
    "   print \"matchObj.group() : \", matchObj.group()\n",
    "   print \"matchObj.group(1) : \", matchObj.group(1)\n",
    "   print \"matchObj.group(2) : \", matchObj.group(2)\n",
    "else:\n",
    "   print \"No match!!\""
   ]
  },
  {
   "cell_type": "markdown",
   "metadata": {},
   "source": [
    "    re.search方法\n",
    "    re.search 扫描整个字符串并返回第一个成功的匹配。\n",
    "\n",
    "    函数语法：\n",
    "\n",
    "    re.search(pattern, string, flags=0)\n",
    "    函数参数说明：\n",
    "\n",
    "    参数\t描述\n",
    "    pattern\t匹配的正则表达式\n",
    "    string\t要匹配的字符串。\n",
    "    flags\t标志位，用于控制正则表达式的匹配方式，如：是否区分大小写，多行匹配等等。\n",
    "    匹配成功re.search方法返回一个匹配的对象，否则返回None。\n",
    "\n",
    "    我们可以使用group(num) 或 groups() 匹配对象函数来获取匹配表达式。\n",
    "\n",
    "    匹配对象方法\t描述\n",
    "    group(num=0)\t匹配的整个表达式的字符串，group() 可以一次输入多个组号，在这种情况下它将返回一个包含那些组所对应值的元组。\n",
    "    groups()\t返回一个包含所有小组字符串的元组，从 1 到 所含的小组号。"
   ]
  },
  {
   "cell_type": "code",
   "execution_count": 5,
   "metadata": {
    "collapsed": false
   },
   "outputs": [
    {
     "name": "stdout",
     "output_type": "stream",
     "text": [
      "(0, 3)\n",
      "(11, 14)\n"
     ]
    }
   ],
   "source": [
    "import re\n",
    "print(re.search('www', 'www.runoob.com').span())  # 在起始位置匹配\n",
    "print(re.search('com', 'www.runoob.com').span())         # 不在起始位置匹配"
   ]
  },
  {
   "cell_type": "code",
   "execution_count": null,
   "metadata": {
    "collapsed": true
   },
   "outputs": [],
   "source": [
    "https://www.cnblogs.com/huxi/archive/2010/07/04/1771073.html"
   ]
  }
 ],
 "metadata": {
  "kernelspec": {
   "display_name": "Python 2",
   "language": "python",
   "name": "python2"
  },
  "language_info": {
   "codemirror_mode": {
    "name": "ipython",
    "version": 2
   },
   "file_extension": ".py",
   "mimetype": "text/x-python",
   "name": "python",
   "nbconvert_exporter": "python",
   "pygments_lexer": "ipython2",
   "version": "2.7.11"
  }
 },
 "nbformat": 4,
 "nbformat_minor": 0
}
