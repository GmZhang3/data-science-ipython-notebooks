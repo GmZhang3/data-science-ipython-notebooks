{
 "cells": [
  {
   "cell_type": "markdown",
   "metadata": {
    "collapsed": true
   },
   "source": [
    "## datetime模块\n",
    "- datetime.date\n",
    "- datetime.timedelta\n",
    "- datetime.datetime"
   ]
  },
  {
   "cell_type": "markdown",
   "metadata": {},
   "source": [
    "### datetime.date"
   ]
  },
  {
   "cell_type": "code",
   "execution_count": 10,
   "metadata": {
    "collapsed": false
   },
   "outputs": [
    {
     "name": "stdout",
     "output_type": "stream",
     "text": [
      "2012-11-14\n",
      "2019-03-19\n",
      "2019\n",
      "3\n",
      "19\n"
     ]
    }
   ],
   "source": [
    "import datetime\n",
    "# datetime.date(2012, 13, 14)\n",
    "print(datetime.date(2012, 11, 14))\n",
    "print(datetime.date.today())\n",
    "d = datetime.date.today()\n",
    "print(d.year)\n",
    "print(d.month)\n",
    "print(d.day)\n",
    "# print(d.hour)"
   ]
  },
  {
   "cell_type": "markdown",
   "metadata": {},
   "source": [
    "### datetime.datetime"
   ]
  },
  {
   "cell_type": "code",
   "execution_count": 7,
   "metadata": {
    "collapsed": false
   },
   "outputs": [
    {
     "name": "stdout",
     "output_type": "stream",
     "text": [
      "2014-03-05 00:00:00\n",
      "2014-03-05 12:30:10\n"
     ]
    }
   ],
   "source": [
    "print(datetime.datetime(2014, 3, 5))\n",
    "print(datetime.datetime(2014, 3, 5, 12, 30, 10))"
   ]
  },
  {
   "cell_type": "markdown",
   "metadata": {},
   "source": [
    "### datetime.strftime\n",
    "日期格式格式化输出"
   ]
  },
  {
   "cell_type": "code",
   "execution_count": 14,
   "metadata": {
    "collapsed": false
   },
   "outputs": [
    {
     "name": "stdout",
     "output_type": "stream",
     "text": [
      "20190319\n",
      "2019-03-19-00.00.00\n"
     ]
    }
   ],
   "source": [
    "print(datetime.datetime.today().strftime(\"%Y%m%d\"))\n",
    "print(d.strftime(\"%Y-%m-%d-%H.%M.%S\"))"
   ]
  },
  {
   "cell_type": "markdown",
   "metadata": {},
   "source": [
    "### datetime.timedelta\n",
    "日期间隔"
   ]
  },
  {
   "cell_type": "code",
   "execution_count": 22,
   "metadata": {
    "collapsed": false
   },
   "outputs": [
    {
     "name": "stdout",
     "output_type": "stream",
     "text": [
      "<class 'datetime.timedelta'>\n",
      "1847\n",
      "41409\n",
      "159622209.703433\n"
     ]
    }
   ],
   "source": [
    "now = datetime.datetime.now()\n",
    "then = datetime.datetime(2014, 2, 26)\n",
    "delta = now - then\n",
    "delta\n",
    "print(type(delta))\n",
    "print(delta.days)\n",
    "print(delta.seconds)\n",
    "print(delta.total_seconds())"
   ]
  },
  {
   "cell_type": "markdown",
   "metadata": {},
   "source": [
    "## time模块\n",
    "time模块基于epoch，1970   \n",
    "- time.ctime\n",
    "- time.sleep\n",
    "- time.strftime\n",
    "- time.time\n"
   ]
  },
  {
   "cell_type": "markdown",
   "metadata": {},
   "source": [
    "### time.ctime\n",
    "The time.ctime function will convert a time in seconds since the epoch to a string representing local time. If you don’t pass it anything, then the current time is returned. "
   ]
  },
  {
   "cell_type": "code",
   "execution_count": 26,
   "metadata": {
    "collapsed": false
   },
   "outputs": [
    {
     "name": "stdout",
     "output_type": "stream",
     "text": [
      "Tue Mar 19 11:35:32 2019\n",
      "Mon Nov 11 03:43:59 2013\n"
     ]
    }
   ],
   "source": [
    "import time\n",
    "print(time.ctime())\n",
    "print(time.ctime(1384112639))"
   ]
  },
  {
   "cell_type": "markdown",
   "metadata": {},
   "source": [
    "### time.sleep\n",
    "脚本暂停执行"
   ]
  },
  {
   "cell_type": "code",
   "execution_count": 28,
   "metadata": {
    "collapsed": false
   },
   "outputs": [
    {
     "name": "stdout",
     "output_type": "stream",
     "text": [
      "Slept for 2 seconds\n",
      "Slept for 2 seconds\n",
      "Slept for 2 seconds\n",
      "Slept for 2 seconds\n",
      "Slept for 2 seconds\n"
     ]
    }
   ],
   "source": [
    "import time\n",
    "\n",
    "for x in range(5):\n",
    "    time.sleep(2)\n",
    "    print(\"Slept for 2 seconds\")"
   ]
  },
  {
   "cell_type": "markdown",
   "metadata": {},
   "source": [
    "### time.strftime\n",
    "日期格式化输出"
   ]
  },
  {
   "cell_type": "code",
   "execution_count": 32,
   "metadata": {
    "collapsed": false
   },
   "outputs": [
    {
     "data": {
      "text/plain": [
       "'2019-03-19-11.39.44'"
      ]
     },
     "execution_count": 32,
     "metadata": {},
     "output_type": "execute_result"
    }
   ],
   "source": [
    "time.strftime(\"%Y-%m-%d-%H.%M.%S\",\n",
    "                  time.localtime())"
   ]
  },
  {
   "cell_type": "markdown",
   "metadata": {},
   "source": [
    "### time.time\n",
    "The time.time function will return the time in seconds since the epoch as a floating point number. "
   ]
  },
  {
   "cell_type": "code",
   "execution_count": 34,
   "metadata": {
    "collapsed": false
   },
   "outputs": [
    {
     "name": "stdout",
     "output_type": "stream",
     "text": [
      "1552966824.465034\n"
     ]
    }
   ],
   "source": [
    "print(time.time())"
   ]
  }
 ],
 "metadata": {
  "kernelspec": {
   "display_name": "Python 3",
   "language": "python",
   "name": "python3"
  },
  "language_info": {
   "codemirror_mode": {
    "name": "ipython",
    "version": 3
   },
   "file_extension": ".py",
   "mimetype": "text/x-python",
   "name": "python",
   "nbconvert_exporter": "python",
   "pygments_lexer": "ipython3",
   "version": "3.6.2"
  }
 },
 "nbformat": 4,
 "nbformat_minor": 0
}
