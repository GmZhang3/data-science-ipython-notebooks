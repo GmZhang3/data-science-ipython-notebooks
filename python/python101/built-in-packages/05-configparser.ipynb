{
 "cells": [
  {
   "cell_type": "markdown",
   "metadata": {},
   "source": [
    "### Creating a Config File"
   ]
  },
  {
   "cell_type": "code",
   "execution_count": 2,
   "metadata": {
    "collapsed": true
   },
   "outputs": [],
   "source": [
    "import configparser\n",
    "\n",
    "def createConfig(path):\n",
    "    \"\"\"\n",
    "    Create a config file\n",
    "    \"\"\"\n",
    "    config = configparser.ConfigParser()\n",
    "    config.add_section(\"Settings\")\n",
    "    config.set(\"Settings\", \"font\", \"Courier\")\n",
    "    config.set(\"Settings\", \"font_size\", \"10\")\n",
    "    config.set(\"Settings\", \"font_style\", \"Normal\")\n",
    "    config.set(\"Settings\", \"font_info\",\n",
    "               \"You are using %(font)s at %(font_size)s pt\")\n",
    "\n",
    "    with open(path, \"w\") as config_file:\n",
    "        config.write(config_file)\n",
    "\n",
    "\n",
    "if __name__ == \"__main__\":\n",
    "    path = \"settings.ini\"\n",
    "    createConfig(path)\n"
   ]
  },
  {
   "cell_type": "markdown",
   "metadata": {},
   "source": [
    "### Read, Update and Delete Options"
   ]
  },
  {
   "cell_type": "code",
   "execution_count": 4,
   "metadata": {
    "collapsed": false
   },
   "outputs": [
    {
     "name": "stdout",
     "output_type": "stream",
     "text": [
      "Settings font is Courier\n",
      "Settings font_size is 12\n"
     ]
    }
   ],
   "source": [
    "import configparser\n",
    "import os\n",
    "\n",
    "def create_config(path):\n",
    "    \"\"\"\n",
    "    Create a config file\n",
    "    \"\"\"\n",
    "    config = configparser.ConfigParser()\n",
    "    config.add_section(\"Settings\")\n",
    "    config.set(\"Settings\", \"font\", \"Courier\")\n",
    "    config.set(\"Settings\", \"font_size\", \"10\")\n",
    "    config.set(\"Settings\", \"font_style\", \"Normal\")\n",
    "    config.set(\"Settings\", \"font_info\",\n",
    "               \"You are using %(font)s at %(font_size)s pt\")\n",
    "\n",
    "    with open(path, \"w\") as config_file:\n",
    "        config.write(config_file)\n",
    "\n",
    "\n",
    "def get_config(path):\n",
    "    \"\"\"\n",
    "    Returns the config object\n",
    "    \"\"\"\n",
    "    if not os.path.exists(path):\n",
    "        create_config(path)\n",
    "\n",
    "    config = configparser.ConfigParser()\n",
    "    config.read(path)\n",
    "    return config\n",
    "\n",
    "\n",
    "def get_setting(path, section, setting):\n",
    "    \"\"\"\n",
    "    Print out a setting\n",
    "    \"\"\"\n",
    "    config = get_config(path)\n",
    "    value = config.get(section, setting)\n",
    "    msg = \"{section} {setting} is {value}\".format(\n",
    "        section=section, setting=setting, value=value)\n",
    "    print(msg)\n",
    "    return value\n",
    "\n",
    "\n",
    "def update_setting(path, section, setting, value):\n",
    "    \"\"\"\n",
    "    Update a setting\n",
    "    \"\"\"\n",
    "    config = get_config(path)\n",
    "    config.set(section, setting, value)\n",
    "    with open(path, \"w\") as config_file:\n",
    "        config.write(config_file)\n",
    "\n",
    "\n",
    "def delete_setting(path, section, setting):\n",
    "    \"\"\"\n",
    "    Delete a setting\n",
    "    \"\"\"\n",
    "    config = get_config(path)\n",
    "    config.remove_option(section, setting)\n",
    "    with open(path, \"w\") as config_file:\n",
    "        config.write(config_file)\n",
    "\n",
    "\n",
    "\n",
    "if __name__ == \"__main__\":\n",
    "    path = \"settings.ini\"\n",
    "    font = get_setting(path, 'Settings', 'font')\n",
    "    font_size = get_setting(path, 'Settings', 'font_size')\n",
    "\n",
    "    update_setting(path, \"Settings\", \"font_size\", \"12\")\n",
    "\n",
    "    delete_setting(path, \"Settings\", \"font_style\")"
   ]
  }
 ],
 "metadata": {
  "kernelspec": {
   "display_name": "Python 3",
   "language": "python",
   "name": "python3"
  },
  "language_info": {
   "codemirror_mode": {
    "name": "ipython",
    "version": 3
   },
   "file_extension": ".py",
   "mimetype": "text/x-python",
   "name": "python",
   "nbconvert_exporter": "python",
   "pygments_lexer": "ipython3",
   "version": "3.6.2"
  }
 },
 "nbformat": 4,
 "nbformat_minor": 0
}
