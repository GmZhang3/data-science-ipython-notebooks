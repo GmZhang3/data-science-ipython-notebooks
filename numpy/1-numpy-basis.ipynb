{
 "cells": [
  {
   "cell_type": "markdown",
   "metadata": {},
   "source": [
    "### NumPy 中的数组"
   ]
  },
  {
   "cell_type": "markdown",
   "metadata": {},
   "source": [
    "NumPy提供的最重要的数据结构是一个称为NumPy数组的强大对象。NumPy数组是通常的Python数组的扩展。NumPy数组配备了大量的函数和运算符，可以帮助我们快速编写上面讨论过的各种类型计算的高性能代码。让我们看看如何快速定义一维NumPy数组："
   ]
  },
  {
   "cell_type": "code",
   "execution_count": 2,
   "metadata": {
    "collapsed": false
   },
   "outputs": [
    {
     "name": "stdout",
     "output_type": "stream",
     "text": [
      "[1 2 3 4 5]\n"
     ]
    }
   ],
   "source": [
    "import numpy as np\n",
    "my_array = np.array([1,2,3,4,5])\n",
    "print my_array"
   ]
  },
  {
   "cell_type": "code",
   "execution_count": 3,
   "metadata": {
    "collapsed": false
   },
   "outputs": [
    {
     "name": "stdout",
     "output_type": "stream",
     "text": [
      "<type 'numpy.ndarray'>\n"
     ]
    }
   ],
   "source": [
    "print type(my_array)#<type 'numpy.ndarray'>"
   ]
  },
  {
   "cell_type": "markdown",
   "metadata": {},
   "source": [
    "打印数组形状"
   ]
  },
  {
   "cell_type": "code",
   "execution_count": 4,
   "metadata": {
    "collapsed": false
   },
   "outputs": [
    {
     "name": "stdout",
     "output_type": "stream",
     "text": [
      "(5L,)\n"
     ]
    }
   ],
   "source": [
    "print my_array.shape"
   ]
  },
  {
   "cell_type": "code",
   "execution_count": null,
   "metadata": {
    "collapsed": true
   },
   "outputs": [],
   "source": [
    "# print dir(my_array)"
   ]
  },
  {
   "cell_type": "code",
   "execution_count": 5,
   "metadata": {
    "collapsed": false
   },
   "outputs": [
    {
     "data": {
      "text/plain": [
       "\u001b[0;33mspecial attribute:\u001b[0m\n",
       "    \u001b[0;36m__class__\u001b[0m\u001b[1;30m, \u001b[0m\u001b[0;36m__doc__\u001b[0m\n",
       "\u001b[0;33mabstract class:\u001b[0m\n",
       "    \u001b[0;36m__subclasshook__\u001b[0m\n",
       "\u001b[0;33marithmetic:\u001b[0m\n",
       "    \u001b[0;36m__abs__\u001b[0m\u001b[1;30m, \u001b[0m\u001b[0;36m__add__\u001b[0m\u001b[1;30m, \u001b[0m\u001b[0;36m__and__\u001b[0m\u001b[1;30m, \u001b[0m\u001b[0;36m__divmod__\u001b[0m\u001b[1;30m, \u001b[0m\u001b[0;36m__float__\u001b[0m\u001b[1;30m, \u001b[0m\u001b[0;36m__floordiv__\u001b[0m\u001b[1;30m, \u001b[0m\u001b[0;36m__iadd__\u001b[0m\u001b[1;30m, \u001b[0m\u001b[0;36m__iand__\u001b[0m\u001b[1;30m, \u001b[0m\u001b[0;36m__ifloordiv__\u001b[0m\u001b[1;30m, \u001b[0m\u001b[0;36m__ilshift__\u001b[0m\u001b[1;30m, \u001b[0m\u001b[0;36m__imod__\u001b[0m\u001b[1;30m, \u001b[0m\u001b[0;36m__imul__\u001b[0m\u001b[1;30m, \u001b[0m\u001b[0;36m__int__\u001b[0m\u001b[1;30m, \u001b[0m\u001b[0;36m__invert__\u001b[0m\u001b[1;30m, \u001b[0m\u001b[0;36m__ior__\u001b[0m\u001b[1;30m, \u001b[0m\u001b[0;36m__ipow__\u001b[0m\u001b[1;30m, \u001b[0m\u001b[0;36m__irshift__\u001b[0m\u001b[1;30m, \u001b[0m\u001b[0;36m__isub__\u001b[0m\u001b[1;30m, \u001b[0m\u001b[0;36m__itruediv__\u001b[0m\u001b[1;30m, \u001b[0m\u001b[0;36m__ixor__\u001b[0m\u001b[1;30m, \u001b[0m\u001b[0;36m__lshift__\u001b[0m\u001b[1;30m, \u001b[0m\u001b[0;36m__mod__\u001b[0m\u001b[1;30m, \u001b[0m\u001b[0;36m__mul__\u001b[0m\u001b[1;30m, \u001b[0m\u001b[0;36m__neg__\u001b[0m\u001b[1;30m, \u001b[0m\u001b[0;36m__or__\u001b[0m\u001b[1;30m, \u001b[0m\u001b[0;36m__pos__\u001b[0m\u001b[1;30m, \u001b[0m\u001b[0;36m__pow__\u001b[0m\u001b[1;30m, \u001b[0m\u001b[0;36m__radd__\u001b[0m\u001b[1;30m, \u001b[0m\u001b[0;36m__rand__\u001b[0m\u001b[1;30m, \u001b[0m\u001b[0;36m__rdivmod__\u001b[0m\u001b[1;30m, \u001b[0m\u001b[0;36m__rfloordiv__\u001b[0m\u001b[1;30m, \u001b[0m\u001b[0;36m__rlshift__\u001b[0m\u001b[1;30m, \u001b[0m\u001b[0;36m__rmod__\u001b[0m\u001b[1;30m, \u001b[0m\u001b[0;36m__rmul__\u001b[0m\u001b[1;30m, \u001b[0m\u001b[0;36m__ror__\u001b[0m\u001b[1;30m, \u001b[0m\u001b[0;36m__rpow__\u001b[0m\u001b[1;30m, \u001b[0m\u001b[0;36m__rrshift__\u001b[0m\u001b[1;30m, \u001b[0m\u001b[0;36m__rshift__\u001b[0m\u001b[1;30m, \u001b[0m\u001b[0;36m__rsub__\u001b[0m\u001b[1;30m, \u001b[0m\u001b[0;36m__rtruediv__\u001b[0m\u001b[1;30m, \u001b[0m\u001b[0;36m__rxor__\u001b[0m\u001b[1;30m, \u001b[0m\u001b[0;36m__sub__\u001b[0m\u001b[1;30m, \u001b[0m\u001b[0;36m__truediv__\u001b[0m\u001b[1;30m, \u001b[0m\u001b[0;36m__xor__\u001b[0m\n",
       "\u001b[0;33mobject customization:\u001b[0m\n",
       "    \u001b[0;36m__format__\u001b[0m\u001b[1;30m, \u001b[0m\u001b[0;36m__hash__\u001b[0m\u001b[1;30m, \u001b[0m\u001b[0;36m__init__\u001b[0m\u001b[1;30m, \u001b[0m\u001b[0;36m__new__\u001b[0m\u001b[1;30m, \u001b[0m\u001b[0;36m__repr__\u001b[0m\u001b[1;30m, \u001b[0m\u001b[0;36m__sizeof__\u001b[0m\u001b[1;30m, \u001b[0m\u001b[0;36m__str__\u001b[0m\n",
       "\u001b[0;33mrich comparison:\u001b[0m\n",
       "    \u001b[0;36m__eq__\u001b[0m\u001b[1;30m, \u001b[0m\u001b[0;36m__ge__\u001b[0m\u001b[1;30m, \u001b[0m\u001b[0;36m__gt__\u001b[0m\u001b[1;30m, \u001b[0m\u001b[0;36m__le__\u001b[0m\u001b[1;30m, \u001b[0m\u001b[0;36m__lt__\u001b[0m\u001b[1;30m, \u001b[0m\u001b[0;36m__ne__\u001b[0m\n",
       "\u001b[0;33mattribute access:\u001b[0m\n",
       "    \u001b[0;36m__delattr__\u001b[0m\u001b[1;30m, \u001b[0m\u001b[0;36m__getattribute__\u001b[0m\u001b[1;30m, \u001b[0m\u001b[0;36m__setattr__\u001b[0m\n",
       "\u001b[0;33mcontainer:\u001b[0m\n",
       "    \u001b[0;36m__contains__\u001b[0m\u001b[1;30m, \u001b[0m\u001b[0;36m__delitem__\u001b[0m\u001b[1;30m, \u001b[0m\u001b[0;36m__getitem__\u001b[0m\u001b[1;30m, \u001b[0m\u001b[0;36m__iter__\u001b[0m\u001b[1;30m, \u001b[0m\u001b[0;36m__len__\u001b[0m\u001b[1;30m, \u001b[0m\u001b[0;36m__setitem__\u001b[0m\n",
       "\u001b[0;33mcopy:\u001b[0m\n",
       "    \u001b[0;36m__copy__\u001b[0m\u001b[1;30m, \u001b[0m\u001b[0;36m__deepcopy__\u001b[0m\n",
       "\u001b[0;33mpickle:\u001b[0m\n",
       "    \u001b[0;36m__reduce__\u001b[0m\u001b[1;30m, \u001b[0m\u001b[0;36m__reduce_ex__\u001b[0m\u001b[1;30m, \u001b[0m\u001b[0;36m__setstate__\u001b[0m\n",
       "\u001b[0;33mdescriptor:\u001b[0m\n",
       "    \u001b[0;36mT\u001b[0m\u001b[0;36m: \u001b[0m\u001b[1;30mclass getset_descriptor with getter, setter, deleter, Same as self.transpose(), except that self is returned if\u001b[0m\n",
       "    \u001b[0;36m__array_finalize__\u001b[0m\u001b[0;36m: \u001b[0m\u001b[1;30mclass getset_descriptor with getter, setter, deleter, None.\u001b[0m\n",
       "    \u001b[0;36m__array_interface__\u001b[0m\u001b[0;36m: \u001b[0m\u001b[1;30mclass getset_descriptor with getter, setter, deleter, Array protocol: Python side.\u001b[0m\n",
       "    \u001b[0;36m__array_priority__\u001b[0m\u001b[0;36m: \u001b[0m\u001b[1;30mclass getset_descriptor with getter, setter, deleter, Array priority.\u001b[0m\n",
       "    \u001b[0;36m__array_struct__\u001b[0m\u001b[0;36m: \u001b[0m\u001b[1;30mclass getset_descriptor with getter, setter, deleter, Array protocol: C-struct side.\u001b[0m\n",
       "    \u001b[0;36m__delslice__\u001b[0m\u001b[0;36m: \u001b[0m\u001b[1;30mclass wrapper_descriptor with getter, x.__delslice__(i, j) <==> del x[i:j]\u001b[0m\n",
       "    \u001b[0;36m__div__\u001b[0m\u001b[0;36m: \u001b[0m\u001b[1;30mclass wrapper_descriptor with getter, x.__div__(y) <==> x/y\u001b[0m\n",
       "    \u001b[0;36m__getslice__\u001b[0m\u001b[0;36m: \u001b[0m\u001b[1;30mclass wrapper_descriptor with getter, x.__getslice__(i, j) <==> x[i:j]\u001b[0m\n",
       "    \u001b[0;36m__hex__\u001b[0m\u001b[0;36m: \u001b[0m\u001b[1;30mclass wrapper_descriptor with getter, x.__hex__() <==> hex(x)\u001b[0m\n",
       "    \u001b[0;36m__idiv__\u001b[0m\u001b[0;36m: \u001b[0m\u001b[1;30mclass wrapper_descriptor with getter, x.__idiv__(y) <==> x/=y\u001b[0m\n",
       "    \u001b[0;36m__long__\u001b[0m\u001b[0;36m: \u001b[0m\u001b[1;30mclass wrapper_descriptor with getter, x.__long__() <==> long(x)\u001b[0m\n",
       "    \u001b[0;36m__nonzero__\u001b[0m\u001b[0;36m: \u001b[0m\u001b[1;30mclass wrapper_descriptor with getter, x.__nonzero__() <==> x != 0\u001b[0m\n",
       "    \u001b[0;36m__oct__\u001b[0m\u001b[0;36m: \u001b[0m\u001b[1;30mclass wrapper_descriptor with getter, x.__oct__() <==> oct(x)\u001b[0m\n",
       "    \u001b[0;36m__rdiv__\u001b[0m\u001b[0;36m: \u001b[0m\u001b[1;30mclass wrapper_descriptor with getter, x.__rdiv__(y) <==> y/x\u001b[0m\n",
       "    \u001b[0;36m__setslice__\u001b[0m\u001b[0;36m: \u001b[0m\u001b[1;30mclass wrapper_descriptor with getter, x.__setslice__(i, j, y) <==> x[i:j]=y\u001b[0m\n",
       "    \u001b[0;36mbase\u001b[0m\u001b[0;36m: \u001b[0m\u001b[1;30mclass getset_descriptor with getter, setter, deleter, Base object if memory is from some other object.\u001b[0m\n",
       "    \u001b[0;36mctypes\u001b[0m\u001b[0;36m: \u001b[0m\u001b[1;30mclass getset_descriptor with getter, setter, deleter, An object to simplify the interaction of the array with the ctypes\u001b[0m\n",
       "    \u001b[0;36mdata\u001b[0m\u001b[0;36m: \u001b[0m\u001b[1;30mclass getset_descriptor with getter, setter, deleter, Python buffer object pointing to the start of the array's data.\u001b[0m\n",
       "    \u001b[0;36mdtype\u001b[0m\u001b[0;36m: \u001b[0m\u001b[1;30mclass getset_descriptor with getter, setter, deleter, Data-type of the array's elements.\u001b[0m\n",
       "    \u001b[0;36mflags\u001b[0m\u001b[0;36m: \u001b[0m\u001b[1;30mclass getset_descriptor with getter, setter, deleter, Information about the memory layout of the array.\u001b[0m\n",
       "    \u001b[0;36mflat\u001b[0m\u001b[0;36m: \u001b[0m\u001b[1;30mclass getset_descriptor with getter, setter, deleter, A 1-D iterator over the array.\u001b[0m\n",
       "    \u001b[0;36mimag\u001b[0m\u001b[0;36m: \u001b[0m\u001b[1;30mclass getset_descriptor with getter, setter, deleter, The imaginary part of the array.\u001b[0m\n",
       "    \u001b[0;36mitemsize\u001b[0m\u001b[0;36m: \u001b[0m\u001b[1;30mclass getset_descriptor with getter, setter, deleter, Length of one array element in bytes.\u001b[0m\n",
       "    \u001b[0;36mnbytes\u001b[0m\u001b[0;36m: \u001b[0m\u001b[1;30mclass getset_descriptor with getter, setter, deleter, Total bytes consumed by the elements of the array.\u001b[0m\n",
       "    \u001b[0;36mndim\u001b[0m\u001b[0;36m: \u001b[0m\u001b[1;30mclass getset_descriptor with getter, setter, deleter, Number of array dimensions.\u001b[0m\n",
       "    \u001b[0;36mreal\u001b[0m\u001b[0;36m: \u001b[0m\u001b[1;30mclass getset_descriptor with getter, setter, deleter, The real part of the array.\u001b[0m\n",
       "    \u001b[0;36mshape\u001b[0m\u001b[0;36m: \u001b[0m\u001b[1;30mclass getset_descriptor with getter, setter, deleter, Tuple of array dimensions.\u001b[0m\n",
       "    \u001b[0;36msize\u001b[0m\u001b[0;36m: \u001b[0m\u001b[1;30mclass getset_descriptor with getter, setter, deleter, Number of elements in the array.\u001b[0m\n",
       "    \u001b[0;36mstrides\u001b[0m\u001b[0;36m: \u001b[0m\u001b[1;30mclass getset_descriptor with getter, setter, deleter, Tuple of bytes to step in each dimension when traversing an array.\u001b[0m\n",
       "\u001b[0;33mfunction:\u001b[0m\n",
       "    \u001b[0;36m__array__\u001b[0m\u001b[0;36m: \u001b[0m\u001b[1;30ma.__array__(|dtype) -> reference if type unchanged, copy otherwise.\u001b[0m\n",
       "    \u001b[0;36m__array_prepare__\u001b[0m\u001b[0;36m: \u001b[0m\u001b[1;30ma.__array_prepare__(obj) -> Object of same type as ndarray object obj.\u001b[0m\n",
       "    \u001b[0;36m__array_wrap__\u001b[0m\u001b[0;36m: \u001b[0m\u001b[1;30ma.__array_wrap__(obj) -> Object of same type as ndarray object a.\u001b[0m\n",
       "    \u001b[0;36mall\u001b[0m\u001b[0;36m: \u001b[0m\u001b[1;30ma.all(axis=None, out=None, keepdims=False)\u001b[0m\n",
       "    \u001b[0;36many\u001b[0m\u001b[0;36m: \u001b[0m\u001b[1;30ma.any(axis=None, out=None, keepdims=False)\u001b[0m\n",
       "    \u001b[0;36margmax\u001b[0m\u001b[0;36m: \u001b[0m\u001b[1;30ma.argmax(axis=None, out=None)\u001b[0m\n",
       "    \u001b[0;36margmin\u001b[0m\u001b[0;36m: \u001b[0m\u001b[1;30ma.argmin(axis=None, out=None)\u001b[0m\n",
       "    \u001b[0;36margpartition\u001b[0m\u001b[0;36m: \u001b[0m\u001b[1;30ma.argpartition(kth, axis=-1, kind='introselect', order=None)\u001b[0m\n",
       "    \u001b[0;36margsort\u001b[0m\u001b[0;36m: \u001b[0m\u001b[1;30ma.argsort(axis=-1, kind='quicksort', order=None)\u001b[0m\n",
       "    \u001b[0;36mastype\u001b[0m\u001b[0;36m: \u001b[0m\u001b[1;30ma.astype(dtype, order='K', casting='unsafe', subok=True, copy=True)\u001b[0m\n",
       "    \u001b[0;36mbyteswap\u001b[0m\u001b[0;36m: \u001b[0m\u001b[1;30ma.byteswap(inplace)\u001b[0m\n",
       "    \u001b[0;36mchoose\u001b[0m\u001b[0;36m: \u001b[0m\u001b[1;30ma.choose(choices, out=None, mode='raise')\u001b[0m\n",
       "    \u001b[0;36mclip\u001b[0m\u001b[0;36m: \u001b[0m\u001b[1;30ma.clip(min=None, max=None, out=None)\u001b[0m\n",
       "    \u001b[0;36mcompress\u001b[0m\u001b[0;36m: \u001b[0m\u001b[1;30ma.compress(condition, axis=None, out=None)\u001b[0m\n",
       "    \u001b[0;36mconj\u001b[0m\u001b[0;36m: \u001b[0m\u001b[1;30ma.conj()\u001b[0m\n",
       "    \u001b[0;36mconjugate\u001b[0m\u001b[0;36m: \u001b[0m\u001b[1;30ma.conjugate()\u001b[0m\n",
       "    \u001b[0;36mcopy\u001b[0m\u001b[0;36m: \u001b[0m\u001b[1;30ma.copy(order='C')\u001b[0m\n",
       "    \u001b[0;36mcumprod\u001b[0m\u001b[0;36m: \u001b[0m\u001b[1;30ma.cumprod(axis=None, dtype=None, out=None)\u001b[0m\n",
       "    \u001b[0;36mcumsum\u001b[0m\u001b[0;36m: \u001b[0m\u001b[1;30ma.cumsum(axis=None, dtype=None, out=None)\u001b[0m\n",
       "    \u001b[0;36mdiagonal\u001b[0m\u001b[0;36m: \u001b[0m\u001b[1;30ma.diagonal(offset=0, axis1=0, axis2=1)\u001b[0m\n",
       "    \u001b[0;36mdot\u001b[0m\u001b[0;36m: \u001b[0m\u001b[1;30ma.dot(b, out=None)\u001b[0m\n",
       "    \u001b[0;36mdump\u001b[0m\u001b[0;36m: \u001b[0m\u001b[1;30ma.dump(file)\u001b[0m\n",
       "    \u001b[0;36mdumps\u001b[0m\u001b[0;36m: \u001b[0m\u001b[1;30ma.dumps()\u001b[0m\n",
       "    \u001b[0;36mfill\u001b[0m\u001b[0;36m: \u001b[0m\u001b[1;30ma.fill(value)\u001b[0m\n",
       "    \u001b[0;36mflatten\u001b[0m\u001b[0;36m: \u001b[0m\u001b[1;30ma.flatten(order='C')\u001b[0m\n",
       "    \u001b[0;36mgetfield\u001b[0m\u001b[0;36m: \u001b[0m\u001b[1;30ma.getfield(dtype, offset=0)\u001b[0m\n",
       "    \u001b[0;36mitem\u001b[0m\u001b[0;36m: \u001b[0m\u001b[1;30ma.item(*args)\u001b[0m\n",
       "    \u001b[0;36mitemset\u001b[0m\u001b[0;36m: \u001b[0m\u001b[1;30ma.itemset(*args)\u001b[0m\n",
       "    \u001b[0;36mmax\u001b[0m\u001b[0;36m: \u001b[0m\u001b[1;30ma.max(axis=None, out=None)\u001b[0m\n",
       "    \u001b[0;36mmean\u001b[0m\u001b[0;36m: \u001b[0m\u001b[1;30ma.mean(axis=None, dtype=None, out=None, keepdims=False)\u001b[0m\n",
       "    \u001b[0;36mmin\u001b[0m\u001b[0;36m: \u001b[0m\u001b[1;30ma.min(axis=None, out=None, keepdims=False)\u001b[0m\n",
       "    \u001b[0;36mnewbyteorder\u001b[0m\u001b[0;36m: \u001b[0m\u001b[1;30marr.newbyteorder(new_order='S')\u001b[0m\n",
       "    \u001b[0;36mnonzero\u001b[0m\u001b[0;36m: \u001b[0m\u001b[1;30ma.nonzero()\u001b[0m\n",
       "    \u001b[0;36mpartition\u001b[0m\u001b[0;36m: \u001b[0m\u001b[1;30ma.partition(kth, axis=-1, kind='introselect', order=None)\u001b[0m\n",
       "    \u001b[0;36mprod\u001b[0m\u001b[0;36m: \u001b[0m\u001b[1;30ma.prod(axis=None, dtype=None, out=None, keepdims=False)\u001b[0m\n",
       "    \u001b[0;36mptp\u001b[0m\u001b[0;36m: \u001b[0m\u001b[1;30ma.ptp(axis=None, out=None)\u001b[0m\n",
       "    \u001b[0;36mput\u001b[0m\u001b[0;36m: \u001b[0m\u001b[1;30ma.put(indices, values, mode='raise')\u001b[0m\n",
       "    \u001b[0;36mravel\u001b[0m\u001b[0;36m: \u001b[0m\u001b[1;30ma.ravel([order])\u001b[0m\n",
       "    \u001b[0;36mrepeat\u001b[0m\u001b[0;36m: \u001b[0m\u001b[1;30ma.repeat(repeats, axis=None)\u001b[0m\n",
       "    \u001b[0;36mreshape\u001b[0m\u001b[0;36m: \u001b[0m\u001b[1;30ma.reshape(shape, order='C')\u001b[0m\n",
       "    \u001b[0;36mresize\u001b[0m\u001b[0;36m: \u001b[0m\u001b[1;30ma.resize(new_shape, refcheck=True)\u001b[0m\n",
       "    \u001b[0;36mround\u001b[0m\u001b[0;36m: \u001b[0m\u001b[1;30ma.round(decimals=0, out=None)\u001b[0m\n",
       "    \u001b[0;36msearchsorted\u001b[0m\u001b[0;36m: \u001b[0m\u001b[1;30ma.searchsorted(v, side='left', sorter=None)\u001b[0m\n",
       "    \u001b[0;36msetfield\u001b[0m\u001b[0;36m: \u001b[0m\u001b[1;30ma.setfield(val, dtype, offset=0)\u001b[0m\n",
       "    \u001b[0;36msetflags\u001b[0m\u001b[0;36m: \u001b[0m\u001b[1;30ma.setflags(write=None, align=None, uic=None)\u001b[0m\n",
       "    \u001b[0;36msort\u001b[0m\u001b[0;36m: \u001b[0m\u001b[1;30ma.sort(axis=-1, kind='quicksort', order=None)\u001b[0m\n",
       "    \u001b[0;36msqueeze\u001b[0m\u001b[0;36m: \u001b[0m\u001b[1;30ma.squeeze(axis=None)\u001b[0m\n",
       "    \u001b[0;36mstd\u001b[0m\u001b[0;36m: \u001b[0m\u001b[1;30ma.std(axis=None, dtype=None, out=None, ddof=0, keepdims=False)\u001b[0m\n",
       "    \u001b[0;36msum\u001b[0m\u001b[0;36m: \u001b[0m\u001b[1;30ma.sum(axis=None, dtype=None, out=None, keepdims=False)\u001b[0m\n",
       "    \u001b[0;36mswapaxes\u001b[0m\u001b[0;36m: \u001b[0m\u001b[1;30ma.swapaxes(axis1, axis2)\u001b[0m\n",
       "    \u001b[0;36mtake\u001b[0m\u001b[0;36m: \u001b[0m\u001b[1;30ma.take(indices, axis=None, out=None, mode='raise')\u001b[0m\n",
       "    \u001b[0;36mtobytes\u001b[0m\u001b[0;36m: \u001b[0m\u001b[1;30ma.tobytes(order='C')\u001b[0m\n",
       "    \u001b[0;36mtofile\u001b[0m\u001b[0;36m: \u001b[0m\u001b[1;30ma.tofile(fid, sep=\"\", format=\"%s\")\u001b[0m\n",
       "    \u001b[0;36mtolist\u001b[0m\u001b[0;36m: \u001b[0m\u001b[1;30ma.tolist()\u001b[0m\n",
       "    \u001b[0;36mtostring\u001b[0m\u001b[0;36m: \u001b[0m\u001b[1;30ma.tostring(order='C')\u001b[0m\n",
       "    \u001b[0;36mtrace\u001b[0m\u001b[0;36m: \u001b[0m\u001b[1;30ma.trace(offset=0, axis1=0, axis2=1, dtype=None, out=None)\u001b[0m\n",
       "    \u001b[0;36mtranspose\u001b[0m\u001b[0;36m: \u001b[0m\u001b[1;30ma.transpose(*axes)\u001b[0m\n",
       "    \u001b[0;36mvar\u001b[0m\u001b[0;36m: \u001b[0m\u001b[1;30ma.var(axis=None, dtype=None, out=None, ddof=0, keepdims=False)\u001b[0m\n",
       "    \u001b[0;36mview\u001b[0m\u001b[0;36m: \u001b[0m\u001b[1;30ma.view(dtype=None, type=None)\u001b[0m\n",
       "\u001b[0;33mmagic:\u001b[0m\n",
       "    \u001b[0;36m__index__\u001b[0m\u001b[0;36m: \u001b[0m\u001b[1;30mx[y:z] <==> x[y.__index__():z.__index__()]\u001b[0m"
      ]
     },
     "execution_count": 5,
     "metadata": {},
     "output_type": "execute_result"
    }
   ],
   "source": [
    "import pdir\n",
    "pdir(my_array)"
   ]
  },
  {
   "cell_type": "markdown",
   "metadata": {
    "collapsed": false
   },
   "source": [
    "打印NumPy数组元素"
   ]
  },
  {
   "cell_type": "code",
   "execution_count": 6,
   "metadata": {
    "collapsed": false
   },
   "outputs": [
    {
     "name": "stdout",
     "output_type": "stream",
     "text": [
      "1\n",
      "2\n"
     ]
    }
   ],
   "source": [
    "print my_array[0]\n",
    "print my_array[1]"
   ]
  },
  {
   "cell_type": "markdown",
   "metadata": {},
   "source": [
    "修改NumPy数组的元素"
   ]
  },
  {
   "cell_type": "code",
   "execution_count": 7,
   "metadata": {
    "collapsed": false
   },
   "outputs": [
    {
     "name": "stdout",
     "output_type": "stream",
     "text": [
      "[-1  2  3  4  5]\n"
     ]
    }
   ],
   "source": [
    "my_array[0] = -1\n",
    "print my_array"
   ]
  },
  {
   "cell_type": "markdown",
   "metadata": {},
   "source": [
    "创建全0/全1数组"
   ]
  },
  {
   "cell_type": "code",
   "execution_count": 8,
   "metadata": {
    "collapsed": false
   },
   "outputs": [
    {
     "name": "stdout",
     "output_type": "stream",
     "text": [
      "[ 0.  0.  0.  0.  0.]\n",
      "[ 1.  1.  1.  1.  1.]\n"
     ]
    }
   ],
   "source": [
    "my_new_array = np.zeros(5)#zeros: zeros(shape, dtype=float, order='C')\n",
    "print my_new_array\n",
    "my_new_array2 = np.ones(5)\n",
    "print my_new_array2"
   ]
  },
  {
   "cell_type": "markdown",
   "metadata": {},
   "source": [
    "创建随机值数组"
   ]
  },
  {
   "cell_type": "code",
   "execution_count": 9,
   "metadata": {
    "collapsed": false
   },
   "outputs": [
    {
     "name": "stdout",
     "output_type": "stream",
     "text": [
      "[ 0.60201171  0.70095134  0.74672373  0.47446177  0.29936291]\n"
     ]
    }
   ],
   "source": [
    "my_random_array = np.random.random(5)#为每个元素分配0到1之间的随机值\n",
    "print my_random_array "
   ]
  },
  {
   "cell_type": "markdown",
   "metadata": {},
   "source": [
    "创建二维NumPy数组"
   ]
  },
  {
   "cell_type": "code",
   "execution_count": 10,
   "metadata": {
    "collapsed": false
   },
   "outputs": [
    {
     "name": "stdout",
     "output_type": "stream",
     "text": [
      "[[ 0.  0.  0.]\n",
      " [ 0.  0.  0.]]\n",
      "[[4 5 4]\n",
      " [6 1 8]\n",
      " [3 4 0]\n",
      " [6 8 3]]\n",
      "1\n"
     ]
    }
   ],
   "source": [
    "my_2d_array = np.zeros((2,3))#zeros: zeros(shape, dtype=float, order='C'),shape为指定数组大小的元组\n",
    "print my_2d_array\n",
    "my_2d_array2 = np.array([[4, 5, 4], [6, 1, 8],[3, 4, 0],[6, 8 , 3]])\n",
    "print my_2d_array2\n",
    "#多维数组可以用 my_array[i][j] 符号来索引，其中i表示行号，j表示列号。i和j都从0开始。\n",
    "print my_2d_array2[1][1]"
   ]
  },
  {
   "cell_type": "code",
   "execution_count": 11,
   "metadata": {
    "collapsed": false
   },
   "outputs": [
    {
     "data": {
      "text/plain": [
       "\u001b[0;33mproperty:\u001b[0m\n",
       "    \u001b[0;36mALLOW_THREADS\u001b[0m\u001b[1;30m, \u001b[0m\u001b[0;36mBUFSIZE\u001b[0m\u001b[1;30m, \u001b[0m\u001b[0;36mCLIP\u001b[0m\u001b[1;30m, \u001b[0m\u001b[0;36mERR_CALL\u001b[0m\u001b[1;30m, \u001b[0m\u001b[0;36mERR_DEFAULT\u001b[0m\u001b[1;30m, \u001b[0m\u001b[0;36mERR_IGNORE\u001b[0m\u001b[1;30m, \u001b[0m\u001b[0;36mERR_LOG\u001b[0m\u001b[1;30m, \u001b[0m\u001b[0;36mERR_PRINT\u001b[0m\u001b[1;30m, \u001b[0m\u001b[0;36mERR_RAISE\u001b[0m\u001b[1;30m, \u001b[0m\u001b[0;36mERR_WARN\u001b[0m\u001b[1;30m, \u001b[0m\u001b[0;36mFLOATING_POINT_SUPPORT\u001b[0m\u001b[1;30m, \u001b[0m\u001b[0;36mFPE_DIVIDEBYZERO\u001b[0m\u001b[1;30m, \u001b[0m\u001b[0;36mFPE_INVALID\u001b[0m\u001b[1;30m, \u001b[0m\u001b[0;36mFPE_OVERFLOW\u001b[0m\u001b[1;30m, \u001b[0m\u001b[0;36mFPE_UNDERFLOW\u001b[0m\u001b[1;30m, \u001b[0m\u001b[0;36mFalse_\u001b[0m\u001b[1;30m, \u001b[0m\u001b[0;36mInf\u001b[0m\u001b[1;30m, \u001b[0m\u001b[0;36mInfinity\u001b[0m\u001b[1;30m, \u001b[0m\u001b[0;36mMAXDIMS\u001b[0m\u001b[1;30m, \u001b[0m\u001b[0;36mNAN\u001b[0m\u001b[1;30m, \u001b[0m\u001b[0;36mNINF\u001b[0m\u001b[1;30m, \u001b[0m\u001b[0;36mNZERO\u001b[0m\u001b[1;30m, \u001b[0m\u001b[0;36mNaN\u001b[0m\u001b[1;30m, \u001b[0m\u001b[0;36mPINF\u001b[0m\u001b[1;30m, \u001b[0m\u001b[0;36mPZERO\u001b[0m\u001b[1;30m, \u001b[0m\u001b[0;36mRAISE\u001b[0m\u001b[1;30m, \u001b[0m\u001b[0;36mSHIFT_DIVIDEBYZERO\u001b[0m\u001b[1;30m, \u001b[0m\u001b[0;36mSHIFT_INVALID\u001b[0m\u001b[1;30m, \u001b[0m\u001b[0;36mSHIFT_OVERFLOW\u001b[0m\u001b[1;30m, \u001b[0m\u001b[0;36mSHIFT_UNDERFLOW\u001b[0m\u001b[1;30m, \u001b[0m\u001b[0;36mScalarType\u001b[0m\u001b[1;30m, \u001b[0m\u001b[0;36mTrue_\u001b[0m\u001b[1;30m, \u001b[0m\u001b[0;36mUFUNC_BUFSIZE_DEFAULT\u001b[0m\u001b[1;30m, \u001b[0m\u001b[0;36mUFUNC_PYVALS_NAME\u001b[0m\u001b[1;30m, \u001b[0m\u001b[0;36mWRAP\u001b[0m\u001b[1;30m, \u001b[0m\u001b[0;36m__NUMPY_SETUP__\u001b[0m\u001b[1;30m, \u001b[0m\u001b[0;36m__all__\u001b[0m\u001b[1;30m, \u001b[0m\u001b[0;36m__builtins__\u001b[0m\u001b[1;30m, \u001b[0m\u001b[0;36m__config__\u001b[0m\u001b[1;30m, \u001b[0m\u001b[0;36m__git_revision__\u001b[0m\u001b[1;30m, \u001b[0m\u001b[0;36m__mkl_version__\u001b[0m\u001b[1;30m, \u001b[0m\u001b[0;36m__version__\u001b[0m\u001b[1;30m, \u001b[0m\u001b[0;36m_import_tools\u001b[0m\u001b[1;30m, \u001b[0m\u001b[0;36m_mat\u001b[0m\u001b[1;30m, \u001b[0m\u001b[0;36mabs\u001b[0m\u001b[1;30m, \u001b[0m\u001b[0;36mabsolute\u001b[0m\u001b[1;30m, \u001b[0m\u001b[0;36mabsolute_import\u001b[0m\u001b[1;30m, \u001b[0m\u001b[0;36madd\u001b[0m\u001b[1;30m, \u001b[0m\u001b[0;36madd_newdocs\u001b[0m\u001b[1;30m, \u001b[0m\u001b[0;36marccos\u001b[0m\u001b[1;30m, \u001b[0m\u001b[0;36marccosh\u001b[0m\u001b[1;30m, \u001b[0m\u001b[0;36marcsin\u001b[0m\u001b[1;30m, \u001b[0m\u001b[0;36marcsinh\u001b[0m\u001b[1;30m, \u001b[0m\u001b[0;36marctan\u001b[0m\u001b[1;30m, \u001b[0m\u001b[0;36marctan2\u001b[0m\u001b[1;30m, \u001b[0m\u001b[0;36marctanh\u001b[0m\u001b[1;30m, \u001b[0m\u001b[0;36mbitwise_and\u001b[0m\u001b[1;30m, \u001b[0m\u001b[0;36mbitwise_not\u001b[0m\u001b[1;30m, \u001b[0m\u001b[0;36mbitwise_or\u001b[0m\u001b[1;30m, \u001b[0m\u001b[0;36mbitwise_xor\u001b[0m\u001b[1;30m, \u001b[0m\u001b[0;36mc_\u001b[0m\u001b[1;30m, \u001b[0m\u001b[0;36mcast\u001b[0m\u001b[1;30m, \u001b[0m\u001b[0;36mcbrt\u001b[0m\u001b[1;30m, \u001b[0m\u001b[0;36mceil\u001b[0m\u001b[1;30m, \u001b[0m\u001b[0;36mchar\u001b[0m\u001b[1;30m, \u001b[0m\u001b[0;36mcompat\u001b[0m\u001b[1;30m, \u001b[0m\u001b[0;36mconj\u001b[0m\u001b[1;30m, \u001b[0m\u001b[0;36mconjugate\u001b[0m\u001b[1;30m, \u001b[0m\u001b[0;36mcopysign\u001b[0m\u001b[1;30m, \u001b[0m\u001b[0;36mcore\u001b[0m\u001b[1;30m, \u001b[0m\u001b[0;36mcos\u001b[0m\u001b[1;30m, \u001b[0m\u001b[0;36mcosh\u001b[0m\u001b[1;30m, \u001b[0m\u001b[0;36mctypeslib\u001b[0m\u001b[1;30m, \u001b[0m\u001b[0;36mdeg2rad\u001b[0m\u001b[1;30m, \u001b[0m\u001b[0;36mdegrees\u001b[0m\u001b[1;30m, \u001b[0m\u001b[0;36mdivide\u001b[0m\u001b[1;30m, \u001b[0m\u001b[0;36mdivision\u001b[0m\u001b[1;30m, \u001b[0m\u001b[0;36me\u001b[0m\u001b[1;30m, \u001b[0m\u001b[0;36memath\u001b[0m\u001b[1;30m, \u001b[0m\u001b[0;36mequal\u001b[0m\u001b[1;30m, \u001b[0m\u001b[0;36meuler_gamma\u001b[0m\u001b[1;30m, \u001b[0m\u001b[0;36mexp\u001b[0m\u001b[1;30m, \u001b[0m\u001b[0;36mexp2\u001b[0m\u001b[1;30m, \u001b[0m\u001b[0;36mexpm1\u001b[0m\u001b[1;30m, \u001b[0m\u001b[0;36mfabs\u001b[0m\u001b[1;30m, \u001b[0m\u001b[0;36mfft\u001b[0m\u001b[1;30m, \u001b[0m\u001b[0;36mfloor\u001b[0m\u001b[1;30m, \u001b[0m\u001b[0;36mfloor_divide\u001b[0m\u001b[1;30m, \u001b[0m\u001b[0;36mfmax\u001b[0m\u001b[1;30m, \u001b[0m\u001b[0;36mfmin\u001b[0m\u001b[1;30m, \u001b[0m\u001b[0;36mfmod\u001b[0m\u001b[1;30m, \u001b[0m\u001b[0;36mfrexp\u001b[0m\u001b[1;30m, \u001b[0m\u001b[0;36mgreater\u001b[0m\u001b[1;30m, \u001b[0m\u001b[0;36mgreater_equal\u001b[0m\u001b[1;30m, \u001b[0m\u001b[0;36mhypot\u001b[0m\u001b[1;30m, \u001b[0m\u001b[0;36mindex_exp\u001b[0m\u001b[1;30m, \u001b[0m\u001b[0;36minf\u001b[0m\u001b[1;30m, \u001b[0m\u001b[0;36minfty\u001b[0m\u001b[1;30m, \u001b[0m\u001b[0;36minvert\u001b[0m\u001b[1;30m, \u001b[0m\u001b[0;36misfinite\u001b[0m\u001b[1;30m, \u001b[0m\u001b[0;36misinf\u001b[0m\u001b[1;30m, \u001b[0m\u001b[0;36misnan\u001b[0m\u001b[1;30m, \u001b[0m\u001b[0;36mldexp\u001b[0m\u001b[1;30m, \u001b[0m\u001b[0;36mleft_shift\u001b[0m\u001b[1;30m, \u001b[0m\u001b[0;36mless\u001b[0m\u001b[1;30m, \u001b[0m\u001b[0;36mless_equal\u001b[0m\u001b[1;30m, \u001b[0m\u001b[0;36mlib\u001b[0m\u001b[1;30m, \u001b[0m\u001b[0;36mlinalg\u001b[0m\u001b[1;30m, \u001b[0m\u001b[0;36mlittle_endian\u001b[0m\u001b[1;30m, \u001b[0m\u001b[0;36mlog\u001b[0m\u001b[1;30m, \u001b[0m\u001b[0;36mlog10\u001b[0m\u001b[1;30m, \u001b[0m\u001b[0;36mlog1p\u001b[0m\u001b[1;30m, \u001b[0m\u001b[0;36mlog2\u001b[0m\u001b[1;30m, \u001b[0m\u001b[0;36mlogaddexp\u001b[0m\u001b[1;30m, \u001b[0m\u001b[0;36mlogaddexp2\u001b[0m\u001b[1;30m, \u001b[0m\u001b[0;36mlogical_and\u001b[0m\u001b[1;30m, \u001b[0m\u001b[0;36mlogical_not\u001b[0m\u001b[1;30m, \u001b[0m\u001b[0;36mlogical_or\u001b[0m\u001b[1;30m, \u001b[0m\u001b[0;36mlogical_xor\u001b[0m\u001b[1;30m, \u001b[0m\u001b[0;36mma\u001b[0m\u001b[1;30m, \u001b[0m\u001b[0;36mmath\u001b[0m\u001b[1;30m, \u001b[0m\u001b[0;36mmatrixlib\u001b[0m\u001b[1;30m, \u001b[0m\u001b[0;36mmaximum\u001b[0m\u001b[1;30m, \u001b[0m\u001b[0;36mmgrid\u001b[0m\u001b[1;30m, \u001b[0m\u001b[0;36mminimum\u001b[0m\u001b[1;30m, \u001b[0m\u001b[0;36mmod\u001b[0m\u001b[1;30m, \u001b[0m\u001b[0;36mmodf\u001b[0m\u001b[1;30m, \u001b[0m\u001b[0;36mmultiply\u001b[0m\u001b[1;30m, \u001b[0m\u001b[0;36mnan\u001b[0m\u001b[1;30m, \u001b[0m\u001b[0;36mnbytes\u001b[0m\u001b[1;30m, \u001b[0m\u001b[0;36mnegative\u001b[0m\u001b[1;30m, \u001b[0m\u001b[0;36mnewaxis\u001b[0m\u001b[1;30m, \u001b[0m\u001b[0;36mnextafter\u001b[0m\u001b[1;30m, \u001b[0m\u001b[0;36mnot_equal\u001b[0m\u001b[1;30m, \u001b[0m\u001b[0;36mnumarray\u001b[0m\u001b[1;30m, \u001b[0m\u001b[0;36mogrid\u001b[0m\u001b[1;30m, \u001b[0m\u001b[0;36moldnumeric\u001b[0m\u001b[1;30m, \u001b[0m\u001b[0;36mpi\u001b[0m\u001b[1;30m, \u001b[0m\u001b[0;36mpolynomial\u001b[0m\u001b[1;30m, \u001b[0m\u001b[0;36mpower\u001b[0m\u001b[1;30m, \u001b[0m\u001b[0;36mprint_function\u001b[0m\u001b[1;30m, \u001b[0m\u001b[0;36mr_\u001b[0m\u001b[1;30m, \u001b[0m\u001b[0;36mrad2deg\u001b[0m\u001b[1;30m, \u001b[0m\u001b[0;36mradians\u001b[0m\u001b[1;30m, \u001b[0m\u001b[0;36mrandom\u001b[0m\u001b[1;30m, \u001b[0m\u001b[0;36mrec\u001b[0m\u001b[1;30m, \u001b[0m\u001b[0;36mreciprocal\u001b[0m\u001b[1;30m, \u001b[0m\u001b[0;36mremainder\u001b[0m\u001b[1;30m, \u001b[0m\u001b[0;36mright_shift\u001b[0m\u001b[1;30m, \u001b[0m\u001b[0;36mrint\u001b[0m\u001b[1;30m, \u001b[0m\u001b[0;36ms_\u001b[0m\u001b[1;30m, \u001b[0m\u001b[0;36msctypeDict\u001b[0m\u001b[1;30m, \u001b[0m\u001b[0;36msctypeNA\u001b[0m\u001b[1;30m, \u001b[0m\u001b[0;36msctypes\u001b[0m\u001b[1;30m, \u001b[0m\u001b[0;36msign\u001b[0m\u001b[1;30m, \u001b[0m\u001b[0;36msignbit\u001b[0m\u001b[1;30m, \u001b[0m\u001b[0;36msin\u001b[0m\u001b[1;30m, \u001b[0m\u001b[0;36msinh\u001b[0m\u001b[1;30m, \u001b[0m\u001b[0;36mspacing\u001b[0m\u001b[1;30m, \u001b[0m\u001b[0;36msqrt\u001b[0m\u001b[1;30m, \u001b[0m\u001b[0;36msquare\u001b[0m\u001b[1;30m, \u001b[0m\u001b[0;36msubtract\u001b[0m\u001b[1;30m, \u001b[0m\u001b[0;36msys\u001b[0m\u001b[1;30m, \u001b[0m\u001b[0;36mtan\u001b[0m\u001b[1;30m, \u001b[0m\u001b[0;36mtanh\u001b[0m\u001b[1;30m, \u001b[0m\u001b[0;36mtesting\u001b[0m\u001b[1;30m, \u001b[0m\u001b[0;36mtrue_divide\u001b[0m\u001b[1;30m, \u001b[0m\u001b[0;36mtrunc\u001b[0m\u001b[1;30m, \u001b[0m\u001b[0;36mtypeDict\u001b[0m\u001b[1;30m, \u001b[0m\u001b[0;36mtypeNA\u001b[0m\u001b[1;30m, \u001b[0m\u001b[0;36mtypecodes\u001b[0m\u001b[1;30m, \u001b[0m\u001b[0;36mversion\u001b[0m\u001b[1;30m, \u001b[0m\u001b[0;36mwarnings\u001b[0m\n",
       "\u001b[0;33mmodule attribute:\u001b[0m\n",
       "    \u001b[0;36m__file__\u001b[0m\u001b[1;30m, \u001b[0m\u001b[0;36m__name__\u001b[0m\u001b[1;30m, \u001b[0m\u001b[0;36m__package__\u001b[0m\u001b[1;30m, \u001b[0m\u001b[0;36m__path__\u001b[0m\n",
       "\u001b[0;33mspecial attribute:\u001b[0m\n",
       "    \u001b[0;36m__doc__\u001b[0m\n",
       "\u001b[0;33mclass:\u001b[0m\n",
       "    \u001b[0;36mDataSource\u001b[0m\u001b[0;36m: \u001b[0m\u001b[1;30mDataSource(destpath='.')\u001b[0m\n",
       "    \u001b[0;36mMachAr\u001b[0m\u001b[0;36m: \u001b[0m\u001b[1;30mDiagnosing machine parameters.\u001b[0m\n",
       "    \u001b[0;36mPackageLoader\u001b[0m\u001b[0;36m: \u001b[0m\u001b[1;30m\u001b[0m\n",
       "    \u001b[0;36mTester\u001b[0m\u001b[0;36m: \u001b[0m\u001b[1;30mNose test runner.\u001b[0m\n",
       "    \u001b[0;36m_NoValue\u001b[0m\u001b[0;36m: \u001b[0m\u001b[1;30mSpecial keyword value.\u001b[0m\n",
       "    \u001b[0;36mbool\u001b[0m\u001b[0;36m: \u001b[0m\u001b[1;30mbool(x) -> bool\u001b[0m\n",
       "    \u001b[0;36mbool8\u001b[0m\u001b[0;36m: \u001b[0m\u001b[1;30mNumpy's Boolean type.  Character code: ``?``.  Alias: bool8\u001b[0m\n",
       "    \u001b[0;36mbool_\u001b[0m\u001b[0;36m: \u001b[0m\u001b[1;30mNumpy's Boolean type.  Character code: ``?``.  Alias: bool8\u001b[0m\n",
       "    \u001b[0;36mbroadcast\u001b[0m\u001b[0;36m: \u001b[0m\u001b[1;30mProduce an object that mimics broadcasting.\u001b[0m\n",
       "    \u001b[0;36mbusdaycalendar\u001b[0m\u001b[0;36m: \u001b[0m\u001b[1;30mbusdaycalendar(weekmask='1111100', holidays=None)\u001b[0m\n",
       "    \u001b[0;36mbyte\u001b[0m\u001b[0;36m: \u001b[0m\u001b[1;30m8-bit integer. Character code ``b``. C char compatible.\u001b[0m\n",
       "    \u001b[0;36mbytes_\u001b[0m\u001b[0;36m: \u001b[0m\u001b[1;30m\u001b[0m\n",
       "    \u001b[0;36mcdouble\u001b[0m\u001b[0;36m: \u001b[0m\u001b[1;30mComposed of two 64 bit floats\u001b[0m\n",
       "    \u001b[0;36mcfloat\u001b[0m\u001b[0;36m: \u001b[0m\u001b[1;30mComposed of two 64 bit floats\u001b[0m\n",
       "    \u001b[0;36mcharacter\u001b[0m\u001b[0;36m: \u001b[0m\u001b[1;30m\u001b[0m\n",
       "    \u001b[0;36mchararray\u001b[0m\u001b[0;36m: \u001b[0m\u001b[1;30mchararray(shape, itemsize=1, unicode=False, buffer=None, offset=0,\u001b[0m\n",
       "    \u001b[0;36mclongdouble\u001b[0m\u001b[0;36m: \u001b[0m\u001b[1;30mComposed of two 64 bit floats\u001b[0m\n",
       "    \u001b[0;36mclongfloat\u001b[0m\u001b[0;36m: \u001b[0m\u001b[1;30mComposed of two 64 bit floats\u001b[0m\n",
       "    \u001b[0;36mcomplex\u001b[0m\u001b[0;36m: \u001b[0m\u001b[1;30mcomplex(real[, imag]) -> complex number\u001b[0m\n",
       "    \u001b[0;36mcomplex128\u001b[0m\u001b[0;36m: \u001b[0m\u001b[1;30mComposed of two 64 bit floats\u001b[0m\n",
       "    \u001b[0;36mcomplex64\u001b[0m\u001b[0;36m: \u001b[0m\u001b[1;30mComposed of two 32 bit floats\u001b[0m\n",
       "    \u001b[0;36mcomplex_\u001b[0m\u001b[0;36m: \u001b[0m\u001b[1;30mComposed of two 64 bit floats\u001b[0m\n",
       "    \u001b[0;36mcomplexfloating\u001b[0m\u001b[0;36m: \u001b[0m\u001b[1;30m\u001b[0m\n",
       "    \u001b[0;36mcsingle\u001b[0m\u001b[0;36m: \u001b[0m\u001b[1;30mComposed of two 32 bit floats\u001b[0m\n",
       "    \u001b[0;36mdatetime64\u001b[0m\u001b[0;36m: \u001b[0m\u001b[1;30m\u001b[0m\n",
       "    \u001b[0;36mdouble\u001b[0m\u001b[0;36m: \u001b[0m\u001b[1;30m64-bit floating-point number. Character code 'd'. Python float compatible.\u001b[0m\n",
       "    \u001b[0;36mdtype\u001b[0m\u001b[0;36m: \u001b[0m\u001b[1;30mdtype(obj, align=False, copy=False)\u001b[0m\n",
       "    \u001b[0;36merrstate\u001b[0m\u001b[0;36m: \u001b[0m\u001b[1;30merrstate(**kwargs)\u001b[0m\n",
       "    \u001b[0;36mfinfo\u001b[0m\u001b[0;36m: \u001b[0m\u001b[1;30mfinfo(dtype)\u001b[0m\n",
       "    \u001b[0;36mflatiter\u001b[0m\u001b[0;36m: \u001b[0m\u001b[1;30mFlat iterator object to iterate over arrays.\u001b[0m\n",
       "    \u001b[0;36mflexible\u001b[0m\u001b[0;36m: \u001b[0m\u001b[1;30m\u001b[0m\n",
       "    \u001b[0;36mfloat\u001b[0m\u001b[0;36m: \u001b[0m\u001b[1;30mfloat(x) -> floating point number\u001b[0m\n",
       "    \u001b[0;36mfloat16\u001b[0m\u001b[0;36m: \u001b[0m\u001b[1;30m\u001b[0m\n",
       "    \u001b[0;36mfloat32\u001b[0m\u001b[0;36m: \u001b[0m\u001b[1;30m32-bit floating-point number. Character code 'f'. C float compatible.\u001b[0m\n",
       "    \u001b[0;36mfloat64\u001b[0m\u001b[0;36m: \u001b[0m\u001b[1;30m64-bit floating-point number. Character code 'd'. Python float compatible.\u001b[0m\n",
       "    \u001b[0;36mfloat_\u001b[0m\u001b[0;36m: \u001b[0m\u001b[1;30m64-bit floating-point number. Character code 'd'. Python float compatible.\u001b[0m\n",
       "    \u001b[0;36mfloating\u001b[0m\u001b[0;36m: \u001b[0m\u001b[1;30m\u001b[0m\n",
       "    \u001b[0;36mformat_parser\u001b[0m\u001b[0;36m: \u001b[0m\u001b[1;30mClass to convert formats, names, titles description to a dtype.\u001b[0m\n",
       "    \u001b[0;36mgeneric\u001b[0m\u001b[0;36m: \u001b[0m\u001b[1;30mBase class for numpy scalar types.\u001b[0m\n",
       "    \u001b[0;36mhalf\u001b[0m\u001b[0;36m: \u001b[0m\u001b[1;30m\u001b[0m\n",
       "    \u001b[0;36miinfo\u001b[0m\u001b[0;36m: \u001b[0m\u001b[1;30miinfo(type)\u001b[0m\n",
       "    \u001b[0;36minexact\u001b[0m\u001b[0;36m: \u001b[0m\u001b[1;30m\u001b[0m\n",
       "    \u001b[0;36mint\u001b[0m\u001b[0;36m: \u001b[0m\u001b[1;30mint(x=0) -> int or long\u001b[0m\n",
       "    \u001b[0;36mint0\u001b[0m\u001b[0;36m: \u001b[0m\u001b[1;30m64-bit integer. Character code 'l'. Python int compatible.\u001b[0m\n",
       "    \u001b[0;36mint16\u001b[0m\u001b[0;36m: \u001b[0m\u001b[1;30m16-bit integer. Character code ``h``. C short compatible.\u001b[0m\n",
       "    \u001b[0;36mint32\u001b[0m\u001b[0;36m: \u001b[0m\u001b[1;30m32-bit integer. Character code 'i'. C int compatible.\u001b[0m\n",
       "    \u001b[0;36mint64\u001b[0m\u001b[0;36m: \u001b[0m\u001b[1;30m64-bit integer. Character code 'l'. Python int compatible.\u001b[0m\n",
       "    \u001b[0;36mint8\u001b[0m\u001b[0;36m: \u001b[0m\u001b[1;30m8-bit integer. Character code ``b``. C char compatible.\u001b[0m\n",
       "    \u001b[0;36mint_\u001b[0m\u001b[0;36m: \u001b[0m\u001b[1;30m32-bit integer. Character code 'i'. C int compatible.\u001b[0m\n",
       "    \u001b[0;36mintc\u001b[0m\u001b[0;36m: \u001b[0m\u001b[1;30m\u001b[0m\n",
       "    \u001b[0;36minteger\u001b[0m\u001b[0;36m: \u001b[0m\u001b[1;30m\u001b[0m\n",
       "    \u001b[0;36mintp\u001b[0m\u001b[0;36m: \u001b[0m\u001b[1;30m64-bit integer. Character code 'l'. Python int compatible.\u001b[0m\n",
       "    \u001b[0;36mlong\u001b[0m\u001b[0;36m: \u001b[0m\u001b[1;30mlong(x=0) -> long\u001b[0m\n",
       "    \u001b[0;36mlongcomplex\u001b[0m\u001b[0;36m: \u001b[0m\u001b[1;30mComposed of two 64 bit floats\u001b[0m\n",
       "    \u001b[0;36mlongdouble\u001b[0m\u001b[0;36m: \u001b[0m\u001b[1;30m\u001b[0m\n",
       "    \u001b[0;36mlongfloat\u001b[0m\u001b[0;36m: \u001b[0m\u001b[1;30m\u001b[0m\n",
       "    \u001b[0;36mlonglong\u001b[0m\u001b[0;36m: \u001b[0m\u001b[1;30m64-bit integer. Character code 'l'. Python int compatible.\u001b[0m\n",
       "    \u001b[0;36mmatrix\u001b[0m\u001b[0;36m: \u001b[0m\u001b[1;30mmatrix(data, dtype=None, copy=True)\u001b[0m\n",
       "    \u001b[0;36mmemmap\u001b[0m\u001b[0;36m: \u001b[0m\u001b[1;30mCreate a memory-map to an array stored in a *binary* file on disk.\u001b[0m\n",
       "    \u001b[0;36mndarray\u001b[0m\u001b[0;36m: \u001b[0m\u001b[1;30mndarray(shape, dtype=float, buffer=None, offset=0,\u001b[0m\n",
       "    \u001b[0;36mndenumerate\u001b[0m\u001b[0;36m: \u001b[0m\u001b[1;30mMultidimensional index iterator.\u001b[0m\n",
       "    \u001b[0;36mndindex\u001b[0m\u001b[0;36m: \u001b[0m\u001b[1;30mAn N-dimensional iterator object to index arrays.\u001b[0m\n",
       "    \u001b[0;36mnditer\u001b[0m\u001b[0;36m: \u001b[0m\u001b[1;30mEfficient multi-dimensional iterator object to iterate over arrays.\u001b[0m\n",
       "    \u001b[0;36mnumber\u001b[0m\u001b[0;36m: \u001b[0m\u001b[1;30m\u001b[0m\n",
       "    \u001b[0;36mobject\u001b[0m\u001b[0;36m: \u001b[0m\u001b[1;30mThe most base type\u001b[0m\n",
       "    \u001b[0;36mobject0\u001b[0m\u001b[0;36m: \u001b[0m\u001b[1;30mAny Python object.  Character code: 'O'.\u001b[0m\n",
       "    \u001b[0;36mobject_\u001b[0m\u001b[0;36m: \u001b[0m\u001b[1;30mAny Python object.  Character code: 'O'.\u001b[0m\n",
       "    \u001b[0;36mpoly1d\u001b[0m\u001b[0;36m: \u001b[0m\u001b[1;30mA one-dimensional polynomial class.\u001b[0m\n",
       "    \u001b[0;36mrecarray\u001b[0m\u001b[0;36m: \u001b[0m\u001b[1;30mConstruct an ndarray that allows field access using attributes.\u001b[0m\n",
       "    \u001b[0;36mrecord\u001b[0m\u001b[0;36m: \u001b[0m\u001b[1;30mA data-type scalar that allows field access as attribute lookup.\u001b[0m\n",
       "    \u001b[0;36mshort\u001b[0m\u001b[0;36m: \u001b[0m\u001b[1;30m16-bit integer. Character code ``h``. C short compatible.\u001b[0m\n",
       "    \u001b[0;36msignedinteger\u001b[0m\u001b[0;36m: \u001b[0m\u001b[1;30m\u001b[0m\n",
       "    \u001b[0;36msingle\u001b[0m\u001b[0;36m: \u001b[0m\u001b[1;30m32-bit floating-point number. Character code 'f'. C float compatible.\u001b[0m\n",
       "    \u001b[0;36msinglecomplex\u001b[0m\u001b[0;36m: \u001b[0m\u001b[1;30mComposed of two 32 bit floats\u001b[0m\n",
       "    \u001b[0;36mstr\u001b[0m\u001b[0;36m: \u001b[0m\u001b[1;30mstr(object='') -> string\u001b[0m\n",
       "    \u001b[0;36mstr_\u001b[0m\u001b[0;36m: \u001b[0m\u001b[1;30m\u001b[0m\n",
       "    \u001b[0;36mstring0\u001b[0m\u001b[0;36m: \u001b[0m\u001b[1;30m\u001b[0m\n",
       "    \u001b[0;36mstring_\u001b[0m\u001b[0;36m: \u001b[0m\u001b[1;30m\u001b[0m\n",
       "    \u001b[0;36mtimedelta64\u001b[0m\u001b[0;36m: \u001b[0m\u001b[1;30m\u001b[0m\n",
       "    \u001b[0;36mubyte\u001b[0m\u001b[0;36m: \u001b[0m\u001b[1;30m\u001b[0m\n",
       "    \u001b[0;36mufunc\u001b[0m\u001b[0;36m: \u001b[0m\u001b[1;30mFunctions that operate element by element on whole arrays.\u001b[0m\n",
       "    \u001b[0;36muint\u001b[0m\u001b[0;36m: \u001b[0m\u001b[1;30m\u001b[0m\n",
       "    \u001b[0;36muint0\u001b[0m\u001b[0;36m: \u001b[0m\u001b[1;30m\u001b[0m\n",
       "    \u001b[0;36muint16\u001b[0m\u001b[0;36m: \u001b[0m\u001b[1;30m\u001b[0m\n",
       "    \u001b[0;36muint32\u001b[0m\u001b[0;36m: \u001b[0m\u001b[1;30m\u001b[0m\n",
       "    \u001b[0;36muint64\u001b[0m\u001b[0;36m: \u001b[0m\u001b[1;30m\u001b[0m\n",
       "    \u001b[0;36muint8\u001b[0m\u001b[0;36m: \u001b[0m\u001b[1;30m\u001b[0m\n",
       "    \u001b[0;36muintc\u001b[0m\u001b[0;36m: \u001b[0m\u001b[1;30m\u001b[0m\n",
       "    \u001b[0;36muintp\u001b[0m\u001b[0;36m: \u001b[0m\u001b[1;30m\u001b[0m\n",
       "    \u001b[0;36mulonglong\u001b[0m\u001b[0;36m: \u001b[0m\u001b[1;30m\u001b[0m\n",
       "    \u001b[0;36municode\u001b[0m\u001b[0;36m: \u001b[0m\u001b[1;30municode(object='') -> unicode object\u001b[0m\n",
       "    \u001b[0;36municode0\u001b[0m\u001b[0;36m: \u001b[0m\u001b[1;30m\u001b[0m\n",
       "    \u001b[0;36municode_\u001b[0m\u001b[0;36m: \u001b[0m\u001b[1;30m\u001b[0m\n",
       "    \u001b[0;36munsignedinteger\u001b[0m\u001b[0;36m: \u001b[0m\u001b[1;30m\u001b[0m\n",
       "    \u001b[0;36mushort\u001b[0m\u001b[0;36m: \u001b[0m\u001b[1;30m\u001b[0m\n",
       "    \u001b[0;36mvectorize\u001b[0m\u001b[0;36m: \u001b[0m\u001b[1;30mvectorize(pyfunc, otypes='', doc=None, excluded=None, cache=False)\u001b[0m\n",
       "    \u001b[0;36mvoid\u001b[0m\u001b[0;36m: \u001b[0m\u001b[1;30m\u001b[0m\n",
       "    \u001b[0;36mvoid0\u001b[0m\u001b[0;36m: \u001b[0m\u001b[1;30m\u001b[0m\n",
       "\u001b[0;33mfunction:\u001b[0m\n",
       "    \u001b[0;36madd_docstring\u001b[0m\u001b[0;36m: \u001b[0m\u001b[1;30madd_docstring(obj, docstring)\u001b[0m\n",
       "    \u001b[0;36madd_newdoc\u001b[0m\u001b[0;36m: \u001b[0m\u001b[1;30mAdds documentation to obj which is in module place.\u001b[0m\n",
       "    \u001b[0;36madd_newdoc_ufunc\u001b[0m\u001b[0;36m: \u001b[0m\u001b[1;30madd_ufunc_docstring(ufunc, new_docstring)\u001b[0m\n",
       "    \u001b[0;36malen\u001b[0m\u001b[0;36m: \u001b[0m\u001b[1;30mReturn the length of the first dimension of the input array.\u001b[0m\n",
       "    \u001b[0;36mall\u001b[0m\u001b[0;36m: \u001b[0m\u001b[1;30mTest whether all array elements along a given axis evaluate to True.\u001b[0m\n",
       "    \u001b[0;36mallclose\u001b[0m\u001b[0;36m: \u001b[0m\u001b[1;30mReturns True if two arrays are element-wise equal within a tolerance.\u001b[0m\n",
       "    \u001b[0;36malltrue\u001b[0m\u001b[0;36m: \u001b[0m\u001b[1;30mCheck if all elements of input array are true.\u001b[0m\n",
       "    \u001b[0;36malterdot\u001b[0m\u001b[0;36m: \u001b[0m\u001b[1;30mChange `dot`, `vdot`, and `inner` to use accelerated BLAS functions.\u001b[0m\n",
       "    \u001b[0;36mamax\u001b[0m\u001b[0;36m: \u001b[0m\u001b[1;30mReturn the maximum of an array or maximum along an axis.\u001b[0m\n",
       "    \u001b[0;36mamin\u001b[0m\u001b[0;36m: \u001b[0m\u001b[1;30mReturn the minimum of an array or minimum along an axis.\u001b[0m\n",
       "    \u001b[0;36mangle\u001b[0m\u001b[0;36m: \u001b[0m\u001b[1;30mReturn the angle of the complex argument.\u001b[0m\n",
       "    \u001b[0;36many\u001b[0m\u001b[0;36m: \u001b[0m\u001b[1;30mTest whether any array element along a given axis evaluates to True.\u001b[0m\n",
       "    \u001b[0;36mappend\u001b[0m\u001b[0;36m: \u001b[0m\u001b[1;30mAppend values to the end of an array.\u001b[0m\n",
       "    \u001b[0;36mapply_along_axis\u001b[0m\u001b[0;36m: \u001b[0m\u001b[1;30mApply a function to 1-D slices along the given axis.\u001b[0m\n",
       "    \u001b[0;36mapply_over_axes\u001b[0m\u001b[0;36m: \u001b[0m\u001b[1;30mApply a function repeatedly over multiple axes.\u001b[0m\n",
       "    \u001b[0;36marange\u001b[0m\u001b[0;36m: \u001b[0m\u001b[1;30marange([start,] stop[, step,], dtype=None)\u001b[0m\n",
       "    \u001b[0;36margmax\u001b[0m\u001b[0;36m: \u001b[0m\u001b[1;30mReturns the indices of the maximum values along an axis.\u001b[0m\n",
       "    \u001b[0;36margmin\u001b[0m\u001b[0;36m: \u001b[0m\u001b[1;30mReturns the indices of the minimum values along an axis.\u001b[0m\n",
       "    \u001b[0;36margpartition\u001b[0m\u001b[0;36m: \u001b[0m\u001b[1;30mPerform an indirect partition along the given axis using the algorithm\u001b[0m\n",
       "    \u001b[0;36margsort\u001b[0m\u001b[0;36m: \u001b[0m\u001b[1;30mReturns the indices that would sort an array.\u001b[0m\n",
       "    \u001b[0;36margwhere\u001b[0m\u001b[0;36m: \u001b[0m\u001b[1;30mFind the indices of array elements that are non-zero, grouped by element.\u001b[0m\n",
       "    \u001b[0;36maround\u001b[0m\u001b[0;36m: \u001b[0m\u001b[1;30mEvenly round to the given number of decimals.\u001b[0m\n",
       "    \u001b[0;36marray\u001b[0m\u001b[0;36m: \u001b[0m\u001b[1;30marray(object, dtype=None, copy=True, order=None, subok=False, ndmin=0)\u001b[0m\n",
       "    \u001b[0;36marray2string\u001b[0m\u001b[0;36m: \u001b[0m\u001b[1;30mReturn a string representation of an array.\u001b[0m\n",
       "    \u001b[0;36marray_equal\u001b[0m\u001b[0;36m: \u001b[0m\u001b[1;30mTrue if two arrays have the same shape and elements, False otherwise.\u001b[0m\n",
       "    \u001b[0;36marray_equiv\u001b[0m\u001b[0;36m: \u001b[0m\u001b[1;30mReturns True if input arrays are shape consistent and all elements equal.\u001b[0m\n",
       "    \u001b[0;36marray_repr\u001b[0m\u001b[0;36m: \u001b[0m\u001b[1;30mReturn the string representation of an array.\u001b[0m\n",
       "    \u001b[0;36marray_split\u001b[0m\u001b[0;36m: \u001b[0m\u001b[1;30mSplit an array into multiple sub-arrays.\u001b[0m\n",
       "    \u001b[0;36marray_str\u001b[0m\u001b[0;36m: \u001b[0m\u001b[1;30mReturn a string representation of the data in an array.\u001b[0m\n",
       "    \u001b[0;36masanyarray\u001b[0m\u001b[0;36m: \u001b[0m\u001b[1;30mConvert the input to an ndarray, but pass ndarray subclasses through.\u001b[0m\n",
       "    \u001b[0;36masarray\u001b[0m\u001b[0;36m: \u001b[0m\u001b[1;30mConvert the input to an array.\u001b[0m\n",
       "    \u001b[0;36masarray_chkfinite\u001b[0m\u001b[0;36m: \u001b[0m\u001b[1;30mConvert the input to an array, checking for NaNs or Infs.\u001b[0m\n",
       "    \u001b[0;36mascontiguousarray\u001b[0m\u001b[0;36m: \u001b[0m\u001b[1;30mReturn a contiguous array in memory (C order).\u001b[0m\n",
       "    \u001b[0;36masfarray\u001b[0m\u001b[0;36m: \u001b[0m\u001b[1;30mReturn an array converted to a float type.\u001b[0m\n",
       "    \u001b[0;36masfortranarray\u001b[0m\u001b[0;36m: \u001b[0m\u001b[1;30mReturn an array laid out in Fortran order in memory.\u001b[0m\n",
       "    \u001b[0;36masmatrix\u001b[0m\u001b[0;36m: \u001b[0m\u001b[1;30mInterpret the input as a matrix.\u001b[0m\n",
       "    \u001b[0;36masscalar\u001b[0m\u001b[0;36m: \u001b[0m\u001b[1;30mConvert an array of size 1 to its scalar equivalent.\u001b[0m\n",
       "    \u001b[0;36matleast_1d\u001b[0m\u001b[0;36m: \u001b[0m\u001b[1;30mConvert inputs to arrays with at least one dimension.\u001b[0m\n",
       "    \u001b[0;36matleast_2d\u001b[0m\u001b[0;36m: \u001b[0m\u001b[1;30mView inputs as arrays with at least two dimensions.\u001b[0m\n",
       "    \u001b[0;36matleast_3d\u001b[0m\u001b[0;36m: \u001b[0m\u001b[1;30mView inputs as arrays with at least three dimensions.\u001b[0m\n",
       "    \u001b[0;36maverage\u001b[0m\u001b[0;36m: \u001b[0m\u001b[1;30mCompute the weighted average along the specified axis.\u001b[0m\n",
       "    \u001b[0;36mbartlett\u001b[0m\u001b[0;36m: \u001b[0m\u001b[1;30mReturn the Bartlett window.\u001b[0m\n",
       "    \u001b[0;36mbase_repr\u001b[0m\u001b[0;36m: \u001b[0m\u001b[1;30mReturn a string representation of a number in the given base system.\u001b[0m\n",
       "    \u001b[0;36mbench\u001b[0m\u001b[0;36m: \u001b[0m\u001b[1;30mRun benchmarks for module using nose.\u001b[0m\n",
       "    \u001b[0;36mbinary_repr\u001b[0m\u001b[0;36m: \u001b[0m\u001b[1;30mReturn the binary representation of the input number as a string.\u001b[0m\n",
       "    \u001b[0;36mbincount\u001b[0m\u001b[0;36m: \u001b[0m\u001b[1;30mbincount(x, weights=None, minlength=None)\u001b[0m\n",
       "    \u001b[0;36mblackman\u001b[0m\u001b[0;36m: \u001b[0m\u001b[1;30mReturn the Blackman window.\u001b[0m\n",
       "    \u001b[0;36mbmat\u001b[0m\u001b[0;36m: \u001b[0m\u001b[1;30mBuild a matrix object from a string, nested sequence, or array.\u001b[0m\n",
       "    \u001b[0;36mbroadcast_arrays\u001b[0m\u001b[0;36m: \u001b[0m\u001b[1;30mBroadcast any number of arrays against each other.\u001b[0m\n",
       "    \u001b[0;36mbroadcast_to\u001b[0m\u001b[0;36m: \u001b[0m\u001b[1;30mBroadcast an array to a new shape.\u001b[0m\n",
       "    \u001b[0;36mbusday_count\u001b[0m\u001b[0;36m: \u001b[0m\u001b[1;30mbusday_count(begindates, enddates, weekmask='1111100', holidays=[], busdaycal=None, out=None)\u001b[0m\n",
       "    \u001b[0;36mbusday_offset\u001b[0m\u001b[0;36m: \u001b[0m\u001b[1;30mbusday_offset(dates, offsets, roll='raise', weekmask='1111100', holidays=None, busdaycal=None, out=None)\u001b[0m\n",
       "    \u001b[0;36mbyte_bounds\u001b[0m\u001b[0;36m: \u001b[0m\u001b[1;30mReturns pointers to the end-points of an array.\u001b[0m\n",
       "    \u001b[0;36mcan_cast\u001b[0m\u001b[0;36m: \u001b[0m\u001b[1;30mcan_cast(from, totype, casting = 'safe')\u001b[0m\n",
       "    \u001b[0;36mchoose\u001b[0m\u001b[0;36m: \u001b[0m\u001b[1;30mConstruct an array from an index array and a set of arrays to choose from.\u001b[0m\n",
       "    \u001b[0;36mclip\u001b[0m\u001b[0;36m: \u001b[0m\u001b[1;30mClip (limit) the values in an array.\u001b[0m\n",
       "    \u001b[0;36mcolumn_stack\u001b[0m\u001b[0;36m: \u001b[0m\u001b[1;30mStack 1-D arrays as columns into a 2-D array.\u001b[0m\n",
       "    \u001b[0;36mcommon_type\u001b[0m\u001b[0;36m: \u001b[0m\u001b[1;30mReturn a scalar type which is common to the input arrays.\u001b[0m\n",
       "    \u001b[0;36mcompare_chararrays\u001b[0m\u001b[0;36m: \u001b[0m\u001b[1;30m\u001b[0m\n",
       "    \u001b[0;36mcompress\u001b[0m\u001b[0;36m: \u001b[0m\u001b[1;30mReturn selected slices of an array along given axis.\u001b[0m\n",
       "    \u001b[0;36mconcatenate\u001b[0m\u001b[0;36m: \u001b[0m\u001b[1;30mconcatenate((a1, a2, ...), axis=0)\u001b[0m\n",
       "    \u001b[0;36mconvolve\u001b[0m\u001b[0;36m: \u001b[0m\u001b[1;30mReturns the discrete, linear convolution of two one-dimensional sequences.\u001b[0m\n",
       "    \u001b[0;36mcopy\u001b[0m\u001b[0;36m: \u001b[0m\u001b[1;30mReturn an array copy of the given object.\u001b[0m\n",
       "    \u001b[0;36mcopyto\u001b[0m\u001b[0;36m: \u001b[0m\u001b[1;30mcopyto(dst, src, casting='same_kind', where=None)\u001b[0m\n",
       "    \u001b[0;36mcorrcoef\u001b[0m\u001b[0;36m: \u001b[0m\u001b[1;30mReturn Pearson product-moment correlation coefficients.\u001b[0m\n",
       "    \u001b[0;36mcorrelate\u001b[0m\u001b[0;36m: \u001b[0m\u001b[1;30mCross-correlation of two 1-dimensional sequences.\u001b[0m\n",
       "    \u001b[0;36mcount_nonzero\u001b[0m\u001b[0;36m: \u001b[0m\u001b[1;30mcount_nonzero(a)\u001b[0m\n",
       "    \u001b[0;36mcov\u001b[0m\u001b[0;36m: \u001b[0m\u001b[1;30mEstimate a covariance matrix, given data and weights.\u001b[0m\n",
       "    \u001b[0;36mcross\u001b[0m\u001b[0;36m: \u001b[0m\u001b[1;30mReturn the cross product of two (arrays of) vectors.\u001b[0m\n",
       "    \u001b[0;36mcumprod\u001b[0m\u001b[0;36m: \u001b[0m\u001b[1;30mReturn the cumulative product of elements along a given axis.\u001b[0m\n",
       "    \u001b[0;36mcumproduct\u001b[0m\u001b[0;36m: \u001b[0m\u001b[1;30mReturn the cumulative product over the given axis.\u001b[0m\n",
       "    \u001b[0;36mcumsum\u001b[0m\u001b[0;36m: \u001b[0m\u001b[1;30mReturn the cumulative sum of the elements along a given axis.\u001b[0m\n",
       "    \u001b[0;36mdatetime_as_string\u001b[0m\u001b[0;36m: \u001b[0m\u001b[1;30m\u001b[0m\n",
       "    \u001b[0;36mdatetime_data\u001b[0m\u001b[0;36m: \u001b[0m\u001b[1;30m\u001b[0m\n",
       "    \u001b[0;36mdelete\u001b[0m\u001b[0;36m: \u001b[0m\u001b[1;30mReturn a new array with sub-arrays along an axis deleted. For a one\u001b[0m\n",
       "    \u001b[0;36mdeprecate\u001b[0m\u001b[0;36m: \u001b[0m\u001b[1;30mIssues a DeprecationWarning, adds warning to `old_name`'s\u001b[0m\n",
       "    \u001b[0;36mdeprecate_with_doc\u001b[0m\u001b[0;36m: \u001b[0m\u001b[1;30m\u001b[0m\n",
       "    \u001b[0;36mdiag\u001b[0m\u001b[0;36m: \u001b[0m\u001b[1;30mExtract a diagonal or construct a diagonal array.\u001b[0m\n",
       "    \u001b[0;36mdiag_indices\u001b[0m\u001b[0;36m: \u001b[0m\u001b[1;30mReturn the indices to access the main diagonal of an array.\u001b[0m\n",
       "    \u001b[0;36mdiag_indices_from\u001b[0m\u001b[0;36m: \u001b[0m\u001b[1;30mReturn the indices to access the main diagonal of an n-dimensional array.\u001b[0m\n",
       "    \u001b[0;36mdiagflat\u001b[0m\u001b[0;36m: \u001b[0m\u001b[1;30mCreate a two-dimensional array with the flattened input as a diagonal.\u001b[0m\n",
       "    \u001b[0;36mdiagonal\u001b[0m\u001b[0;36m: \u001b[0m\u001b[1;30mReturn specified diagonals.\u001b[0m\n",
       "    \u001b[0;36mdiff\u001b[0m\u001b[0;36m: \u001b[0m\u001b[1;30mCalculate the n-th order discrete difference along given axis.\u001b[0m\n",
       "    \u001b[0;36mdigitize\u001b[0m\u001b[0;36m: \u001b[0m\u001b[1;30mdigitize(x, bins, right=False)\u001b[0m\n",
       "    \u001b[0;36mdisp\u001b[0m\u001b[0;36m: \u001b[0m\u001b[1;30mDisplay a message on a device.\u001b[0m\n",
       "    \u001b[0;36mdot\u001b[0m\u001b[0;36m: \u001b[0m\u001b[1;30mdot(a, b, out=None)\u001b[0m\n",
       "    \u001b[0;36mdsplit\u001b[0m\u001b[0;36m: \u001b[0m\u001b[1;30mSplit array into multiple sub-arrays along the 3rd axis (depth).\u001b[0m\n",
       "    \u001b[0;36mdstack\u001b[0m\u001b[0;36m: \u001b[0m\u001b[1;30mStack arrays in sequence depth wise (along third axis).\u001b[0m\n",
       "    \u001b[0;36mediff1d\u001b[0m\u001b[0;36m: \u001b[0m\u001b[1;30mThe differences between consecutive elements of an array.\u001b[0m\n",
       "    \u001b[0;36meinsum\u001b[0m\u001b[0;36m: \u001b[0m\u001b[1;30meinsum(subscripts, *operands, out=None, dtype=None, order='K', casting='safe')\u001b[0m\n",
       "    \u001b[0;36mempty\u001b[0m\u001b[0;36m: \u001b[0m\u001b[1;30mempty(shape, dtype=float, order='C')\u001b[0m\n",
       "    \u001b[0;36mempty_like\u001b[0m\u001b[0;36m: \u001b[0m\u001b[1;30mempty_like(a, dtype=None, order='K', subok=True)\u001b[0m\n",
       "    \u001b[0;36mexpand_dims\u001b[0m\u001b[0;36m: \u001b[0m\u001b[1;30mExpand the shape of an array.\u001b[0m\n",
       "    \u001b[0;36mextract\u001b[0m\u001b[0;36m: \u001b[0m\u001b[1;30mReturn the elements of an array that satisfy some condition.\u001b[0m\n",
       "    \u001b[0;36meye\u001b[0m\u001b[0;36m: \u001b[0m\u001b[1;30mReturn a 2-D array with ones on the diagonal and zeros elsewhere.\u001b[0m\n",
       "    \u001b[0;36mfastCopyAndTranspose\u001b[0m\u001b[0;36m: \u001b[0m\u001b[1;30m_fastCopyAndTranspose(a)\u001b[0m\n",
       "    \u001b[0;36mfill_diagonal\u001b[0m\u001b[0;36m: \u001b[0m\u001b[1;30mFill the main diagonal of the given array of any dimensionality.\u001b[0m\n",
       "    \u001b[0;36mfind_common_type\u001b[0m\u001b[0;36m: \u001b[0m\u001b[1;30mDetermine common type following standard coercion rules.\u001b[0m\n",
       "    \u001b[0;36mfix\u001b[0m\u001b[0;36m: \u001b[0m\u001b[1;30mRound to nearest integer towards zero.\u001b[0m\n",
       "    \u001b[0;36mflatnonzero\u001b[0m\u001b[0;36m: \u001b[0m\u001b[1;30mReturn indices that are non-zero in the flattened version of a.\u001b[0m\n",
       "    \u001b[0;36mfliplr\u001b[0m\u001b[0;36m: \u001b[0m\u001b[1;30mFlip array in the left/right direction.\u001b[0m\n",
       "    \u001b[0;36mflipud\u001b[0m\u001b[0;36m: \u001b[0m\u001b[1;30mFlip array in the up/down direction.\u001b[0m\n",
       "    \u001b[0;36mfrombuffer\u001b[0m\u001b[0;36m: \u001b[0m\u001b[1;30mfrombuffer(buffer, dtype=float, count=-1, offset=0)\u001b[0m\n",
       "    \u001b[0;36mfromfile\u001b[0m\u001b[0;36m: \u001b[0m\u001b[1;30mfromfile(file, dtype=float, count=-1, sep='')\u001b[0m\n",
       "    \u001b[0;36mfromfunction\u001b[0m\u001b[0;36m: \u001b[0m\u001b[1;30mConstruct an array by executing a function over each coordinate.\u001b[0m\n",
       "    \u001b[0;36mfromiter\u001b[0m\u001b[0;36m: \u001b[0m\u001b[1;30mfromiter(iterable, dtype, count=-1)\u001b[0m\n",
       "    \u001b[0;36mfrompyfunc\u001b[0m\u001b[0;36m: \u001b[0m\u001b[1;30mfrompyfunc(func, nin, nout)\u001b[0m\n",
       "    \u001b[0;36mfromregex\u001b[0m\u001b[0;36m: \u001b[0m\u001b[1;30mConstruct an array from a text file, using regular expression parsing.\u001b[0m\n",
       "    \u001b[0;36mfromstring\u001b[0m\u001b[0;36m: \u001b[0m\u001b[1;30mfromstring(string, dtype=float, count=-1, sep='')\u001b[0m\n",
       "    \u001b[0;36mfull\u001b[0m\u001b[0;36m: \u001b[0m\u001b[1;30mReturn a new array of given shape and type, filled with `fill_value`.\u001b[0m\n",
       "    \u001b[0;36mfull_like\u001b[0m\u001b[0;36m: \u001b[0m\u001b[1;30mReturn a full array with the same shape and type as a given array.\u001b[0m\n",
       "    \u001b[0;36mfv\u001b[0m\u001b[0;36m: \u001b[0m\u001b[1;30mCompute the future value.\u001b[0m\n",
       "    \u001b[0;36mgenfromtxt\u001b[0m\u001b[0;36m: \u001b[0m\u001b[1;30mLoad data from a text file, with missing values handled as specified.\u001b[0m\n",
       "    \u001b[0;36mget_array_wrap\u001b[0m\u001b[0;36m: \u001b[0m\u001b[1;30mFind the wrapper for the array with the highest priority.\u001b[0m\n",
       "    \u001b[0;36mget_include\u001b[0m\u001b[0;36m: \u001b[0m\u001b[1;30mReturn the directory that contains the NumPy \\*.h header files.\u001b[0m\n",
       "    \u001b[0;36mget_printoptions\u001b[0m\u001b[0;36m: \u001b[0m\u001b[1;30mReturn the current print options.\u001b[0m\n",
       "    \u001b[0;36mgetbuffer\u001b[0m\u001b[0;36m: \u001b[0m\u001b[1;30mgetbuffer(obj [,offset[, size]])\u001b[0m\n",
       "    \u001b[0;36mgetbufsize\u001b[0m\u001b[0;36m: \u001b[0m\u001b[1;30mReturn the size of the buffer used in ufuncs.\u001b[0m\n",
       "    \u001b[0;36mgeterr\u001b[0m\u001b[0;36m: \u001b[0m\u001b[1;30mGet the current way of handling floating-point errors.\u001b[0m\n",
       "    \u001b[0;36mgeterrcall\u001b[0m\u001b[0;36m: \u001b[0m\u001b[1;30mReturn the current callback function used on floating-point errors.\u001b[0m\n",
       "    \u001b[0;36mgeterrobj\u001b[0m\u001b[0;36m: \u001b[0m\u001b[1;30mgeterrobj()\u001b[0m\n",
       "    \u001b[0;36mgradient\u001b[0m\u001b[0;36m: \u001b[0m\u001b[1;30mReturn the gradient of an N-dimensional array.\u001b[0m\n",
       "    \u001b[0;36mhamming\u001b[0m\u001b[0;36m: \u001b[0m\u001b[1;30mReturn the Hamming window.\u001b[0m\n",
       "    \u001b[0;36mhanning\u001b[0m\u001b[0;36m: \u001b[0m\u001b[1;30mReturn the Hanning window.\u001b[0m\n",
       "    \u001b[0;36mhistogram\u001b[0m\u001b[0;36m: \u001b[0m\u001b[1;30mCompute the histogram of a set of data.\u001b[0m\n",
       "    \u001b[0;36mhistogram2d\u001b[0m\u001b[0;36m: \u001b[0m\u001b[1;30mCompute the bi-dimensional histogram of two data samples.\u001b[0m\n",
       "    \u001b[0;36mhistogramdd\u001b[0m\u001b[0;36m: \u001b[0m\u001b[1;30mCompute the multidimensional histogram of some data.\u001b[0m\n",
       "    \u001b[0;36mhsplit\u001b[0m\u001b[0;36m: \u001b[0m\u001b[1;30mSplit an array into multiple sub-arrays horizontally (column-wise).\u001b[0m\n",
       "    \u001b[0;36mhstack\u001b[0m\u001b[0;36m: \u001b[0m\u001b[1;30mStack arrays in sequence horizontally (column wise).\u001b[0m\n",
       "    \u001b[0;36mi0\u001b[0m\u001b[0;36m: \u001b[0m\u001b[1;30mModified Bessel function of the first kind, order 0.\u001b[0m\n",
       "    \u001b[0;36midentity\u001b[0m\u001b[0;36m: \u001b[0m\u001b[1;30mReturn the identity array.\u001b[0m\n",
       "    \u001b[0;36mimag\u001b[0m\u001b[0;36m: \u001b[0m\u001b[1;30mReturn the imaginary part of the elements of the array.\u001b[0m\n",
       "    \u001b[0;36min1d\u001b[0m\u001b[0;36m: \u001b[0m\u001b[1;30mTest whether each element of a 1-D array is also present in a second array.\u001b[0m\n",
       "    \u001b[0;36mindices\u001b[0m\u001b[0;36m: \u001b[0m\u001b[1;30mReturn an array representing the indices of a grid.\u001b[0m\n",
       "    \u001b[0;36minfo\u001b[0m\u001b[0;36m: \u001b[0m\u001b[1;30mGet help information for a function, class, or module.\u001b[0m\n",
       "    \u001b[0;36minner\u001b[0m\u001b[0;36m: \u001b[0m\u001b[1;30minner(a, b)\u001b[0m\n",
       "    \u001b[0;36minsert\u001b[0m\u001b[0;36m: \u001b[0m\u001b[1;30mInsert values along the given axis before the given indices.\u001b[0m\n",
       "    \u001b[0;36mint_asbuffer\u001b[0m\u001b[0;36m: \u001b[0m\u001b[1;30m\u001b[0m\n",
       "    \u001b[0;36minterp\u001b[0m\u001b[0;36m: \u001b[0m\u001b[1;30mOne-dimensional linear interpolation.\u001b[0m\n",
       "    \u001b[0;36mintersect1d\u001b[0m\u001b[0;36m: \u001b[0m\u001b[1;30mFind the intersection of two arrays.\u001b[0m\n",
       "    \u001b[0;36mipmt\u001b[0m\u001b[0;36m: \u001b[0m\u001b[1;30mCompute the interest portion of a payment.\u001b[0m\n",
       "    \u001b[0;36mirr\u001b[0m\u001b[0;36m: \u001b[0m\u001b[1;30mReturn the Internal Rate of Return (IRR).\u001b[0m\n",
       "    \u001b[0;36mis_busday\u001b[0m\u001b[0;36m: \u001b[0m\u001b[1;30mis_busday(dates, weekmask='1111100', holidays=None, busdaycal=None, out=None)\u001b[0m\n",
       "    \u001b[0;36misclose\u001b[0m\u001b[0;36m: \u001b[0m\u001b[1;30mReturns a boolean array where two arrays are element-wise equal within a\u001b[0m\n",
       "    \u001b[0;36miscomplex\u001b[0m\u001b[0;36m: \u001b[0m\u001b[1;30mReturns a bool array, where True if input element is complex.\u001b[0m\n",
       "    \u001b[0;36miscomplexobj\u001b[0m\u001b[0;36m: \u001b[0m\u001b[1;30mCheck for a complex type or an array of complex numbers.\u001b[0m\n",
       "    \u001b[0;36misfortran\u001b[0m\u001b[0;36m: \u001b[0m\u001b[1;30mReturns True if the array is Fortran contiguous but *not* C contiguous.\u001b[0m\n",
       "    \u001b[0;36misneginf\u001b[0m\u001b[0;36m: \u001b[0m\u001b[1;30mTest element-wise for negative infinity, return result as bool array.\u001b[0m\n",
       "    \u001b[0;36misposinf\u001b[0m\u001b[0;36m: \u001b[0m\u001b[1;30mTest element-wise for positive infinity, return result as bool array.\u001b[0m\n",
       "    \u001b[0;36misreal\u001b[0m\u001b[0;36m: \u001b[0m\u001b[1;30mReturns a bool array, where True if input element is real.\u001b[0m\n",
       "    \u001b[0;36misrealobj\u001b[0m\u001b[0;36m: \u001b[0m\u001b[1;30mReturn True if x is a not complex type or an array of complex numbers.\u001b[0m\n",
       "    \u001b[0;36misscalar\u001b[0m\u001b[0;36m: \u001b[0m\u001b[1;30mReturns True if the type of `num` is a scalar type.\u001b[0m\n",
       "    \u001b[0;36missctype\u001b[0m\u001b[0;36m: \u001b[0m\u001b[1;30mDetermines whether the given object represents a scalar data-type.\u001b[0m\n",
       "    \u001b[0;36missubclass_\u001b[0m\u001b[0;36m: \u001b[0m\u001b[1;30mDetermine if a class is a subclass of a second class.\u001b[0m\n",
       "    \u001b[0;36missubdtype\u001b[0m\u001b[0;36m: \u001b[0m\u001b[1;30mReturns True if first argument is a typecode lower/equal in type hierarchy.\u001b[0m\n",
       "    \u001b[0;36missubsctype\u001b[0m\u001b[0;36m: \u001b[0m\u001b[1;30mDetermine if the first argument is a subclass of the second argument.\u001b[0m\n",
       "    \u001b[0;36miterable\u001b[0m\u001b[0;36m: \u001b[0m\u001b[1;30mCheck whether or not an object can be iterated over.\u001b[0m\n",
       "    \u001b[0;36mix_\u001b[0m\u001b[0;36m: \u001b[0m\u001b[1;30mConstruct an open mesh from multiple sequences.\u001b[0m\n",
       "    \u001b[0;36mkaiser\u001b[0m\u001b[0;36m: \u001b[0m\u001b[1;30mReturn the Kaiser window.\u001b[0m\n",
       "    \u001b[0;36mkron\u001b[0m\u001b[0;36m: \u001b[0m\u001b[1;30mKronecker product of two arrays.\u001b[0m\n",
       "    \u001b[0;36mlexsort\u001b[0m\u001b[0;36m: \u001b[0m\u001b[1;30mlexsort(keys, axis=-1)\u001b[0m\n",
       "    \u001b[0;36mlinspace\u001b[0m\u001b[0;36m: \u001b[0m\u001b[1;30mReturn evenly spaced numbers over a specified interval.\u001b[0m\n",
       "    \u001b[0;36mload\u001b[0m\u001b[0;36m: \u001b[0m\u001b[1;30mLoad arrays or pickled objects from ``.npy``, ``.npz`` or pickled files.\u001b[0m\n",
       "    \u001b[0;36mloads\u001b[0m\u001b[0;36m: \u001b[0m\u001b[1;30mloads(string) -- Load a pickle from the given string\u001b[0m\n",
       "    \u001b[0;36mloadtxt\u001b[0m\u001b[0;36m: \u001b[0m\u001b[1;30mLoad data from a text file.\u001b[0m\n",
       "    \u001b[0;36mlogspace\u001b[0m\u001b[0;36m: \u001b[0m\u001b[1;30mReturn numbers spaced evenly on a log scale.\u001b[0m\n",
       "    \u001b[0;36mlookfor\u001b[0m\u001b[0;36m: \u001b[0m\u001b[1;30mDo a keyword search on docstrings.\u001b[0m\n",
       "    \u001b[0;36mmafromtxt\u001b[0m\u001b[0;36m: \u001b[0m\u001b[1;30mLoad ASCII data stored in a text file and return a masked array.\u001b[0m\n",
       "    \u001b[0;36mmask_indices\u001b[0m\u001b[0;36m: \u001b[0m\u001b[1;30mReturn the indices to access (n, n) arrays, given a masking function.\u001b[0m\n",
       "    \u001b[0;36mmat\u001b[0m\u001b[0;36m: \u001b[0m\u001b[1;30mInterpret the input as a matrix.\u001b[0m\n",
       "    \u001b[0;36mmatmul\u001b[0m\u001b[0;36m: \u001b[0m\u001b[1;30mmatmul(a, b, out=None)\u001b[0m\n",
       "    \u001b[0;36mmax\u001b[0m\u001b[0;36m: \u001b[0m\u001b[1;30mReturn the maximum of an array or maximum along an axis.\u001b[0m\n",
       "    \u001b[0;36mmaximum_sctype\u001b[0m\u001b[0;36m: \u001b[0m\u001b[1;30mReturn the scalar type of highest precision of the same kind as the input.\u001b[0m\n",
       "    \u001b[0;36mmay_share_memory\u001b[0m\u001b[0;36m: \u001b[0m\u001b[1;30mDetermine if two arrays can share memory\u001b[0m\n",
       "    \u001b[0;36mmean\u001b[0m\u001b[0;36m: \u001b[0m\u001b[1;30mCompute the arithmetic mean along the specified axis.\u001b[0m\n",
       "    \u001b[0;36mmedian\u001b[0m\u001b[0;36m: \u001b[0m\u001b[1;30mCompute the median along the specified axis.\u001b[0m\n",
       "    \u001b[0;36mmeshgrid\u001b[0m\u001b[0;36m: \u001b[0m\u001b[1;30mReturn coordinate matrices from coordinate vectors.\u001b[0m\n",
       "    \u001b[0;36mmin\u001b[0m\u001b[0;36m: \u001b[0m\u001b[1;30mReturn the minimum of an array or minimum along an axis.\u001b[0m\n",
       "    \u001b[0;36mmin_scalar_type\u001b[0m\u001b[0;36m: \u001b[0m\u001b[1;30mmin_scalar_type(a)\u001b[0m\n",
       "    \u001b[0;36mmintypecode\u001b[0m\u001b[0;36m: \u001b[0m\u001b[1;30mReturn the character for the minimum-size type to which given types can\u001b[0m\n",
       "    \u001b[0;36mmirr\u001b[0m\u001b[0;36m: \u001b[0m\u001b[1;30mModified internal rate of return.\u001b[0m\n",
       "    \u001b[0;36mmsort\u001b[0m\u001b[0;36m: \u001b[0m\u001b[1;30mReturn a copy of an array sorted along the first axis.\u001b[0m\n",
       "    \u001b[0;36mnan_to_num\u001b[0m\u001b[0;36m: \u001b[0m\u001b[1;30mReplace nan with zero and inf with finite numbers.\u001b[0m\n",
       "    \u001b[0;36mnanargmax\u001b[0m\u001b[0;36m: \u001b[0m\u001b[1;30mReturn the indices of the maximum values in the specified axis ignoring\u001b[0m\n",
       "    \u001b[0;36mnanargmin\u001b[0m\u001b[0;36m: \u001b[0m\u001b[1;30mReturn the indices of the minimum values in the specified axis ignoring\u001b[0m\n",
       "    \u001b[0;36mnanmax\u001b[0m\u001b[0;36m: \u001b[0m\u001b[1;30mReturn the maximum of an array or maximum along an axis, ignoring any\u001b[0m\n",
       "    \u001b[0;36mnanmean\u001b[0m\u001b[0;36m: \u001b[0m\u001b[1;30mCompute the arithmetic mean along the specified axis, ignoring NaNs.\u001b[0m\n",
       "    \u001b[0;36mnanmedian\u001b[0m\u001b[0;36m: \u001b[0m\u001b[1;30mCompute the median along the specified axis, while ignoring NaNs.\u001b[0m\n",
       "    \u001b[0;36mnanmin\u001b[0m\u001b[0;36m: \u001b[0m\u001b[1;30mReturn minimum of an array or minimum along an axis, ignoring any NaNs.\u001b[0m\n",
       "    \u001b[0;36mnanpercentile\u001b[0m\u001b[0;36m: \u001b[0m\u001b[1;30mCompute the qth percentile of the data along the specified axis, while\u001b[0m\n",
       "    \u001b[0;36mnanprod\u001b[0m\u001b[0;36m: \u001b[0m\u001b[1;30mReturn the product of array elements over a given axis treating Not a\u001b[0m\n",
       "    \u001b[0;36mnanstd\u001b[0m\u001b[0;36m: \u001b[0m\u001b[1;30mCompute the standard deviation along the specified axis, while\u001b[0m\n",
       "    \u001b[0;36mnansum\u001b[0m\u001b[0;36m: \u001b[0m\u001b[1;30mReturn the sum of array elements over a given axis treating Not a\u001b[0m\n",
       "    \u001b[0;36mnanvar\u001b[0m\u001b[0;36m: \u001b[0m\u001b[1;30mCompute the variance along the specified axis, while ignoring NaNs.\u001b[0m\n",
       "    \u001b[0;36mndfromtxt\u001b[0m\u001b[0;36m: \u001b[0m\u001b[1;30mLoad ASCII data stored in a file and return it as a single array.\u001b[0m\n",
       "    \u001b[0;36mndim\u001b[0m\u001b[0;36m: \u001b[0m\u001b[1;30mReturn the number of dimensions of an array.\u001b[0m\n",
       "    \u001b[0;36mnested_iters\u001b[0m\u001b[0;36m: \u001b[0m\u001b[1;30m\u001b[0m\n",
       "    \u001b[0;36mnewbuffer\u001b[0m\u001b[0;36m: \u001b[0m\u001b[1;30mnewbuffer(size)\u001b[0m\n",
       "    \u001b[0;36mnonzero\u001b[0m\u001b[0;36m: \u001b[0m\u001b[1;30mReturn the indices of the elements that are non-zero.\u001b[0m\n",
       "    \u001b[0;36mnper\u001b[0m\u001b[0;36m: \u001b[0m\u001b[1;30mCompute the number of periodic payments.\u001b[0m\n",
       "    \u001b[0;36mnpv\u001b[0m\u001b[0;36m: \u001b[0m\u001b[1;30mReturns the NPV (Net Present Value) of a cash flow series.\u001b[0m\n",
       "    \u001b[0;36mobj2sctype\u001b[0m\u001b[0;36m: \u001b[0m\u001b[1;30mReturn the scalar dtype or NumPy equivalent of Python type of an object.\u001b[0m\n",
       "    \u001b[0;36mones\u001b[0m\u001b[0;36m: \u001b[0m\u001b[1;30mReturn a new array of given shape and type, filled with ones.\u001b[0m\n",
       "    \u001b[0;36mones_like\u001b[0m\u001b[0;36m: \u001b[0m\u001b[1;30mReturn an array of ones with the same shape and type as a given array.\u001b[0m\n",
       "    \u001b[0;36mouter\u001b[0m\u001b[0;36m: \u001b[0m\u001b[1;30mCompute the outer product of two vectors.\u001b[0m\n",
       "    \u001b[0;36mpackbits\u001b[0m\u001b[0;36m: \u001b[0m\u001b[1;30mpackbits(myarray, axis=None)\u001b[0m\n",
       "    \u001b[0;36mpad\u001b[0m\u001b[0;36m: \u001b[0m\u001b[1;30mPads an array.\u001b[0m\n",
       "    \u001b[0;36mpartition\u001b[0m\u001b[0;36m: \u001b[0m\u001b[1;30mReturn a partitioned copy of an array.\u001b[0m\n",
       "    \u001b[0;36mpercentile\u001b[0m\u001b[0;36m: \u001b[0m\u001b[1;30mCompute the qth percentile of the data along the specified axis.\u001b[0m\n",
       "    \u001b[0;36mpiecewise\u001b[0m\u001b[0;36m: \u001b[0m\u001b[1;30mEvaluate a piecewise-defined function.\u001b[0m\n",
       "    \u001b[0;36mpkgload\u001b[0m\u001b[0;36m: \u001b[0m\u001b[1;30mLoad one or more packages into parent package top-level namespace.\u001b[0m\n",
       "    \u001b[0;36mplace\u001b[0m\u001b[0;36m: \u001b[0m\u001b[1;30mChange elements of an array based on conditional and input values.\u001b[0m\n",
       "    \u001b[0;36mpmt\u001b[0m\u001b[0;36m: \u001b[0m\u001b[1;30mCompute the payment against loan principal plus interest.\u001b[0m\n",
       "    \u001b[0;36mpoly\u001b[0m\u001b[0;36m: \u001b[0m\u001b[1;30mFind the coefficients of a polynomial with the given sequence of roots.\u001b[0m\n",
       "    \u001b[0;36mpolyadd\u001b[0m\u001b[0;36m: \u001b[0m\u001b[1;30mFind the sum of two polynomials.\u001b[0m\n",
       "    \u001b[0;36mpolyder\u001b[0m\u001b[0;36m: \u001b[0m\u001b[1;30mReturn the derivative of the specified order of a polynomial.\u001b[0m\n",
       "    \u001b[0;36mpolydiv\u001b[0m\u001b[0;36m: \u001b[0m\u001b[1;30mReturns the quotient and remainder of polynomial division.\u001b[0m\n",
       "    \u001b[0;36mpolyfit\u001b[0m\u001b[0;36m: \u001b[0m\u001b[1;30mLeast squares polynomial fit.\u001b[0m\n",
       "    \u001b[0;36mpolyint\u001b[0m\u001b[0;36m: \u001b[0m\u001b[1;30mReturn an antiderivative (indefinite integral) of a polynomial.\u001b[0m\n",
       "    \u001b[0;36mpolymul\u001b[0m\u001b[0;36m: \u001b[0m\u001b[1;30mFind the product of two polynomials.\u001b[0m\n",
       "    \u001b[0;36mpolysub\u001b[0m\u001b[0;36m: \u001b[0m\u001b[1;30mDifference (subtraction) of two polynomials.\u001b[0m\n",
       "    \u001b[0;36mpolyval\u001b[0m\u001b[0;36m: \u001b[0m\u001b[1;30mEvaluate a polynomial at specific values.\u001b[0m\n",
       "    \u001b[0;36mppmt\u001b[0m\u001b[0;36m: \u001b[0m\u001b[1;30mCompute the payment against loan principal.\u001b[0m\n",
       "    \u001b[0;36mprod\u001b[0m\u001b[0;36m: \u001b[0m\u001b[1;30mReturn the product of array elements over a given axis.\u001b[0m\n",
       "    \u001b[0;36mproduct\u001b[0m\u001b[0;36m: \u001b[0m\u001b[1;30mReturn the product of array elements over a given axis.\u001b[0m\n",
       "    \u001b[0;36mpromote_types\u001b[0m\u001b[0;36m: \u001b[0m\u001b[1;30mpromote_types(type1, type2)\u001b[0m\n",
       "    \u001b[0;36mptp\u001b[0m\u001b[0;36m: \u001b[0m\u001b[1;30mRange of values (maximum - minimum) along an axis.\u001b[0m\n",
       "    \u001b[0;36mput\u001b[0m\u001b[0;36m: \u001b[0m\u001b[1;30mReplaces specified elements of an array with given values.\u001b[0m\n",
       "    \u001b[0;36mputmask\u001b[0m\u001b[0;36m: \u001b[0m\u001b[1;30mputmask(a, mask, values)\u001b[0m\n",
       "    \u001b[0;36mpv\u001b[0m\u001b[0;36m: \u001b[0m\u001b[1;30mCompute the present value.\u001b[0m\n",
       "    \u001b[0;36mrank\u001b[0m\u001b[0;36m: \u001b[0m\u001b[1;30mReturn the number of dimensions of an array.\u001b[0m\n",
       "    \u001b[0;36mrate\u001b[0m\u001b[0;36m: \u001b[0m\u001b[1;30mCompute the rate of interest per period.\u001b[0m\n",
       "    \u001b[0;36mravel\u001b[0m\u001b[0;36m: \u001b[0m\u001b[1;30mReturn a contiguous flattened array.\u001b[0m\n",
       "    \u001b[0;36mravel_multi_index\u001b[0m\u001b[0;36m: \u001b[0m\u001b[1;30mravel_multi_index(multi_index, dims, mode='raise', order='C')\u001b[0m\n",
       "    \u001b[0;36mreal\u001b[0m\u001b[0;36m: \u001b[0m\u001b[1;30mReturn the real part of the elements of the array.\u001b[0m\n",
       "    \u001b[0;36mreal_if_close\u001b[0m\u001b[0;36m: \u001b[0m\u001b[1;30mIf complex input returns a real array if complex parts are close to zero.\u001b[0m\n",
       "    \u001b[0;36mrecfromcsv\u001b[0m\u001b[0;36m: \u001b[0m\u001b[1;30mLoad ASCII data stored in a comma-separated file.\u001b[0m\n",
       "    \u001b[0;36mrecfromtxt\u001b[0m\u001b[0;36m: \u001b[0m\u001b[1;30mLoad ASCII data from a file and return it in a record array.\u001b[0m\n",
       "    \u001b[0;36mrepeat\u001b[0m\u001b[0;36m: \u001b[0m\u001b[1;30mRepeat elements of an array.\u001b[0m\n",
       "    \u001b[0;36mrequire\u001b[0m\u001b[0;36m: \u001b[0m\u001b[1;30mReturn an ndarray of the provided type that satisfies requirements.\u001b[0m\n",
       "    \u001b[0;36mreshape\u001b[0m\u001b[0;36m: \u001b[0m\u001b[1;30mGives a new shape to an array without changing its data.\u001b[0m\n",
       "    \u001b[0;36mresize\u001b[0m\u001b[0;36m: \u001b[0m\u001b[1;30mReturn a new array with the specified shape.\u001b[0m\n",
       "    \u001b[0;36mrestoredot\u001b[0m\u001b[0;36m: \u001b[0m\u001b[1;30mRestore `dot`, `vdot`, and `innerproduct` to the default non-BLAS\u001b[0m\n",
       "    \u001b[0;36mresult_type\u001b[0m\u001b[0;36m: \u001b[0m\u001b[1;30mresult_type(*arrays_and_dtypes)\u001b[0m\n",
       "    \u001b[0;36mroll\u001b[0m\u001b[0;36m: \u001b[0m\u001b[1;30mRoll array elements along a given axis.\u001b[0m\n",
       "    \u001b[0;36mrollaxis\u001b[0m\u001b[0;36m: \u001b[0m\u001b[1;30mRoll the specified axis backwards, until it lies in a given position.\u001b[0m\n",
       "    \u001b[0;36mroots\u001b[0m\u001b[0;36m: \u001b[0m\u001b[1;30mReturn the roots of a polynomial with coefficients given in p.\u001b[0m\n",
       "    \u001b[0;36mrot90\u001b[0m\u001b[0;36m: \u001b[0m\u001b[1;30mRotate an array by 90 degrees in the counter-clockwise direction.\u001b[0m\n",
       "    \u001b[0;36mround\u001b[0m\u001b[0;36m: \u001b[0m\u001b[1;30mRound an array to the given number of decimals.\u001b[0m\n",
       "    \u001b[0;36mround_\u001b[0m\u001b[0;36m: \u001b[0m\u001b[1;30mRound an array to the given number of decimals.\u001b[0m\n",
       "    \u001b[0;36mrow_stack\u001b[0m\u001b[0;36m: \u001b[0m\u001b[1;30mStack arrays in sequence vertically (row wise).\u001b[0m\n",
       "    \u001b[0;36msafe_eval\u001b[0m\u001b[0;36m: \u001b[0m\u001b[1;30mProtected string evaluation.\u001b[0m\n",
       "    \u001b[0;36msave\u001b[0m\u001b[0;36m: \u001b[0m\u001b[1;30mSave an array to a binary file in NumPy ``.npy`` format.\u001b[0m\n",
       "    \u001b[0;36msavetxt\u001b[0m\u001b[0;36m: \u001b[0m\u001b[1;30mSave an array to a text file.\u001b[0m\n",
       "    \u001b[0;36msavez\u001b[0m\u001b[0;36m: \u001b[0m\u001b[1;30mSave several arrays into a single file in uncompressed ``.npz`` format.\u001b[0m\n",
       "    \u001b[0;36msavez_compressed\u001b[0m\u001b[0;36m: \u001b[0m\u001b[1;30mSave several arrays into a single file in compressed ``.npz`` format.\u001b[0m\n",
       "    \u001b[0;36msctype2char\u001b[0m\u001b[0;36m: \u001b[0m\u001b[1;30mReturn the string representation of a scalar dtype.\u001b[0m\n",
       "    \u001b[0;36msearchsorted\u001b[0m\u001b[0;36m: \u001b[0m\u001b[1;30mFind indices where elements should be inserted to maintain order.\u001b[0m\n",
       "    \u001b[0;36mselect\u001b[0m\u001b[0;36m: \u001b[0m\u001b[1;30mReturn an array drawn from elements in choicelist, depending on conditions.\u001b[0m\n",
       "    \u001b[0;36mset_numeric_ops\u001b[0m\u001b[0;36m: \u001b[0m\u001b[1;30mset_numeric_ops(op1=func1, op2=func2, ...)\u001b[0m\n",
       "    \u001b[0;36mset_printoptions\u001b[0m\u001b[0;36m: \u001b[0m\u001b[1;30mSet printing options.\u001b[0m\n",
       "    \u001b[0;36mset_string_function\u001b[0m\u001b[0;36m: \u001b[0m\u001b[1;30mSet a Python function to be used when pretty printing arrays.\u001b[0m\n",
       "    \u001b[0;36msetbufsize\u001b[0m\u001b[0;36m: \u001b[0m\u001b[1;30mSet the size of the buffer used in ufuncs.\u001b[0m\n",
       "    \u001b[0;36msetdiff1d\u001b[0m\u001b[0;36m: \u001b[0m\u001b[1;30mFind the set difference of two arrays.\u001b[0m\n",
       "    \u001b[0;36mseterr\u001b[0m\u001b[0;36m: \u001b[0m\u001b[1;30mSet how floating-point errors are handled.\u001b[0m\n",
       "    \u001b[0;36mseterrcall\u001b[0m\u001b[0;36m: \u001b[0m\u001b[1;30mSet the floating-point error callback function or log object.\u001b[0m\n",
       "    \u001b[0;36mseterrobj\u001b[0m\u001b[0;36m: \u001b[0m\u001b[1;30mseterrobj(errobj)\u001b[0m\n",
       "    \u001b[0;36msetxor1d\u001b[0m\u001b[0;36m: \u001b[0m\u001b[1;30mFind the set exclusive-or of two arrays.\u001b[0m\n",
       "    \u001b[0;36mshape\u001b[0m\u001b[0;36m: \u001b[0m\u001b[1;30mReturn the shape of an array.\u001b[0m\n",
       "    \u001b[0;36mshow_config\u001b[0m\u001b[0;36m: \u001b[0m\u001b[1;30m\u001b[0m\n",
       "    \u001b[0;36msinc\u001b[0m\u001b[0;36m: \u001b[0m\u001b[1;30mReturn the sinc function.\u001b[0m\n",
       "    \u001b[0;36msize\u001b[0m\u001b[0;36m: \u001b[0m\u001b[1;30mReturn the number of elements along a given axis.\u001b[0m\n",
       "    \u001b[0;36msometrue\u001b[0m\u001b[0;36m: \u001b[0m\u001b[1;30mCheck whether some values are true.\u001b[0m\n",
       "    \u001b[0;36msort\u001b[0m\u001b[0;36m: \u001b[0m\u001b[1;30mReturn a sorted copy of an array.\u001b[0m\n",
       "    \u001b[0;36msort_complex\u001b[0m\u001b[0;36m: \u001b[0m\u001b[1;30mSort a complex array using the real part first, then the imaginary part.\u001b[0m\n",
       "    \u001b[0;36msource\u001b[0m\u001b[0;36m: \u001b[0m\u001b[1;30mPrint or write to a file the source code for a Numpy object.\u001b[0m\n",
       "    \u001b[0;36msplit\u001b[0m\u001b[0;36m: \u001b[0m\u001b[1;30mSplit an array into multiple sub-arrays.\u001b[0m\n",
       "    \u001b[0;36msqueeze\u001b[0m\u001b[0;36m: \u001b[0m\u001b[1;30mRemove single-dimensional entries from the shape of an array.\u001b[0m\n",
       "    \u001b[0;36mstack\u001b[0m\u001b[0;36m: \u001b[0m\u001b[1;30mJoin a sequence of arrays along a new axis.\u001b[0m\n",
       "    \u001b[0;36mstd\u001b[0m\u001b[0;36m: \u001b[0m\u001b[1;30mCompute the standard deviation along the specified axis.\u001b[0m\n",
       "    \u001b[0;36msum\u001b[0m\u001b[0;36m: \u001b[0m\u001b[1;30mSum of array elements over a given axis.\u001b[0m\n",
       "    \u001b[0;36mswapaxes\u001b[0m\u001b[0;36m: \u001b[0m\u001b[1;30mInterchange two axes of an array.\u001b[0m\n",
       "    \u001b[0;36mtake\u001b[0m\u001b[0;36m: \u001b[0m\u001b[1;30mTake elements from an array along an axis.\u001b[0m\n",
       "    \u001b[0;36mtensordot\u001b[0m\u001b[0;36m: \u001b[0m\u001b[1;30mCompute tensor dot product along specified axes for arrays >= 1-D.\u001b[0m\n",
       "    \u001b[0;36mtest\u001b[0m\u001b[0;36m: \u001b[0m\u001b[1;30mRun tests for module using nose.\u001b[0m\n",
       "    \u001b[0;36mtile\u001b[0m\u001b[0;36m: \u001b[0m\u001b[1;30mConstruct an array by repeating A the number of times given by reps.\u001b[0m\n",
       "    \u001b[0;36mtrace\u001b[0m\u001b[0;36m: \u001b[0m\u001b[1;30mReturn the sum along diagonals of the array.\u001b[0m\n",
       "    \u001b[0;36mtranspose\u001b[0m\u001b[0;36m: \u001b[0m\u001b[1;30mPermute the dimensions of an array.\u001b[0m\n",
       "    \u001b[0;36mtrapz\u001b[0m\u001b[0;36m: \u001b[0m\u001b[1;30mIntegrate along the given axis using the composite trapezoidal rule.\u001b[0m\n",
       "    \u001b[0;36mtri\u001b[0m\u001b[0;36m: \u001b[0m\u001b[1;30mAn array with ones at and below the given diagonal and zeros elsewhere.\u001b[0m\n",
       "    \u001b[0;36mtril\u001b[0m\u001b[0;36m: \u001b[0m\u001b[1;30mLower triangle of an array.\u001b[0m\n",
       "    \u001b[0;36mtril_indices\u001b[0m\u001b[0;36m: \u001b[0m\u001b[1;30mReturn the indices for the lower-triangle of an (n, m) array.\u001b[0m\n",
       "    \u001b[0;36mtril_indices_from\u001b[0m\u001b[0;36m: \u001b[0m\u001b[1;30mReturn the indices for the lower-triangle of arr.\u001b[0m\n",
       "    \u001b[0;36mtrim_zeros\u001b[0m\u001b[0;36m: \u001b[0m\u001b[1;30mTrim the leading and/or trailing zeros from a 1-D array or sequence.\u001b[0m\n",
       "    \u001b[0;36mtriu\u001b[0m\u001b[0;36m: \u001b[0m\u001b[1;30mUpper triangle of an array.\u001b[0m\n",
       "    \u001b[0;36mtriu_indices\u001b[0m\u001b[0;36m: \u001b[0m\u001b[1;30mReturn the indices for the upper-triangle of an (n, m) array.\u001b[0m\n",
       "    \u001b[0;36mtriu_indices_from\u001b[0m\u001b[0;36m: \u001b[0m\u001b[1;30mReturn the indices for the upper-triangle of arr.\u001b[0m\n",
       "    \u001b[0;36mtypename\u001b[0m\u001b[0;36m: \u001b[0m\u001b[1;30mReturn a description for the given data type code.\u001b[0m\n",
       "    \u001b[0;36munion1d\u001b[0m\u001b[0;36m: \u001b[0m\u001b[1;30mFind the union of two arrays.\u001b[0m\n",
       "    \u001b[0;36munique\u001b[0m\u001b[0;36m: \u001b[0m\u001b[1;30mFind the unique elements of an array.\u001b[0m\n",
       "    \u001b[0;36munpackbits\u001b[0m\u001b[0;36m: \u001b[0m\u001b[1;30munpackbits(myarray, axis=None)\u001b[0m\n",
       "    \u001b[0;36munravel_index\u001b[0m\u001b[0;36m: \u001b[0m\u001b[1;30munravel_index(indices, dims, order='C')\u001b[0m\n",
       "    \u001b[0;36munwrap\u001b[0m\u001b[0;36m: \u001b[0m\u001b[1;30mUnwrap by changing deltas between values to 2*pi complement.\u001b[0m\n",
       "    \u001b[0;36mvander\u001b[0m\u001b[0;36m: \u001b[0m\u001b[1;30mGenerate a Vandermonde matrix.\u001b[0m\n",
       "    \u001b[0;36mvar\u001b[0m\u001b[0;36m: \u001b[0m\u001b[1;30mCompute the variance along the specified axis.\u001b[0m\n",
       "    \u001b[0;36mvdot\u001b[0m\u001b[0;36m: \u001b[0m\u001b[1;30mvdot(a, b)\u001b[0m\n",
       "    \u001b[0;36mvsplit\u001b[0m\u001b[0;36m: \u001b[0m\u001b[1;30mSplit an array into multiple sub-arrays vertically (row-wise).\u001b[0m\n",
       "    \u001b[0;36mvstack\u001b[0m\u001b[0;36m: \u001b[0m\u001b[1;30mStack arrays in sequence vertically (row wise).\u001b[0m\n",
       "    \u001b[0;36mwhere\u001b[0m\u001b[0;36m: \u001b[0m\u001b[1;30mwhere(condition, [x, y])\u001b[0m\n",
       "    \u001b[0;36mwho\u001b[0m\u001b[0;36m: \u001b[0m\u001b[1;30mPrint the Numpy arrays in the given dictionary.\u001b[0m\n",
       "    \u001b[0;36mzeros\u001b[0m\u001b[0;36m: \u001b[0m\u001b[1;30mzeros(shape, dtype=float, order='C')\u001b[0m\n",
       "    \u001b[0;36mzeros_like\u001b[0m\u001b[0;36m: \u001b[0m\u001b[1;30mReturn an array of zeros with the same shape and type as a given array.\u001b[0m\n",
       "\u001b[0;33mexception:\u001b[0m\n",
       "    \u001b[0;36mComplexWarning\u001b[0m\u001b[0;36m: \u001b[0m\u001b[1;30mThe warning raised when casting a complex dtype to a real dtype.\u001b[0m\n",
       "    \u001b[0;36mModuleDeprecationWarning\u001b[0m\u001b[0;36m: \u001b[0m\u001b[1;30mModule deprecation warning.\u001b[0m\n",
       "    \u001b[0;36mRankWarning\u001b[0m\u001b[0;36m: \u001b[0m\u001b[1;30mIssued by `polyfit` when the Vandermonde matrix is rank deficient.\u001b[0m\n",
       "    \u001b[0;36mVisibleDeprecationWarning\u001b[0m\u001b[0;36m: \u001b[0m\u001b[1;30mVisible deprecation warning.\u001b[0m"
      ]
     },
     "execution_count": 11,
     "metadata": {},
     "output_type": "execute_result"
    }
   ],
   "source": [
    "pdir(np)"
   ]
  },
  {
   "cell_type": "markdown",
   "metadata": {},
   "source": [
    "提供多维NumPy数组的行/列"
   ]
  },
  {
   "cell_type": "code",
   "execution_count": 12,
   "metadata": {
    "collapsed": false
   },
   "outputs": [
    {
     "name": "stdout",
     "output_type": "stream",
     "text": [
      "[5 1 4 8]\n",
      "[6 1 8]\n"
     ]
    }
   ],
   "source": [
    "print my_2d_array2[:,1]#第二列，index = 1\n",
    "print my_2d_array2[1,:]#第二行,index = 1"
   ]
  },
  {
   "cell_type": "markdown",
   "metadata": {},
   "source": [
    "### NumPy中的数组操作"
   ]
  },
  {
   "cell_type": "markdown",
   "metadata": {},
   "source": [
    "数学运算"
   ]
  },
  {
   "cell_type": "code",
   "execution_count": 13,
   "metadata": {
    "collapsed": false
   },
   "outputs": [
    {
     "name": "stdout",
     "output_type": "stream",
     "text": [
      "Sum = \n",
      "[[  6.   8.]\n",
      " [ 10.  12.]]\n",
      "Difference = \n",
      "[[-4. -4.]\n",
      " [-4. -4.]]\n",
      "Product = \n",
      "[[  5.  12.]\n",
      " [ 21.  32.]]\n",
      "Quotient = \n",
      "[[ 0.2         0.33333333]\n",
      " [ 0.42857143  0.5       ]]\n"
     ]
    }
   ],
   "source": [
    "import numpy as np \n",
    "a = np.array([[1.0, 2.0], [3.0, 4.0]]) \n",
    "b = np.array([[5.0, 6.0], [7.0, 8.0]]) \n",
    "sum = a + b \n",
    "difference = a - b \n",
    "product = a * b \n",
    "quotient = a / b \n",
    "print \"Sum = \\n\", sum \n",
    "print \"Difference = \\n\", difference \n",
    "print \"Product = \\n\", product #乘法运算符执行逐元素乘法而不是矩阵乘法\n",
    "print \"Quotient = \\n\", quotient "
   ]
  },
  {
   "cell_type": "markdown",
   "metadata": {},
   "source": [
    "矩阵运算"
   ]
  },
  {
   "cell_type": "code",
   "execution_count": 14,
   "metadata": {
    "collapsed": false
   },
   "outputs": [
    {
     "name": "stdout",
     "output_type": "stream",
     "text": [
      "Matrix Product =  [[ 19.  22.]\n",
      " [ 43.  50.]]\n"
     ]
    }
   ],
   "source": [
    "matrix_product = a.dot(b) #矩阵乘法\n",
    "print \"Matrix Product = \", matrix_product"
   ]
  }
 ],
 "metadata": {
  "kernelspec": {
   "display_name": "Python 2",
   "language": "python",
   "name": "python2"
  },
  "language_info": {
   "codemirror_mode": {
    "name": "ipython",
    "version": 2
   },
   "file_extension": ".py",
   "mimetype": "text/x-python",
   "name": "python",
   "nbconvert_exporter": "python",
   "pygments_lexer": "ipython2",
   "version": "2.7.11"
  }
 },
 "nbformat": 4,
 "nbformat_minor": 0
}
