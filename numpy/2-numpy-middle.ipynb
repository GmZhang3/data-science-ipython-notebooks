{
 "cells": [
  {
   "cell_type": "markdown",
   "metadata": {},
   "source": [
    "# 数组基础"
   ]
  },
  {
   "cell_type": "markdown",
   "metadata": {},
   "source": [
    "## 创建一个数组"
   ]
  },
  {
   "cell_type": "code",
   "execution_count": 1,
   "metadata": {
    "collapsed": false
   },
   "outputs": [
    {
     "data": {
      "text/plain": [
       "\u001b[0;33mproperty:\u001b[0m\n",
       "    \u001b[0;36mALLOW_THREADS\u001b[0m\u001b[1;30m, \u001b[0m\u001b[0;36mBUFSIZE\u001b[0m\u001b[1;30m, \u001b[0m\u001b[0;36mCLIP\u001b[0m\u001b[1;30m, \u001b[0m\u001b[0;36mERR_CALL\u001b[0m\u001b[1;30m, \u001b[0m\u001b[0;36mERR_DEFAULT\u001b[0m\u001b[1;30m, \u001b[0m\u001b[0;36mERR_IGNORE\u001b[0m\u001b[1;30m, \u001b[0m\u001b[0;36mERR_LOG\u001b[0m\u001b[1;30m, \u001b[0m\u001b[0;36mERR_PRINT\u001b[0m\u001b[1;30m, \u001b[0m\u001b[0;36mERR_RAISE\u001b[0m\u001b[1;30m, \u001b[0m\u001b[0;36mERR_WARN\u001b[0m\u001b[1;30m, \u001b[0m\u001b[0;36mFLOATING_POINT_SUPPORT\u001b[0m\u001b[1;30m, \u001b[0m\u001b[0;36mFPE_DIVIDEBYZERO\u001b[0m\u001b[1;30m, \u001b[0m\u001b[0;36mFPE_INVALID\u001b[0m\u001b[1;30m, \u001b[0m\u001b[0;36mFPE_OVERFLOW\u001b[0m\u001b[1;30m, \u001b[0m\u001b[0;36mFPE_UNDERFLOW\u001b[0m\u001b[1;30m, \u001b[0m\u001b[0;36mFalse_\u001b[0m\u001b[1;30m, \u001b[0m\u001b[0;36mInf\u001b[0m\u001b[1;30m, \u001b[0m\u001b[0;36mInfinity\u001b[0m\u001b[1;30m, \u001b[0m\u001b[0;36mMAXDIMS\u001b[0m\u001b[1;30m, \u001b[0m\u001b[0;36mNAN\u001b[0m\u001b[1;30m, \u001b[0m\u001b[0;36mNINF\u001b[0m\u001b[1;30m, \u001b[0m\u001b[0;36mNZERO\u001b[0m\u001b[1;30m, \u001b[0m\u001b[0;36mNaN\u001b[0m\u001b[1;30m, \u001b[0m\u001b[0;36mPINF\u001b[0m\u001b[1;30m, \u001b[0m\u001b[0;36mPZERO\u001b[0m\u001b[1;30m, \u001b[0m\u001b[0;36mRAISE\u001b[0m\u001b[1;30m, \u001b[0m\u001b[0;36mSHIFT_DIVIDEBYZERO\u001b[0m\u001b[1;30m, \u001b[0m\u001b[0;36mSHIFT_INVALID\u001b[0m\u001b[1;30m, \u001b[0m\u001b[0;36mSHIFT_OVERFLOW\u001b[0m\u001b[1;30m, \u001b[0m\u001b[0;36mSHIFT_UNDERFLOW\u001b[0m\u001b[1;30m, \u001b[0m\u001b[0;36mScalarType\u001b[0m\u001b[1;30m, \u001b[0m\u001b[0;36mTrue_\u001b[0m\u001b[1;30m, \u001b[0m\u001b[0;36mUFUNC_BUFSIZE_DEFAULT\u001b[0m\u001b[1;30m, \u001b[0m\u001b[0;36mUFUNC_PYVALS_NAME\u001b[0m\u001b[1;30m, \u001b[0m\u001b[0;36mWRAP\u001b[0m\u001b[1;30m, \u001b[0m\u001b[0;36m__NUMPY_SETUP__\u001b[0m\u001b[1;30m, \u001b[0m\u001b[0;36m__all__\u001b[0m\u001b[1;30m, \u001b[0m\u001b[0;36m__builtins__\u001b[0m\u001b[1;30m, \u001b[0m\u001b[0;36m__config__\u001b[0m\u001b[1;30m, \u001b[0m\u001b[0;36m__git_revision__\u001b[0m\u001b[1;30m, \u001b[0m\u001b[0;36m__mkl_version__\u001b[0m\u001b[1;30m, \u001b[0m\u001b[0;36m__version__\u001b[0m\u001b[1;30m, \u001b[0m\u001b[0;36m_import_tools\u001b[0m\u001b[1;30m, \u001b[0m\u001b[0;36m_mat\u001b[0m\u001b[1;30m, \u001b[0m\u001b[0;36mabs\u001b[0m\u001b[1;30m, \u001b[0m\u001b[0;36mabsolute\u001b[0m\u001b[1;30m, \u001b[0m\u001b[0;36mabsolute_import\u001b[0m\u001b[1;30m, \u001b[0m\u001b[0;36madd\u001b[0m\u001b[1;30m, \u001b[0m\u001b[0;36madd_newdocs\u001b[0m\u001b[1;30m, \u001b[0m\u001b[0;36marccos\u001b[0m\u001b[1;30m, \u001b[0m\u001b[0;36marccosh\u001b[0m\u001b[1;30m, \u001b[0m\u001b[0;36marcsin\u001b[0m\u001b[1;30m, \u001b[0m\u001b[0;36marcsinh\u001b[0m\u001b[1;30m, \u001b[0m\u001b[0;36marctan\u001b[0m\u001b[1;30m, \u001b[0m\u001b[0;36marctan2\u001b[0m\u001b[1;30m, \u001b[0m\u001b[0;36marctanh\u001b[0m\u001b[1;30m, \u001b[0m\u001b[0;36mbitwise_and\u001b[0m\u001b[1;30m, \u001b[0m\u001b[0;36mbitwise_not\u001b[0m\u001b[1;30m, \u001b[0m\u001b[0;36mbitwise_or\u001b[0m\u001b[1;30m, \u001b[0m\u001b[0;36mbitwise_xor\u001b[0m\u001b[1;30m, \u001b[0m\u001b[0;36mc_\u001b[0m\u001b[1;30m, \u001b[0m\u001b[0;36mcast\u001b[0m\u001b[1;30m, \u001b[0m\u001b[0;36mcbrt\u001b[0m\u001b[1;30m, \u001b[0m\u001b[0;36mceil\u001b[0m\u001b[1;30m, \u001b[0m\u001b[0;36mchar\u001b[0m\u001b[1;30m, \u001b[0m\u001b[0;36mcompat\u001b[0m\u001b[1;30m, \u001b[0m\u001b[0;36mconj\u001b[0m\u001b[1;30m, \u001b[0m\u001b[0;36mconjugate\u001b[0m\u001b[1;30m, \u001b[0m\u001b[0;36mcopysign\u001b[0m\u001b[1;30m, \u001b[0m\u001b[0;36mcore\u001b[0m\u001b[1;30m, \u001b[0m\u001b[0;36mcos\u001b[0m\u001b[1;30m, \u001b[0m\u001b[0;36mcosh\u001b[0m\u001b[1;30m, \u001b[0m\u001b[0;36mctypeslib\u001b[0m\u001b[1;30m, \u001b[0m\u001b[0;36mdeg2rad\u001b[0m\u001b[1;30m, \u001b[0m\u001b[0;36mdegrees\u001b[0m\u001b[1;30m, \u001b[0m\u001b[0;36mdivide\u001b[0m\u001b[1;30m, \u001b[0m\u001b[0;36mdivision\u001b[0m\u001b[1;30m, \u001b[0m\u001b[0;36me\u001b[0m\u001b[1;30m, \u001b[0m\u001b[0;36memath\u001b[0m\u001b[1;30m, \u001b[0m\u001b[0;36mequal\u001b[0m\u001b[1;30m, \u001b[0m\u001b[0;36meuler_gamma\u001b[0m\u001b[1;30m, \u001b[0m\u001b[0;36mexp\u001b[0m\u001b[1;30m, \u001b[0m\u001b[0;36mexp2\u001b[0m\u001b[1;30m, \u001b[0m\u001b[0;36mexpm1\u001b[0m\u001b[1;30m, \u001b[0m\u001b[0;36mfabs\u001b[0m\u001b[1;30m, \u001b[0m\u001b[0;36mfft\u001b[0m\u001b[1;30m, \u001b[0m\u001b[0;36mfloor\u001b[0m\u001b[1;30m, \u001b[0m\u001b[0;36mfloor_divide\u001b[0m\u001b[1;30m, \u001b[0m\u001b[0;36mfmax\u001b[0m\u001b[1;30m, \u001b[0m\u001b[0;36mfmin\u001b[0m\u001b[1;30m, \u001b[0m\u001b[0;36mfmod\u001b[0m\u001b[1;30m, \u001b[0m\u001b[0;36mfrexp\u001b[0m\u001b[1;30m, \u001b[0m\u001b[0;36mgreater\u001b[0m\u001b[1;30m, \u001b[0m\u001b[0;36mgreater_equal\u001b[0m\u001b[1;30m, \u001b[0m\u001b[0;36mhypot\u001b[0m\u001b[1;30m, \u001b[0m\u001b[0;36mindex_exp\u001b[0m\u001b[1;30m, \u001b[0m\u001b[0;36minf\u001b[0m\u001b[1;30m, \u001b[0m\u001b[0;36minfty\u001b[0m\u001b[1;30m, \u001b[0m\u001b[0;36minvert\u001b[0m\u001b[1;30m, \u001b[0m\u001b[0;36misfinite\u001b[0m\u001b[1;30m, \u001b[0m\u001b[0;36misinf\u001b[0m\u001b[1;30m, \u001b[0m\u001b[0;36misnan\u001b[0m\u001b[1;30m, \u001b[0m\u001b[0;36mldexp\u001b[0m\u001b[1;30m, \u001b[0m\u001b[0;36mleft_shift\u001b[0m\u001b[1;30m, \u001b[0m\u001b[0;36mless\u001b[0m\u001b[1;30m, \u001b[0m\u001b[0;36mless_equal\u001b[0m\u001b[1;30m, \u001b[0m\u001b[0;36mlib\u001b[0m\u001b[1;30m, \u001b[0m\u001b[0;36mlinalg\u001b[0m\u001b[1;30m, \u001b[0m\u001b[0;36mlittle_endian\u001b[0m\u001b[1;30m, \u001b[0m\u001b[0;36mlog\u001b[0m\u001b[1;30m, \u001b[0m\u001b[0;36mlog10\u001b[0m\u001b[1;30m, \u001b[0m\u001b[0;36mlog1p\u001b[0m\u001b[1;30m, \u001b[0m\u001b[0;36mlog2\u001b[0m\u001b[1;30m, \u001b[0m\u001b[0;36mlogaddexp\u001b[0m\u001b[1;30m, \u001b[0m\u001b[0;36mlogaddexp2\u001b[0m\u001b[1;30m, \u001b[0m\u001b[0;36mlogical_and\u001b[0m\u001b[1;30m, \u001b[0m\u001b[0;36mlogical_not\u001b[0m\u001b[1;30m, \u001b[0m\u001b[0;36mlogical_or\u001b[0m\u001b[1;30m, \u001b[0m\u001b[0;36mlogical_xor\u001b[0m\u001b[1;30m, \u001b[0m\u001b[0;36mma\u001b[0m\u001b[1;30m, \u001b[0m\u001b[0;36mmath\u001b[0m\u001b[1;30m, \u001b[0m\u001b[0;36mmatrixlib\u001b[0m\u001b[1;30m, \u001b[0m\u001b[0;36mmaximum\u001b[0m\u001b[1;30m, \u001b[0m\u001b[0;36mmgrid\u001b[0m\u001b[1;30m, \u001b[0m\u001b[0;36mminimum\u001b[0m\u001b[1;30m, \u001b[0m\u001b[0;36mmod\u001b[0m\u001b[1;30m, \u001b[0m\u001b[0;36mmodf\u001b[0m\u001b[1;30m, \u001b[0m\u001b[0;36mmultiply\u001b[0m\u001b[1;30m, \u001b[0m\u001b[0;36mnan\u001b[0m\u001b[1;30m, \u001b[0m\u001b[0;36mnbytes\u001b[0m\u001b[1;30m, \u001b[0m\u001b[0;36mnegative\u001b[0m\u001b[1;30m, \u001b[0m\u001b[0;36mnewaxis\u001b[0m\u001b[1;30m, \u001b[0m\u001b[0;36mnextafter\u001b[0m\u001b[1;30m, \u001b[0m\u001b[0;36mnot_equal\u001b[0m\u001b[1;30m, \u001b[0m\u001b[0;36mnumarray\u001b[0m\u001b[1;30m, \u001b[0m\u001b[0;36mogrid\u001b[0m\u001b[1;30m, \u001b[0m\u001b[0;36moldnumeric\u001b[0m\u001b[1;30m, \u001b[0m\u001b[0;36mpi\u001b[0m\u001b[1;30m, \u001b[0m\u001b[0;36mpolynomial\u001b[0m\u001b[1;30m, \u001b[0m\u001b[0;36mpower\u001b[0m\u001b[1;30m, \u001b[0m\u001b[0;36mprint_function\u001b[0m\u001b[1;30m, \u001b[0m\u001b[0;36mr_\u001b[0m\u001b[1;30m, \u001b[0m\u001b[0;36mrad2deg\u001b[0m\u001b[1;30m, \u001b[0m\u001b[0;36mradians\u001b[0m\u001b[1;30m, \u001b[0m\u001b[0;36mrandom\u001b[0m\u001b[1;30m, \u001b[0m\u001b[0;36mrec\u001b[0m\u001b[1;30m, \u001b[0m\u001b[0;36mreciprocal\u001b[0m\u001b[1;30m, \u001b[0m\u001b[0;36mremainder\u001b[0m\u001b[1;30m, \u001b[0m\u001b[0;36mright_shift\u001b[0m\u001b[1;30m, \u001b[0m\u001b[0;36mrint\u001b[0m\u001b[1;30m, \u001b[0m\u001b[0;36ms_\u001b[0m\u001b[1;30m, \u001b[0m\u001b[0;36msctypeDict\u001b[0m\u001b[1;30m, \u001b[0m\u001b[0;36msctypeNA\u001b[0m\u001b[1;30m, \u001b[0m\u001b[0;36msctypes\u001b[0m\u001b[1;30m, \u001b[0m\u001b[0;36msign\u001b[0m\u001b[1;30m, \u001b[0m\u001b[0;36msignbit\u001b[0m\u001b[1;30m, \u001b[0m\u001b[0;36msin\u001b[0m\u001b[1;30m, \u001b[0m\u001b[0;36msinh\u001b[0m\u001b[1;30m, \u001b[0m\u001b[0;36mspacing\u001b[0m\u001b[1;30m, \u001b[0m\u001b[0;36msqrt\u001b[0m\u001b[1;30m, \u001b[0m\u001b[0;36msquare\u001b[0m\u001b[1;30m, \u001b[0m\u001b[0;36msubtract\u001b[0m\u001b[1;30m, \u001b[0m\u001b[0;36msys\u001b[0m\u001b[1;30m, \u001b[0m\u001b[0;36mtan\u001b[0m\u001b[1;30m, \u001b[0m\u001b[0;36mtanh\u001b[0m\u001b[1;30m, \u001b[0m\u001b[0;36mtesting\u001b[0m\u001b[1;30m, \u001b[0m\u001b[0;36mtrue_divide\u001b[0m\u001b[1;30m, \u001b[0m\u001b[0;36mtrunc\u001b[0m\u001b[1;30m, \u001b[0m\u001b[0;36mtypeDict\u001b[0m\u001b[1;30m, \u001b[0m\u001b[0;36mtypeNA\u001b[0m\u001b[1;30m, \u001b[0m\u001b[0;36mtypecodes\u001b[0m\u001b[1;30m, \u001b[0m\u001b[0;36mversion\u001b[0m\u001b[1;30m, \u001b[0m\u001b[0;36mwarnings\u001b[0m\n",
       "\u001b[0;33mmodule attribute:\u001b[0m\n",
       "    \u001b[0;36m__file__\u001b[0m\u001b[1;30m, \u001b[0m\u001b[0;36m__name__\u001b[0m\u001b[1;30m, \u001b[0m\u001b[0;36m__package__\u001b[0m\u001b[1;30m, \u001b[0m\u001b[0;36m__path__\u001b[0m\n",
       "\u001b[0;33mspecial attribute:\u001b[0m\n",
       "    \u001b[0;36m__doc__\u001b[0m\n",
       "\u001b[0;33mclass:\u001b[0m\n",
       "    \u001b[0;36mDataSource\u001b[0m\u001b[0;36m: \u001b[0m\u001b[1;30mDataSource(destpath='.')\u001b[0m\n",
       "    \u001b[0;36mMachAr\u001b[0m\u001b[0;36m: \u001b[0m\u001b[1;30mDiagnosing machine parameters.\u001b[0m\n",
       "    \u001b[0;36mPackageLoader\u001b[0m\u001b[0;36m: \u001b[0m\u001b[1;30m\u001b[0m\n",
       "    \u001b[0;36mTester\u001b[0m\u001b[0;36m: \u001b[0m\u001b[1;30mNose test runner.\u001b[0m\n",
       "    \u001b[0;36m_NoValue\u001b[0m\u001b[0;36m: \u001b[0m\u001b[1;30mSpecial keyword value.\u001b[0m\n",
       "    \u001b[0;36mbool\u001b[0m\u001b[0;36m: \u001b[0m\u001b[1;30mbool(x) -> bool\u001b[0m\n",
       "    \u001b[0;36mbool8\u001b[0m\u001b[0;36m: \u001b[0m\u001b[1;30mNumpy's Boolean type.  Character code: ``?``.  Alias: bool8\u001b[0m\n",
       "    \u001b[0;36mbool_\u001b[0m\u001b[0;36m: \u001b[0m\u001b[1;30mNumpy's Boolean type.  Character code: ``?``.  Alias: bool8\u001b[0m\n",
       "    \u001b[0;36mbroadcast\u001b[0m\u001b[0;36m: \u001b[0m\u001b[1;30mProduce an object that mimics broadcasting.\u001b[0m\n",
       "    \u001b[0;36mbusdaycalendar\u001b[0m\u001b[0;36m: \u001b[0m\u001b[1;30mbusdaycalendar(weekmask='1111100', holidays=None)\u001b[0m\n",
       "    \u001b[0;36mbyte\u001b[0m\u001b[0;36m: \u001b[0m\u001b[1;30m8-bit integer. Character code ``b``. C char compatible.\u001b[0m\n",
       "    \u001b[0;36mbytes_\u001b[0m\u001b[0;36m: \u001b[0m\u001b[1;30m\u001b[0m\n",
       "    \u001b[0;36mcdouble\u001b[0m\u001b[0;36m: \u001b[0m\u001b[1;30mComposed of two 64 bit floats\u001b[0m\n",
       "    \u001b[0;36mcfloat\u001b[0m\u001b[0;36m: \u001b[0m\u001b[1;30mComposed of two 64 bit floats\u001b[0m\n",
       "    \u001b[0;36mcharacter\u001b[0m\u001b[0;36m: \u001b[0m\u001b[1;30m\u001b[0m\n",
       "    \u001b[0;36mchararray\u001b[0m\u001b[0;36m: \u001b[0m\u001b[1;30mchararray(shape, itemsize=1, unicode=False, buffer=None, offset=0,\u001b[0m\n",
       "    \u001b[0;36mclongdouble\u001b[0m\u001b[0;36m: \u001b[0m\u001b[1;30mComposed of two 64 bit floats\u001b[0m\n",
       "    \u001b[0;36mclongfloat\u001b[0m\u001b[0;36m: \u001b[0m\u001b[1;30mComposed of two 64 bit floats\u001b[0m\n",
       "    \u001b[0;36mcomplex\u001b[0m\u001b[0;36m: \u001b[0m\u001b[1;30mcomplex(real[, imag]) -> complex number\u001b[0m\n",
       "    \u001b[0;36mcomplex128\u001b[0m\u001b[0;36m: \u001b[0m\u001b[1;30mComposed of two 64 bit floats\u001b[0m\n",
       "    \u001b[0;36mcomplex64\u001b[0m\u001b[0;36m: \u001b[0m\u001b[1;30mComposed of two 32 bit floats\u001b[0m\n",
       "    \u001b[0;36mcomplex_\u001b[0m\u001b[0;36m: \u001b[0m\u001b[1;30mComposed of two 64 bit floats\u001b[0m\n",
       "    \u001b[0;36mcomplexfloating\u001b[0m\u001b[0;36m: \u001b[0m\u001b[1;30m\u001b[0m\n",
       "    \u001b[0;36mcsingle\u001b[0m\u001b[0;36m: \u001b[0m\u001b[1;30mComposed of two 32 bit floats\u001b[0m\n",
       "    \u001b[0;36mdatetime64\u001b[0m\u001b[0;36m: \u001b[0m\u001b[1;30m\u001b[0m\n",
       "    \u001b[0;36mdouble\u001b[0m\u001b[0;36m: \u001b[0m\u001b[1;30m64-bit floating-point number. Character code 'd'. Python float compatible.\u001b[0m\n",
       "    \u001b[0;36mdtype\u001b[0m\u001b[0;36m: \u001b[0m\u001b[1;30mdtype(obj, align=False, copy=False)\u001b[0m\n",
       "    \u001b[0;36merrstate\u001b[0m\u001b[0;36m: \u001b[0m\u001b[1;30merrstate(**kwargs)\u001b[0m\n",
       "    \u001b[0;36mfinfo\u001b[0m\u001b[0;36m: \u001b[0m\u001b[1;30mfinfo(dtype)\u001b[0m\n",
       "    \u001b[0;36mflatiter\u001b[0m\u001b[0;36m: \u001b[0m\u001b[1;30mFlat iterator object to iterate over arrays.\u001b[0m\n",
       "    \u001b[0;36mflexible\u001b[0m\u001b[0;36m: \u001b[0m\u001b[1;30m\u001b[0m\n",
       "    \u001b[0;36mfloat\u001b[0m\u001b[0;36m: \u001b[0m\u001b[1;30mfloat(x) -> floating point number\u001b[0m\n",
       "    \u001b[0;36mfloat16\u001b[0m\u001b[0;36m: \u001b[0m\u001b[1;30m\u001b[0m\n",
       "    \u001b[0;36mfloat32\u001b[0m\u001b[0;36m: \u001b[0m\u001b[1;30m32-bit floating-point number. Character code 'f'. C float compatible.\u001b[0m\n",
       "    \u001b[0;36mfloat64\u001b[0m\u001b[0;36m: \u001b[0m\u001b[1;30m64-bit floating-point number. Character code 'd'. Python float compatible.\u001b[0m\n",
       "    \u001b[0;36mfloat_\u001b[0m\u001b[0;36m: \u001b[0m\u001b[1;30m64-bit floating-point number. Character code 'd'. Python float compatible.\u001b[0m\n",
       "    \u001b[0;36mfloating\u001b[0m\u001b[0;36m: \u001b[0m\u001b[1;30m\u001b[0m\n",
       "    \u001b[0;36mformat_parser\u001b[0m\u001b[0;36m: \u001b[0m\u001b[1;30mClass to convert formats, names, titles description to a dtype.\u001b[0m\n",
       "    \u001b[0;36mgeneric\u001b[0m\u001b[0;36m: \u001b[0m\u001b[1;30mBase class for numpy scalar types.\u001b[0m\n",
       "    \u001b[0;36mhalf\u001b[0m\u001b[0;36m: \u001b[0m\u001b[1;30m\u001b[0m\n",
       "    \u001b[0;36miinfo\u001b[0m\u001b[0;36m: \u001b[0m\u001b[1;30miinfo(type)\u001b[0m\n",
       "    \u001b[0;36minexact\u001b[0m\u001b[0;36m: \u001b[0m\u001b[1;30m\u001b[0m\n",
       "    \u001b[0;36mint\u001b[0m\u001b[0;36m: \u001b[0m\u001b[1;30mint(x=0) -> int or long\u001b[0m\n",
       "    \u001b[0;36mint0\u001b[0m\u001b[0;36m: \u001b[0m\u001b[1;30m64-bit integer. Character code 'l'. Python int compatible.\u001b[0m\n",
       "    \u001b[0;36mint16\u001b[0m\u001b[0;36m: \u001b[0m\u001b[1;30m16-bit integer. Character code ``h``. C short compatible.\u001b[0m\n",
       "    \u001b[0;36mint32\u001b[0m\u001b[0;36m: \u001b[0m\u001b[1;30m32-bit integer. Character code 'i'. C int compatible.\u001b[0m\n",
       "    \u001b[0;36mint64\u001b[0m\u001b[0;36m: \u001b[0m\u001b[1;30m64-bit integer. Character code 'l'. Python int compatible.\u001b[0m\n",
       "    \u001b[0;36mint8\u001b[0m\u001b[0;36m: \u001b[0m\u001b[1;30m8-bit integer. Character code ``b``. C char compatible.\u001b[0m\n",
       "    \u001b[0;36mint_\u001b[0m\u001b[0;36m: \u001b[0m\u001b[1;30m32-bit integer. Character code 'i'. C int compatible.\u001b[0m\n",
       "    \u001b[0;36mintc\u001b[0m\u001b[0;36m: \u001b[0m\u001b[1;30m\u001b[0m\n",
       "    \u001b[0;36minteger\u001b[0m\u001b[0;36m: \u001b[0m\u001b[1;30m\u001b[0m\n",
       "    \u001b[0;36mintp\u001b[0m\u001b[0;36m: \u001b[0m\u001b[1;30m64-bit integer. Character code 'l'. Python int compatible.\u001b[0m\n",
       "    \u001b[0;36mlong\u001b[0m\u001b[0;36m: \u001b[0m\u001b[1;30mlong(x=0) -> long\u001b[0m\n",
       "    \u001b[0;36mlongcomplex\u001b[0m\u001b[0;36m: \u001b[0m\u001b[1;30mComposed of two 64 bit floats\u001b[0m\n",
       "    \u001b[0;36mlongdouble\u001b[0m\u001b[0;36m: \u001b[0m\u001b[1;30m\u001b[0m\n",
       "    \u001b[0;36mlongfloat\u001b[0m\u001b[0;36m: \u001b[0m\u001b[1;30m\u001b[0m\n",
       "    \u001b[0;36mlonglong\u001b[0m\u001b[0;36m: \u001b[0m\u001b[1;30m64-bit integer. Character code 'l'. Python int compatible.\u001b[0m\n",
       "    \u001b[0;36mmatrix\u001b[0m\u001b[0;36m: \u001b[0m\u001b[1;30mmatrix(data, dtype=None, copy=True)\u001b[0m\n",
       "    \u001b[0;36mmemmap\u001b[0m\u001b[0;36m: \u001b[0m\u001b[1;30mCreate a memory-map to an array stored in a *binary* file on disk.\u001b[0m\n",
       "    \u001b[0;36mndarray\u001b[0m\u001b[0;36m: \u001b[0m\u001b[1;30mndarray(shape, dtype=float, buffer=None, offset=0,\u001b[0m\n",
       "    \u001b[0;36mndenumerate\u001b[0m\u001b[0;36m: \u001b[0m\u001b[1;30mMultidimensional index iterator.\u001b[0m\n",
       "    \u001b[0;36mndindex\u001b[0m\u001b[0;36m: \u001b[0m\u001b[1;30mAn N-dimensional iterator object to index arrays.\u001b[0m\n",
       "    \u001b[0;36mnditer\u001b[0m\u001b[0;36m: \u001b[0m\u001b[1;30mEfficient multi-dimensional iterator object to iterate over arrays.\u001b[0m\n",
       "    \u001b[0;36mnumber\u001b[0m\u001b[0;36m: \u001b[0m\u001b[1;30m\u001b[0m\n",
       "    \u001b[0;36mobject\u001b[0m\u001b[0;36m: \u001b[0m\u001b[1;30mThe most base type\u001b[0m\n",
       "    \u001b[0;36mobject0\u001b[0m\u001b[0;36m: \u001b[0m\u001b[1;30mAny Python object.  Character code: 'O'.\u001b[0m\n",
       "    \u001b[0;36mobject_\u001b[0m\u001b[0;36m: \u001b[0m\u001b[1;30mAny Python object.  Character code: 'O'.\u001b[0m\n",
       "    \u001b[0;36mpoly1d\u001b[0m\u001b[0;36m: \u001b[0m\u001b[1;30mA one-dimensional polynomial class.\u001b[0m\n",
       "    \u001b[0;36mrecarray\u001b[0m\u001b[0;36m: \u001b[0m\u001b[1;30mConstruct an ndarray that allows field access using attributes.\u001b[0m\n",
       "    \u001b[0;36mrecord\u001b[0m\u001b[0;36m: \u001b[0m\u001b[1;30mA data-type scalar that allows field access as attribute lookup.\u001b[0m\n",
       "    \u001b[0;36mshort\u001b[0m\u001b[0;36m: \u001b[0m\u001b[1;30m16-bit integer. Character code ``h``. C short compatible.\u001b[0m\n",
       "    \u001b[0;36msignedinteger\u001b[0m\u001b[0;36m: \u001b[0m\u001b[1;30m\u001b[0m\n",
       "    \u001b[0;36msingle\u001b[0m\u001b[0;36m: \u001b[0m\u001b[1;30m32-bit floating-point number. Character code 'f'. C float compatible.\u001b[0m\n",
       "    \u001b[0;36msinglecomplex\u001b[0m\u001b[0;36m: \u001b[0m\u001b[1;30mComposed of two 32 bit floats\u001b[0m\n",
       "    \u001b[0;36mstr\u001b[0m\u001b[0;36m: \u001b[0m\u001b[1;30mstr(object='') -> string\u001b[0m\n",
       "    \u001b[0;36mstr_\u001b[0m\u001b[0;36m: \u001b[0m\u001b[1;30m\u001b[0m\n",
       "    \u001b[0;36mstring0\u001b[0m\u001b[0;36m: \u001b[0m\u001b[1;30m\u001b[0m\n",
       "    \u001b[0;36mstring_\u001b[0m\u001b[0;36m: \u001b[0m\u001b[1;30m\u001b[0m\n",
       "    \u001b[0;36mtimedelta64\u001b[0m\u001b[0;36m: \u001b[0m\u001b[1;30m\u001b[0m\n",
       "    \u001b[0;36mubyte\u001b[0m\u001b[0;36m: \u001b[0m\u001b[1;30m\u001b[0m\n",
       "    \u001b[0;36mufunc\u001b[0m\u001b[0;36m: \u001b[0m\u001b[1;30mFunctions that operate element by element on whole arrays.\u001b[0m\n",
       "    \u001b[0;36muint\u001b[0m\u001b[0;36m: \u001b[0m\u001b[1;30m\u001b[0m\n",
       "    \u001b[0;36muint0\u001b[0m\u001b[0;36m: \u001b[0m\u001b[1;30m\u001b[0m\n",
       "    \u001b[0;36muint16\u001b[0m\u001b[0;36m: \u001b[0m\u001b[1;30m\u001b[0m\n",
       "    \u001b[0;36muint32\u001b[0m\u001b[0;36m: \u001b[0m\u001b[1;30m\u001b[0m\n",
       "    \u001b[0;36muint64\u001b[0m\u001b[0;36m: \u001b[0m\u001b[1;30m\u001b[0m\n",
       "    \u001b[0;36muint8\u001b[0m\u001b[0;36m: \u001b[0m\u001b[1;30m\u001b[0m\n",
       "    \u001b[0;36muintc\u001b[0m\u001b[0;36m: \u001b[0m\u001b[1;30m\u001b[0m\n",
       "    \u001b[0;36muintp\u001b[0m\u001b[0;36m: \u001b[0m\u001b[1;30m\u001b[0m\n",
       "    \u001b[0;36mulonglong\u001b[0m\u001b[0;36m: \u001b[0m\u001b[1;30m\u001b[0m\n",
       "    \u001b[0;36municode\u001b[0m\u001b[0;36m: \u001b[0m\u001b[1;30municode(object='') -> unicode object\u001b[0m\n",
       "    \u001b[0;36municode0\u001b[0m\u001b[0;36m: \u001b[0m\u001b[1;30m\u001b[0m\n",
       "    \u001b[0;36municode_\u001b[0m\u001b[0;36m: \u001b[0m\u001b[1;30m\u001b[0m\n",
       "    \u001b[0;36munsignedinteger\u001b[0m\u001b[0;36m: \u001b[0m\u001b[1;30m\u001b[0m\n",
       "    \u001b[0;36mushort\u001b[0m\u001b[0;36m: \u001b[0m\u001b[1;30m\u001b[0m\n",
       "    \u001b[0;36mvectorize\u001b[0m\u001b[0;36m: \u001b[0m\u001b[1;30mvectorize(pyfunc, otypes='', doc=None, excluded=None, cache=False)\u001b[0m\n",
       "    \u001b[0;36mvoid\u001b[0m\u001b[0;36m: \u001b[0m\u001b[1;30m\u001b[0m\n",
       "    \u001b[0;36mvoid0\u001b[0m\u001b[0;36m: \u001b[0m\u001b[1;30m\u001b[0m\n",
       "\u001b[0;33mfunction:\u001b[0m\n",
       "    \u001b[0;36madd_docstring\u001b[0m\u001b[0;36m: \u001b[0m\u001b[1;30madd_docstring(obj, docstring)\u001b[0m\n",
       "    \u001b[0;36madd_newdoc\u001b[0m\u001b[0;36m: \u001b[0m\u001b[1;30mAdds documentation to obj which is in module place.\u001b[0m\n",
       "    \u001b[0;36madd_newdoc_ufunc\u001b[0m\u001b[0;36m: \u001b[0m\u001b[1;30madd_ufunc_docstring(ufunc, new_docstring)\u001b[0m\n",
       "    \u001b[0;36malen\u001b[0m\u001b[0;36m: \u001b[0m\u001b[1;30mReturn the length of the first dimension of the input array.\u001b[0m\n",
       "    \u001b[0;36mall\u001b[0m\u001b[0;36m: \u001b[0m\u001b[1;30mTest whether all array elements along a given axis evaluate to True.\u001b[0m\n",
       "    \u001b[0;36mallclose\u001b[0m\u001b[0;36m: \u001b[0m\u001b[1;30mReturns True if two arrays are element-wise equal within a tolerance.\u001b[0m\n",
       "    \u001b[0;36malltrue\u001b[0m\u001b[0;36m: \u001b[0m\u001b[1;30mCheck if all elements of input array are true.\u001b[0m\n",
       "    \u001b[0;36malterdot\u001b[0m\u001b[0;36m: \u001b[0m\u001b[1;30mChange `dot`, `vdot`, and `inner` to use accelerated BLAS functions.\u001b[0m\n",
       "    \u001b[0;36mamax\u001b[0m\u001b[0;36m: \u001b[0m\u001b[1;30mReturn the maximum of an array or maximum along an axis.\u001b[0m\n",
       "    \u001b[0;36mamin\u001b[0m\u001b[0;36m: \u001b[0m\u001b[1;30mReturn the minimum of an array or minimum along an axis.\u001b[0m\n",
       "    \u001b[0;36mangle\u001b[0m\u001b[0;36m: \u001b[0m\u001b[1;30mReturn the angle of the complex argument.\u001b[0m\n",
       "    \u001b[0;36many\u001b[0m\u001b[0;36m: \u001b[0m\u001b[1;30mTest whether any array element along a given axis evaluates to True.\u001b[0m\n",
       "    \u001b[0;36mappend\u001b[0m\u001b[0;36m: \u001b[0m\u001b[1;30mAppend values to the end of an array.\u001b[0m\n",
       "    \u001b[0;36mapply_along_axis\u001b[0m\u001b[0;36m: \u001b[0m\u001b[1;30mApply a function to 1-D slices along the given axis.\u001b[0m\n",
       "    \u001b[0;36mapply_over_axes\u001b[0m\u001b[0;36m: \u001b[0m\u001b[1;30mApply a function repeatedly over multiple axes.\u001b[0m\n",
       "    \u001b[0;36marange\u001b[0m\u001b[0;36m: \u001b[0m\u001b[1;30marange([start,] stop[, step,], dtype=None)\u001b[0m\n",
       "    \u001b[0;36margmax\u001b[0m\u001b[0;36m: \u001b[0m\u001b[1;30mReturns the indices of the maximum values along an axis.\u001b[0m\n",
       "    \u001b[0;36margmin\u001b[0m\u001b[0;36m: \u001b[0m\u001b[1;30mReturns the indices of the minimum values along an axis.\u001b[0m\n",
       "    \u001b[0;36margpartition\u001b[0m\u001b[0;36m: \u001b[0m\u001b[1;30mPerform an indirect partition along the given axis using the algorithm\u001b[0m\n",
       "    \u001b[0;36margsort\u001b[0m\u001b[0;36m: \u001b[0m\u001b[1;30mReturns the indices that would sort an array.\u001b[0m\n",
       "    \u001b[0;36margwhere\u001b[0m\u001b[0;36m: \u001b[0m\u001b[1;30mFind the indices of array elements that are non-zero, grouped by element.\u001b[0m\n",
       "    \u001b[0;36maround\u001b[0m\u001b[0;36m: \u001b[0m\u001b[1;30mEvenly round to the given number of decimals.\u001b[0m\n",
       "    \u001b[0;36marray\u001b[0m\u001b[0;36m: \u001b[0m\u001b[1;30marray(object, dtype=None, copy=True, order=None, subok=False, ndmin=0)\u001b[0m\n",
       "    \u001b[0;36marray2string\u001b[0m\u001b[0;36m: \u001b[0m\u001b[1;30mReturn a string representation of an array.\u001b[0m\n",
       "    \u001b[0;36marray_equal\u001b[0m\u001b[0;36m: \u001b[0m\u001b[1;30mTrue if two arrays have the same shape and elements, False otherwise.\u001b[0m\n",
       "    \u001b[0;36marray_equiv\u001b[0m\u001b[0;36m: \u001b[0m\u001b[1;30mReturns True if input arrays are shape consistent and all elements equal.\u001b[0m\n",
       "    \u001b[0;36marray_repr\u001b[0m\u001b[0;36m: \u001b[0m\u001b[1;30mReturn the string representation of an array.\u001b[0m\n",
       "    \u001b[0;36marray_split\u001b[0m\u001b[0;36m: \u001b[0m\u001b[1;30mSplit an array into multiple sub-arrays.\u001b[0m\n",
       "    \u001b[0;36marray_str\u001b[0m\u001b[0;36m: \u001b[0m\u001b[1;30mReturn a string representation of the data in an array.\u001b[0m\n",
       "    \u001b[0;36masanyarray\u001b[0m\u001b[0;36m: \u001b[0m\u001b[1;30mConvert the input to an ndarray, but pass ndarray subclasses through.\u001b[0m\n",
       "    \u001b[0;36masarray\u001b[0m\u001b[0;36m: \u001b[0m\u001b[1;30mConvert the input to an array.\u001b[0m\n",
       "    \u001b[0;36masarray_chkfinite\u001b[0m\u001b[0;36m: \u001b[0m\u001b[1;30mConvert the input to an array, checking for NaNs or Infs.\u001b[0m\n",
       "    \u001b[0;36mascontiguousarray\u001b[0m\u001b[0;36m: \u001b[0m\u001b[1;30mReturn a contiguous array in memory (C order).\u001b[0m\n",
       "    \u001b[0;36masfarray\u001b[0m\u001b[0;36m: \u001b[0m\u001b[1;30mReturn an array converted to a float type.\u001b[0m\n",
       "    \u001b[0;36masfortranarray\u001b[0m\u001b[0;36m: \u001b[0m\u001b[1;30mReturn an array laid out in Fortran order in memory.\u001b[0m\n",
       "    \u001b[0;36masmatrix\u001b[0m\u001b[0;36m: \u001b[0m\u001b[1;30mInterpret the input as a matrix.\u001b[0m\n",
       "    \u001b[0;36masscalar\u001b[0m\u001b[0;36m: \u001b[0m\u001b[1;30mConvert an array of size 1 to its scalar equivalent.\u001b[0m\n",
       "    \u001b[0;36matleast_1d\u001b[0m\u001b[0;36m: \u001b[0m\u001b[1;30mConvert inputs to arrays with at least one dimension.\u001b[0m\n",
       "    \u001b[0;36matleast_2d\u001b[0m\u001b[0;36m: \u001b[0m\u001b[1;30mView inputs as arrays with at least two dimensions.\u001b[0m\n",
       "    \u001b[0;36matleast_3d\u001b[0m\u001b[0;36m: \u001b[0m\u001b[1;30mView inputs as arrays with at least three dimensions.\u001b[0m\n",
       "    \u001b[0;36maverage\u001b[0m\u001b[0;36m: \u001b[0m\u001b[1;30mCompute the weighted average along the specified axis.\u001b[0m\n",
       "    \u001b[0;36mbartlett\u001b[0m\u001b[0;36m: \u001b[0m\u001b[1;30mReturn the Bartlett window.\u001b[0m\n",
       "    \u001b[0;36mbase_repr\u001b[0m\u001b[0;36m: \u001b[0m\u001b[1;30mReturn a string representation of a number in the given base system.\u001b[0m\n",
       "    \u001b[0;36mbench\u001b[0m\u001b[0;36m: \u001b[0m\u001b[1;30mRun benchmarks for module using nose.\u001b[0m\n",
       "    \u001b[0;36mbinary_repr\u001b[0m\u001b[0;36m: \u001b[0m\u001b[1;30mReturn the binary representation of the input number as a string.\u001b[0m\n",
       "    \u001b[0;36mbincount\u001b[0m\u001b[0;36m: \u001b[0m\u001b[1;30mbincount(x, weights=None, minlength=None)\u001b[0m\n",
       "    \u001b[0;36mblackman\u001b[0m\u001b[0;36m: \u001b[0m\u001b[1;30mReturn the Blackman window.\u001b[0m\n",
       "    \u001b[0;36mbmat\u001b[0m\u001b[0;36m: \u001b[0m\u001b[1;30mBuild a matrix object from a string, nested sequence, or array.\u001b[0m\n",
       "    \u001b[0;36mbroadcast_arrays\u001b[0m\u001b[0;36m: \u001b[0m\u001b[1;30mBroadcast any number of arrays against each other.\u001b[0m\n",
       "    \u001b[0;36mbroadcast_to\u001b[0m\u001b[0;36m: \u001b[0m\u001b[1;30mBroadcast an array to a new shape.\u001b[0m\n",
       "    \u001b[0;36mbusday_count\u001b[0m\u001b[0;36m: \u001b[0m\u001b[1;30mbusday_count(begindates, enddates, weekmask='1111100', holidays=[], busdaycal=None, out=None)\u001b[0m\n",
       "    \u001b[0;36mbusday_offset\u001b[0m\u001b[0;36m: \u001b[0m\u001b[1;30mbusday_offset(dates, offsets, roll='raise', weekmask='1111100', holidays=None, busdaycal=None, out=None)\u001b[0m\n",
       "    \u001b[0;36mbyte_bounds\u001b[0m\u001b[0;36m: \u001b[0m\u001b[1;30mReturns pointers to the end-points of an array.\u001b[0m\n",
       "    \u001b[0;36mcan_cast\u001b[0m\u001b[0;36m: \u001b[0m\u001b[1;30mcan_cast(from, totype, casting = 'safe')\u001b[0m\n",
       "    \u001b[0;36mchoose\u001b[0m\u001b[0;36m: \u001b[0m\u001b[1;30mConstruct an array from an index array and a set of arrays to choose from.\u001b[0m\n",
       "    \u001b[0;36mclip\u001b[0m\u001b[0;36m: \u001b[0m\u001b[1;30mClip (limit) the values in an array.\u001b[0m\n",
       "    \u001b[0;36mcolumn_stack\u001b[0m\u001b[0;36m: \u001b[0m\u001b[1;30mStack 1-D arrays as columns into a 2-D array.\u001b[0m\n",
       "    \u001b[0;36mcommon_type\u001b[0m\u001b[0;36m: \u001b[0m\u001b[1;30mReturn a scalar type which is common to the input arrays.\u001b[0m\n",
       "    \u001b[0;36mcompare_chararrays\u001b[0m\u001b[0;36m: \u001b[0m\u001b[1;30m\u001b[0m\n",
       "    \u001b[0;36mcompress\u001b[0m\u001b[0;36m: \u001b[0m\u001b[1;30mReturn selected slices of an array along given axis.\u001b[0m\n",
       "    \u001b[0;36mconcatenate\u001b[0m\u001b[0;36m: \u001b[0m\u001b[1;30mconcatenate((a1, a2, ...), axis=0)\u001b[0m\n",
       "    \u001b[0;36mconvolve\u001b[0m\u001b[0;36m: \u001b[0m\u001b[1;30mReturns the discrete, linear convolution of two one-dimensional sequences.\u001b[0m\n",
       "    \u001b[0;36mcopy\u001b[0m\u001b[0;36m: \u001b[0m\u001b[1;30mReturn an array copy of the given object.\u001b[0m\n",
       "    \u001b[0;36mcopyto\u001b[0m\u001b[0;36m: \u001b[0m\u001b[1;30mcopyto(dst, src, casting='same_kind', where=None)\u001b[0m\n",
       "    \u001b[0;36mcorrcoef\u001b[0m\u001b[0;36m: \u001b[0m\u001b[1;30mReturn Pearson product-moment correlation coefficients.\u001b[0m\n",
       "    \u001b[0;36mcorrelate\u001b[0m\u001b[0;36m: \u001b[0m\u001b[1;30mCross-correlation of two 1-dimensional sequences.\u001b[0m\n",
       "    \u001b[0;36mcount_nonzero\u001b[0m\u001b[0;36m: \u001b[0m\u001b[1;30mcount_nonzero(a)\u001b[0m\n",
       "    \u001b[0;36mcov\u001b[0m\u001b[0;36m: \u001b[0m\u001b[1;30mEstimate a covariance matrix, given data and weights.\u001b[0m\n",
       "    \u001b[0;36mcross\u001b[0m\u001b[0;36m: \u001b[0m\u001b[1;30mReturn the cross product of two (arrays of) vectors.\u001b[0m\n",
       "    \u001b[0;36mcumprod\u001b[0m\u001b[0;36m: \u001b[0m\u001b[1;30mReturn the cumulative product of elements along a given axis.\u001b[0m\n",
       "    \u001b[0;36mcumproduct\u001b[0m\u001b[0;36m: \u001b[0m\u001b[1;30mReturn the cumulative product over the given axis.\u001b[0m\n",
       "    \u001b[0;36mcumsum\u001b[0m\u001b[0;36m: \u001b[0m\u001b[1;30mReturn the cumulative sum of the elements along a given axis.\u001b[0m\n",
       "    \u001b[0;36mdatetime_as_string\u001b[0m\u001b[0;36m: \u001b[0m\u001b[1;30m\u001b[0m\n",
       "    \u001b[0;36mdatetime_data\u001b[0m\u001b[0;36m: \u001b[0m\u001b[1;30m\u001b[0m\n",
       "    \u001b[0;36mdelete\u001b[0m\u001b[0;36m: \u001b[0m\u001b[1;30mReturn a new array with sub-arrays along an axis deleted. For a one\u001b[0m\n",
       "    \u001b[0;36mdeprecate\u001b[0m\u001b[0;36m: \u001b[0m\u001b[1;30mIssues a DeprecationWarning, adds warning to `old_name`'s\u001b[0m\n",
       "    \u001b[0;36mdeprecate_with_doc\u001b[0m\u001b[0;36m: \u001b[0m\u001b[1;30m\u001b[0m\n",
       "    \u001b[0;36mdiag\u001b[0m\u001b[0;36m: \u001b[0m\u001b[1;30mExtract a diagonal or construct a diagonal array.\u001b[0m\n",
       "    \u001b[0;36mdiag_indices\u001b[0m\u001b[0;36m: \u001b[0m\u001b[1;30mReturn the indices to access the main diagonal of an array.\u001b[0m\n",
       "    \u001b[0;36mdiag_indices_from\u001b[0m\u001b[0;36m: \u001b[0m\u001b[1;30mReturn the indices to access the main diagonal of an n-dimensional array.\u001b[0m\n",
       "    \u001b[0;36mdiagflat\u001b[0m\u001b[0;36m: \u001b[0m\u001b[1;30mCreate a two-dimensional array with the flattened input as a diagonal.\u001b[0m\n",
       "    \u001b[0;36mdiagonal\u001b[0m\u001b[0;36m: \u001b[0m\u001b[1;30mReturn specified diagonals.\u001b[0m\n",
       "    \u001b[0;36mdiff\u001b[0m\u001b[0;36m: \u001b[0m\u001b[1;30mCalculate the n-th order discrete difference along given axis.\u001b[0m\n",
       "    \u001b[0;36mdigitize\u001b[0m\u001b[0;36m: \u001b[0m\u001b[1;30mdigitize(x, bins, right=False)\u001b[0m\n",
       "    \u001b[0;36mdisp\u001b[0m\u001b[0;36m: \u001b[0m\u001b[1;30mDisplay a message on a device.\u001b[0m\n",
       "    \u001b[0;36mdot\u001b[0m\u001b[0;36m: \u001b[0m\u001b[1;30mdot(a, b, out=None)\u001b[0m\n",
       "    \u001b[0;36mdsplit\u001b[0m\u001b[0;36m: \u001b[0m\u001b[1;30mSplit array into multiple sub-arrays along the 3rd axis (depth).\u001b[0m\n",
       "    \u001b[0;36mdstack\u001b[0m\u001b[0;36m: \u001b[0m\u001b[1;30mStack arrays in sequence depth wise (along third axis).\u001b[0m\n",
       "    \u001b[0;36mediff1d\u001b[0m\u001b[0;36m: \u001b[0m\u001b[1;30mThe differences between consecutive elements of an array.\u001b[0m\n",
       "    \u001b[0;36meinsum\u001b[0m\u001b[0;36m: \u001b[0m\u001b[1;30meinsum(subscripts, *operands, out=None, dtype=None, order='K', casting='safe')\u001b[0m\n",
       "    \u001b[0;36mempty\u001b[0m\u001b[0;36m: \u001b[0m\u001b[1;30mempty(shape, dtype=float, order='C')\u001b[0m\n",
       "    \u001b[0;36mempty_like\u001b[0m\u001b[0;36m: \u001b[0m\u001b[1;30mempty_like(a, dtype=None, order='K', subok=True)\u001b[0m\n",
       "    \u001b[0;36mexpand_dims\u001b[0m\u001b[0;36m: \u001b[0m\u001b[1;30mExpand the shape of an array.\u001b[0m\n",
       "    \u001b[0;36mextract\u001b[0m\u001b[0;36m: \u001b[0m\u001b[1;30mReturn the elements of an array that satisfy some condition.\u001b[0m\n",
       "    \u001b[0;36meye\u001b[0m\u001b[0;36m: \u001b[0m\u001b[1;30mReturn a 2-D array with ones on the diagonal and zeros elsewhere.\u001b[0m\n",
       "    \u001b[0;36mfastCopyAndTranspose\u001b[0m\u001b[0;36m: \u001b[0m\u001b[1;30m_fastCopyAndTranspose(a)\u001b[0m\n",
       "    \u001b[0;36mfill_diagonal\u001b[0m\u001b[0;36m: \u001b[0m\u001b[1;30mFill the main diagonal of the given array of any dimensionality.\u001b[0m\n",
       "    \u001b[0;36mfind_common_type\u001b[0m\u001b[0;36m: \u001b[0m\u001b[1;30mDetermine common type following standard coercion rules.\u001b[0m\n",
       "    \u001b[0;36mfix\u001b[0m\u001b[0;36m: \u001b[0m\u001b[1;30mRound to nearest integer towards zero.\u001b[0m\n",
       "    \u001b[0;36mflatnonzero\u001b[0m\u001b[0;36m: \u001b[0m\u001b[1;30mReturn indices that are non-zero in the flattened version of a.\u001b[0m\n",
       "    \u001b[0;36mfliplr\u001b[0m\u001b[0;36m: \u001b[0m\u001b[1;30mFlip array in the left/right direction.\u001b[0m\n",
       "    \u001b[0;36mflipud\u001b[0m\u001b[0;36m: \u001b[0m\u001b[1;30mFlip array in the up/down direction.\u001b[0m\n",
       "    \u001b[0;36mfrombuffer\u001b[0m\u001b[0;36m: \u001b[0m\u001b[1;30mfrombuffer(buffer, dtype=float, count=-1, offset=0)\u001b[0m\n",
       "    \u001b[0;36mfromfile\u001b[0m\u001b[0;36m: \u001b[0m\u001b[1;30mfromfile(file, dtype=float, count=-1, sep='')\u001b[0m\n",
       "    \u001b[0;36mfromfunction\u001b[0m\u001b[0;36m: \u001b[0m\u001b[1;30mConstruct an array by executing a function over each coordinate.\u001b[0m\n",
       "    \u001b[0;36mfromiter\u001b[0m\u001b[0;36m: \u001b[0m\u001b[1;30mfromiter(iterable, dtype, count=-1)\u001b[0m\n",
       "    \u001b[0;36mfrompyfunc\u001b[0m\u001b[0;36m: \u001b[0m\u001b[1;30mfrompyfunc(func, nin, nout)\u001b[0m\n",
       "    \u001b[0;36mfromregex\u001b[0m\u001b[0;36m: \u001b[0m\u001b[1;30mConstruct an array from a text file, using regular expression parsing.\u001b[0m\n",
       "    \u001b[0;36mfromstring\u001b[0m\u001b[0;36m: \u001b[0m\u001b[1;30mfromstring(string, dtype=float, count=-1, sep='')\u001b[0m\n",
       "    \u001b[0;36mfull\u001b[0m\u001b[0;36m: \u001b[0m\u001b[1;30mReturn a new array of given shape and type, filled with `fill_value`.\u001b[0m\n",
       "    \u001b[0;36mfull_like\u001b[0m\u001b[0;36m: \u001b[0m\u001b[1;30mReturn a full array with the same shape and type as a given array.\u001b[0m\n",
       "    \u001b[0;36mfv\u001b[0m\u001b[0;36m: \u001b[0m\u001b[1;30mCompute the future value.\u001b[0m\n",
       "    \u001b[0;36mgenfromtxt\u001b[0m\u001b[0;36m: \u001b[0m\u001b[1;30mLoad data from a text file, with missing values handled as specified.\u001b[0m\n",
       "    \u001b[0;36mget_array_wrap\u001b[0m\u001b[0;36m: \u001b[0m\u001b[1;30mFind the wrapper for the array with the highest priority.\u001b[0m\n",
       "    \u001b[0;36mget_include\u001b[0m\u001b[0;36m: \u001b[0m\u001b[1;30mReturn the directory that contains the NumPy \\*.h header files.\u001b[0m\n",
       "    \u001b[0;36mget_printoptions\u001b[0m\u001b[0;36m: \u001b[0m\u001b[1;30mReturn the current print options.\u001b[0m\n",
       "    \u001b[0;36mgetbuffer\u001b[0m\u001b[0;36m: \u001b[0m\u001b[1;30mgetbuffer(obj [,offset[, size]])\u001b[0m\n",
       "    \u001b[0;36mgetbufsize\u001b[0m\u001b[0;36m: \u001b[0m\u001b[1;30mReturn the size of the buffer used in ufuncs.\u001b[0m\n",
       "    \u001b[0;36mgeterr\u001b[0m\u001b[0;36m: \u001b[0m\u001b[1;30mGet the current way of handling floating-point errors.\u001b[0m\n",
       "    \u001b[0;36mgeterrcall\u001b[0m\u001b[0;36m: \u001b[0m\u001b[1;30mReturn the current callback function used on floating-point errors.\u001b[0m\n",
       "    \u001b[0;36mgeterrobj\u001b[0m\u001b[0;36m: \u001b[0m\u001b[1;30mgeterrobj()\u001b[0m\n",
       "    \u001b[0;36mgradient\u001b[0m\u001b[0;36m: \u001b[0m\u001b[1;30mReturn the gradient of an N-dimensional array.\u001b[0m\n",
       "    \u001b[0;36mhamming\u001b[0m\u001b[0;36m: \u001b[0m\u001b[1;30mReturn the Hamming window.\u001b[0m\n",
       "    \u001b[0;36mhanning\u001b[0m\u001b[0;36m: \u001b[0m\u001b[1;30mReturn the Hanning window.\u001b[0m\n",
       "    \u001b[0;36mhistogram\u001b[0m\u001b[0;36m: \u001b[0m\u001b[1;30mCompute the histogram of a set of data.\u001b[0m\n",
       "    \u001b[0;36mhistogram2d\u001b[0m\u001b[0;36m: \u001b[0m\u001b[1;30mCompute the bi-dimensional histogram of two data samples.\u001b[0m\n",
       "    \u001b[0;36mhistogramdd\u001b[0m\u001b[0;36m: \u001b[0m\u001b[1;30mCompute the multidimensional histogram of some data.\u001b[0m\n",
       "    \u001b[0;36mhsplit\u001b[0m\u001b[0;36m: \u001b[0m\u001b[1;30mSplit an array into multiple sub-arrays horizontally (column-wise).\u001b[0m\n",
       "    \u001b[0;36mhstack\u001b[0m\u001b[0;36m: \u001b[0m\u001b[1;30mStack arrays in sequence horizontally (column wise).\u001b[0m\n",
       "    \u001b[0;36mi0\u001b[0m\u001b[0;36m: \u001b[0m\u001b[1;30mModified Bessel function of the first kind, order 0.\u001b[0m\n",
       "    \u001b[0;36midentity\u001b[0m\u001b[0;36m: \u001b[0m\u001b[1;30mReturn the identity array.\u001b[0m\n",
       "    \u001b[0;36mimag\u001b[0m\u001b[0;36m: \u001b[0m\u001b[1;30mReturn the imaginary part of the elements of the array.\u001b[0m\n",
       "    \u001b[0;36min1d\u001b[0m\u001b[0;36m: \u001b[0m\u001b[1;30mTest whether each element of a 1-D array is also present in a second array.\u001b[0m\n",
       "    \u001b[0;36mindices\u001b[0m\u001b[0;36m: \u001b[0m\u001b[1;30mReturn an array representing the indices of a grid.\u001b[0m\n",
       "    \u001b[0;36minfo\u001b[0m\u001b[0;36m: \u001b[0m\u001b[1;30mGet help information for a function, class, or module.\u001b[0m\n",
       "    \u001b[0;36minner\u001b[0m\u001b[0;36m: \u001b[0m\u001b[1;30minner(a, b)\u001b[0m\n",
       "    \u001b[0;36minsert\u001b[0m\u001b[0;36m: \u001b[0m\u001b[1;30mInsert values along the given axis before the given indices.\u001b[0m\n",
       "    \u001b[0;36mint_asbuffer\u001b[0m\u001b[0;36m: \u001b[0m\u001b[1;30m\u001b[0m\n",
       "    \u001b[0;36minterp\u001b[0m\u001b[0;36m: \u001b[0m\u001b[1;30mOne-dimensional linear interpolation.\u001b[0m\n",
       "    \u001b[0;36mintersect1d\u001b[0m\u001b[0;36m: \u001b[0m\u001b[1;30mFind the intersection of two arrays.\u001b[0m\n",
       "    \u001b[0;36mipmt\u001b[0m\u001b[0;36m: \u001b[0m\u001b[1;30mCompute the interest portion of a payment.\u001b[0m\n",
       "    \u001b[0;36mirr\u001b[0m\u001b[0;36m: \u001b[0m\u001b[1;30mReturn the Internal Rate of Return (IRR).\u001b[0m\n",
       "    \u001b[0;36mis_busday\u001b[0m\u001b[0;36m: \u001b[0m\u001b[1;30mis_busday(dates, weekmask='1111100', holidays=None, busdaycal=None, out=None)\u001b[0m\n",
       "    \u001b[0;36misclose\u001b[0m\u001b[0;36m: \u001b[0m\u001b[1;30mReturns a boolean array where two arrays are element-wise equal within a\u001b[0m\n",
       "    \u001b[0;36miscomplex\u001b[0m\u001b[0;36m: \u001b[0m\u001b[1;30mReturns a bool array, where True if input element is complex.\u001b[0m\n",
       "    \u001b[0;36miscomplexobj\u001b[0m\u001b[0;36m: \u001b[0m\u001b[1;30mCheck for a complex type or an array of complex numbers.\u001b[0m\n",
       "    \u001b[0;36misfortran\u001b[0m\u001b[0;36m: \u001b[0m\u001b[1;30mReturns True if the array is Fortran contiguous but *not* C contiguous.\u001b[0m\n",
       "    \u001b[0;36misneginf\u001b[0m\u001b[0;36m: \u001b[0m\u001b[1;30mTest element-wise for negative infinity, return result as bool array.\u001b[0m\n",
       "    \u001b[0;36misposinf\u001b[0m\u001b[0;36m: \u001b[0m\u001b[1;30mTest element-wise for positive infinity, return result as bool array.\u001b[0m\n",
       "    \u001b[0;36misreal\u001b[0m\u001b[0;36m: \u001b[0m\u001b[1;30mReturns a bool array, where True if input element is real.\u001b[0m\n",
       "    \u001b[0;36misrealobj\u001b[0m\u001b[0;36m: \u001b[0m\u001b[1;30mReturn True if x is a not complex type or an array of complex numbers.\u001b[0m\n",
       "    \u001b[0;36misscalar\u001b[0m\u001b[0;36m: \u001b[0m\u001b[1;30mReturns True if the type of `num` is a scalar type.\u001b[0m\n",
       "    \u001b[0;36missctype\u001b[0m\u001b[0;36m: \u001b[0m\u001b[1;30mDetermines whether the given object represents a scalar data-type.\u001b[0m\n",
       "    \u001b[0;36missubclass_\u001b[0m\u001b[0;36m: \u001b[0m\u001b[1;30mDetermine if a class is a subclass of a second class.\u001b[0m\n",
       "    \u001b[0;36missubdtype\u001b[0m\u001b[0;36m: \u001b[0m\u001b[1;30mReturns True if first argument is a typecode lower/equal in type hierarchy.\u001b[0m\n",
       "    \u001b[0;36missubsctype\u001b[0m\u001b[0;36m: \u001b[0m\u001b[1;30mDetermine if the first argument is a subclass of the second argument.\u001b[0m\n",
       "    \u001b[0;36miterable\u001b[0m\u001b[0;36m: \u001b[0m\u001b[1;30mCheck whether or not an object can be iterated over.\u001b[0m\n",
       "    \u001b[0;36mix_\u001b[0m\u001b[0;36m: \u001b[0m\u001b[1;30mConstruct an open mesh from multiple sequences.\u001b[0m\n",
       "    \u001b[0;36mkaiser\u001b[0m\u001b[0;36m: \u001b[0m\u001b[1;30mReturn the Kaiser window.\u001b[0m\n",
       "    \u001b[0;36mkron\u001b[0m\u001b[0;36m: \u001b[0m\u001b[1;30mKronecker product of two arrays.\u001b[0m\n",
       "    \u001b[0;36mlexsort\u001b[0m\u001b[0;36m: \u001b[0m\u001b[1;30mlexsort(keys, axis=-1)\u001b[0m\n",
       "    \u001b[0;36mlinspace\u001b[0m\u001b[0;36m: \u001b[0m\u001b[1;30mReturn evenly spaced numbers over a specified interval.\u001b[0m\n",
       "    \u001b[0;36mload\u001b[0m\u001b[0;36m: \u001b[0m\u001b[1;30mLoad arrays or pickled objects from ``.npy``, ``.npz`` or pickled files.\u001b[0m\n",
       "    \u001b[0;36mloads\u001b[0m\u001b[0;36m: \u001b[0m\u001b[1;30mloads(string) -- Load a pickle from the given string\u001b[0m\n",
       "    \u001b[0;36mloadtxt\u001b[0m\u001b[0;36m: \u001b[0m\u001b[1;30mLoad data from a text file.\u001b[0m\n",
       "    \u001b[0;36mlogspace\u001b[0m\u001b[0;36m: \u001b[0m\u001b[1;30mReturn numbers spaced evenly on a log scale.\u001b[0m\n",
       "    \u001b[0;36mlookfor\u001b[0m\u001b[0;36m: \u001b[0m\u001b[1;30mDo a keyword search on docstrings.\u001b[0m\n",
       "    \u001b[0;36mmafromtxt\u001b[0m\u001b[0;36m: \u001b[0m\u001b[1;30mLoad ASCII data stored in a text file and return a masked array.\u001b[0m\n",
       "    \u001b[0;36mmask_indices\u001b[0m\u001b[0;36m: \u001b[0m\u001b[1;30mReturn the indices to access (n, n) arrays, given a masking function.\u001b[0m\n",
       "    \u001b[0;36mmat\u001b[0m\u001b[0;36m: \u001b[0m\u001b[1;30mInterpret the input as a matrix.\u001b[0m\n",
       "    \u001b[0;36mmatmul\u001b[0m\u001b[0;36m: \u001b[0m\u001b[1;30mmatmul(a, b, out=None)\u001b[0m\n",
       "    \u001b[0;36mmax\u001b[0m\u001b[0;36m: \u001b[0m\u001b[1;30mReturn the maximum of an array or maximum along an axis.\u001b[0m\n",
       "    \u001b[0;36mmaximum_sctype\u001b[0m\u001b[0;36m: \u001b[0m\u001b[1;30mReturn the scalar type of highest precision of the same kind as the input.\u001b[0m\n",
       "    \u001b[0;36mmay_share_memory\u001b[0m\u001b[0;36m: \u001b[0m\u001b[1;30mDetermine if two arrays can share memory\u001b[0m\n",
       "    \u001b[0;36mmean\u001b[0m\u001b[0;36m: \u001b[0m\u001b[1;30mCompute the arithmetic mean along the specified axis.\u001b[0m\n",
       "    \u001b[0;36mmedian\u001b[0m\u001b[0;36m: \u001b[0m\u001b[1;30mCompute the median along the specified axis.\u001b[0m\n",
       "    \u001b[0;36mmeshgrid\u001b[0m\u001b[0;36m: \u001b[0m\u001b[1;30mReturn coordinate matrices from coordinate vectors.\u001b[0m\n",
       "    \u001b[0;36mmin\u001b[0m\u001b[0;36m: \u001b[0m\u001b[1;30mReturn the minimum of an array or minimum along an axis.\u001b[0m\n",
       "    \u001b[0;36mmin_scalar_type\u001b[0m\u001b[0;36m: \u001b[0m\u001b[1;30mmin_scalar_type(a)\u001b[0m\n",
       "    \u001b[0;36mmintypecode\u001b[0m\u001b[0;36m: \u001b[0m\u001b[1;30mReturn the character for the minimum-size type to which given types can\u001b[0m\n",
       "    \u001b[0;36mmirr\u001b[0m\u001b[0;36m: \u001b[0m\u001b[1;30mModified internal rate of return.\u001b[0m\n",
       "    \u001b[0;36mmsort\u001b[0m\u001b[0;36m: \u001b[0m\u001b[1;30mReturn a copy of an array sorted along the first axis.\u001b[0m\n",
       "    \u001b[0;36mnan_to_num\u001b[0m\u001b[0;36m: \u001b[0m\u001b[1;30mReplace nan with zero and inf with finite numbers.\u001b[0m\n",
       "    \u001b[0;36mnanargmax\u001b[0m\u001b[0;36m: \u001b[0m\u001b[1;30mReturn the indices of the maximum values in the specified axis ignoring\u001b[0m\n",
       "    \u001b[0;36mnanargmin\u001b[0m\u001b[0;36m: \u001b[0m\u001b[1;30mReturn the indices of the minimum values in the specified axis ignoring\u001b[0m\n",
       "    \u001b[0;36mnanmax\u001b[0m\u001b[0;36m: \u001b[0m\u001b[1;30mReturn the maximum of an array or maximum along an axis, ignoring any\u001b[0m\n",
       "    \u001b[0;36mnanmean\u001b[0m\u001b[0;36m: \u001b[0m\u001b[1;30mCompute the arithmetic mean along the specified axis, ignoring NaNs.\u001b[0m\n",
       "    \u001b[0;36mnanmedian\u001b[0m\u001b[0;36m: \u001b[0m\u001b[1;30mCompute the median along the specified axis, while ignoring NaNs.\u001b[0m\n",
       "    \u001b[0;36mnanmin\u001b[0m\u001b[0;36m: \u001b[0m\u001b[1;30mReturn minimum of an array or minimum along an axis, ignoring any NaNs.\u001b[0m\n",
       "    \u001b[0;36mnanpercentile\u001b[0m\u001b[0;36m: \u001b[0m\u001b[1;30mCompute the qth percentile of the data along the specified axis, while\u001b[0m\n",
       "    \u001b[0;36mnanprod\u001b[0m\u001b[0;36m: \u001b[0m\u001b[1;30mReturn the product of array elements over a given axis treating Not a\u001b[0m\n",
       "    \u001b[0;36mnanstd\u001b[0m\u001b[0;36m: \u001b[0m\u001b[1;30mCompute the standard deviation along the specified axis, while\u001b[0m\n",
       "    \u001b[0;36mnansum\u001b[0m\u001b[0;36m: \u001b[0m\u001b[1;30mReturn the sum of array elements over a given axis treating Not a\u001b[0m\n",
       "    \u001b[0;36mnanvar\u001b[0m\u001b[0;36m: \u001b[0m\u001b[1;30mCompute the variance along the specified axis, while ignoring NaNs.\u001b[0m\n",
       "    \u001b[0;36mndfromtxt\u001b[0m\u001b[0;36m: \u001b[0m\u001b[1;30mLoad ASCII data stored in a file and return it as a single array.\u001b[0m\n",
       "    \u001b[0;36mndim\u001b[0m\u001b[0;36m: \u001b[0m\u001b[1;30mReturn the number of dimensions of an array.\u001b[0m\n",
       "    \u001b[0;36mnested_iters\u001b[0m\u001b[0;36m: \u001b[0m\u001b[1;30m\u001b[0m\n",
       "    \u001b[0;36mnewbuffer\u001b[0m\u001b[0;36m: \u001b[0m\u001b[1;30mnewbuffer(size)\u001b[0m\n",
       "    \u001b[0;36mnonzero\u001b[0m\u001b[0;36m: \u001b[0m\u001b[1;30mReturn the indices of the elements that are non-zero.\u001b[0m\n",
       "    \u001b[0;36mnper\u001b[0m\u001b[0;36m: \u001b[0m\u001b[1;30mCompute the number of periodic payments.\u001b[0m\n",
       "    \u001b[0;36mnpv\u001b[0m\u001b[0;36m: \u001b[0m\u001b[1;30mReturns the NPV (Net Present Value) of a cash flow series.\u001b[0m\n",
       "    \u001b[0;36mobj2sctype\u001b[0m\u001b[0;36m: \u001b[0m\u001b[1;30mReturn the scalar dtype or NumPy equivalent of Python type of an object.\u001b[0m\n",
       "    \u001b[0;36mones\u001b[0m\u001b[0;36m: \u001b[0m\u001b[1;30mReturn a new array of given shape and type, filled with ones.\u001b[0m\n",
       "    \u001b[0;36mones_like\u001b[0m\u001b[0;36m: \u001b[0m\u001b[1;30mReturn an array of ones with the same shape and type as a given array.\u001b[0m\n",
       "    \u001b[0;36mouter\u001b[0m\u001b[0;36m: \u001b[0m\u001b[1;30mCompute the outer product of two vectors.\u001b[0m\n",
       "    \u001b[0;36mpackbits\u001b[0m\u001b[0;36m: \u001b[0m\u001b[1;30mpackbits(myarray, axis=None)\u001b[0m\n",
       "    \u001b[0;36mpad\u001b[0m\u001b[0;36m: \u001b[0m\u001b[1;30mPads an array.\u001b[0m\n",
       "    \u001b[0;36mpartition\u001b[0m\u001b[0;36m: \u001b[0m\u001b[1;30mReturn a partitioned copy of an array.\u001b[0m\n",
       "    \u001b[0;36mpercentile\u001b[0m\u001b[0;36m: \u001b[0m\u001b[1;30mCompute the qth percentile of the data along the specified axis.\u001b[0m\n",
       "    \u001b[0;36mpiecewise\u001b[0m\u001b[0;36m: \u001b[0m\u001b[1;30mEvaluate a piecewise-defined function.\u001b[0m\n",
       "    \u001b[0;36mpkgload\u001b[0m\u001b[0;36m: \u001b[0m\u001b[1;30mLoad one or more packages into parent package top-level namespace.\u001b[0m\n",
       "    \u001b[0;36mplace\u001b[0m\u001b[0;36m: \u001b[0m\u001b[1;30mChange elements of an array based on conditional and input values.\u001b[0m\n",
       "    \u001b[0;36mpmt\u001b[0m\u001b[0;36m: \u001b[0m\u001b[1;30mCompute the payment against loan principal plus interest.\u001b[0m\n",
       "    \u001b[0;36mpoly\u001b[0m\u001b[0;36m: \u001b[0m\u001b[1;30mFind the coefficients of a polynomial with the given sequence of roots.\u001b[0m\n",
       "    \u001b[0;36mpolyadd\u001b[0m\u001b[0;36m: \u001b[0m\u001b[1;30mFind the sum of two polynomials.\u001b[0m\n",
       "    \u001b[0;36mpolyder\u001b[0m\u001b[0;36m: \u001b[0m\u001b[1;30mReturn the derivative of the specified order of a polynomial.\u001b[0m\n",
       "    \u001b[0;36mpolydiv\u001b[0m\u001b[0;36m: \u001b[0m\u001b[1;30mReturns the quotient and remainder of polynomial division.\u001b[0m\n",
       "    \u001b[0;36mpolyfit\u001b[0m\u001b[0;36m: \u001b[0m\u001b[1;30mLeast squares polynomial fit.\u001b[0m\n",
       "    \u001b[0;36mpolyint\u001b[0m\u001b[0;36m: \u001b[0m\u001b[1;30mReturn an antiderivative (indefinite integral) of a polynomial.\u001b[0m\n",
       "    \u001b[0;36mpolymul\u001b[0m\u001b[0;36m: \u001b[0m\u001b[1;30mFind the product of two polynomials.\u001b[0m\n",
       "    \u001b[0;36mpolysub\u001b[0m\u001b[0;36m: \u001b[0m\u001b[1;30mDifference (subtraction) of two polynomials.\u001b[0m\n",
       "    \u001b[0;36mpolyval\u001b[0m\u001b[0;36m: \u001b[0m\u001b[1;30mEvaluate a polynomial at specific values.\u001b[0m\n",
       "    \u001b[0;36mppmt\u001b[0m\u001b[0;36m: \u001b[0m\u001b[1;30mCompute the payment against loan principal.\u001b[0m\n",
       "    \u001b[0;36mprod\u001b[0m\u001b[0;36m: \u001b[0m\u001b[1;30mReturn the product of array elements over a given axis.\u001b[0m\n",
       "    \u001b[0;36mproduct\u001b[0m\u001b[0;36m: \u001b[0m\u001b[1;30mReturn the product of array elements over a given axis.\u001b[0m\n",
       "    \u001b[0;36mpromote_types\u001b[0m\u001b[0;36m: \u001b[0m\u001b[1;30mpromote_types(type1, type2)\u001b[0m\n",
       "    \u001b[0;36mptp\u001b[0m\u001b[0;36m: \u001b[0m\u001b[1;30mRange of values (maximum - minimum) along an axis.\u001b[0m\n",
       "    \u001b[0;36mput\u001b[0m\u001b[0;36m: \u001b[0m\u001b[1;30mReplaces specified elements of an array with given values.\u001b[0m\n",
       "    \u001b[0;36mputmask\u001b[0m\u001b[0;36m: \u001b[0m\u001b[1;30mputmask(a, mask, values)\u001b[0m\n",
       "    \u001b[0;36mpv\u001b[0m\u001b[0;36m: \u001b[0m\u001b[1;30mCompute the present value.\u001b[0m\n",
       "    \u001b[0;36mrank\u001b[0m\u001b[0;36m: \u001b[0m\u001b[1;30mReturn the number of dimensions of an array.\u001b[0m\n",
       "    \u001b[0;36mrate\u001b[0m\u001b[0;36m: \u001b[0m\u001b[1;30mCompute the rate of interest per period.\u001b[0m\n",
       "    \u001b[0;36mravel\u001b[0m\u001b[0;36m: \u001b[0m\u001b[1;30mReturn a contiguous flattened array.\u001b[0m\n",
       "    \u001b[0;36mravel_multi_index\u001b[0m\u001b[0;36m: \u001b[0m\u001b[1;30mravel_multi_index(multi_index, dims, mode='raise', order='C')\u001b[0m\n",
       "    \u001b[0;36mreal\u001b[0m\u001b[0;36m: \u001b[0m\u001b[1;30mReturn the real part of the elements of the array.\u001b[0m\n",
       "    \u001b[0;36mreal_if_close\u001b[0m\u001b[0;36m: \u001b[0m\u001b[1;30mIf complex input returns a real array if complex parts are close to zero.\u001b[0m\n",
       "    \u001b[0;36mrecfromcsv\u001b[0m\u001b[0;36m: \u001b[0m\u001b[1;30mLoad ASCII data stored in a comma-separated file.\u001b[0m\n",
       "    \u001b[0;36mrecfromtxt\u001b[0m\u001b[0;36m: \u001b[0m\u001b[1;30mLoad ASCII data from a file and return it in a record array.\u001b[0m\n",
       "    \u001b[0;36mrepeat\u001b[0m\u001b[0;36m: \u001b[0m\u001b[1;30mRepeat elements of an array.\u001b[0m\n",
       "    \u001b[0;36mrequire\u001b[0m\u001b[0;36m: \u001b[0m\u001b[1;30mReturn an ndarray of the provided type that satisfies requirements.\u001b[0m\n",
       "    \u001b[0;36mreshape\u001b[0m\u001b[0;36m: \u001b[0m\u001b[1;30mGives a new shape to an array without changing its data.\u001b[0m\n",
       "    \u001b[0;36mresize\u001b[0m\u001b[0;36m: \u001b[0m\u001b[1;30mReturn a new array with the specified shape.\u001b[0m\n",
       "    \u001b[0;36mrestoredot\u001b[0m\u001b[0;36m: \u001b[0m\u001b[1;30mRestore `dot`, `vdot`, and `innerproduct` to the default non-BLAS\u001b[0m\n",
       "    \u001b[0;36mresult_type\u001b[0m\u001b[0;36m: \u001b[0m\u001b[1;30mresult_type(*arrays_and_dtypes)\u001b[0m\n",
       "    \u001b[0;36mroll\u001b[0m\u001b[0;36m: \u001b[0m\u001b[1;30mRoll array elements along a given axis.\u001b[0m\n",
       "    \u001b[0;36mrollaxis\u001b[0m\u001b[0;36m: \u001b[0m\u001b[1;30mRoll the specified axis backwards, until it lies in a given position.\u001b[0m\n",
       "    \u001b[0;36mroots\u001b[0m\u001b[0;36m: \u001b[0m\u001b[1;30mReturn the roots of a polynomial with coefficients given in p.\u001b[0m\n",
       "    \u001b[0;36mrot90\u001b[0m\u001b[0;36m: \u001b[0m\u001b[1;30mRotate an array by 90 degrees in the counter-clockwise direction.\u001b[0m\n",
       "    \u001b[0;36mround\u001b[0m\u001b[0;36m: \u001b[0m\u001b[1;30mRound an array to the given number of decimals.\u001b[0m\n",
       "    \u001b[0;36mround_\u001b[0m\u001b[0;36m: \u001b[0m\u001b[1;30mRound an array to the given number of decimals.\u001b[0m\n",
       "    \u001b[0;36mrow_stack\u001b[0m\u001b[0;36m: \u001b[0m\u001b[1;30mStack arrays in sequence vertically (row wise).\u001b[0m\n",
       "    \u001b[0;36msafe_eval\u001b[0m\u001b[0;36m: \u001b[0m\u001b[1;30mProtected string evaluation.\u001b[0m\n",
       "    \u001b[0;36msave\u001b[0m\u001b[0;36m: \u001b[0m\u001b[1;30mSave an array to a binary file in NumPy ``.npy`` format.\u001b[0m\n",
       "    \u001b[0;36msavetxt\u001b[0m\u001b[0;36m: \u001b[0m\u001b[1;30mSave an array to a text file.\u001b[0m\n",
       "    \u001b[0;36msavez\u001b[0m\u001b[0;36m: \u001b[0m\u001b[1;30mSave several arrays into a single file in uncompressed ``.npz`` format.\u001b[0m\n",
       "    \u001b[0;36msavez_compressed\u001b[0m\u001b[0;36m: \u001b[0m\u001b[1;30mSave several arrays into a single file in compressed ``.npz`` format.\u001b[0m\n",
       "    \u001b[0;36msctype2char\u001b[0m\u001b[0;36m: \u001b[0m\u001b[1;30mReturn the string representation of a scalar dtype.\u001b[0m\n",
       "    \u001b[0;36msearchsorted\u001b[0m\u001b[0;36m: \u001b[0m\u001b[1;30mFind indices where elements should be inserted to maintain order.\u001b[0m\n",
       "    \u001b[0;36mselect\u001b[0m\u001b[0;36m: \u001b[0m\u001b[1;30mReturn an array drawn from elements in choicelist, depending on conditions.\u001b[0m\n",
       "    \u001b[0;36mset_numeric_ops\u001b[0m\u001b[0;36m: \u001b[0m\u001b[1;30mset_numeric_ops(op1=func1, op2=func2, ...)\u001b[0m\n",
       "    \u001b[0;36mset_printoptions\u001b[0m\u001b[0;36m: \u001b[0m\u001b[1;30mSet printing options.\u001b[0m\n",
       "    \u001b[0;36mset_string_function\u001b[0m\u001b[0;36m: \u001b[0m\u001b[1;30mSet a Python function to be used when pretty printing arrays.\u001b[0m\n",
       "    \u001b[0;36msetbufsize\u001b[0m\u001b[0;36m: \u001b[0m\u001b[1;30mSet the size of the buffer used in ufuncs.\u001b[0m\n",
       "    \u001b[0;36msetdiff1d\u001b[0m\u001b[0;36m: \u001b[0m\u001b[1;30mFind the set difference of two arrays.\u001b[0m\n",
       "    \u001b[0;36mseterr\u001b[0m\u001b[0;36m: \u001b[0m\u001b[1;30mSet how floating-point errors are handled.\u001b[0m\n",
       "    \u001b[0;36mseterrcall\u001b[0m\u001b[0;36m: \u001b[0m\u001b[1;30mSet the floating-point error callback function or log object.\u001b[0m\n",
       "    \u001b[0;36mseterrobj\u001b[0m\u001b[0;36m: \u001b[0m\u001b[1;30mseterrobj(errobj)\u001b[0m\n",
       "    \u001b[0;36msetxor1d\u001b[0m\u001b[0;36m: \u001b[0m\u001b[1;30mFind the set exclusive-or of two arrays.\u001b[0m\n",
       "    \u001b[0;36mshape\u001b[0m\u001b[0;36m: \u001b[0m\u001b[1;30mReturn the shape of an array.\u001b[0m\n",
       "    \u001b[0;36mshow_config\u001b[0m\u001b[0;36m: \u001b[0m\u001b[1;30m\u001b[0m\n",
       "    \u001b[0;36msinc\u001b[0m\u001b[0;36m: \u001b[0m\u001b[1;30mReturn the sinc function.\u001b[0m\n",
       "    \u001b[0;36msize\u001b[0m\u001b[0;36m: \u001b[0m\u001b[1;30mReturn the number of elements along a given axis.\u001b[0m\n",
       "    \u001b[0;36msometrue\u001b[0m\u001b[0;36m: \u001b[0m\u001b[1;30mCheck whether some values are true.\u001b[0m\n",
       "    \u001b[0;36msort\u001b[0m\u001b[0;36m: \u001b[0m\u001b[1;30mReturn a sorted copy of an array.\u001b[0m\n",
       "    \u001b[0;36msort_complex\u001b[0m\u001b[0;36m: \u001b[0m\u001b[1;30mSort a complex array using the real part first, then the imaginary part.\u001b[0m\n",
       "    \u001b[0;36msource\u001b[0m\u001b[0;36m: \u001b[0m\u001b[1;30mPrint or write to a file the source code for a Numpy object.\u001b[0m\n",
       "    \u001b[0;36msplit\u001b[0m\u001b[0;36m: \u001b[0m\u001b[1;30mSplit an array into multiple sub-arrays.\u001b[0m\n",
       "    \u001b[0;36msqueeze\u001b[0m\u001b[0;36m: \u001b[0m\u001b[1;30mRemove single-dimensional entries from the shape of an array.\u001b[0m\n",
       "    \u001b[0;36mstack\u001b[0m\u001b[0;36m: \u001b[0m\u001b[1;30mJoin a sequence of arrays along a new axis.\u001b[0m\n",
       "    \u001b[0;36mstd\u001b[0m\u001b[0;36m: \u001b[0m\u001b[1;30mCompute the standard deviation along the specified axis.\u001b[0m\n",
       "    \u001b[0;36msum\u001b[0m\u001b[0;36m: \u001b[0m\u001b[1;30mSum of array elements over a given axis.\u001b[0m\n",
       "    \u001b[0;36mswapaxes\u001b[0m\u001b[0;36m: \u001b[0m\u001b[1;30mInterchange two axes of an array.\u001b[0m\n",
       "    \u001b[0;36mtake\u001b[0m\u001b[0;36m: \u001b[0m\u001b[1;30mTake elements from an array along an axis.\u001b[0m\n",
       "    \u001b[0;36mtensordot\u001b[0m\u001b[0;36m: \u001b[0m\u001b[1;30mCompute tensor dot product along specified axes for arrays >= 1-D.\u001b[0m\n",
       "    \u001b[0;36mtest\u001b[0m\u001b[0;36m: \u001b[0m\u001b[1;30mRun tests for module using nose.\u001b[0m\n",
       "    \u001b[0;36mtile\u001b[0m\u001b[0;36m: \u001b[0m\u001b[1;30mConstruct an array by repeating A the number of times given by reps.\u001b[0m\n",
       "    \u001b[0;36mtrace\u001b[0m\u001b[0;36m: \u001b[0m\u001b[1;30mReturn the sum along diagonals of the array.\u001b[0m\n",
       "    \u001b[0;36mtranspose\u001b[0m\u001b[0;36m: \u001b[0m\u001b[1;30mPermute the dimensions of an array.\u001b[0m\n",
       "    \u001b[0;36mtrapz\u001b[0m\u001b[0;36m: \u001b[0m\u001b[1;30mIntegrate along the given axis using the composite trapezoidal rule.\u001b[0m\n",
       "    \u001b[0;36mtri\u001b[0m\u001b[0;36m: \u001b[0m\u001b[1;30mAn array with ones at and below the given diagonal and zeros elsewhere.\u001b[0m\n",
       "    \u001b[0;36mtril\u001b[0m\u001b[0;36m: \u001b[0m\u001b[1;30mLower triangle of an array.\u001b[0m\n",
       "    \u001b[0;36mtril_indices\u001b[0m\u001b[0;36m: \u001b[0m\u001b[1;30mReturn the indices for the lower-triangle of an (n, m) array.\u001b[0m\n",
       "    \u001b[0;36mtril_indices_from\u001b[0m\u001b[0;36m: \u001b[0m\u001b[1;30mReturn the indices for the lower-triangle of arr.\u001b[0m\n",
       "    \u001b[0;36mtrim_zeros\u001b[0m\u001b[0;36m: \u001b[0m\u001b[1;30mTrim the leading and/or trailing zeros from a 1-D array or sequence.\u001b[0m\n",
       "    \u001b[0;36mtriu\u001b[0m\u001b[0;36m: \u001b[0m\u001b[1;30mUpper triangle of an array.\u001b[0m\n",
       "    \u001b[0;36mtriu_indices\u001b[0m\u001b[0;36m: \u001b[0m\u001b[1;30mReturn the indices for the upper-triangle of an (n, m) array.\u001b[0m\n",
       "    \u001b[0;36mtriu_indices_from\u001b[0m\u001b[0;36m: \u001b[0m\u001b[1;30mReturn the indices for the upper-triangle of arr.\u001b[0m\n",
       "    \u001b[0;36mtypename\u001b[0m\u001b[0;36m: \u001b[0m\u001b[1;30mReturn a description for the given data type code.\u001b[0m\n",
       "    \u001b[0;36munion1d\u001b[0m\u001b[0;36m: \u001b[0m\u001b[1;30mFind the union of two arrays.\u001b[0m\n",
       "    \u001b[0;36munique\u001b[0m\u001b[0;36m: \u001b[0m\u001b[1;30mFind the unique elements of an array.\u001b[0m\n",
       "    \u001b[0;36munpackbits\u001b[0m\u001b[0;36m: \u001b[0m\u001b[1;30munpackbits(myarray, axis=None)\u001b[0m\n",
       "    \u001b[0;36munravel_index\u001b[0m\u001b[0;36m: \u001b[0m\u001b[1;30munravel_index(indices, dims, order='C')\u001b[0m\n",
       "    \u001b[0;36munwrap\u001b[0m\u001b[0;36m: \u001b[0m\u001b[1;30mUnwrap by changing deltas between values to 2*pi complement.\u001b[0m\n",
       "    \u001b[0;36mvander\u001b[0m\u001b[0;36m: \u001b[0m\u001b[1;30mGenerate a Vandermonde matrix.\u001b[0m\n",
       "    \u001b[0;36mvar\u001b[0m\u001b[0;36m: \u001b[0m\u001b[1;30mCompute the variance along the specified axis.\u001b[0m\n",
       "    \u001b[0;36mvdot\u001b[0m\u001b[0;36m: \u001b[0m\u001b[1;30mvdot(a, b)\u001b[0m\n",
       "    \u001b[0;36mvsplit\u001b[0m\u001b[0;36m: \u001b[0m\u001b[1;30mSplit an array into multiple sub-arrays vertically (row-wise).\u001b[0m\n",
       "    \u001b[0;36mvstack\u001b[0m\u001b[0;36m: \u001b[0m\u001b[1;30mStack arrays in sequence vertically (row wise).\u001b[0m\n",
       "    \u001b[0;36mwhere\u001b[0m\u001b[0;36m: \u001b[0m\u001b[1;30mwhere(condition, [x, y])\u001b[0m\n",
       "    \u001b[0;36mwho\u001b[0m\u001b[0;36m: \u001b[0m\u001b[1;30mPrint the Numpy arrays in the given dictionary.\u001b[0m\n",
       "    \u001b[0;36mzeros\u001b[0m\u001b[0;36m: \u001b[0m\u001b[1;30mzeros(shape, dtype=float, order='C')\u001b[0m\n",
       "    \u001b[0;36mzeros_like\u001b[0m\u001b[0;36m: \u001b[0m\u001b[1;30mReturn an array of zeros with the same shape and type as a given array.\u001b[0m\n",
       "\u001b[0;33mexception:\u001b[0m\n",
       "    \u001b[0;36mComplexWarning\u001b[0m\u001b[0;36m: \u001b[0m\u001b[1;30mThe warning raised when casting a complex dtype to a real dtype.\u001b[0m\n",
       "    \u001b[0;36mModuleDeprecationWarning\u001b[0m\u001b[0;36m: \u001b[0m\u001b[1;30mModule deprecation warning.\u001b[0m\n",
       "    \u001b[0;36mRankWarning\u001b[0m\u001b[0;36m: \u001b[0m\u001b[1;30mIssued by `polyfit` when the Vandermonde matrix is rank deficient.\u001b[0m\n",
       "    \u001b[0;36mVisibleDeprecationWarning\u001b[0m\u001b[0;36m: \u001b[0m\u001b[1;30mVisible deprecation warning.\u001b[0m"
      ]
     },
     "execution_count": 1,
     "metadata": {},
     "output_type": "execute_result"
    }
   ],
   "source": [
    "import numpy as np\n",
    "import pdir\n",
    "pdir(np)"
   ]
  },
  {
   "cell_type": "code",
   "execution_count": 3,
   "metadata": {
    "collapsed": false
   },
   "outputs": [
    {
     "name": "stdout",
     "output_type": "stream",
     "text": [
      "a1: [0 1 2 3 4] <type 'numpy.ndarray'>\n",
      "a2: [0 1 2 3 4] <type 'numpy.ndarray'>\n"
     ]
    }
   ],
   "source": [
    "import numpy as np\n",
    "a1 = np.array([0, 1, 2, 3, 4])#将列表转换为数组,可以传递任何序列（类数组），而不仅仅是常见的列表（list）数据类型。\n",
    "a2 = np.array((0, 1, 2, 3, 4))#将元组转换为数组\n",
    "print 'a1:',a1,type(a1)\n",
    "print 'a2:',a2,type(a2)"
   ]
  },
  {
   "cell_type": "code",
   "execution_count": 4,
   "metadata": {
    "collapsed": false
   },
   "outputs": [
    {
     "name": "stdout",
     "output_type": "stream",
     "text": [
      "b: [0 1 2 3 4] <type 'numpy.ndarray'>\n"
     ]
    }
   ],
   "source": [
    "b = np.arange(5) #python内置函数range()的数组版，返回的是numpy ndarrays数组对象，而不是列表\n",
    "print 'b:',b,type(b)"
   ]
  },
  {
   "cell_type": "code",
   "execution_count": 5,
   "metadata": {
    "collapsed": false
   },
   "outputs": [
    {
     "name": "stdout",
     "output_type": "stream",
     "text": [
      "c1 [[ 1.  1.  1.  1.]\n",
      " [ 1.  1.  1.  1.]\n",
      " [ 1.  1.  1.  1.]] <type 'numpy.ndarray'>\n",
      "c2 [1 1 1 1 1] <type 'numpy.ndarray'>\n"
     ]
    }
   ],
   "source": [
    "c1 = np.ones((3,4))#根据元组指定形状，返回全1数组\n",
    "c2 = np.ones_like(a1)#以另一个数组为参数，以其形状和dtype创建全1数组\n",
    "print 'c1',c1,type(c1)\n",
    "print 'c2',c2,type(c2)"
   ]
  },
  {
   "cell_type": "code",
   "execution_count": 6,
   "metadata": {
    "collapsed": false
   },
   "outputs": [
    {
     "name": "stdout",
     "output_type": "stream",
     "text": [
      "d1 [[ 0.  0.  0.  0.  0.  0.]\n",
      " [ 0.  0.  0.  0.  0.  0.]\n",
      " [ 0.  0.  0.  0.  0.  0.]\n",
      " [ 0.  0.  0.  0.  0.  0.]\n",
      " [ 0.  0.  0.  0.  0.  0.]] <type 'numpy.ndarray'>\n",
      "d2 [[ 0.  0.  0.  0.]\n",
      " [ 0.  0.  0.  0.]\n",
      " [ 0.  0.  0.  0.]] <type 'numpy.ndarray'>\n"
     ]
    }
   ],
   "source": [
    "d1 = np.zeros((5,6))#根据元组指定形状，返回全0数组\n",
    "d2 = np.zeros_like(c1)#以另一个数组为参数，以其形状和dtype创建全0数组\n",
    "print 'd1',d1,type(d1)\n",
    "print 'd2',d2,type(d2)"
   ]
  },
  {
   "cell_type": "code",
   "execution_count": 7,
   "metadata": {
    "collapsed": false
   },
   "outputs": [
    {
     "name": "stdout",
     "output_type": "stream",
     "text": [
      "e1 [[ 0.  0.  0.]\n",
      " [ 0.  0.  0.]] <type 'numpy.ndarray'>\n",
      "e2 [[ 0.  0.  0.  0.  0.  0.]\n",
      " [ 0.  0.  0.  0.  0.  0.]\n",
      " [ 0.  0.  0.  0.  0.  0.]\n",
      " [ 0.  0.  0.  0.  0.  0.]\n",
      " [ 0.  0.  0.  0.  0.  0.]] <type 'numpy.ndarray'>\n"
     ]
    }
   ],
   "source": [
    "e1 = np.empty((2,3))#创建新数组，只分配内存空间但不填充任何值,不是返回0，而是未初始化的垃圾值\n",
    "e2 = np.empty_like(d1)#\n",
    "print 'e1',e1,type(e1)\n",
    "print 'e2',e2,type(e2)"
   ]
  },
  {
   "cell_type": "code",
   "execution_count": 9,
   "metadata": {
    "collapsed": false
   },
   "outputs": [
    {
     "name": "stdout",
     "output_type": "stream",
     "text": [
      "f1 [[ 1.  0.  0.]\n",
      " [ 0.  1.  0.]\n",
      " [ 0.  0.  1.]] <type 'numpy.ndarray'>\n",
      "f2 [[ 1.  0.  0.  0.]\n",
      " [ 0.  1.  0.  0.]\n",
      " [ 0.  0.  1.  0.]\n",
      " [ 0.  0.  0.  1.]] <type 'numpy.ndarray'>\n"
     ]
    }
   ],
   "source": [
    "f1 = np.eye(3)#创建一个正方的N*N单位矩阵对角线为1，其余为0（）\n",
    "f2 = np.identity(4)#Return the identity array.\n",
    "print 'f1',f1,type(f1)\n",
    "print 'f2',f2,type(f2)"
   ]
  },
  {
   "cell_type": "code",
   "execution_count": 10,
   "metadata": {
    "collapsed": false
   },
   "outputs": [
    {
     "name": "stdout",
     "output_type": "stream",
     "text": [
      "g [  0.    2.5   5.    7.5  10. ] <type 'numpy.ndarray'>\n"
     ]
    }
   ],
   "source": [
    "g = np.linspace(0, 10, 5) #linspace: Return evenly spaced numbers over a specified interval.\n",
    "print 'g',g,type(g)"
   ]
  },
  {
   "cell_type": "markdown",
   "metadata": {},
   "source": [
    "## 数组属性"
   ]
  },
  {
   "cell_type": "code",
   "execution_count": 11,
   "metadata": {
    "collapsed": false
   },
   "outputs": [
    {
     "name": "stdout",
     "output_type": "stream",
     "text": [
      "<type 'numpy.ndarray'>\n",
      "int32\n",
      "25\n",
      "(5L, 5L)\n",
      "4\n",
      "2\n"
     ]
    }
   ],
   "source": [
    "a = np.array([[11, 12, 13, 14, 15],\n",
    "              [16, 17, 18, 19, 20],\n",
    "              [21, 22, 23, 24, 25],\n",
    "              [26, 27, 28 ,29, 30],\n",
    "              [31, 32, 33, 34, 35]])\n",
    "print(type(a)) #<type 'numpy.ndarray'>\n",
    "print(a.dtype) #int32\n",
    "print(a.size) #25 Return the number of elements along a given axis.\n",
    "print(a.shape) #(5L, 5L),Return the shape of an array\n",
    "print(a.itemsize) #4,itemsize输出array元素的字节数,本例32/8=4\n",
    "print(a.ndim) #2,Return the number of dimensions of an array"
   ]
  },
  {
   "cell_type": "markdown",
   "metadata": {},
   "source": [
    "# 使用数组\n",
    "数组可不必编写循环即可实现循环-数组的矢量化\n",
    "\n",
    "大小相等的数组之间的任何数学运算都会应用到元素级\n",
    "\n",
    "大小不相等的数组之间的运算-叫做广播"
   ]
  },
  {
   "cell_type": "markdown",
   "metadata": {},
   "source": [
    "## 基本操作符-数组四则运算 +、- 、/ "
   ]
  },
  {
   "cell_type": "code",
   "execution_count": 12,
   "metadata": {
    "collapsed": false
   },
   "outputs": [
    {
     "name": "stdout",
     "output_type": "stream",
     "text": [
      "a: [ 0  1  2  3  4  5  6  7  8  9 10 11 12 13 14 15 16 17 18 19 20 21 22 23 24] <type 'numpy.ndarray'>\n",
      "a: [[ 0  1  2  3  4]\n",
      " [ 5  6  7  8  9]\n",
      " [10 11 12 13 14]\n",
      " [15 16 17 18 19]\n",
      " [20 21 22 23 24]] <type 'numpy.ndarray'>\n"
     ]
    }
   ],
   "source": [
    "a = np.arange(25)\n",
    "print 'a:',a,type(a)\n",
    "a = a.reshape((5, 5))#Gives a new  shape to an array without changing its data\n",
    "print 'a:',a,type(a)"
   ]
  },
  {
   "cell_type": "code",
   "execution_count": 13,
   "metadata": {
    "collapsed": false
   },
   "outputs": [
    {
     "name": "stdout",
     "output_type": "stream",
     "text": [
      "(25L,)\n",
      "b: [[10 62  1 14  2]\n",
      " [56 79  2  1 45]\n",
      " [ 4 92  5 55 63]\n",
      " [43 35  6 53 24]\n",
      " [56  3 56 44 78]] <type 'numpy.ndarray'>\n"
     ]
    }
   ],
   "source": [
    "b = np.array([10, 62, 1, 14, 2, 56, 79, 2, 1, 45,\n",
    "              4, 92, 5, 55, 63, 43, 35, 6, 53, 24,\n",
    "              56, 3, 56, 44, 78])\n",
    "print b.shape\n",
    "b = b.reshape((5,5))\n",
    "print 'b:',b,type(b)"
   ]
  },
  {
   "cell_type": "code",
   "execution_count": 14,
   "metadata": {
    "collapsed": false
   },
   "outputs": [
    {
     "name": "stdout",
     "output_type": "stream",
     "text": [
      "[[ 10  63   3  17   6]\n",
      " [ 61  85   9   9  54]\n",
      " [ 14 103  17  68  77]\n",
      " [ 58  51  23  71  43]\n",
      " [ 76  24  78  67 102]]\n"
     ]
    }
   ],
   "source": [
    "print(a + b)#逐元素运算,分别对每一个元素进行配对，然后对它们进行运算"
   ]
  },
  {
   "cell_type": "code",
   "execution_count": 15,
   "metadata": {
    "collapsed": false
   },
   "outputs": [
    {
     "name": "stdout",
     "output_type": "stream",
     "text": [
      "[[-10 -61   1 -11   2]\n",
      " [-51 -73   5   7 -36]\n",
      " [  6 -81   7 -42 -49]\n",
      " [-28 -19  11 -35  -5]\n",
      " [-36  18 -34 -21 -54]]\n"
     ]
    }
   ],
   "source": [
    "print(a - b)"
   ]
  },
  {
   "cell_type": "code",
   "execution_count": 16,
   "metadata": {
    "collapsed": false
   },
   "outputs": [
    {
     "name": "stdout",
     "output_type": "stream",
     "text": [
      "[[   0   62    2   42    8]\n",
      " [ 280  474   14    8  405]\n",
      " [  40 1012   60  715  882]\n",
      " [ 645  560  102  954  456]\n",
      " [1120   63 1232 1012 1872]]\n"
     ]
    }
   ],
   "source": [
    "print(a * b)"
   ]
  },
  {
   "cell_type": "code",
   "execution_count": 17,
   "metadata": {
    "collapsed": false
   },
   "outputs": [
    {
     "name": "stdout",
     "output_type": "stream",
     "text": [
      "[[0 0 2 0 2]\n",
      " [0 0 3 8 0]\n",
      " [2 0 2 0 0]\n",
      " [0 0 2 0 0]\n",
      " [0 7 0 0 0]]\n"
     ]
    }
   ],
   "source": [
    "print(a / b)"
   ]
  },
  {
   "cell_type": "code",
   "execution_count": 18,
   "metadata": {
    "collapsed": false
   },
   "outputs": [
    {
     "name": "stdout",
     "output_type": "stream",
     "text": [
      "[[  0   1   4   9  16]\n",
      " [ 25  36  49  64  81]\n",
      " [100 121 144 169 196]\n",
      " [225 256 289 324 361]\n",
      " [400 441 484 529 576]]\n"
     ]
    }
   ],
   "source": [
    "print(a ** 2)"
   ]
  },
  {
   "cell_type": "code",
   "execution_count": 19,
   "metadata": {
    "collapsed": false
   },
   "outputs": [
    {
     "name": "stdout",
     "output_type": "stream",
     "text": [
      "[[ True  True False  True False]\n",
      " [ True  True False False  True]\n",
      " [False  True False  True  True]\n",
      " [ True  True False  True  True]\n",
      " [ True False  True  True  True]]\n"
     ]
    }
   ],
   "source": [
    "print(a < b) #逻辑运算符比如 “<” 和 “>” 的时候，返回的将是一个布尔型数组"
   ]
  },
  {
   "cell_type": "code",
   "execution_count": 20,
   "metadata": {
    "collapsed": false
   },
   "outputs": [
    {
     "name": "stdout",
     "output_type": "stream",
     "text": [
      "[[False False  True False  True]\n",
      " [False False  True  True False]\n",
      " [ True False  True False False]\n",
      " [False False  True False False]\n",
      " [False  True False False False]]\n"
     ]
    }
   ],
   "source": [
    "print(a > b)"
   ]
  },
  {
   "cell_type": "code",
   "execution_count": 21,
   "metadata": {
    "collapsed": false
   },
   "outputs": [
    {
     "name": "stdout",
     "output_type": "stream",
     "text": [
      "[[ 417  380  254  446  555]\n",
      " [1262 1735  604 1281 1615]\n",
      " [2107 3090  954 2116 2675]\n",
      " [2952 4445 1304 2951 3735]\n",
      " [3797 5800 1654 3786 4795]]\n"
     ]
    }
   ],
   "source": [
    "print(a.dot(b))#dot() 函数计算两个数组的点积。它返回的是一个标量（只有大小没有方向的一个值）而不是数组"
   ]
  },
  {
   "cell_type": "markdown",
   "metadata": {},
   "source": [
    "## 数组特殊运算符"
   ]
  },
  {
   "cell_type": "code",
   "execution_count": 22,
   "metadata": {
    "collapsed": false
   },
   "outputs": [
    {
     "name": "stdout",
     "output_type": "stream",
     "text": [
      "a: [0 1 2 3 4 5 6 7 8 9]\n",
      "45\n",
      "0\n",
      "9\n",
      "[ 0  1  3  6 10 15 21 28 36 45]\n"
     ]
    }
   ],
   "source": [
    "# sum, min, max, cumsum\n",
    "a = np.arange(10)\n",
    "print 'a:',a\n",
    "print(a.sum()) # >>>45\n",
    "print(a.min()) # >>>0\n",
    "print(a.max()) # >>>9\n",
    "print(a.cumsum()) # >>>[ 0  1  3  6 10 15 21 28 36 45]"
   ]
  },
  {
   "cell_type": "markdown",
   "metadata": {},
   "source": [
    "# 索引"
   ]
  },
  {
   "cell_type": "markdown",
   "metadata": {},
   "source": [
    "## 基本索引-整数索引"
   ]
  },
  {
   "cell_type": "code",
   "execution_count": 23,
   "metadata": {
    "collapsed": false
   },
   "outputs": [
    {
     "name": "stdout",
     "output_type": "stream",
     "text": [
      "a: [[11 12 13 14 15]\n",
      " [16 17 18 19 20]\n",
      " [21 22 23 24 25]\n",
      " [26 27 28 29 30]\n",
      " [31 32 33 34 35]] <type 'numpy.ndarray'>\n",
      "19\n",
      "19\n",
      "[21 22 23 24 25]\n"
     ]
    }
   ],
   "source": [
    "a = np.array([[11, 12, 13, 14, 15],\n",
    "              [16, 17, 18, 19, 20],\n",
    "              [21, 22, 23, 24, 25],\n",
    "              [26, 27, 28 ,29, 30],\n",
    "              [31, 32, 33, 34, 35]])\n",
    "print 'a:',a,type(a)\n",
    "# 访问元素：二者功能相同\n",
    "print a[1][3]\n",
    "print a[1,3]#逗号隔开的索引列表来选取单个元素\n",
    "# 多维数组中，如果省略了后面的索引，则返回对象是一个维度低一点的数组。\n",
    "print a[2]"
   ]
  },
  {
   "cell_type": "markdown",
   "metadata": {},
   "source": [
    "## 数组切片\n",
    "数组切片与列表切片重要区别在于。数组切片是原数组的视图，这意味着数据不会被复制，视图上的任何修改都会直接反映到源数组上"
   ]
  },
  {
   "cell_type": "code",
   "execution_count": 24,
   "metadata": {
    "collapsed": false
   },
   "outputs": [
    {
     "name": "stdout",
     "output_type": "stream",
     "text": [
      "a: [[11 12 13 14 15]\n",
      " [16 17 18 19 20]\n",
      " [21 22 23 24 25]\n",
      " [26 27 28 29 30]\n",
      " [31 32 33 34 35]]\n",
      "[[11 13 15]\n",
      " [21 23 25]\n",
      " [31 33 35]]\n",
      "[[11 12]\n",
      " [16 17]\n",
      " [21 22]]\n"
     ]
    }
   ],
   "source": [
    "a = np.array([[11, 12, 13, 14, 15],\n",
    "              [16, 17, 18, 19, 20],\n",
    "              [21, 22, 23, 24, 25],\n",
    "              [26, 27, 28 ,29, 30],\n",
    "              [31, 32, 33, 34, 35]])\n",
    "print 'a:',a\n",
    "# 单纯切片只能得到相同维度的数组视图，\n",
    "print(a[::2,::2])\n",
    "# [[11 13 15]\n",
    "# [21 23 25]\n",
    "# [31 33 35]]\n",
    "print(a[:3,:2])"
   ]
  },
  {
   "cell_type": "code",
   "execution_count": 25,
   "metadata": {
    "collapsed": false
   },
   "outputs": [
    {
     "name": "stdout",
     "output_type": "stream",
     "text": [
      "[12 13 14]\n",
      "[16 21 26]\n",
      "[12 17 22 27 32]\n"
     ]
    }
   ],
   "source": [
    "#切片和整数索引混合使用，可以得到低维度的切片\n",
    "print(a[0, 1:4]) # >>>[12 13 14]\n",
    "print(a[1:4, 0]) # >>>[16 21 26]\n",
    "print(a[:, 1]) # >>>[12 17 22 27 32]"
   ]
  },
  {
   "cell_type": "code",
   "execution_count": 26,
   "metadata": {
    "collapsed": false
   },
   "outputs": [
    {
     "name": "stdout",
     "output_type": "stream",
     "text": [
      "a_slice: [11 16 21 26 31]\n",
      "a: [[66 12 13 14 15]\n",
      " [66 17 18 19 20]\n",
      " [66 22 23 24 25]\n",
      " [66 27 28 29 30]\n",
      " [66 32 33 34 35]]\n"
     ]
    }
   ],
   "source": [
    "a_slice = a[:,0]#数组切片是原数组的视图，这意味着数据不会被复制，视图上的任何修改都会直接反映到源数组上\n",
    "print 'a_slice:',a_slice\n",
    "a_slice[:] = 66\n",
    "print 'a:',a"
   ]
  },
  {
   "cell_type": "code",
   "execution_count": 27,
   "metadata": {
    "collapsed": false
   },
   "outputs": [
    {
     "name": "stdout",
     "output_type": "stream",
     "text": [
      "a_slice_copy: [66 66 66 66 66]\n",
      "a_slice_copy: [111 111 111 111 111]\n",
      "a: [[66 12 13 14 15]\n",
      " [66 17 18 19 20]\n",
      " [66 22 23 24 25]\n",
      " [66 27 28 29 30]\n",
      " [66 32 33 34 35]]\n"
     ]
    }
   ],
   "source": [
    "#若想要数组切片的一份副本而非视图，则需要显式的进行复制操作\n",
    "a_slice_copy = a[:,0].copy()\n",
    "print \"a_slice_copy:\",a_slice_copy\n",
    "a_slice_copy[:] = 111\n",
    "print \"a_slice_copy:\",a_slice_copy\n",
    "print 'a:',a"
   ]
  },
  {
   "cell_type": "markdown",
   "metadata": {},
   "source": [
    "## 布尔型索引\n",
    "布尔型数组可用于数组索引，通过布尔型数组获取到数组中的数据，将总是创建副本\n",
    "==，！=，>,<"
   ]
  },
  {
   "cell_type": "code",
   "execution_count": 28,
   "metadata": {
    "collapsed": false
   },
   "outputs": [
    {
     "data": {
      "text/plain": [
       "array([ True, False, False,  True, False, False, False], dtype=bool)"
      ]
     },
     "execution_count": 28,
     "metadata": {},
     "output_type": "execute_result"
    }
   ],
   "source": [
    "#数组的比较运算也是矢量化的，会产生一个布尔型数组\n",
    "names = np.array(['bob','joe','will','bob','will','joe','joe'])\n",
    "names.shape\n",
    "names == 'bob'"
   ]
  },
  {
   "cell_type": "code",
   "execution_count": 29,
   "metadata": {
    "collapsed": false
   },
   "outputs": [
    {
     "data": {
      "text/plain": [
       "array([[ 0.29218127,  0.25302696, -0.08422235, -1.62325209],\n",
       "       [ 1.17388603, -0.325275  , -0.35192868, -0.81193527],\n",
       "       [ 0.95988257, -0.01753765,  0.33314724, -3.2986523 ],\n",
       "       [ 0.53516408,  0.91885145,  0.45288096,  0.88596045],\n",
       "       [ 0.02117547,  0.82268696,  0.14904166, -0.78678232],\n",
       "       [ 0.56103622, -1.26473559,  1.39167223, -0.3847038 ],\n",
       "       [ 0.30724829,  0.30920799,  0.28493466,  1.23220039]])"
      ]
     },
     "execution_count": 29,
     "metadata": {},
     "output_type": "execute_result"
    }
   ],
   "source": [
    "data = np.random.randn(7,4)\n",
    "data"
   ]
  },
  {
   "cell_type": "code",
   "execution_count": 34,
   "metadata": {
    "collapsed": false
   },
   "outputs": [
    {
     "name": "stdout",
     "output_type": "stream",
     "text": [
      "[[   0.29218127  200.          200.            7.        ]\n",
      " [   0.53516408  200.          200.            0.88596045]]\n",
      "['bob' 'joe' 'will' 'bob']\n",
      "[[   0.29218127    7.        ]\n",
      " [ 100.          100.        ]\n",
      " [ 100.          100.        ]\n",
      " [   0.53516408    0.88596045]\n",
      " [ 100.          100.        ]\n",
      " [ 100.          100.        ]\n",
      " [ 100.          100.        ]]\n"
     ]
    }
   ],
   "source": [
    "#布尔型数组可用于数组索引，布尔型数组的长度必须跟被索引的轴长度一致，\n",
    "#例如names == 'bob'长度为7；data按行索引\n",
    "#names2 == 'bob'长度为4；data按列索引\n",
    "print data[names == 'bob']\n",
    "\n",
    "names2 = names[:4].copy()\n",
    "print(names2)\n",
    "print data[:,names2=='bob']"
   ]
  },
  {
   "cell_type": "code",
   "execution_count": 35,
   "metadata": {
    "collapsed": false
   },
   "outputs": [
    {
     "name": "stdout",
     "output_type": "stream",
     "text": [
      "[[ 200.  200.]\n",
      " [ 200.  200.]]\n",
      "[ 200.  200.]\n"
     ]
    }
   ],
   "source": [
    "# 布尔型数组还可以与切片、整数索引混合使用\n",
    "print data[names == 'bob',1:3]\n",
    "print data[names == 'bob',1]"
   ]
  },
  {
   "cell_type": "code",
   "execution_count": 36,
   "metadata": {
    "collapsed": false
   },
   "outputs": [
    {
     "name": "stdout",
     "output_type": "stream",
     "text": [
      "[[ 100.  200.  200.  100.]\n",
      " [ 100.  200.  200.  100.]\n",
      " [ 100.  200.  200.  100.]\n",
      " [ 100.  200.  200.  100.]\n",
      " [ 100.  200.  200.  100.]]\n",
      "[[   0.29218127  200.          200.            7.        ]\n",
      " [ 100.          200.          200.          100.        ]\n",
      " [   0.53516408  200.          200.            0.88596045]\n",
      " [ 100.          200.          200.          100.        ]]\n"
     ]
    }
   ],
   "source": [
    "# 注意：python关键字and or在布尔型数组中无效\n",
    "#利用逻辑关系构造复杂布尔型数组,|或，&和，！非\n",
    "mask = (names !='bob')\n",
    "print data[mask]\n",
    "mask = (names =='bob') | (names == 'will')\n",
    "print data[mask]"
   ]
  },
  {
   "cell_type": "code",
   "execution_count": 37,
   "metadata": {
    "collapsed": false
   },
   "outputs": [
    {
     "name": "stdout",
     "output_type": "stream",
     "text": [
      "[[   0.29218127  200.          200.            7.        ]\n",
      " [ 100.          200.          200.          100.        ]\n",
      " [ 100.          200.          200.          100.        ]\n",
      " [   0.53516408  200.          200.            0.88596045]\n",
      " [ 100.          200.          200.          100.        ]\n",
      " [ 100.          200.          200.          100.        ]\n",
      " [ 100.          200.          200.          100.        ]]\n",
      "[[   0.29218127  200.          200.            7.        ]\n",
      " [ 100.          100.          100.          100.        ]\n",
      " [ 100.          100.          100.          100.        ]\n",
      " [   0.53516408  200.          200.            0.88596045]\n",
      " [ 100.          100.          100.          100.        ]\n",
      " [ 100.          100.          100.          100.        ]\n",
      " [ 100.          100.          100.          100.        ]]\n",
      "[[   0.29218127  200.          200.            7.        ]\n",
      " [ 100.          200.          200.          100.        ]\n",
      " [ 100.          200.          200.          100.        ]\n",
      " [   0.53516408  200.          200.            0.88596045]\n",
      " [ 100.          200.          200.          100.        ]\n",
      " [ 100.          200.          200.          100.        ]\n",
      " [ 100.          200.          200.          100.        ]]\n"
     ]
    }
   ],
   "source": [
    "# 通过布尔型数组设置值\n",
    "data[data < 0] = 7\n",
    "print data\n",
    "#通过布尔型数组设置整行/整列\n",
    "data[names !='bob'] = 100\n",
    "print data\n",
    "\n",
    "data[:,names2 !='bob'] = 200\n",
    "print data"
   ]
  },
  {
   "cell_type": "markdown",
   "metadata": {},
   "source": [
    "## 花式索引\n",
    "花式索引是指利用整数数组进行索引，可以指定顺序选取、\n",
    "\n",
    "花式索引不同于切片，花式索引总是将数据复制到新数组中"
   ]
  },
  {
   "cell_type": "code",
   "execution_count": null,
   "metadata": {
    "collapsed": true
   },
   "outputs": [],
   "source": [
    "arr = np.empty((8,4))\n",
    "for i in range(8):\n",
    "    arr[i] = i\n",
    "print arr"
   ]
  },
  {
   "cell_type": "code",
   "execution_count": null,
   "metadata": {
    "collapsed": true
   },
   "outputs": [],
   "source": [
    "#可以指定顺序选取行子集，只需传入一个用于指定顺序的整数列表或数组即可\n",
    "print arr[[4,3,0,6]]\n",
    "#使用负数索引将从末尾开始选取行\n",
    "print arr[[-1,-2]]\n",
    "#可以同时使用正数和负数进行花式索引\n",
    "print arr[[1,2,-1,-2]]"
   ]
  },
  {
   "cell_type": "code",
   "execution_count": 75,
   "metadata": {
    "collapsed": false
   },
   "outputs": [
    {
     "name": "stdout",
     "output_type": "stream",
     "text": [
      "[[ 0  1  2  3]\n",
      " [ 4  5  6  7]\n",
      " [ 8  9 10 11]\n",
      " [12 13 14 15]\n",
      " [16 17 18 19]\n",
      " [20 21 22 23]\n",
      " [24 25 26 27]\n",
      " [28 29 30 31]]\n",
      "[17 14  3 24]\n"
     ]
    }
   ],
   "source": [
    "#使用多个索引数组，返回的是一个一维数组\n",
    "arr = np.arange(32).reshape(8,4)\n",
    "print arr\n",
    "print arr[[4,3,0,6],[1,2,3,0]]\n",
    "#获取的元素是（4,1）（3,2）（0,3）（6,0）"
   ]
  },
  {
   "cell_type": "code",
   "execution_count": 76,
   "metadata": {
    "collapsed": false
   },
   "outputs": [
    {
     "name": "stdout",
     "output_type": "stream",
     "text": [
      "[[17 18 19 16]\n",
      " [13 14 15 12]\n",
      " [ 1  2  3  0]\n",
      " [25 26 27 24]]\n",
      "[[17 18 19 16]\n",
      " [13 14 15 12]\n",
      " [ 1  2  3  0]\n",
      " [25 26 27 24]]\n"
     ]
    }
   ],
   "source": [
    "#要想得到矩阵的行列子集（矩形区域）\n",
    "#方法1\n",
    "print arr[[4,3,0,6]][:,[1,2,3,0]]\n",
    "#方法2 np.ix_()用两个一维整数数组转换为一个用于选取方形局域的索引器\n",
    "print arr[np.ix_([4,3,0,6],[1,2,3,0])]"
   ]
  },
  {
   "cell_type": "markdown",
   "metadata": {},
   "source": [
    "## 数组转置和轴对换"
   ]
  },
  {
   "cell_type": "code",
   "execution_count": 82,
   "metadata": {
    "collapsed": false
   },
   "outputs": [
    {
     "name": "stdout",
     "output_type": "stream",
     "text": [
      "[[ 0  1  2  3  4]\n",
      " [ 5  6  7  8  9]\n",
      " [10 11 12 13 14]]\n",
      "[[ 0  5 10]\n",
      " [ 1  6 11]\n",
      " [ 2  7 12]\n",
      " [ 3  8 13]\n",
      " [ 4  9 14]]\n",
      "[[ 0  5 10]\n",
      " [ 1  6 11]\n",
      " [ 2  7 12]\n",
      " [ 3  8 13]\n",
      " [ 4  9 14]]\n",
      "[[[ 0  1  2  3]\n",
      "  [ 4  5  6  7]]\n",
      "\n",
      " [[ 8  9 10 11]\n",
      "  [12 13 14 15]]]\n",
      "[[[ 0  8]\n",
      "  [ 4 12]]\n",
      "\n",
      " [[ 1  9]\n",
      "  [ 5 13]]\n",
      "\n",
      " [[ 2 10]\n",
      "  [ 6 14]]\n",
      "\n",
      " [[ 3 11]\n",
      "  [ 7 15]]]\n",
      "[[[ 0  1  2  3]\n",
      "  [ 8  9 10 11]]\n",
      "\n",
      " [[ 4  5  6  7]\n",
      "  [12 13 14 15]]]\n"
     ]
    }
   ],
   "source": [
    "# 转置（transpose）返回源数据的视图（不会进行任何复制操作），\n",
    "# 两种办法实现转置：\n",
    "# arr.transpose()方法\n",
    "# arr.T属性\n",
    "arr = np.arange(15).reshape(3,5)\n",
    "print arr\n",
    "print arr.T\n",
    "print arr.transpose()\n",
    "#高维数组（>=3维）需要参数：轴编号组成的元组才能对轴进行转置\n",
    "arr = np.arange(16).reshape(2,2,4)\n",
    "print arr\n",
    "print arr.T\n",
    "print arr.transpose((1,0,2))"
   ]
  },
  {
   "cell_type": "markdown",
   "metadata": {},
   "source": [
    "## 通用函数-快速的元素级数组函数\n",
    "对数组中数据进行元素级运算的函数"
   ]
  },
  {
   "cell_type": "code",
   "execution_count": 87,
   "metadata": {
    "collapsed": false
   },
   "outputs": [
    {
     "name": "stdout",
     "output_type": "stream",
     "text": [
      "[0 1 2 3 4 5 6 7 8 9]\n",
      "[ 0.          1.          1.41421356  1.73205081  2.          2.23606798\n",
      "  2.44948974  2.64575131  2.82842712  3.        ]\n",
      "[  1.00000000e+00   2.71828183e+00   7.38905610e+00   2.00855369e+01\n",
      "   5.45981500e+01   1.48413159e+02   4.03428793e+02   1.09663316e+03\n",
      "   2.98095799e+03   8.10308393e+03]\n",
      "[ 0  1  4  9 16 25 36 49 64 81]\n"
     ]
    }
   ],
   "source": [
    "#一元通用函数，接收一个数组\n",
    "arr = np.arange(10)\n",
    "print arr\n",
    "print np.sqrt(arr)#开方\n",
    "print np.exp(arr)#指数\n",
    "print np.square(arr)#平方"
   ]
  },
  {
   "cell_type": "code",
   "execution_count": null,
   "metadata": {
    "collapsed": true
   },
   "outputs": [],
   "source": [
    "#二元通用函数，接收2个数组\n",
    "x = np.random.randn(5)\n",
    "print x\n",
    "y = np.random.randn(5)\n",
    "print y\n",
    "print np.add(x,y)#加法\n",
    "print np.subtract(x,y)#减法\n",
    "print np.greater(x,y)#元素比较"
   ]
  },
  {
   "cell_type": "markdown",
   "metadata": {},
   "source": [
    "## 将条件逻辑表述为数组运算\n",
    "numpy.where()函数是三元表达式 x if condition else y的矢量化版本"
   ]
  },
  {
   "cell_type": "code",
   "execution_count": 93,
   "metadata": {
    "collapsed": false
   },
   "outputs": [
    {
     "name": "stdout",
     "output_type": "stream",
     "text": [
      "[1.1000000000000001, 2.2000000000000002, 1.3, 1.3999999999999999, 2.5]\n"
     ]
    }
   ],
   "source": [
    "xarr = np.array([1.1,1.2,1.3,1.4,1.5])\n",
    "yarr = np.array([2.1,2.2,2.3,2.4,2.5])\n",
    "condition = np.array([True,False,True,True,False])\n",
    "# 列表生成式\n",
    "print [(x if c else y)for x,y,c in zip(xarr,yarr,condition)]\n",
    "#存在问题\n",
    "#速度不是很快，原因：纯python实现\n",
    "#无法用于多维数组"
   ]
  },
  {
   "cell_type": "code",
   "execution_count": 97,
   "metadata": {
    "collapsed": false
   },
   "outputs": [
    {
     "name": "stdout",
     "output_type": "stream",
     "text": [
      "[ 1.1  2.2  1.3  1.4  2.5]\n",
      "[[ 1.45968931  0.04416752  0.17823822 -0.39762311]\n",
      " [ 1.1620933   0.59377557 -0.23737767 -1.43722256]\n",
      " [ 1.03619541 -0.64949799  0.15402381 -0.11071381]\n",
      " [ 1.29405992 -0.02742662  0.43881736  1.73837499]]\n",
      "[[ 1  1  1 -1]\n",
      " [ 1  1 -1 -1]\n",
      " [ 1 -1  1 -1]\n",
      " [ 1 -1  1  1]]\n",
      "[[ 1.          1.          1.         -0.39762311]\n",
      " [ 1.          1.         -0.23737767 -1.43722256]\n",
      " [ 1.         -0.64949799  1.         -0.11071381]\n",
      " [ 1.         -0.02742662  1.          1.        ]]\n"
     ]
    }
   ],
   "source": [
    "#利用np.where()实现相同功能很简洁\n",
    "print np.where(condition,xarr,yarr)\n",
    "#np.where()函数，第2,3参数不一定为数组，也可以为标量值\n",
    "#where通常用于根据另一个数组生成一个新数组\n",
    "arr = np.random.randn(4,4)\n",
    "print arr\n",
    "print np.where(arr > 0,1,-1)#根据arr原始元素>0,置位1；arr原始元素<0,置位-1\n",
    "print np.where(arr > 0,1,arr)#根据arr原始元素>0,置位1；arr原始元素<0,保持不变"
   ]
  },
  {
   "cell_type": "markdown",
   "metadata": {},
   "source": [
    "## 数学和统计方法\n",
    "数组的数学函数对数组或数组某个轴向的数据进行统计计算；\n",
    "既可以通过数据实例方法调用；\n",
    "也可以当做nump顶级函数使用."
   ]
  },
  {
   "cell_type": "code",
   "execution_count": null,
   "metadata": {
    "collapsed": true
   },
   "outputs": [],
   "source": [
    "arr = np.arange(10).reshape(2,5)\n",
    "print arr\n",
    "print arr.mean()#计算数组平均值\n",
    "print arr.mean(axis = 0)#可指定轴，用以统计该轴上的值\n",
    "print arr.mean(axis = 1)\n",
    "print np.mean(arr)\n",
    "print np.mean(arr,axis = 0)\n",
    "print np.mean(arr,axis = 1)"
   ]
  },
  {
   "cell_type": "code",
   "execution_count": null,
   "metadata": {
    "collapsed": true
   },
   "outputs": [],
   "source": [
    "print arr.sum()#计算数组和\n",
    "print arr.sum(axis = 0)\n",
    "print arr.sum(axis = 1)\n",
    "print np.sum(arr)\n",
    "print np.sum(arr,axis = 0)\n",
    "print np.sum(arr,axis = 1)"
   ]
  },
  {
   "cell_type": "code",
   "execution_count": null,
   "metadata": {
    "collapsed": true
   },
   "outputs": [],
   "source": [
    "print arr.var()#计算方差差\n",
    "print arr.var(axis = 0)#\n",
    "print arr.var(axis = 1)#\n",
    "print np.var(arr)#计算方差差\n",
    "print np.var(arr,axis = 0)#\n",
    "print np.var(arr,axis = 1)#"
   ]
  },
  {
   "cell_type": "code",
   "execution_count": null,
   "metadata": {
    "collapsed": true
   },
   "outputs": [],
   "source": [
    "print arr.std()#计算标准差\n",
    "print arr.std(axis = 0)#\n",
    "print arr.std(axis = 1)#\n",
    "print np.std(arr)#计算标准差\n",
    "print np.std(arr,axis = 0)#\n",
    "print np.std(arr,axis = 1)#"
   ]
  },
  {
   "cell_type": "code",
   "execution_count": null,
   "metadata": {
    "collapsed": true
   },
   "outputs": [],
   "source": [
    "print arr\n",
    "print arr.min()#计算最小值\n",
    "print arr.min(axis = 0)#\n",
    "print arr.min(axis = 1)#\n",
    "print np.min(arr)#\n",
    "print np.min(arr,axis = 0)#\n",
    "print np.min(arr,axis = 1)#"
   ]
  },
  {
   "cell_type": "code",
   "execution_count": 111,
   "metadata": {
    "collapsed": false
   },
   "outputs": [
    {
     "name": "stdout",
     "output_type": "stream",
     "text": [
      "[[0 1 2 3 4]\n",
      " [5 6 7 8 9]]\n",
      "9\n",
      "[5 6 7 8 9]\n",
      "[4 9]\n",
      "9\n",
      "[5 6 7 8 9]\n",
      "[4 9]\n"
     ]
    }
   ],
   "source": [
    "print arr\n",
    "print arr.max()#计算最大值\n",
    "print arr.max(axis = 0)#\n",
    "print arr.max(axis = 1)#\n",
    "print np.max(arr)\n",
    "print np.max(arr,axis = 0)#\n",
    "print np.max(arr,axis = 1)#"
   ]
  },
  {
   "cell_type": "code",
   "execution_count": null,
   "metadata": {
    "collapsed": true
   },
   "outputs": [],
   "source": [
    "print arr\n",
    "print arr[0].argmin()#最小值的索引\n",
    "print arr[1].argmin()#最小值的索引\n",
    "\n",
    "print arr[0].argmax()#最大值的索引\n",
    "print arr[1].argmax()#最大值的索引"
   ]
  },
  {
   "cell_type": "code",
   "execution_count": 119,
   "metadata": {
    "collapsed": false
   },
   "outputs": [
    {
     "name": "stdout",
     "output_type": "stream",
     "text": [
      "[[0 1 2 3 4]\n",
      " [5 6 7 8 9]]\n",
      "[ 0  1  3  6 10 15 21 28 36 45]\n"
     ]
    }
   ],
   "source": [
    "print arr\n",
    "print arr.cumsum()#不聚合，所有元素的累积和，而是返回中间结果构成的数组"
   ]
  },
  {
   "cell_type": "code",
   "execution_count": 122,
   "metadata": {
    "collapsed": false,
    "scrolled": true
   },
   "outputs": [
    {
     "name": "stdout",
     "output_type": "stream",
     "text": [
      "[[ 1  2  3  4  5]\n",
      " [ 6  7  8  9 10]]\n",
      "[      1       2       6      24     120     720    5040   40320  362880\n",
      " 3628800]\n"
     ]
    }
   ],
   "source": [
    "arr = arr + 1\n",
    "print arr\n",
    "print arr.cumprod()#不聚合，所有元素的累积积，而是返回中间结果构成的数组"
   ]
  },
  {
   "cell_type": "markdown",
   "metadata": {},
   "source": [
    "## 用于布尔型数组的方法\n",
    "any()测试布尔型数组是否存在一个或多个True\n",
    "\n",
    "all()检查数组中所有值是否都为True"
   ]
  },
  {
   "cell_type": "code",
   "execution_count": 130,
   "metadata": {
    "collapsed": false
   },
   "outputs": [
    {
     "name": "stdout",
     "output_type": "stream",
     "text": [
      "[ True False  True  True  True False  True  True  True False]\n",
      "True\n",
      "True\n",
      "False\n",
      "False\n",
      "True\n"
     ]
    }
   ],
   "source": [
    "arr = np.random.randn(10)\n",
    "# print \n",
    "bools = arr > 0\n",
    "print bools\n",
    "print bools.any()\n",
    "print np.any(bools)\n",
    "print bools.all()\n",
    "print np.all(bools)\n",
    "\n",
    "arr = np.array([0,1,2,3,4])\n",
    "print arr.any()#非布尔型数组，所有非0元素会被当做True"
   ]
  },
  {
   "cell_type": "markdown",
   "metadata": {},
   "source": [
    "## 排序"
   ]
  },
  {
   "cell_type": "code",
   "execution_count": 134,
   "metadata": {
    "collapsed": false
   },
   "outputs": [
    {
     "name": "stdout",
     "output_type": "stream",
     "text": [
      "[ 1.00826129 -1.33200021 -2.09423152  1.14618429 -1.94373366 -1.19964262\n",
      " -0.97484352 -0.25508501  0.95594379 -0.92684744]\n",
      "[-2.09423152 -1.94373366 -1.33200021 -1.19964262 -0.97484352 -0.92684744\n",
      " -0.25508501  0.95594379  1.00826129  1.14618429]\n",
      "[-0.13764091 -0.44657322 -0.4725095  -2.25229905  0.92481373 -0.4272677\n",
      " -2.3459137   0.82869414 -0.2215158  -0.28151528]\n",
      "[-2.3459137  -2.25229905 -0.4725095  -0.44657322 -0.4272677  -0.28151528\n",
      " -0.2215158  -0.13764091  0.82869414  0.92481373]\n"
     ]
    }
   ],
   "source": [
    "arr = np.random.randn(10)\n",
    "print arr\n",
    "arr.sort()#与python内置列表排序一样；就地排序，会修改数组本身\n",
    "print arr\n",
    "arr = np.random.randn(10)\n",
    "print arr\n",
    "print np.sort(arr)#返回数组已排序副本"
   ]
  },
  {
   "cell_type": "markdown",
   "metadata": {},
   "source": [
    "## 唯一化及其他的集合逻辑\n",
    "numpy针对一维数组的基本集合运算\n",
    "np.unique()找出数组中的唯一值，并返回已排序的结果"
   ]
  },
  {
   "cell_type": "code",
   "execution_count": 138,
   "metadata": {
    "collapsed": false
   },
   "outputs": [
    {
     "name": "stdout",
     "output_type": "stream",
     "text": [
      "['bob' 'joe' 'will' 'bob' 'will' 'joe' 'joe']\n",
      "['bob' 'joe' 'will']\n"
     ]
    }
   ],
   "source": [
    "names = np.array(['bob', 'joe', 'will', 'bob', 'will', 'joe', 'joe'])\n",
    "print names\n",
    "print np.unique(names)"
   ]
  },
  {
   "cell_type": "markdown",
   "metadata": {},
   "source": [
    "## 线性代数"
   ]
  },
  {
   "cell_type": "code",
   "execution_count": 145,
   "metadata": {
    "collapsed": false
   },
   "outputs": [
    {
     "name": "stdout",
     "output_type": "stream",
     "text": [
      "[[1 2 3]\n",
      " [4 5 6]]\n",
      "[[ 6 23]\n",
      " [-1  7]\n",
      " [ 8  9]]\n",
      "[[ 28  64]\n",
      " [ 67 181]]\n",
      "[[ 28  64]\n",
      " [ 67 181]]\n"
     ]
    }
   ],
   "source": [
    "#矩阵乘法\n",
    "x = np.array([[1,2,3],[4,5,6]])\n",
    "y = np.array([[6,23],[-1,7],[8,9]])\n",
    "print x\n",
    "print y\n",
    "print x.dot(y)\n",
    "print np.dot(x,y)"
   ]
  },
  {
   "cell_type": "markdown",
   "metadata": {},
   "source": [
    "## 随机数生成\n",
    "numpy.random模块对python内置的random进行补充，增接了一些用于高效生成多生概率分布的样本值的函数"
   ]
  },
  {
   "cell_type": "code",
   "execution_count": null,
   "metadata": {
    "collapsed": true
   },
   "outputs": [],
   "source": [
    "#从给定的上下限范围内随机选取整数\n",
    "print np.random.randint(10)"
   ]
  },
  {
   "cell_type": "code",
   "execution_count": 148,
   "metadata": {
    "collapsed": false
   },
   "outputs": [
    {
     "name": "stdout",
     "output_type": "stream",
     "text": [
      "[[-0.05199971 -1.95031704]\n",
      " [-1.42560357  0.78544126]\n",
      " [ 0.47068984 -0.51157053]]\n"
     ]
    }
   ],
   "source": [
    "#产生正态分布的样本值\n",
    "print np.random.randn(3,2)"
   ]
  },
  {
   "cell_type": "markdown",
   "metadata": {},
   "source": [
    "### 数组组合"
   ]
  },
  {
   "cell_type": "code",
   "execution_count": 45,
   "metadata": {
    "collapsed": false
   },
   "outputs": [
    {
     "name": "stdout",
     "output_type": "stream",
     "text": [
      "[1 2 3]\n",
      "[4 5 6]\n",
      "[[0 1 2]\n",
      " [3 4 5]]\n",
      "[[2 3 4]\n",
      " [5 6 7]]\n"
     ]
    }
   ],
   "source": [
    "a = np.array([1,2,3])\n",
    "b = np.array([4,5,6])\n",
    "c = np.arange(6).reshape(2,3)\n",
    "d = np.arange(2,8).reshape(2,3)\n",
    "print(a)\n",
    "print(b)\n",
    "print(c)\n",
    "print(d)"
   ]
  },
  {
   "cell_type": "code",
   "execution_count": 52,
   "metadata": {
    "collapsed": false
   },
   "outputs": [
    {
     "data": {
      "text/plain": [
       "array([[0, 1, 2],\n",
       "       [3, 4, 5],\n",
       "       [2, 3, 4],\n",
       "       [5, 6, 7]])"
      ]
     },
     "execution_count": 52,
     "metadata": {},
     "output_type": "execute_result"
    }
   ],
   "source": [
    "np.concatenate([c,d])"
   ]
  },
  {
   "cell_type": "code",
   "execution_count": 48,
   "metadata": {
    "collapsed": false
   },
   "outputs": [
    {
     "data": {
      "text/plain": [
       "array([[0, 1, 2, 2, 3, 4],\n",
       "       [3, 4, 5, 5, 6, 7]])"
      ]
     },
     "execution_count": 48,
     "metadata": {},
     "output_type": "execute_result"
    }
   ],
   "source": [
    "# In machine learning, useful to enrich or \n",
    "# add new/concatenate features with hstack\n",
    "np.hstack([c, d])"
   ]
  },
  {
   "cell_type": "code",
   "execution_count": 50,
   "metadata": {
    "collapsed": false
   },
   "outputs": [
    {
     "data": {
      "text/plain": [
       "array([[1, 2, 3],\n",
       "       [4, 5, 6],\n",
       "       [2, 3, 4],\n",
       "       [5, 6, 7]])"
      ]
     },
     "execution_count": 50,
     "metadata": {},
     "output_type": "execute_result"
    }
   ],
   "source": [
    "# Use broadcasting when needed to do this automatically\n",
    "np.vstack([a,b, d])"
   ]
  }
 ],
 "metadata": {
  "kernelspec": {
   "display_name": "Python 2",
   "language": "python",
   "name": "python2"
  },
  "language_info": {
   "codemirror_mode": {
    "name": "ipython",
    "version": 2
   },
   "file_extension": ".py",
   "mimetype": "text/x-python",
   "name": "python",
   "nbconvert_exporter": "python",
   "pygments_lexer": "ipython2",
   "version": "2.7.11"
  }
 },
 "nbformat": 4,
 "nbformat_minor": 0
}
