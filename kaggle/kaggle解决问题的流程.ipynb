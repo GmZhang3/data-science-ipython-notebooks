{
 "cells": [
  {
   "cell_type": "markdown",
   "metadata": {},
   "source": [
    "Reference:   \n",
    "[kaggle github](https://github.com/GmZhang3/kaggle)"
   ]
  },
  {
   "cell_type": "markdown",
   "metadata": {},
   "source": [
    "解决问题的流程\n",
    "\n",
    "1. 确定业务场景和目标\n",
    "2. 确定评估准则\n",
    "3. 认识数据\n",
    "4. 数据预处理（清洗、调权）\n",
    "5. 特征工程\n",
    "6. 模型调参\n",
    "7. 模型状态分析\n",
    "8. 模型融合"
   ]
  },
  {
   "cell_type": "markdown",
   "metadata": {},
   "source": [
    "4 数据预处理\n",
    "\n",
    "4.1 数据清洗\n",
    "- 去掉样本数据的异常数据。（比如连续型数据中的离群点）\n",
    "- 去除缺失大量特征的数据\n",
    "\n",
    "4.2 数据采样\n",
    "- 下/上采样（假设正负样本比例1:100，把正样本的数量重复100次，这就叫上采样，也就是把比例小的样本放大。下采样同理，把比例大的数据抽取一部分，从而使比例变得接近于1；1）\n",
    "- 保证样本均衡   \n",
    "工具 sql、pandas等"
   ]
  }
 ],
 "metadata": {
  "kernelspec": {
   "display_name": "Python 3",
   "language": "python",
   "name": "python3"
  },
  "language_info": {
   "codemirror_mode": {
    "name": "ipython",
    "version": 3
   },
   "file_extension": ".py",
   "mimetype": "text/x-python",
   "name": "python",
   "nbconvert_exporter": "python",
   "pygments_lexer": "ipython3",
   "version": "3.7.0"
  }
 },
 "nbformat": 4,
 "nbformat_minor": 2
}
