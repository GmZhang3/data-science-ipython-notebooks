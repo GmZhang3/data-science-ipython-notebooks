{
 "cells": [
  {
   "cell_type": "markdown",
   "metadata": {},
   "source": [
    "Reference:   \n",
    "[kaggle github](https://github.com/GmZhang3/kaggle)"
   ]
  },
  {
   "cell_type": "markdown",
   "metadata": {},
   "source": [
    "解决问题的流程\n",
    "\n",
    "1. 确定业务场景和目标\n",
    "2. 确定评估准则\n",
    "3. 认识数据\n",
    "4. 数据预处理（清洗、调权）\n",
    "5. 特征工程\n",
    "6. 模型调参\n",
    "7. 模型状态分析\n",
    "8. 模型融合"
   ]
  }
 ],
 "metadata": {
  "kernelspec": {
   "display_name": "Python 3",
   "language": "python",
   "name": "python3"
  },
  "language_info": {
   "codemirror_mode": {
    "name": "ipython",
    "version": 3
   },
   "file_extension": ".py",
   "mimetype": "text/x-python",
   "name": "python",
   "nbconvert_exporter": "python",
   "pygments_lexer": "ipython3",
   "version": "3.6.2"
  }
 },
 "nbformat": 4,
 "nbformat_minor": 2
}
