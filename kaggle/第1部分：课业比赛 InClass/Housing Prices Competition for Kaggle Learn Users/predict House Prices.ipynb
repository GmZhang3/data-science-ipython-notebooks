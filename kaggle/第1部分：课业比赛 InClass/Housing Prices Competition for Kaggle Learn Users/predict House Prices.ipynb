{
 "cells": [
  {
   "cell_type": "markdown",
   "metadata": {},
   "source": [
    "解决问题的流程\n",
    "\n",
    "1. 确定业务场景和目标  \n",
    "\n",
    "    目标定义：预测房屋价格，是回归问题"
   ]
  },
  {
   "cell_type": "markdown",
   "metadata": {},
   "source": [
    "2. 确定评估准则\n",
    "\n",
    "    * 回归问题评估指标： \n",
    "    \n",
    "    * RMSE(平方根误差)\n",
    "\n",
    "    * MAE（平均绝对误差）\n",
    "\n",
    "    * MSE(平均平方误差)"
   ]
  },
  {
   "cell_type": "markdown",
   "metadata": {},
   "source": [
    "3. 认识数据"
   ]
  },
  {
   "cell_type": "code",
   "execution_count": 6,
   "metadata": {},
   "outputs": [
    {
     "name": "stdout",
     "output_type": "stream",
     "text": [
      "type(train_data: <class 'pandas.core.frame.DataFrame'>\n",
      "train_data.shape: (1460, 81)\n",
      "train_data.head():\n",
      "    Id  MSSubClass MSZoning  LotFrontage  LotArea Street Alley LotShape  \\\n",
      "0   1          60       RL         65.0     8450   Pave   NaN      Reg   \n",
      "1   2          20       RL         80.0     9600   Pave   NaN      Reg   \n",
      "2   3          60       RL         68.0    11250   Pave   NaN      IR1   \n",
      "3   4          70       RL         60.0     9550   Pave   NaN      IR1   \n",
      "4   5          60       RL         84.0    14260   Pave   NaN      IR1   \n",
      "\n",
      "  LandContour Utilities    ...     PoolArea PoolQC Fence MiscFeature MiscVal  \\\n",
      "0         Lvl    AllPub    ...            0    NaN   NaN         NaN       0   \n",
      "1         Lvl    AllPub    ...            0    NaN   NaN         NaN       0   \n",
      "2         Lvl    AllPub    ...            0    NaN   NaN         NaN       0   \n",
      "3         Lvl    AllPub    ...            0    NaN   NaN         NaN       0   \n",
      "4         Lvl    AllPub    ...            0    NaN   NaN         NaN       0   \n",
      "\n",
      "  MoSold YrSold  SaleType  SaleCondition  SalePrice  \n",
      "0      2   2008        WD         Normal     208500  \n",
      "1      5   2007        WD         Normal     181500  \n",
      "2      9   2008        WD         Normal     223500  \n",
      "3      2   2006        WD        Abnorml     140000  \n",
      "4     12   2008        WD         Normal     250000  \n",
      "\n",
      "[5 rows x 81 columns]\n",
      "train_data.SalePrice.dtype: int64\n",
      "36\n",
      "43\n",
      "        MSSubClass  LotFrontage        LotArea  OverallQual  OverallCond  \\\n",
      "count  1460.000000  1201.000000    1460.000000  1460.000000  1460.000000   \n",
      "mean     56.897260    70.049958   10516.828082     6.099315     5.575342   \n",
      "std      42.300571    24.284752    9981.264932     1.382997     1.112799   \n",
      "min      20.000000    21.000000    1300.000000     1.000000     1.000000   \n",
      "25%      20.000000    59.000000    7553.500000     5.000000     5.000000   \n",
      "50%      50.000000    69.000000    9478.500000     6.000000     5.000000   \n",
      "75%      70.000000    80.000000   11601.500000     7.000000     6.000000   \n",
      "max     190.000000   313.000000  215245.000000    10.000000     9.000000   \n",
      "\n",
      "         YearBuilt  YearRemodAdd   MasVnrArea   BsmtFinSF1   BsmtFinSF2  \\\n",
      "count  1460.000000   1460.000000  1452.000000  1460.000000  1460.000000   \n",
      "mean   1971.267808   1984.865753   103.685262   443.639726    46.549315   \n",
      "std      30.202904     20.645407   181.066207   456.098091   161.319273   \n",
      "min    1872.000000   1950.000000     0.000000     0.000000     0.000000   \n",
      "25%    1954.000000   1967.000000     0.000000     0.000000     0.000000   \n",
      "50%    1973.000000   1994.000000     0.000000   383.500000     0.000000   \n",
      "75%    2000.000000   2004.000000   166.000000   712.250000     0.000000   \n",
      "max    2010.000000   2010.000000  1600.000000  5644.000000  1474.000000   \n",
      "\n",
      "          ...        GarageArea   WoodDeckSF  OpenPorchSF  EnclosedPorch  \\\n",
      "count     ...       1460.000000  1460.000000  1460.000000    1460.000000   \n",
      "mean      ...        472.980137    94.244521    46.660274      21.954110   \n",
      "std       ...        213.804841   125.338794    66.256028      61.119149   \n",
      "min       ...          0.000000     0.000000     0.000000       0.000000   \n",
      "25%       ...        334.500000     0.000000     0.000000       0.000000   \n",
      "50%       ...        480.000000     0.000000    25.000000       0.000000   \n",
      "75%       ...        576.000000   168.000000    68.000000       0.000000   \n",
      "max       ...       1418.000000   857.000000   547.000000     552.000000   \n",
      "\n",
      "         3SsnPorch  ScreenPorch     PoolArea       MiscVal       MoSold  \\\n",
      "count  1460.000000  1460.000000  1460.000000   1460.000000  1460.000000   \n",
      "mean      3.409589    15.060959     2.758904     43.489041     6.321918   \n",
      "std      29.317331    55.757415    40.177307    496.123024     2.703626   \n",
      "min       0.000000     0.000000     0.000000      0.000000     1.000000   \n",
      "25%       0.000000     0.000000     0.000000      0.000000     5.000000   \n",
      "50%       0.000000     0.000000     0.000000      0.000000     6.000000   \n",
      "75%       0.000000     0.000000     0.000000      0.000000     8.000000   \n",
      "max     508.000000   480.000000   738.000000  15500.000000    12.000000   \n",
      "\n",
      "            YrSold  \n",
      "count  1460.000000  \n",
      "mean   2007.815753  \n",
      "std       1.328095  \n",
      "min    2006.000000  \n",
      "25%    2007.000000  \n",
      "50%    2008.000000  \n",
      "75%    2009.000000  \n",
      "max    2010.000000  \n",
      "\n",
      "[8 rows x 36 columns]\n",
      "       MSZoning Street Alley LotShape LandContour Utilities LotConfig  \\\n",
      "count      1460   1460    91     1460        1460      1460      1460   \n",
      "unique        5      2     2        4           4         2         5   \n",
      "top          RL   Pave  Grvl      Reg         Lvl    AllPub    Inside   \n",
      "freq       1151   1454    50      925        1311      1459      1052   \n",
      "\n",
      "       LandSlope Neighborhood Condition1      ...      GarageType  \\\n",
      "count       1460         1460       1460      ...            1379   \n",
      "unique         3           25          9      ...               6   \n",
      "top          Gtl        NAmes       Norm      ...          Attchd   \n",
      "freq        1382          225       1260      ...             870   \n",
      "\n",
      "       GarageFinish GarageQual GarageCond PavedDrive PoolQC  Fence  \\\n",
      "count          1379       1379       1379       1460      7    281   \n",
      "unique            3          5          5          3      3      4   \n",
      "top             Unf         TA         TA          Y     Gd  MnPrv   \n",
      "freq            605       1311       1326       1340      3    157   \n",
      "\n",
      "       MiscFeature SaleType SaleCondition  \n",
      "count           54     1460          1460  \n",
      "unique           4        9             6  \n",
      "top           Shed       WD        Normal  \n",
      "freq            49     1267          1198  \n",
      "\n",
      "[4 rows x 43 columns]\n"
     ]
    }
   ],
   "source": [
    "import pandas as pd\n",
    "train_data = pd.read_csv('./data/all/train.csv')\n",
    "#（1）查看训练数据类型\n",
    "print(\"type(train_data:\",type(train_data))#DataFrame类型数据\n",
    "#（2）查看数据量\n",
    "print(\"train_data.shape:\",train_data.shape)#(1460, 81)\n",
    "#（3）查看自变量与因变量\n",
    "print(\"train_data.head():\\n\",train_data.head())#SalePrice为因变量，其他80列数据为特征\n",
    "\n",
    "#（4）查看各列数据类型\n",
    "print(\"train_data.SalePrice.dtype:\",train_data.SalePrice.dtype)#int64\n",
    "\n",
    "column_list = train_data.columns.tolist()\n",
    "# print(column_list)\n",
    "numberial_featute = []\n",
    "cata_feature = []\n",
    "for column in column_list[1:-1]:#第一列数据是ID，统计特征时可以去掉\n",
    "#     print(train_data[column].dtype)\n",
    "    if train_data[column].dtype == \"object\":\n",
    "        cata_feature.append(column)\n",
    "    else:\n",
    "        numberial_featute.append(column)\n",
    "print(len(numberial_featute))#36\n",
    "print(len(cata_feature))#43\n",
    "#（5）查看统计指标\n",
    "#默认只输出数值型特征统计指标 \n",
    "print(train_data[numberial_featute].describe())\n",
    "#非数值型数据\n",
    "print(train_data[cata_feature].describe())"
   ]
  },
  {
   "cell_type": "markdown",
   "metadata": {},
   "source": [
    "4. 数据预处理（清洗、调权）   \n",
    " * 数据清洗\n",
    "    * 去掉样本数据的异常数据。（比如连续型数据中的离群点）\n",
    "    * 去除缺失大量特征的数据\n",
    " * 数据采样\n",
    "    * 下/上采样（假设正负样本比例1:100，把正样本的数量重复100次，这就叫上采样，也就是把比例小的样本放大。下采样同理，把比例大的数据抽取一部分，从而使比例变得接近于1；1）\n",
    "    * 保证样本均衡"
   ]
  },
  {
   "cell_type": "code",
   "execution_count": null,
   "metadata": {},
   "outputs": [],
   "source": [
    "#箱线图查看离群点"
   ]
  },
  {
   "cell_type": "markdown",
   "metadata": {},
   "source": [
    "5. 特征工程\n",
    "6. 模型调参\n",
    "7. 模型状态分析\n",
    "8. 模型融合"
   ]
  },
  {
   "cell_type": "code",
   "execution_count": null,
   "metadata": {},
   "outputs": [],
   "source": []
  }
 ],
 "metadata": {
  "kernelspec": {
   "display_name": "Python 3",
   "language": "python",
   "name": "python3"
  },
  "language_info": {
   "codemirror_mode": {
    "name": "ipython",
    "version": 3
   },
   "file_extension": ".py",
   "mimetype": "text/x-python",
   "name": "python",
   "nbconvert_exporter": "python",
   "pygments_lexer": "ipython3",
   "version": "3.7.0"
  }
 },
 "nbformat": 4,
 "nbformat_minor": 2
}
