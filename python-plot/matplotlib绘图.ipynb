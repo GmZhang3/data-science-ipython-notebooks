{
 "cells": [
  {
   "cell_type": "markdown",
   "metadata": {},
   "source": [
    "Reference:   \n",
    "    [python-matplotlib-guide](https://realpython.com/python-matplotlib-guide/)   \n",
    "    [官方文档](https://matplotlib.org/gallery/index.html)"
   ]
  },
  {
   "cell_type": "code",
   "execution_count": 11,
   "metadata": {
    "collapsed": false
   },
   "outputs": [
    {
     "name": "stdout",
     "output_type": "stream",
     "text": [
      "3.0.2\n"
     ]
    }
   ],
   "source": [
    "import matplotlib.pyplot as plt\n",
    "%matplotlib inline\n",
    "import matplotlib\n",
    "print(matplotlib.__version__)"
   ]
  },
  {
   "cell_type": "code",
   "execution_count": 2,
   "metadata": {
    "collapsed": true
   },
   "outputs": [],
   "source": [
    "import numpy as np\n",
    "np.random.seed(444)"
   ]
  },
  {
   "cell_type": "markdown",
   "metadata": {},
   "source": [
    "**Matplotlib 对象层次**   \n",
    "![avatar](fig_map.webp)    \n",
    "Figure对象是matplotlib 图像的最外层容器，可包含多个Axes 对象   \n",
    "Axes 对象包括图像相关的元素，轴，标题等（tick marks, individual lines, legends, and text boxes）   \n",
    "一个 Figure对象有多个Axes；每个 Each Axes 有一个xaxis和yaxis, xaxis和yaxis 都有若干个“major ticks,” "
   ]
  },
  {
   "cell_type": "markdown",
   "metadata": {},
   "source": [
    "**Matplotlib的接口**：   \n",
    "《1》pyplot API import matplotlib.pyplot as plt模块的函数接口     **简单快速作图**   \n",
    "被用于在当前figure，当前Axes添加lines, images, text等元素。   \n",
    "《2》object-oriented接口    **稍显复杂，但灵活**   \n",
    "仅使用matplotlib.pyplot创建figures以及figures之间切换，创建Axes对象。调用Axes对象的方法，Axes 本身就是一个plot本身。 "
   ]
  },
  {
   "cell_type": "markdown",
   "metadata": {
    "collapsed": true
   },
   "source": [
    "**object-oriented方式新建Figure：**   \n",
    "plt.subplots()#default subplots(nrows=1, ncols=1)   \n",
    "返回matplotlib.figure.Figure对象和matplotlib.axes._subplots.AxesSubplot对象"
   ]
  },
  {
   "cell_type": "code",
   "execution_count": 4,
   "metadata": {
    "collapsed": false
   },
   "outputs": [
    {
     "name": "stdout",
     "output_type": "stream",
     "text": [
      "<class 'matplotlib.figure.Figure'>\n",
      "<class 'matplotlib.axes._subplots.AxesSubplot'>\n"
     ]
    },
    {
     "data": {
      "image/png": "[encoded data removed]",
      "text/plain": [
       "<Figure size 432x288 with 1 Axes>"
      ]
     },
     "metadata": {},
     "output_type": "display_data"
    }
   ],
   "source": [
    "fig, ax = plt.subplots()#matplotlib.figure.Figure;matplotlib.axes._subplots.AxesSubplot\n",
    "print(type(fig))\n",
    "print(type(ax))"
   ]
  },
  {
   "cell_type": "markdown",
   "metadata": {},
   "source": [
    "可以调用AxesSubplot 对象方法来操作画图（与pyplots函数类似）"
   ]
  },
  {
   "cell_type": "code",
   "execution_count": 18,
   "metadata": {
    "collapsed": false
   },
   "outputs": [
    {
     "data": {
      "text/plain": [
       "<matplotlib.collections.PathCollection at 0x279637351d0>"
      ]
     },
     "execution_count": 18,
     "metadata": {},
     "output_type": "execute_result"
    },
    {
     "data": {
      "image/png": "[encoded data removed]",
      "text/plain": [
       "<Figure size 432x288 with 1 Axes>"
      ]
     },
     "metadata": {},
     "output_type": "display_data"
    }
   ],
   "source": [
    "fig, ax = plt.subplots()#ax can be either a single matplotlib.axes.Axes object or an array of Axes objects if more than one subplot was created\n",
    "ax.scatter(x=np.arange(10), y=np.arange(10) + np.random.rand(10), marker='o', c='r', edgecolor='b')"
   ]
  },
  {
   "cell_type": "code",
   "execution_count": 19,
   "metadata": {
    "collapsed": false
   },
   "outputs": [
    {
     "data": {
      "text/plain": [
       "<matplotlib.collections.PathCollection at 0x27963683550>"
      ]
     },
     "execution_count": 19,
     "metadata": {},
     "output_type": "execute_result"
    },
    {
     "data": {
      "image/png": "[encoded data removed]",
      "text/plain": [
       "<Figure size 432x288 with 2 Axes>"
      ]
     },
     "metadata": {},
     "output_type": "display_data"
    }
   ],
   "source": [
    "# 一个Figure画多个子图（subplots (Axes)）\n",
    "fig,(ax1,ax2) = plt.subplots(nrows = 1,ncols = 2)\n",
    "ax1.scatter(x=np.arange(10), y=np.arange(10) + np.random.rand(10), marker='o', c='r', edgecolor='b')\n",
    "ax2.scatter(x=np.arange(10), y=np.arange(10) + np.random.rand(10), marker='o', c='r', edgecolor='b')"
   ]
  },
  {
   "cell_type": "code",
   "execution_count": 20,
   "metadata": {
    "collapsed": false
   },
   "outputs": [
    {
     "data": {
      "text/plain": [
       "(True, True)"
      ]
     },
     "execution_count": 20,
     "metadata": {},
     "output_type": "execute_result"
    }
   ],
   "source": [
    "#验证figure与axes的关系\n",
    "(fig.axes[0] is ax1,fig.axes[1] is ax2)"
   ]
  },
  {
   "cell_type": "markdown",
   "metadata": {},
   "source": [
    "画图所需数据格式要求   \n",
    "所有画图函数所需数据格式为：np.array or np.ma.masked_array   \n",
    "类数组数据如pandas中的Dataframe，np.matrix有时候可能不符合要求。最好在画图之前将数据都转化为np.array格式。"
   ]
  },
  {
   "cell_type": "code",
   "execution_count": 27,
   "metadata": {
    "collapsed": false
   },
   "outputs": [
    {
     "name": "stdout",
     "output_type": "stream",
     "text": [
      "<class 'numpy.ndarray'>\n",
      "<class 'numpy.ndarray'>\n",
      "          a         b         c         d         e\n",
      "0  0.627678  0.407994  0.522473  0.294398  0.278941\n",
      "1  0.812546  0.712938  0.613659  0.453797  0.239140\n",
      "2  0.640896  0.365155  0.923526  0.561912  0.157354\n",
      "3  0.877521  0.626907  0.286879  0.500587  0.554372\n",
      "(4, 5)\n"
     ]
    }
   ],
   "source": [
    "#数据格式转化示例：\n",
    "b = np.matrix([[1,2],[3,4]])\n",
    "print(b)\n",
    "b_asarray = np.asarray(b)\n",
    "print(type(b_asarray))\n",
    "\n",
    "import pandas as pd\n",
    "a = pd.DataFrame(np.random.rand(4,5), columns = list('abcde'))\n",
    "print(a)\n",
    "a_asndarray = a.values\n",
    "print(a_asndarray.shape)"
   ]
  },
  {
   "cell_type": "markdown",
   "metadata": {},
   "source": [
    "### matplotlib.pyplot 手册"
   ]
  },
  {
   "cell_type": "markdown",
   "metadata": {},
   "source": [
    "[matplotlib.pyplot.plot API](https://matplotlib.org/api/_as_gen/matplotlib.pyplot.plot.html?highlight=plot#matplotlib.pyplot.plot)"
   ]
  },
  {
   "cell_type": "code",
   "execution_count": null,
   "metadata": {
    "collapsed": true
   },
   "outputs": [],
   "source": [
    "import matplotlib.pyplot as plt"
   ]
  },
  {
   "cell_type": "code",
   "execution_count": 35,
   "metadata": {
    "collapsed": false
   },
   "outputs": [
    {
     "data": {
      "text/plain": [
       "[0, 6, 0, 20]"
      ]
     },
     "execution_count": 35,
     "metadata": {},
     "output_type": "execute_result"
    },
    {
     "data": {
      "image/png": "[encoded data removed]",
      "text/plain": [
       "<Figure size 432x288 with 1 Axes>"
      ]
     },
     "metadata": {},
     "output_type": "display_data"
    }
   ],
   "source": [
    "#传入一个列表数据，在plot认为是y值；x值从0开始\n",
    "plt.plot([1,2,3,4])\n",
    "plt.plot([1,2,3,4],[1,4,9,16],'ro')#线型\n",
    "plt.axis([0,6,0,20])#x,y范围 [xmin, xmax, ymin, ymax] "
   ]
  },
  {
   "cell_type": "code",
   "execution_count": 36,
   "metadata": {
    "collapsed": false
   },
   "outputs": [
    {
     "data": {
      "text/plain": [
       "[<matplotlib.lines.Line2D at 0x2796554fc50>,\n",
       " <matplotlib.lines.Line2D at 0x2796554fdd8>,\n",
       " <matplotlib.lines.Line2D at 0x2796555a0f0>]"
      ]
     },
     "execution_count": 36,
     "metadata": {},
     "output_type": "execute_result"
    },
    {
     "data": {
      "image/png": "[encoded data removed]",
      "text/plain": [
       "<Figure size 432x288 with 1 Axes>"
      ]
     },
     "metadata": {},
     "output_type": "display_data"
    }
   ],
   "source": [
    "#numpy.array数据\n",
    "import numpy as np\n",
    "# evenly sampled time at 200ms intervals\n",
    "t = np.arange(0., 5., 0.2)\n",
    "\n",
    "# red dashes, blue squares and green triangles\n",
    "plt.plot(t, t, 'r--', t, t**2, 'bs', t, t**3, 'g^')"
   ]
  },
  {
   "cell_type": "code",
   "execution_count": 37,
   "metadata": {
    "collapsed": false
   },
   "outputs": [
    {
     "data": {
      "text/plain": [
       "{'a': array([ 0,  1,  2,  3,  4,  5,  6,  7,  8,  9, 10, 11, 12, 13, 14, 15, 16,\n",
       "        17, 18, 19, 20, 21, 22, 23, 24, 25, 26, 27, 28, 29, 30, 31, 32, 33,\n",
       "        34, 35, 36, 37, 38, 39, 40, 41, 42, 43, 44, 45, 46, 47, 48, 49]),\n",
       " 'c': array([39, 33, 37, 45,  5, 30, 39, 15, 19, 20, 43, 10,  8, 13, 45,  4,  6,\n",
       "        15, 12, 45,  7, 49, 40, 14, 41, 36, 10, 18, 21, 15, 37, 16, 39, 48,\n",
       "        10, 15,  0, 19,  5, 31, 37, 29, 34, 41, 22,  1, 38,  2, 32, 35]),\n",
       " 'd': array([-0.20194218,  0.0951738 , -0.13073257,  0.95048181,  0.76471839,\n",
       "        -1.39859377,  0.22817471, -1.39580927, -0.05727107, -0.93874639,\n",
       "        -1.40083673, -0.75999931, -1.624956  ,  0.11030623, -1.01922659,\n",
       "         0.83823128, -0.10587226,  0.49499086,  0.70413737,  0.69288409,\n",
       "         1.16106775,  2.13662615,  0.54801929,  1.68807726, -0.60796904,\n",
       "         0.54617731, -2.00328905,  1.97563789,  0.19728032, -1.03641162,\n",
       "        -0.72411768,  0.60392802, -0.57250907, -0.8657518 , -0.46379654,\n",
       "         1.6748155 ,  2.01266891, -0.10918717, -0.2250149 , -0.29409799,\n",
       "         2.08968545, -1.74997901, -0.10356386,  1.16976339, -0.3350402 ,\n",
       "         0.45322345,  0.02298259, -0.20480101,  0.67995543, -1.78761137])}"
      ]
     },
     "execution_count": 37,
     "metadata": {},
     "output_type": "execute_result"
    }
   ],
   "source": [
    "data = {'a': np.arange(50),\n",
    "        'c': np.random.randint(0, 50, 50),\n",
    "        'd': np.random.randn(50)}\n",
    "data"
   ]
  },
  {
   "cell_type": "code",
   "execution_count": 38,
   "metadata": {
    "collapsed": false
   },
   "outputs": [
    {
     "data": {
      "text/plain": [
       "{'a': array([ 0,  1,  2,  3,  4,  5,  6,  7,  8,  9, 10, 11, 12, 13, 14, 15, 16,\n",
       "        17, 18, 19, 20, 21, 22, 23, 24, 25, 26, 27, 28, 29, 30, 31, 32, 33,\n",
       "        34, 35, 36, 37, 38, 39, 40, 41, 42, 43, 44, 45, 46, 47, 48, 49]),\n",
       " 'b': array([-16.28238354,  -2.50034644,  -3.40626887,   4.14386863,\n",
       "         -4.64028342, -11.22123793,   7.2199058 ,  -0.86035416,\n",
       "         -7.12846422,  -9.14785032,  -8.36415449,  18.47664617,\n",
       "         18.2134151 ,   4.32744173,  12.17099992,  19.25384436,\n",
       "         16.53749704,  27.92423088,   3.00586764,  25.02855142,\n",
       "         23.33238949,  12.40034693,  47.29527621,   8.77697212,\n",
       "         29.5337156 ,  40.98442483,  36.39575512,  15.5052141 ,\n",
       "         24.37027775,  43.66980619,  20.66661955,  19.9287484 ,\n",
       "         37.04359845,  31.34396796,  28.79492792,  41.88896693,\n",
       "         42.90926075,  45.35160564,  30.93656403,  48.02349776,\n",
       "         52.40024236,  62.89067834,  55.75003498,  37.79653608,\n",
       "         46.96034536,  40.25415108,  44.94672289,  42.3179475 ,\n",
       "         44.70292626,  41.31370897]),\n",
       " 'c': array([39, 33, 37, 45,  5, 30, 39, 15, 19, 20, 43, 10,  8, 13, 45,  4,  6,\n",
       "        15, 12, 45,  7, 49, 40, 14, 41, 36, 10, 18, 21, 15, 37, 16, 39, 48,\n",
       "        10, 15,  0, 19,  5, 31, 37, 29, 34, 41, 22,  1, 38,  2, 32, 35]),\n",
       " 'd': array([ 20.19421763,   9.51738007,  13.07325728,  95.04818103,\n",
       "         76.47183933, 139.85937685,  22.817471  , 139.58092704,\n",
       "          5.72710742,  93.87463859, 140.08367338,  75.99993076,\n",
       "        162.49559979,  11.03062346, 101.92265899,  83.82312762,\n",
       "         10.58722569,  49.49908594,  70.41373665,  69.28840915,\n",
       "        116.10677533, 213.66261475,  54.801929  , 168.8077256 ,\n",
       "         60.79690378,  54.61773115, 200.32890532, 197.56378941,\n",
       "         19.72803162, 103.64116209,  72.41176824,  60.39280221,\n",
       "         57.25090684,  86.57517979,  46.37965391, 167.48155005,\n",
       "        201.26689136,  10.918717  ,  22.50148955,  29.40979937,\n",
       "        208.96854492, 174.99790106,  10.35638642, 116.97633893,\n",
       "         33.50402034,  45.3223446 ,   2.29825897,  20.48010052,\n",
       "         67.99554277, 178.76113724])}"
      ]
     },
     "execution_count": 38,
     "metadata": {},
     "output_type": "execute_result"
    }
   ],
   "source": [
    "data['b'] = data['a'] + 10 * np.random.randn(50)\n",
    "data['d'] = np.abs(data['d']) * 100\n",
    "data"
   ]
  },
  {
   "cell_type": "markdown",
   "metadata": {},
   "source": [
    "[matplotlib.pyplot.scatter API](https://matplotlib.org/api/_as_gen/matplotlib.pyplot.scatter.html?highlight=scatter#matplotlib.pyplot.scatter)\n",
    "\n",
    "matplotlib.pyplot.scatter(x, y, s=None, c=None, marker=None, cmap=None, norm=None, vmin=None, vmax=None, alpha=None, linewidths=None, verts=None, edgecolors=None, *, data=None, **kwargs)   \n",
    "A scatter plot of y vs x with varying marker size and/or color."
   ]
  },
  {
   "cell_type": "code",
   "execution_count": 42,
   "metadata": {
    "collapsed": false
   },
   "outputs": [
    {
     "data": {
      "text/plain": [
       "Text(0, 0.5, 'entry b')"
      ]
     },
     "execution_count": 42,
     "metadata": {},
     "output_type": "execute_result"
    },
    {
     "data": {
      "image/png": "[encoded data removed]",
      "text/plain": [
       "<Figure size 432x288 with 1 Axes>"
      ]
     },
     "metadata": {},
     "output_type": "display_data"
    }
   ],
   "source": [
    "plt.scatter('a', 'b', c='c', s='d', data=data)\n",
    "plt.xlabel('entry a')\n",
    "plt.ylabel('entry b')"
   ]
  },
  {
   "cell_type": "code",
   "execution_count": 43,
   "metadata": {
    "collapsed": false
   },
   "outputs": [
    {
     "data": {
      "text/plain": [
       "Text(0.5, 0.98, 'Categorical Plotting')"
      ]
     },
     "execution_count": 43,
     "metadata": {},
     "output_type": "execute_result"
    },
    {
     "data": {
      "image/png": "[encoded data removed]",
      "text/plain": [
       "<Figure size 648x216 with 3 Axes>"
      ]
     },
     "metadata": {},
     "output_type": "display_data"
    }
   ],
   "source": [
    "names = ['group_a', 'group_b', 'group_c']\n",
    "values = [1, 10, 100]\n",
    "\n",
    "plt.figure(1, figsize=(9, 3))\n",
    "\n",
    "plt.subplot(131)\n",
    "plt.bar(names, values)#柱状图\n",
    "plt.subplot(132)\n",
    "plt.scatter(names, values)#散点图\n",
    "plt.subplot(133)\n",
    "plt.plot(names, values)#折线图\n",
    "plt.suptitle('Categorical Plotting')"
   ]
  }
 ],
 "metadata": {
  "kernelspec": {
   "display_name": "Python 3",
   "language": "python",
   "name": "python3"
  },
  "language_info": {
   "codemirror_mode": {
    "name": "ipython",
    "version": 3
   },
   "file_extension": ".py",
   "mimetype": "text/x-python",
   "name": "python",
   "nbconvert_exporter": "python",
   "pygments_lexer": "ipython3",
   "version": "3.6.2"
  }
 },
 "nbformat": 4,
 "nbformat_minor": 0
}
